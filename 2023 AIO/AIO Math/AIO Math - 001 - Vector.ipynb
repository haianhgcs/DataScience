{
 "cells": [
  {
   "cell_type": "markdown",
   "id": "c50fcf9f",
   "metadata": {},
   "source": [
    "Daily Math Theory - Published on Monday 3rd April, 2023\n",
    "\n",
    "# 1. Vector Operations - Magnitude - Unit Vector"
   ]
  },
  {
   "cell_type": "markdown",
   "id": "8decdbc7",
   "metadata": {},
   "source": [
    "## Concept 1 - What is a vector?\n",
    "A vector is a mathematical object that has both magnitude (độ lớn or length) and direction. Vectors are often represented graphically as arrows, where the length of the arrow corresponds to the magnitude of the vector and the direction of the arrow indicates the direction of the vector.\n",
    "![Image of Vector](../../images/Vector1.PNG)\n",
    "\n",
    "Formally, a vector can be defined as an ordered list of numbers, known as its components, which describe its magnitude and direction in a particular coordinate system. Two important characteristics of vectors are:\n",
    "\n",
    "### Dimensionality\n",
    "\n",
    "The number of numbers in the vector. Dimensionality is often indicated using $\\mathbb{R}^N$, where the $\\mathbb{R}$ indicates real-valued numbers (cf. C for complex-valued numbers) and the $N$ indicates the dimensionality. For example, a vector with two elements is said to be a member of $\\mathbb{R}^2$.\n",
    "\n",
    "### Orientation\n",
    "\n",
    "Whether the vector is in column orientation or row orientation.\n",
    "\n",
    "A few examples of vectors:\n",
    "\n",
    "$\\vec{v} = \\begin{bmatrix}1\\cr2\\cr3\\end{bmatrix}$ \n",
    "\n",
    "$\\vec{y} = \\begin{bmatrix}1&2&3\\end{bmatrix}$"
   ]
  },
  {
   "cell_type": "markdown",
   "id": "bd572938",
   "metadata": {},
   "source": [
    "## Concept 2 - Operations on Vectors\n",
    "\n",
    "Given these 2 vectors\n",
    "$\\vec{x} = \\begin{bmatrix}1\\cr2\\cr3\\end{bmatrix}$ , $\\vec{y} = \\begin{bmatrix}4\\cr5\\cr6\\end{bmatrix}$ \n",
    "\n",
    "### (a) Adding Two Vectors\n",
    "To add two vectors, simply add each corresponding element.\n",
    "\n",
    "$\\vec{x} + \\vec{y} = \\begin{bmatrix}1\\cr2\\cr3\\end{bmatrix} + \\begin{bmatrix}4\\cr5\\cr6\\end{bmatrix} = \\begin{bmatrix}5\\cr7\\cr9\\end{bmatrix}$\n",
    "\n",
    "### (b) Subtracting two vectors\n",
    "Vector subtraction is also what you’d expect: subtract the two vectors element-wise.\n",
    "\n",
    "$\\vec{x} - \\vec{y} = \\begin{bmatrix}1\\cr2\\cr3\\end{bmatrix} - \\begin{bmatrix}4\\cr5\\cr6\\end{bmatrix} = \\begin{bmatrix}-3\\cr-3\\cr-3\\end{bmatrix}$\n",
    "\n",
    "### (c) Geometry of Vector Addition and Subtraction\n",
    "To add two vectors geometrically, place the vectors such that the tail of one vector is at the head of the other vector. The summed vector traverses from the tail of the first vector to the head of the second. You can extend this procedure to sum any number of vectors: simply stack all the vectors tail-to-head, and then the sum is the line that goes from the first tail to the final head.\n",
    "\n",
    "![Image of Vector](../../images/Vector2.PNG)\n",
    "\n",
    "Subtracting vectors geometrically is slightly different but equally straightforward: line up the two vectors such that their tails are at the same coordinate (this is easily accomplished by having both vectors in standard position); the difference vector is the line that goes from the head of the “negative” vector to the head of the “positive” vector.\n",
    "\n",
    "![Image of Vector](../../images/Vector3.PNG)\n",
    "\n",
    "### (d) Vector-Scalar Multiplication\n",
    "A scalar in linear algebra is a number on its own, not embedded in a vector or matrix. Scalars are typically indicated using lowercase Greek letters such as $\\alpha$ or $\\gamma$. Therefore, vector-scalar multiplication is indicated as, for example, $\\beta u$. Vector-scalar multiplication is very simple: multiply each vector element by the scalar.\n",
    "\n",
    "Let $\\gamma$ = 3 and $\\vec{w} = \\begin{bmatrix}2\\cr4\\cr6\\end{bmatrix}$. Then, the scalar multiplication of $\\gamma$ and $\\vec{w}$ is:\n",
    "\n",
    "$\\gamma . \\vec{w} = 3.\\begin{bmatrix}2\\cr4\\cr6\\end{bmatrix} = \\begin{bmatrix}3.2\\cr3.4\\cr3.6\\end{bmatrix} = \\begin{bmatrix}6\\cr12\\cr18\\end{bmatrix}$\n",
    "\n",
    "So, in this case, the scalar multiplication of $\\gamma$ and $\\vec{w}$ results in the vector $\\begin{bmatrix}6\\cr12\\cr18\\end{bmatrix}$"
   ]
  },
  {
   "cell_type": "markdown",
   "id": "b2521777",
   "metadata": {},
   "source": [
    "### Concept 3 - Vector Magnitude\n",
    "\n",
    "The magnitude of a vector also called the geometric length or the norm is the distance from tail to head of a vector, and is computed using the standard Euclidean distance formula: the square root of the sum of squared vector elements. Vector magnitude is indicated using double-vertical bars around the vector: $\\| v \\|$.\n",
    "\n",
    "$\\| \\vec{v} \\| = \\sqrt{\\displaystyle\\sum_{i=1}^n v_i^2}$\n",
    "\n",
    "Suppose we have the vector $\\vec{x} = \\begin{bmatrix}2\\cr-3\\cr1\\end{bmatrix}$. To find the magnitude of $\\vec{x}$\n",
    "\n",
    "$\\| \\vec{v} \\| = \\sqrt{(2)^2 + (-3)^2 + (1)^2} = \\sqrt{4 + 9 + 1} = \\sqrt{14}$\n",
    "\n",
    "Therefore, the magnitude of $\\vec{x}$ is $\\sqrt{14}$."
   ]
  },
  {
   "cell_type": "markdown",
   "id": "8a127a30",
   "metadata": {},
   "source": [
    "### Concept 4 - Unit vector\n",
    "There are some applications where we want a vector that has a geometric length of one, which is called a unit vector. Example applications include orthogonal matrices (ma trận trực giao), rotation matrices (ma trận xoay), eigenvectors (vectơ riêng), and singular vectors. A unit vector is defined as $\\| v \\| = 1$. Any non-unit vector has an associated unit vector. That means that we can create a unit vector in the same direction as a non-unit vector. Creating an associated unit vector is easy; you simply scalar multiply by the reciprocal (đối xứng) of the vector norm.\n",
    "\n",
    "$\\hat{v} = \\frac{\\vec{v}}{\\| \\vec{v} \\|}$"
   ]
  },
  {
   "cell_type": "code",
   "execution_count": null,
   "id": "fa630c1b",
   "metadata": {},
   "outputs": [],
   "source": []
  }
 ],
 "metadata": {
  "kernelspec": {
   "display_name": "Python 3 (ipykernel)",
   "language": "python",
   "name": "python3"
  },
  "language_info": {
   "codemirror_mode": {
    "name": "ipython",
    "version": 3
   },
   "file_extension": ".py",
   "mimetype": "text/x-python",
   "name": "python",
   "nbconvert_exporter": "python",
   "pygments_lexer": "ipython3",
   "version": "3.9.0"
  }
 },
 "nbformat": 4,
 "nbformat_minor": 5
}
