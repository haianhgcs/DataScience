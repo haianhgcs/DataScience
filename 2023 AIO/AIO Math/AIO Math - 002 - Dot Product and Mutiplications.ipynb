{
 "cells": [
  {
   "cell_type": "markdown",
   "id": "bc1bc8c0",
   "metadata": {},
   "source": [
    "Daily Math Theory - Published on Monday 10th April, 2023\n",
    "\n",
    "# 2. Dot Product and Mutiplications"
   ]
  },
  {
   "cell_type": "markdown",
   "id": "924eae03",
   "metadata": {},
   "source": [
    "## Concept 1 - Definition of dot product\n",
    "The dot product, also known as the Euclidean inner product, is a fundamental operation in linear algebra that serves as a building block for many algorithms and operations, such as con-volution, correlation, matrix multiplication, signal filtering, Fourier transform, and linear feature extraction [1].\n",
    "\n",
    "There are different notations for representing the dot product of two vectors, but the most common one is $a^Tb$, which will be further explained after introducing matrix multiplication. An-other one is $a\\cdot b$.\n",
    "\n",
    "The dot product is a scalar value that indicates the relationship between two vectors. To compute the dot product, one needs to multiply the corresponding elements of the vectors and then sum the resulting products."
   ]
  },
  {
   "cell_type": "markdown",
   "id": "86bd3d4d",
   "metadata": {},
   "source": [
    "## Dot product formula\n",
    "\n",
    "$a\\cdot b = \\displaystyle\\sum_{i=1}^n a_i \\times b_i$                    `(1)`\n",
    "\n",
    "where $a$ and $b$ are vectors, and $a_i$ represents the $i^{th}$ element of vector $a$. Once the dot product is calculated, its interpretation will be discussed.\n",
    "\n",
    "**Example:**\n",
    "\n",
    "Suppose we have two vectors $a$ and $b$, where $a = [1, 2, 3]$ and $b = [4, 5, 6]$. The dot product of $a$ and $b$ is denoted as $a\\cdot b$ and can be calculated using the following formula:\n",
    "\n",
    "$a\\cdot b = a_1b_1 + a_2b_2 + a_3b_3$                                   `(2)`\n",
    "\n",
    "Substituting the values of a and b in the above formula, we get:\n",
    "\n",
    "$a\\cdot b = 1 \\times 4 + 2 \\times 5 + 3 \\times 6 = 32$                  `(3)`\n",
    "\n",
    "Therefore, the dot product of a and b is 32."
   ]
  },
  {
   "cell_type": "markdown",
   "id": "9ab647f6",
   "metadata": {},
   "source": [
    "## Concept 2 - Geometry of the Dot Product\n",
    "Another way to define the dot product is through geometry, where it is the result of multiplying the magnitudes of two vectors and adjusting by the cosine of the angle formed between them.\n",
    "\n",
    "$a\\cdot b = |a||b| cos \\theta$                                           `(4)`\n",
    "\n",
    "where $\\theta$ is the angle between the two vectors.\n",
    "\n",
    "The dot product is zero if the two vectors are perpendicular (vuông góc) to each other, and it is positive if the two vectors are in the same direction, and it is negative if the two vectors are in opposite directions. You can see the geometry of the dot product in Figure 1.\n",
    "\n",
    "![Image of Vector](../../images/Vector4.PNG)"
   ]
  },
  {
   "cell_type": "markdown",
   "id": "696a3f11",
   "metadata": {},
   "source": [
    "## Concept 3 - Properties of vector dot product\n",
    "\n",
    "**Distributive (phân phối) property of vector dot product**\n",
    "\n",
    "The distributive property of mathematics is that $a(b + c) = ab + ac$. Translated into vectors and the vector dot product, it means that:\n",
    "\n",
    "$a \\cdot (b + c) = a \\cdot b + a \\cdot c $`                                      (5)`\n",
    "\n",
    "**Symmetry (đối xứng) property of vector dot product**\n",
    "\n",
    "$a \\cdot b = b \\cdot a $`                                                     (6)`\n",
    "\n",
    "**Homogeneity (đồng nhất) property of vector dot product**\n",
    "\n",
    "$k(a \\cdot b) = (ka) \\cdot b$`                                                (7)`"
   ]
  },
  {
   "cell_type": "markdown",
   "id": "ffbce62a",
   "metadata": {},
   "source": [
    "## Concept 4 - Hadamard Multiplication\n",
    "\n",
    "Hadamard multiplication refers to the process of performing element-wise multiplication between two vectors. It is also known as the Schur product or the entrywise product. To perform Hadamard multiplication, you multiply each corresponding element in the two vectors. For example, if you have two vectors A and B, their Hadamard product would be denoted as $a \\odot b$, where $\\odot$ represents the element-wise multiplication operator. The resulting vector will have the same dimensionality as the two original vectors.\n",
    "\n",
    "The formula for the Hadamard product of two vectors a and b would be:\n",
    "\n",
    "$a \\odot b = [a_1 × b_1, a_2 × b_2, ..., a_n × b_n]$                   (8)\n",
    "\n",
    "where $a_i$ and $b_i$ are the $i^{th}$ elements of vectors A and B, respectively.\n",
    "\n",
    "**Example**: Suppose we have two vectors $a = [1, 2, 3]$ and $b = [4, 5, 6]$. Their Hadamard product would be:\n",
    "\n",
    "$a \\odot b = [1 × 4, 2 × 5, 3 × 6] = [4, 10, 18]$                      (9)\n",
    "\n",
    "\n",
    "Therefore, the Hadamard product of a and b is the vector $[4, 10, 18]$."
   ]
  },
  {
   "cell_type": "markdown",
   "id": "f1c89762",
   "metadata": {},
   "source": [
    "With the ***dot product***, you multiply the corresponding components and **add** those products together. \n",
    "\n",
    "With the ***Hadamard product*** (element-wise product) you multiply the corresponding components, but **do not aggregate by summation**, leaving a new vector with the same dimension as the original operand vectors."
   ]
  },
  {
   "cell_type": "markdown",
   "id": "b3d506fa",
   "metadata": {},
   "source": [
    "## Concept 5 - Outer Product\n",
    "The outer product is a mathematical operation that takes two vectors and produces a matrix.\n",
    "\n",
    "The resulting matrix has dimensions equal to the length of the first vector by the length of the second vector. Each element of the resulting matrix is the product of the corresponding elements from the two input vectors.\n",
    "\n",
    "Here’s the formula for the outer product of two vectors $u$ and $v$:\n",
    "\n",
    "$u \\otimes v = uv^T = \\begin{bmatrix}u_1\\cr u_2 \\cr.\\cr.\\cr. \\cr u_n\\end{bmatrix} \\begin{bmatrix}v_1&v_2&. . .&v_m\\end{bmatrix}$\n",
    " $ = \\begin{bmatrix} u_1v_1&u_1v_2&...&u_1v_m \\cr u_2v_1&u_2v_2&...&u_2v_m \\cr.&.&...&.\\cr.&.&...&.\\cr.&.&...&. \\cr u_nv_1&u_nv_2&...&u_nv_m \\end{bmatrix}$                                                  `(10)`\n",
    " \n",
    "In the above formula, $u$ and $v$ are column vectors with $n$ and $m$ elements, respectively, and $T$ denotes the transpose operation.\n",
    "\n",
    "**Example**: Suppose we have two vectors $u = [1, 2, 3]$ and $v = [4, 5]$. Their outer product would be:\n",
    "\n",
    "$u \\otimes v = uv^T = \\begin{bmatrix} 1 \\cr 2 \\cr 3 \\end{bmatrix} \\begin{bmatrix}4 & 5\\end{bmatrix}$\n",
    "$ = \\begin{bmatrix} 1 \\times 4 & 1 \\times 5 \\cr 2 \\times 4 & 2 \\times 5 \\cr 3 \\times 4 & 3 \\times 5 \\end{bmatrix}$\n",
    "$ = \\begin{bmatrix} 4 & 5 \\cr 8 & 10 \\cr 12 & 15 \\end{bmatrix}$ \n",
    "\n",
    "Therefore, the outer product of $u$ and $v$ is the matrix $\\begin{bmatrix} 4 & 5 \\cr 8 & 10 \\cr 12 & 15 \\end{bmatrix}$ \n"
   ]
  },
  {
   "cell_type": "markdown",
   "id": "39dccae6",
   "metadata": {},
   "source": [
    "**References** \n",
    "\n",
    "[1] M. Cohen, Practical linear algebra for data science: From core concepts to applications using\n",
    "Python. O’Reilly Media, 2022."
   ]
  },
  {
   "cell_type": "markdown",
   "id": "0a19f9f8",
   "metadata": {},
   "source": [
    "### Hint:\n",
    "If you are using NumPy, you can use the following functions:\n",
    "* `np.dot` function to calculate the dot product of two vectors.\n",
    "* `np.outer` function can be used to calculate the outer product of two vectors.\n",
    "* `np.multiply` function can be used to calculate the Hadamard product of two vectors."
   ]
  },
  {
   "cell_type": "code",
   "execution_count": 2,
   "id": "7bec9931",
   "metadata": {},
   "outputs": [],
   "source": [
    "import numpy as np"
   ]
  },
  {
   "cell_type": "markdown",
   "id": "68f8a05d",
   "metadata": {},
   "source": [
    "### Question 1\n",
    "Calculate the following dot products using Python:\n",
    "\n",
    "a) $\\begin{bmatrix} 1\\cr 2 \\cr 3 \\end{bmatrix} . \\begin{bmatrix} 4 \\cr 5 \\cr 6 \\end{bmatrix}$ \n",
    "\n",
    "b) $\\begin{bmatrix} 1\\cr 0 \\end{bmatrix} . \\begin{bmatrix} 0 \\cr 1 \\end{bmatrix}$ \n",
    "\n",
    "c) $\\begin{bmatrix} 10\\cr -5 \\cr 3 \\end{bmatrix} . \\begin{bmatrix} 2 \\cr 0 \\cr 1 \\end{bmatrix}$ "
   ]
  },
  {
   "cell_type": "code",
   "execution_count": 3,
   "id": "a10ac5c3",
   "metadata": {
    "scrolled": true
   },
   "outputs": [
    {
     "data": {
      "text/plain": [
       "32"
      ]
     },
     "execution_count": 3,
     "metadata": {},
     "output_type": "execute_result"
    }
   ],
   "source": [
    "np.dot([1,2,3], [4,5,6])"
   ]
  },
  {
   "cell_type": "code",
   "execution_count": 4,
   "id": "0eb3305c",
   "metadata": {},
   "outputs": [
    {
     "data": {
      "text/plain": [
       "0"
      ]
     },
     "execution_count": 4,
     "metadata": {},
     "output_type": "execute_result"
    }
   ],
   "source": [
    "np.dot([1,0], [0,1])"
   ]
  },
  {
   "cell_type": "code",
   "execution_count": 5,
   "id": "e182b7fd",
   "metadata": {},
   "outputs": [
    {
     "data": {
      "text/plain": [
       "23"
      ]
     },
     "execution_count": 5,
     "metadata": {},
     "output_type": "execute_result"
    }
   ],
   "source": [
    "np.dot([10,-5,3], [2,0,1])"
   ]
  },
  {
   "cell_type": "markdown",
   "id": "079624a8",
   "metadata": {},
   "source": [
    "### Question 2\n",
    "Calculate the Hadamard product of the following vectors using Python. \n",
    "If it is not possible to calculate the Hadamard product, explain why.\n",
    "\n",
    "a) $\\begin{bmatrix} 1\\cr 2 \\cr 3 \\end{bmatrix} \\odot \\begin{bmatrix} 4 \\cr 5 \\cr 6 \\end{bmatrix}$ \n",
    "\n",
    "b) $\\begin{bmatrix} 1\\cr 0 \\end{bmatrix} \\odot \\begin{bmatrix} 1 \\cr 0 \\cr 1 \\end{bmatrix}$ "
   ]
  },
  {
   "cell_type": "code",
   "execution_count": 6,
   "id": "dd4f2555",
   "metadata": {},
   "outputs": [
    {
     "data": {
      "text/plain": [
       "array([ 4, 10, 18])"
      ]
     },
     "execution_count": 6,
     "metadata": {},
     "output_type": "execute_result"
    }
   ],
   "source": [
    "np.multiply([1,2,3],[4,5,6])"
   ]
  },
  {
   "cell_type": "code",
   "execution_count": 7,
   "id": "a114b92b",
   "metadata": {},
   "outputs": [
    {
     "ename": "ValueError",
     "evalue": "operands could not be broadcast together with shapes (2,) (3,) ",
     "output_type": "error",
     "traceback": [
      "\u001b[1;31m---------------------------------------------------------------------------\u001b[0m",
      "\u001b[1;31mValueError\u001b[0m                                Traceback (most recent call last)",
      "Cell \u001b[1;32mIn[7], line 1\u001b[0m\n\u001b[1;32m----> 1\u001b[0m \u001b[43mnp\u001b[49m\u001b[38;5;241;43m.\u001b[39;49m\u001b[43mmultiply\u001b[49m\u001b[43m(\u001b[49m\u001b[43m[\u001b[49m\u001b[38;5;241;43m1\u001b[39;49m\u001b[43m,\u001b[49m\u001b[38;5;241;43m0\u001b[39;49m\u001b[43m]\u001b[49m\u001b[43m,\u001b[49m\u001b[43m[\u001b[49m\u001b[38;5;241;43m1\u001b[39;49m\u001b[43m,\u001b[49m\u001b[38;5;241;43m0\u001b[39;49m\u001b[43m,\u001b[49m\u001b[38;5;241;43m1\u001b[39;49m\u001b[43m]\u001b[49m\u001b[43m)\u001b[49m\n",
      "\u001b[1;31mValueError\u001b[0m: operands could not be broadcast together with shapes (2,) (3,) "
     ]
    }
   ],
   "source": [
    "np.multiply([1,0],[1,0,1])"
   ]
  },
  {
   "cell_type": "markdown",
   "id": "8343e8e6",
   "metadata": {},
   "source": [
    "### Question 3\n",
    "Calculate the outer product of these two vectors using Python:\n",
    "\n",
    "$\\begin{bmatrix} 4\\cr -1 \\end{bmatrix} \\otimes \\begin{bmatrix} 2 \\cr 3 \\end{bmatrix}$ "
   ]
  },
  {
   "cell_type": "code",
   "execution_count": 8,
   "id": "07bfcb18",
   "metadata": {},
   "outputs": [
    {
     "data": {
      "text/plain": [
       "array([[ 8, 12],\n",
       "       [-2, -3]])"
      ]
     },
     "execution_count": 8,
     "metadata": {},
     "output_type": "execute_result"
    }
   ],
   "source": [
    "np.outer([4, -1],[2,3])"
   ]
  }
 ],
 "metadata": {
  "kernelspec": {
   "display_name": "Python 3 (ipykernel)",
   "language": "python",
   "name": "python3"
  },
  "language_info": {
   "codemirror_mode": {
    "name": "ipython",
    "version": 3
   },
   "file_extension": ".py",
   "mimetype": "text/x-python",
   "name": "python",
   "nbconvert_exporter": "python",
   "pygments_lexer": "ipython3",
   "version": "3.9.0"
  }
 },
 "nbformat": 4,
 "nbformat_minor": 5
}
