{
 "cells": [
  {
   "cell_type": "markdown",
   "id": "ad5791b6",
   "metadata": {},
   "source": [
    "Daily Math Theory\n",
    "\n",
    "Published on Monday 1st May, 2023\n",
    "\n",
    "# 5 Subspace, Span, Basis\n"
   ]
  },
  {
   "cell_type": "markdown",
   "id": "12e987d8",
   "metadata": {},
   "source": [
    "## Concept 1 - Subspace\n",
    "For some (finite) set of vectors, the infinite number of ways to linerly combine them - using the same vectors but different numerical values for the weights - creates a vector subspace. \n",
    "\n",
    "We can simply understand that *vector subspace* is a set of vectors can be linear weighted combined with any numerical values for the weights.\n",
    "\n",
    "A subspace is a subset that respects the two basic operations of linear algebra: vector addition and scalar multiplication. "
   ]
  },
  {
   "cell_type": "markdown",
   "id": "a967446e",
   "metadata": {},
   "source": [
    "# Concept 2 - Span\n",
    "**Span**\n",
    "\n",
    "For **S** is a set of vectors, spanS is the set of all linear combinations of vectors in **S*\n",
    "\n",
    "**Are you confused about the difference between span and subspace?**\n",
    "\n",
    "You can consider that a subspace can be smaller portion of a larger space. Spand is the mechanism of create a subspace. So the Span is a subspae, just like square is ractangle.\n",
    "\n",
    "**A few examples:**\n",
    "We'll start with a simple example of a vector set containing one vector:\n",
    "\n",
    "$ V =  \\left\\{ \\begin{bmatrix} 1 \\cr 3 \\end{bmatrix}\\right\\}$\n",
    "\n",
    "The spand of this vector set is the infinity of vectors that can be reached as linear combinations of the vectors in the set. For a set with one vector, that simply means all possible scaled versions of that vector. Figure 1 shows the vector and the subspace it spans. Consider that any vector in the gray dashed line can be formed as some scales version of the vector.\n",
    "\n",
    "Next example is a set of two vectors in $\\mathbb{R}^3$:\n",
    "\n",
    "$V = \\left\\{ \\begin{bmatrix} 1 \\cr 0 \\cr 2 \\end{bmatrix}, \\begin{bmatrix} -1 \\cr 1 \\cr 2 \\end{bmatrix}\\right\\}$\n",
    "\n",
    "![math05 figure1](../../images/2023AIO/math05_figure1.PNG)\n",
    "\n",
    "The vectors are in $\\mathbb{R}^3$, so they are graphically represented in a 3D axis. But the subspace that they span is a 2D plane in that 3D space (Figure 2). That plane passes through the origin, because scaling both vectors by zero gives the zeros vector.\n",
    "\n",
    "![math05 figure2](../../images/2023AIO/math05_figure2.PNG)\n",
    "\n",
    "The first example had one vector and its spand was 1D subspace, and the second example had two vetors and their span was 2D subspace. There seems to be a pattern emerging - but looks can be deceiving. Consider the next example:\n",
    "\n",
    "$V = \\left\\{ \\begin{bmatrix} 1 \\cr 1 \\cr 1 \\end{bmatrix}, \\begin{bmatrix} 2 \\cr 2 \\cr 2 \\end{bmatrix}\\right\\}$\n",
    "\n",
    "Two vectors in $\\mathbb{R}^3$, but the subspace that they span is still only a 1D subspace-a line (Figure 3). Why is that? It's because one vector in the set is already in the span of the other vector. Thus, in terms of span, one of the two vectors is redundant.\n",
    "\n",
    "![math05 figure3](../../images/2023AIO/math05_figure3.PNG)\n",
    "\n",
    "The formal definition of a vector subspace is a subset that is **closed under addition and scalar multiplication, and includes the origin of the space**. That means that any linear weighted combination of vectos in the subspace **must also be in the same subspace**, including setting l weights to zero to produce the zeros vectors at the origin of the space. **Example**:\n",
    "\n",
    "The sets of vectors $\\alpha = \\begin{bmatrix} a_1 \\cr a_2 \\cr a_3 \\end{bmatrix}$ in $\\mathbb{R}^3$ such that $a_1 + 3a_2 = a_3$ is a subspace.\n",
    "\n",
    "**proof**:\n",
    "Let assume $\\alpha = \\begin{bmatrix} a_1 \\cr a_2 \\cr a_3 \\end{bmatrix}$ and $\\beta = \\begin{bmatrix} b_1 \\cr b_2 \\cr b_3 \\end{bmatrix}$ in the set. That is, $\\alpha = \\begin{bmatrix} a_1 \\cr a_2 \\cr a_1 + 3a_2 \\end{bmatrix}$ and $\\beta = \\begin{bmatrix} b_1 \\cr b_2 \\cr b_1 + 3b_2 \\end{bmatrix}$, c, d are arbitrary real numbers.\n",
    "\n",
    "Let $\\mu = \\begin{bmatrix} u_1 \\cr u_2 \\cr u_3 \\end{bmatrix} = c\\alpha + d\\beta = \\begin{bmatrix} ca_1 + db_1 \\cr ca_2 + db_2 \\cr c(a_1 + 2a_2) + d(b_1 + 3b_2) \\end{bmatrix} = \\begin{bmatrix} ca_1 + db_1 \\cr ca_2 + db_2 \\cr ca_1 + db_1 + 3(ca_2 + b_2) \\end{bmatrix}$\n",
    "\n",
    "We have $u_3 = u_1 + 3u_2$. Therefore $\\mu$ is in the subset, so the given set is a subspace."
   ]
  },
  {
   "cell_type": "code",
   "execution_count": null,
   "id": "3c84c829",
   "metadata": {},
   "outputs": [],
   "source": []
  },
  {
   "cell_type": "code",
   "execution_count": null,
   "id": "5042ba45",
   "metadata": {},
   "outputs": [],
   "source": []
  },
  {
   "cell_type": "code",
   "execution_count": null,
   "id": "5445412b",
   "metadata": {},
   "outputs": [],
   "source": []
  },
  {
   "cell_type": "code",
   "execution_count": null,
   "id": "9aeb5873",
   "metadata": {},
   "outputs": [],
   "source": []
  },
  {
   "cell_type": "code",
   "execution_count": null,
   "id": "c98d960e",
   "metadata": {},
   "outputs": [],
   "source": []
  },
  {
   "cell_type": "code",
   "execution_count": null,
   "id": "9fa820f0",
   "metadata": {},
   "outputs": [],
   "source": []
  }
 ],
 "metadata": {
  "kernelspec": {
   "display_name": "Python 3 (ipykernel)",
   "language": "python",
   "name": "python3"
  },
  "language_info": {
   "codemirror_mode": {
    "name": "ipython",
    "version": 3
   },
   "file_extension": ".py",
   "mimetype": "text/x-python",
   "name": "python",
   "nbconvert_exporter": "python",
   "pygments_lexer": "ipython3",
   "version": "3.9.0"
  }
 },
 "nbformat": 4,
 "nbformat_minor": 5
}
