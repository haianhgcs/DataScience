{
 "cells": [
  {
   "cell_type": "markdown",
   "id": "2545714b",
   "metadata": {},
   "source": [
    "Daily Math Theory - Published on Monday 24th April, 2023\n",
    "\n",
    "# 4. Linear Combination - Linear Independence\n",
    "Tổ hợp tuyến tính các vector và sự độc lập và phụ thuộc tuyến tính của một tập hợp các vector"
   ]
  },
  {
   "cell_type": "markdown",
   "id": "570543fd",
   "metadata": {},
   "source": [
    "## Concept 1 - Vector set\n",
    "A collection of vectors is called a set, denoted by $S$, or $V$ (capital italic letters)\n",
    "\n",
    "$V = \\{v_1, \\cdots , vn\\}$\n",
    "\n",
    "Vector sets can contain a finite or an infinite number of vectors.\n",
    "Vector sets can be empty, denoted by \n",
    "\n",
    "$V = \\{\\}$"
   ]
  },
  {
   "cell_type": "markdown",
   "id": "773fae30",
   "metadata": {},
   "source": [
    "## Concept 2 - Linear weighted combination\n",
    "(Kết hợp trọng số tuyến tính)\n",
    "Linear weighted combination simply means scalar-vector multiplication and addition: take some set of vectors, multiply each vector by a scalar, and add them to produce a single vector.\n",
    "\n",
    "### Equation 3.1: Linear weighted combination\n",
    "\n",
    "$w = \\lambda_1v_1 + \\lambda_2v_2 + \\cdots + \\lambda_nv_n$\n",
    "\n",
    "It is assumed that all vectors $v_i$ have the same dimensionality; otherwise, the addition is invalid. The $\\lambda_i, i = 1, 2, \\cdots , n$ can be any real number, including zero.\n",
    "\n",
    "### Equation 3-2: Linear weighted combination.\n",
    "$\\lambda_1 = 1, \\lambda_2 = 2, \\lambda_3 = −3$\n",
    "\n",
    "$v_1 = \\begin{bmatrix}4&5&1\\end{bmatrix}, v_2 = \\begin{bmatrix}-4&0&-4\\end{bmatrix}, v_3 = \\begin{bmatrix}1&3&2\\end{bmatrix}$\n",
    "\n",
    "$w = \\lambda_1v_1 + \\lambda_2v_2 + \\lambda_3v_3 = \\begin{bmatrix}-7&-4&14\\end{bmatrix}$\n"
   ]
  },
  {
   "cell_type": "markdown",
   "id": "f6104940",
   "metadata": {},
   "source": [
    "## Concept 3 - Linear independence\n",
    "A set of vectors is `linearly dependent` if at least one vector in the set can be expressed as a linear weighted combination of other vectors in that set.\n",
    "\n",
    "A set of vectors is `linearly independent` if no vector can be expressed as a linear weighted combination of other vectors in the set.\n",
    "\n",
    "Following are two sets of vectors.\n",
    "\n",
    "$ V = \\begin{Bmatrix}\\begin{bmatrix}1 \\cr 3\\end{bmatrix},\\begin{bmatrix}2 \\cr 7\\end{bmatrix}\\end{Bmatrix}$ \n",
    "\n",
    "\n",
    "$ S = \\begin{Bmatrix}\\begin{bmatrix}1 \\cr 3\\end{bmatrix},\\begin{bmatrix}2 \\cr 6\\end{bmatrix}\\end{Bmatrix}$ \n",
    "\n",
    "* Vector set V is `linearly independent` if it is impossible to express one vector in the set as a linear multiple of the other vector in the set. That is to say, if we call the vectors in the set $v_1$ and $v_2$, then there is no possible scalar $\\lambda$ for which $v_1 = \\lambda v_2$.\n",
    "* Vector set S is `linearly dependent`, because we can use linear weights to obtain other vectors in the set. For example, \n",
    "$\\begin{bmatrix}1 \\cr 3\\end{bmatrix} = s_1 = 0.5 \\cdot \\begin{bmatrix}2 \\cr 6\\end{bmatrix} = 0.5 \\cdot s_2$, which means $s_1$ is equal to 0.5 times s2.\n",
    "\n",
    "---\n",
    "**INDEPENDENT SETS**\n",
    "\n",
    "Independence is a property of a set of vectors. That is, a set of vectors can be linearly independent or linearly dependent; independence is not a property of an individual vector within a set.\n",
    "\n",
    "---"
   ]
  },
  {
   "cell_type": "markdown",
   "id": "07c51e7b",
   "metadata": {},
   "source": [
    "## Concept 4 - The math of linear independence\n",
    "### Linear dependence\n",
    "A set $V = \\{v_1, \\cdots , vn\\}$ of vectors is `linearly dependent` if there exist $\\lambda_1, \\cdots ,\\lambda_n \\in R$, not\n",
    "all 0 , such that $\\lambda_1v_1 + \\lambda_2v_2 + · · · + \\lambda_nv_n = 0$\n",
    "\n",
    "0 is the zero vectors\n",
    "### Linear independence\n",
    "A set $V = \\{v_1, \\cdots , vn\\}$ of vector is called `linear independent` if the only choice $\\lambda_1, \\cdots ,\\lambda_n \\in R$ that makes $\\lambda_1v_1 + \\lambda_2v_2 + · · · + \\lambda_nv_n$ equal 0 (zero vector) is $\\lambda_1 = \\cdots = \\lambda_n = 0$"
   ]
  },
  {
   "cell_type": "markdown",
   "id": "8436072a",
   "metadata": {},
   "source": [
    "## Concept 5 - Independence and the zeros vector\n",
    "\n",
    "Any vector set that includes the zeros vector is automatically a linearly dependent set. Because, any scalar multiple of the zeros vector is still the zeros vector, so the definition of linear independence is always satified.\n",
    "\n",
    "$\\lambda_00 = 0v_2 + \\cdots + 0v_n$\n",
    "\n",
    "⇔ $\\lambda_00 + 0v_2 + \\cdots + 0v_n = 0$\n",
    "\n",
    "As long as $\\lambda_0 \\neq 0$, the set fits with the definition of linear independence."
   ]
  },
  {
   "cell_type": "code",
   "execution_count": 7,
   "id": "e73c5bc9",
   "metadata": {},
   "outputs": [],
   "source": [
    "import numpy as np\n",
    "import math"
   ]
  },
  {
   "cell_type": "markdown",
   "id": "b7056b64",
   "metadata": {},
   "source": [
    "\n",
    "![AIO-Math-Ex1](../../images/AIO-Math-Ex1.PNG)"
   ]
  },
  {
   "cell_type": "code",
   "execution_count": 3,
   "id": "d968ee36",
   "metadata": {},
   "outputs": [
    {
     "name": "stdout",
     "output_type": "stream",
     "text": [
      "[ 4.   6.5  7.5 19. ]\n"
     ]
    }
   ],
   "source": [
    "v1 = np.array([1,2,3,4])\n",
    "v2 = np.array([1,5,3,4])\n",
    "v3 = np.array([2,2,3,10])\n",
    "\n",
    "wc1 = 0.5\n",
    "wc2 = 0.5\n",
    "wc3 = 1.5\n",
    "\n",
    "vy = v1 * wc1 + v2 * wc2 + v3 * wc3\n",
    "print(vy)"
   ]
  },
  {
   "cell_type": "markdown",
   "id": "f6e74f16",
   "metadata": {},
   "source": [
    "![AIO-math-ex2](../../images/AIO-math-ex2.PNG)"
   ]
  },
  {
   "cell_type": "code",
   "execution_count": 5,
   "id": "57d65f04",
   "metadata": {},
   "outputs": [
    {
     "name": "stdout",
     "output_type": "stream",
     "text": [
      "[ 7.   7.5 10.  10.5 13. ]\n"
     ]
    }
   ],
   "source": [
    "v21 = np.array([1,2,3,4,5])\n",
    "v22 = np.array([0,1,0,1,0])\n",
    "v23 = np.array([3,2,1,0,-1])\n",
    "v24 = np.array([1,1,1,1,1])\n",
    "\n",
    "wc21 = 2\n",
    "wc22 = -1\n",
    "wc23 = 0.5\n",
    "wc24 = 3.5\n",
    "\n",
    "vy2 = v21 * wc21 + v22 * wc22 + v23 * wc23 + v24 * wc24\n",
    "print(vy2)"
   ]
  },
  {
   "cell_type": "markdown",
   "id": "60e0cf26",
   "metadata": {},
   "source": [
    "![AIO-Math-Ex3](../../images/AIO-Math-Ex3.PNG)"
   ]
  },
  {
   "cell_type": "code",
   "execution_count": 14,
   "id": "1457c732",
   "metadata": {},
   "outputs": [],
   "source": [
    "# function definition to compute magnitude o f the vector\n",
    "def magnitude(vector, round_number=2):\n",
    "    return round(math.sqrt(sum(pow(element, 2) for element in vector)), round_number)"
   ]
  },
  {
   "cell_type": "code",
   "execution_count": 15,
   "id": "cccb0bd3",
   "metadata": {},
   "outputs": [
    {
     "name": "stdout",
     "output_type": "stream",
     "text": [
      "40.36\n"
     ]
    }
   ],
   "source": [
    "pi = math.pi\n",
    "eps = math.e\n",
    "\n",
    "v41 = np.array([1.5,math.sqrt(2),0.8,3.3,pi,2.5])\n",
    "v42 = np.array([2.7,0.5,math.sqrt(3),1.2,2.5,eps])\n",
    "v43 = np.array([0.6,pi,2.8,1.7,1.1,math.sqrt(5)])\n",
    "v44 = np.array([math.sqrt(2),3.1,1.4,eps,2.2,0.9])\n",
    "v45 = np.array([3.4,math.sqrt(3),2.1,0.7,0.9,pi])\n",
    "\n",
    "wc41 = 2\n",
    "wc42 = -1\n",
    "wc43 = 0.5\n",
    "wc44 = 3.1\n",
    "wc45 = 3.5\n",
    "\n",
    "vy3 = v41 * wc41 + v42 * wc42 + v43 * wc43 + v44 * wc44 + v45 * wc45\n",
    "print(magnitude(vy3))"
   ]
  },
  {
   "cell_type": "markdown",
   "id": "8e64febb",
   "metadata": {},
   "source": [
    "![AIO-Math-Ex3](../../images/AIO-Math-Ex4.PNG)"
   ]
  },
  {
   "cell_type": "code",
   "execution_count": null,
   "id": "0ed6c2c6",
   "metadata": {},
   "outputs": [],
   "source": [
    "1,0,-1.5"
   ]
  },
  {
   "cell_type": "markdown",
   "id": "2ef24d79",
   "metadata": {},
   "source": [
    "![AIO-Math-Ex3](../../images/AIO-Math-Ex5.PNG)"
   ]
  },
  {
   "cell_type": "code",
   "execution_count": 25,
   "id": "5c1e0d5a",
   "metadata": {},
   "outputs": [
    {
     "data": {
      "text/plain": [
       "0.759325973271354"
      ]
     },
     "execution_count": 25,
     "metadata": {},
     "output_type": "execute_result"
    }
   ],
   "source": [
    "d"
   ]
  },
  {
   "cell_type": "markdown",
   "id": "07cbe619",
   "metadata": {},
   "source": [
    "![AIO-Math-Ex3](../../images/AIO-Math-Ex6.PNG)"
   ]
  },
  {
   "cell_type": "code",
   "execution_count": 29,
   "id": "2349b2e1",
   "metadata": {},
   "outputs": [
    {
     "data": {
      "text/plain": [
       "array([ 0.00000000e+00, -1.77635684e-15, -1.77635684e-15, -1.77635684e-15,\n",
       "       -8.88178420e-16])"
      ]
     },
     "execution_count": 29,
     "metadata": {},
     "output_type": "execute_result"
    }
   ],
   "source": [
    "v1 = np.array([3.4,4.5,6.1,8.3,3.7])\n",
    "v2 = np.array([1.8,5.5,2.7,9.2,2.6])\n",
    "v3 = np.array([2.5,8.6,4.3,6.9,2.7])\n",
    "v4 = np.array([6.1,1.2,8.7,5.4,2.7])\n",
    "v5 = np.array([5.16,8.23,8.75,14.13,5.54])\n",
    "\n",
    "#v1 - v3 + 0.6*v5\n",
    "#-v3+v4+0.1*v5\n",
    "v1 + 0.5*v2 + 0.1*v3 + 0.1*v4 -v5"
   ]
  },
  {
   "cell_type": "markdown",
   "id": "f1925d54",
   "metadata": {},
   "source": [
    "In this assignment, you will be asked to calculate the linear combination of sets of vectors. You can use any Python libraries, such as NumPy, SymPy, etc., to solve the questions.\n",
    "\n",
    "**Hint**:\n",
    "\n",
    "If you are using NumPy, you can use the following functions:\n",
    "• np.zeros function can use to create a vector(matrix) with all components is zero."
   ]
  },
  {
   "cell_type": "markdown",
   "id": "c3ed61e4",
   "metadata": {},
   "source": [
    "![AIO-Math-Ex3](../../images/AIO-Math-Ex7.PNG)"
   ]
  },
  {
   "cell_type": "code",
   "execution_count": null,
   "id": "65a588e5",
   "metadata": {},
   "outputs": [],
   "source": []
  },
  {
   "cell_type": "markdown",
   "id": "fca25708",
   "metadata": {},
   "source": [
    "![AIO-Math-Ex3](../../images/AIO-Math-Ex8.PNG)"
   ]
  },
  {
   "cell_type": "code",
   "execution_count": null,
   "id": "18d7a450",
   "metadata": {},
   "outputs": [],
   "source": []
  },
  {
   "cell_type": "markdown",
   "id": "e9210186",
   "metadata": {},
   "source": [
    "![AIO-Math-Ex3](../../images/AIO-Math-Ex9.PNG)"
   ]
  },
  {
   "cell_type": "code",
   "execution_count": null,
   "id": "9a3d4df1",
   "metadata": {},
   "outputs": [],
   "source": []
  },
  {
   "cell_type": "markdown",
   "id": "f2b049eb",
   "metadata": {},
   "source": [
    "![AIO-Math-Ex3](../../images/AIO-Math-Ex10-1.PNG)\n",
    "![AIO-Math-Ex3](../../images/AIO-Math-Ex10-2.PNG)"
   ]
  }
 ],
 "metadata": {
  "kernelspec": {
   "display_name": "Python 3 (ipykernel)",
   "language": "python",
   "name": "python3"
  },
  "language_info": {
   "codemirror_mode": {
    "name": "ipython",
    "version": 3
   },
   "file_extension": ".py",
   "mimetype": "text/x-python",
   "name": "python",
   "nbconvert_exporter": "python",
   "pygments_lexer": "ipython3",
   "version": "3.9.0"
  }
 },
 "nbformat": 4,
 "nbformat_minor": 5
}
