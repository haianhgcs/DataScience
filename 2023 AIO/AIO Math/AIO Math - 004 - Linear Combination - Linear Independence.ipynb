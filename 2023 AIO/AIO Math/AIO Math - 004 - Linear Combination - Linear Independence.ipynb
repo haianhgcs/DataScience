{
 "cells": [
  {
   "cell_type": "markdown",
   "id": "2545714b",
   "metadata": {},
   "source": [
    "Daily Math Theory - Published on Monday 24th April, 2023\n",
    "\n",
    "# 4. Linear Combination - Linear Independence\n",
    "Tổ hợp tuyến tính các vector và sự độc lập và phụ thuộc tuyến tính của một tập hợp các vector"
   ]
  },
  {
   "cell_type": "markdown",
   "id": "570543fd",
   "metadata": {},
   "source": [
    "## Concept 1 - Vector set\n",
    "A collection of vectors is called a set, denoted by $S$, or $V$ (capital italic letters)\n",
    "\n",
    "$V = \\{v_1, \\cdots , vn\\}$\n",
    "\n",
    "Vector sets can contain a finite or an infinite number of vectors.\n",
    "Vector sets can be empty, denoted by \n",
    "\n",
    "$V = \\{\\}$"
   ]
  },
  {
   "cell_type": "markdown",
   "id": "773fae30",
   "metadata": {},
   "source": [
    "## Concept 2 - Linear weighted combination\n",
    "(Kết hợp trọng số tuyến tính)\n",
    "Linear weighted combination simply means scalar-vector multiplication and addition: take some set of vectors, multiply each vector by a scalar, and add them to produce a single vector.\n",
    "\n",
    "### Equation 3.1: Linear weighted combination\n",
    "\n",
    "$w = \\lambda_1v_1 + \\lambda_2v_2 + \\cdots + \\lambda_nv_n$\n",
    "\n",
    "It is assumed that all vectors $v_i$ have the same dimensionality; otherwise, the addition is invalid. The $\\lambda_i, i = 1, 2, \\cdots , n$ can be any real number, including zero.\n",
    "\n",
    "### Equation 3-2: Linear weighted combination.\n",
    "$\\lambda_1 = 1, \\lambda_2 = 2, \\lambda_3 = −3$\n",
    "\n",
    "$v_1 = \\begin{bmatrix}4&5&1\\end{bmatrix}, v_2 = \\begin{bmatrix}-4&0&-4\\end{bmatrix}, v_3 = \\begin{bmatrix}1&3&2\\end{bmatrix}$\n",
    "\n",
    "$w = \\lambda_1v_1 + \\lambda_2v_2 + \\lambda_3v_3 = \\begin{bmatrix}-7&-4&14\\end{bmatrix}$\n"
   ]
  },
  {
   "cell_type": "markdown",
   "id": "f6104940",
   "metadata": {},
   "source": [
    "## Concept 3 - Linear independence\n",
    "A set of vectors is `linearly dependent` if at least one vector in the set can be expressed as a linear weighted combination of other vectors in that set.\n",
    "\n",
    "A set of vectors is `linearly independent` if no vector can be expressed as a linear weighted combination of other vectors in the set.\n",
    "\n",
    "Following are two sets of vectors.\n",
    "\n",
    "$ V = \\begin{Bmatrix}\\begin{bmatrix}1 \\cr 3\\end{bmatrix},\\begin{bmatrix}2 \\cr 7\\end{bmatrix}\\end{Bmatrix}$ \n",
    "\n",
    "\n",
    "$ S = \\begin{Bmatrix}\\begin{bmatrix}1 \\cr 3\\end{bmatrix},\\begin{bmatrix}2 \\cr 6\\end{bmatrix}\\end{Bmatrix}$ \n",
    "\n",
    "* Vector set V is `linearly independent` if it is impossible to express one vector in the set as a linear multiple of the other vector in the set. That is to say, if we call the vectors in the set $v_1$ and $v_2$, then there is no possible scalar $\\lambda$ for which $v_1 = \\lambda v_2$.\n",
    "* Vector set S is `linearly dependent`, because we can use linear weights to obtain other vectors in the set. For example, \n",
    "$\\begin{bmatrix}1 \\cr 3\\end{bmatrix} = s_1 = 0.5 \\cdot \\begin{bmatrix}2 \\cr 6\\end{bmatrix} = 0.5 \\cdot s_2$, which means $s_1$ is equal to 0.5 times s2.\n",
    "\n",
    "---\n",
    "**INDEPENDENT SETS**\n",
    "\n",
    "Independence is a property of a set of vectors. That is, a set of vectors can be linearly independent or linearly dependent; independence is not a property of an individual vector within a set.\n",
    "\n",
    "---"
   ]
  },
  {
   "cell_type": "markdown",
   "id": "07c51e7b",
   "metadata": {},
   "source": [
    "## Concept 4 - The math of linear independence\n",
    "### Linear dependence\n",
    "A set $V = \\{v_1, \\cdots , vn\\}$ of vectors is `linearly dependent` if there exist $\\lambda_1, \\cdots ,\\lambda_n \\in R$, not\n",
    "all 0 , such that $\\lambda_1v_1 + \\lambda_2v_2 + · · · + \\lambda_nv_n = 0$\n",
    "\n",
    "0 is the zero vectors\n",
    "### Linear independence\n",
    "A set $V = \\{v_1, \\cdots , vn\\}$ of vector is called `linear independent` if the only choice $\\lambda_1, \\cdots ,\\lambda_n \\in R$ that makes $\\lambda_1v_1 + \\lambda_2v_2 + · · · + \\lambda_nv_n$ equal 0 (zero vector) is $\\lambda_1 = \\cdots = \\lambda_n = 0$"
   ]
  },
  {
   "cell_type": "markdown",
   "id": "8436072a",
   "metadata": {},
   "source": [
    "## Concept 5 - Independence and the zeros vector\n",
    "\n",
    "Any vector set that includes the zeros vector is automatically a linearly dependent set. Because, any scalar multiple of the zeros vector is still the zeros vector, so the definition of linear independence is always satified.\n",
    "\n",
    "$\\lambda_00 = 0v_2 + \\cdots + 0v_n$\n",
    "\n",
    "⇔ $\\lambda_00 + 0v_2 + \\cdots + 0v_n = 0$\n",
    "\n",
    "As long as $\\lambda_0 \\neq 0$, the set fits with the definition of linear independence."
   ]
  },
  {
   "cell_type": "code",
   "execution_count": null,
   "id": "fada2698",
   "metadata": {},
   "outputs": [],
   "source": []
  }
 ],
 "metadata": {
  "kernelspec": {
   "display_name": "Python 3 (ipykernel)",
   "language": "python",
   "name": "python3"
  },
  "language_info": {
   "codemirror_mode": {
    "name": "ipython",
    "version": 3
   },
   "file_extension": ".py",
   "mimetype": "text/x-python",
   "name": "python",
   "nbconvert_exporter": "python",
   "pygments_lexer": "ipython3",
   "version": "3.9.0"
  }
 },
 "nbformat": 4,
 "nbformat_minor": 5
}
