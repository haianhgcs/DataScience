{
 "cells": [
  {
   "cell_type": "markdown",
   "metadata": {},
   "source": [
    "# String "
   ]
  },
  {
   "cell_type": "markdown",
   "metadata": {},
   "source": [
    "### Tạo một string và kí tự đặc biệt\n",
    "Dấu '  ' và dấu \" \" là kí tự đặc biệt, được sử dụng để xác định chuỗi. Có 3 cách để xác định được chuỗi ' ', ''  '', '''   '''.\n",
    "Bạn có thể xem ví dụ phía dưới."
   ]
  },
  {
   "cell_type": "code",
   "execution_count": 6,
   "metadata": {},
   "outputs": [
    {
     "name": "stdout",
     "output_type": "stream",
     "text": [
      "Tôi yêu AI VIET NAM\n"
     ]
    }
   ],
   "source": [
    "text1 = 'Tôi yêu AI VIET NAM'\n",
    "print(text1)"
   ]
  },
  {
   "cell_type": "code",
   "execution_count": 7,
   "metadata": {},
   "outputs": [
    {
     "name": "stdout",
     "output_type": "stream",
     "text": [
      "Tôi yêu AI VIET NAM\n"
     ]
    }
   ],
   "source": [
    "text2 = \"Tôi yêu AI VIET NAM\"\n",
    "print(text2)"
   ]
  },
  {
   "cell_type": "code",
   "execution_count": 8,
   "metadata": {},
   "outputs": [
    {
     "name": "stdout",
     "output_type": "stream",
     "text": [
      "Tôi yêu AI VIET NAM\n"
     ]
    }
   ],
   "source": [
    "text3 = '''Tôi yêu AI VIET NAM'''\n",
    "print(text3)"
   ]
  },
  {
   "cell_type": "code",
   "execution_count": 9,
   "metadata": {},
   "outputs": [
    {
     "name": "stdout",
     "output_type": "stream",
     "text": [
      "Tôi yêu AI VIET NAM\n"
     ]
    }
   ],
   "source": [
    "text4 = \"\"\"Tôi yêu AI VIET NAM\"\"\"\n",
    "print(text4)"
   ]
  },
  {
   "cell_type": "code",
   "execution_count": null,
   "metadata": {},
   "outputs": [],
   "source": []
  },
  {
   "cell_type": "markdown",
   "metadata": {},
   "source": [
    "Theo các phiên bản mói, chuỗi được viết dưới dạng"
   ]
  },
  {
   "cell_type": "code",
   "execution_count": 11,
   "metadata": {},
   "outputs": [
    {
     "name": "stdout",
     "output_type": "stream",
     "text": [
      "Tôi yêu 'AI VIET NAM'\n"
     ]
    }
   ],
   "source": [
    "text1 = \"Tôi yêu 'AI VIET NAM'\"\n",
    "print(text1)"
   ]
  },
  {
   "cell_type": "code",
   "execution_count": 12,
   "metadata": {},
   "outputs": [
    {
     "name": "stdout",
     "output_type": "stream",
     "text": [
      "Tôi yêu \"AI VIET NAM\"\n"
     ]
    }
   ],
   "source": [
    "text2 = 'Tôi yêu \"AI VIET NAM\"'\n",
    "print(text2)"
   ]
  },
  {
   "cell_type": "code",
   "execution_count": 13,
   "metadata": {},
   "outputs": [
    {
     "name": "stdout",
     "output_type": "stream",
     "text": [
      "Chuỗi có kí tự đặc biệt \" và ' bên trong\n"
     ]
    }
   ],
   "source": [
    "text3 = \"\"\"Chuỗi có kí tự đặc biệt \" và ' bên trong\"\"\"\n",
    "print(text3)"
   ]
  },
  {
   "cell_type": "code",
   "execution_count": 15,
   "metadata": {},
   "outputs": [
    {
     "name": "stdout",
     "output_type": "stream",
     "text": [
      "Chuỗi có kí tự đặc biệt \" và ' bên trong\n"
     ]
    }
   ],
   "source": [
    "text4 = \"Chuỗi có kí tự đặc biệt \\\" và \\' bên trong\"\n",
    "print(text4)"
   ]
  },
  {
   "cell_type": "code",
   "execution_count": null,
   "metadata": {},
   "outputs": [],
   "source": []
  },
  {
   "cell_type": "markdown",
   "metadata": {},
   "source": [
    "### Chuỗi được ẩn"
   ]
  },
  {
   "cell_type": "markdown",
   "metadata": {},
   "source": [
    "Bạn có thể truy cập vào bất kì kí tự nào bằng cách sử dụng slice"
   ]
  },
  {
   "cell_type": "code",
   "execution_count": 8,
   "metadata": {},
   "outputs": [
    {
     "ename": "NameError",
     "evalue": "name 'text12' is not defined",
     "output_type": "error",
     "traceback": [
      "\u001b[1;31m---------------------------------------------------------------------------\u001b[0m",
      "\u001b[1;31mNameError\u001b[0m                                 Traceback (most recent call last)",
      "\u001b[1;32m<ipython-input-8-3fe2a8498e0f>\u001b[0m in \u001b[0;36m<module>\u001b[1;34m\u001b[0m\n\u001b[1;32m----> 1\u001b[1;33m \u001b[0mtext12\u001b[0m\u001b[1;33m[\u001b[0m\u001b[1;36m0\u001b[0m\u001b[1;33m]\u001b[0m\u001b[1;33m\u001b[0m\u001b[0m\n\u001b[0m\u001b[0;32m      2\u001b[0m \u001b[0mtext\u001b[0m\u001b[1;33m[\u001b[0m\u001b[1;33m-\u001b[0m\u001b[1;36m1\u001b[0m\u001b[1;33m]\u001b[0m\u001b[1;33m\u001b[0m\u001b[0m\n\u001b[0;32m      3\u001b[0m \u001b[0mtext\u001b[0m\u001b[1;33m[\u001b[0m\u001b[1;36m0\u001b[0m\u001b[1;33m:\u001b[0m\u001b[1;33m]\u001b[0m\u001b[1;33m\u001b[0m\u001b[0m\n\u001b[0;32m      4\u001b[0m \u001b[1;33m\u001b[0m\u001b[0m\n\u001b[0;32m      5\u001b[0m \u001b[0mprint\u001b[0m\u001b[1;33m(\u001b[0m\u001b[0mtext12\u001b[0m\u001b[1;33m)\u001b[0m\u001b[1;33m\u001b[0m\u001b[0m\n",
      "\u001b[1;31mNameError\u001b[0m: name 'text12' is not defined"
     ]
    }
   ],
   "source": [
    "text12[0]\n",
    "text[-1]\n",
    "text[0:]\n",
    "\n",
    "print(text12)"
   ]
  },
  {
   "cell_type": "markdown",
   "metadata": {},
   "source": [
    "Bạn không thể thay đổi bất kì kí tự nào"
   ]
  },
  {
   "cell_type": "code",
   "execution_count": 2,
   "metadata": {},
   "outputs": [
    {
     "ename": "NameError",
     "evalue": "name 'text' is not defined",
     "output_type": "error",
     "traceback": [
      "\u001b[1;31m---------------------------------------------------------------------------\u001b[0m",
      "\u001b[1;31mNameError\u001b[0m                                 Traceback (most recent call last)",
      "\u001b[1;32m<ipython-input-2-7d80f038d520>\u001b[0m in \u001b[0;36m<module>\u001b[1;34m\u001b[0m\n\u001b[1;32m----> 1\u001b[1;33m \u001b[0mtext\u001b[0m\u001b[1;33m[\u001b[0m\u001b[1;36m0\u001b[0m\u001b[1;33m]\u001b[0m \u001b[1;33m=\u001b[0m \u001b[1;34m'a'\u001b[0m\u001b[1;33m\u001b[0m\u001b[1;33m\u001b[0m\u001b[0m\n\u001b[0m",
      "\u001b[1;31mNameError\u001b[0m: name 'text' is not defined"
     ]
    }
   ],
   "source": [
    "text[0] = 'a'"
   ]
  },
  {
   "cell_type": "markdown",
   "metadata": {},
   "source": [
    "### Định dạng\n",
    "\n",
    "Trong python, dấu % cho phép bạn tạo đầu ra được định dạng. Một ví dụ nhanh sẽ minh họa cách in một chuỗi được định dạng"
   ]
  },
  {
   "cell_type": "code",
   "execution_count": 4,
   "metadata": {},
   "outputs": [
    {
     "name": "stdout",
     "output_type": "stream",
     "text": [
      "Hello AI VIETNAM. Have a nice day!\n",
      "Hello AI VIETNAM. Have a nice day!\n",
      "***Hi AI VIETNAM***\n"
     ]
    }
   ],
   "source": [
    "value1 = \"AI VIETNAM\"\n",
    "print(\"Hello %s. Have a nice day!\" % value1)\n",
    "print(\"Hello %s. Have a nice day!\" % (value1))\n",
    "\n",
    "value2 = \"Hi\"\n",
    "print(\"***%s %s***\" % (value2, value1))"
   ]
  },
  {
   "cell_type": "code",
   "execution_count": 5,
   "metadata": {},
   "outputs": [
    {
     "name": "stdout",
     "output_type": "stream",
     "text": [
      "Loss at the 5th iteration is 48.200000\n"
     ]
    }
   ],
   "source": [
    "iteration = 5\n",
    "loss = 48.2\n",
    "\n",
    "print(\"Loss at the %dth iteration is %f\" % (iteration, loss))"
   ]
  },
  {
   "cell_type": "code",
   "execution_count": null,
   "metadata": {},
   "outputs": [],
   "source": []
  },
  {
   "cell_type": "code",
   "execution_count": null,
   "metadata": {},
   "outputs": [],
   "source": []
  },
  {
   "cell_type": "code",
   "execution_count": null,
   "metadata": {},
   "outputs": [],
   "source": []
  },
  {
   "cell_type": "code",
   "execution_count": null,
   "metadata": {},
   "outputs": [],
   "source": []
  },
  {
   "cell_type": "code",
   "execution_count": 8,
   "metadata": {},
   "outputs": [
    {
     "name": "stdout",
     "output_type": "stream",
     "text": [
      "Hello, AIVIETNAM!\n",
      "Hello, AIVIETNAM!\n"
     ]
    }
   ],
   "source": [
    "value1 = \"Hello\"\n",
    "value2 = \"AIVIETNAM\"\n",
    "\n",
    "s1 = \"{n1}, {n2}!\".format(n1=value1, n2=value2)\n",
    "s2 = \"{n1}, {n2}!\".format(n2=value2, n1=value1)\n",
    "\n",
    "print(s1)\n",
    "print(s2)"
   ]
  },
  {
   "cell_type": "code",
   "execution_count": 9,
   "metadata": {},
   "outputs": [
    {
     "name": "stdout",
     "output_type": "stream",
     "text": [
      "Hello John. Are you 21 years old?\n"
     ]
    }
   ],
   "source": [
    "name = \"John\"\n",
    "age  = 21\n",
    "print(f'Hello {name}. Are you {age} years old?')"
   ]
  },
  {
   "cell_type": "code",
   "execution_count": null,
   "metadata": {},
   "outputs": [],
   "source": []
  },
  {
   "cell_type": "code",
   "execution_count": null,
   "metadata": {},
   "outputs": [],
   "source": []
  },
  {
   "cell_type": "code",
   "execution_count": null,
   "metadata": {},
   "outputs": [],
   "source": [
    "print(\"Value %s. Have a nice day!\" % (1))\n",
    "print(\"Hello %d. Have a nice day!\" % (\"1\"))"
   ]
  },
  {
   "cell_type": "code",
   "execution_count": null,
   "metadata": {},
   "outputs": [],
   "source": []
  },
  {
   "cell_type": "code",
   "execution_count": null,
   "metadata": {},
   "outputs": [],
   "source": []
  },
  {
   "cell_type": "markdown",
   "metadata": {},
   "source": [
    "### Operators"
   ]
  },
  {
   "cell_type": "markdown",
   "metadata": {},
   "source": [
    "Toán tử + và * có thể sử dụng để tạo một string mới:"
   ]
  },
  {
   "cell_type": "code",
   "execution_count": 50,
   "metadata": {},
   "outputs": [
    {
     "name": "stdout",
     "output_type": "stream",
     "text": [
      "Tôi thích AI!\n",
      "Tôi thích AI!Tôi thích AI!\n"
     ]
    }
   ],
   "source": [
    "s1 = 'Tôi thích '\n",
    "s2 = 'AI!'\n",
    "\n",
    "s3 = s1 + s2\n",
    "s4 = s3*2\n",
    "\n",
    "print(s3)\n",
    "print(s4)"
   ]
  },
  {
   "cell_type": "code",
   "execution_count": 51,
   "metadata": {},
   "outputs": [
    {
     "name": "stdout",
     "output_type": "stream",
     "text": [
      "True\n",
      "False\n",
      "True\n",
      "True\n",
      "False\n"
     ]
    }
   ],
   "source": [
    "s1 = 'a'\n",
    "s2 = 'b'\n",
    "\n",
    "print(s1 == s1)\n",
    "print(s1 == s2)\n",
    "\n",
    "print(s1 != s2)\n",
    "print(s1 < s2)\n",
    "print(s1 > s2)"
   ]
  },
  {
   "cell_type": "markdown",
   "metadata": {},
   "source": [
    "Các toán tử >,>=,==,<=,< và != có thể sử dụng để so sánh chuỗi.\n",
    "\n",
    "Các phương thức chuỗi có rất nhiều, tuy nhiên một số phương thức của chúng tương tự nhau, bạn sẽ thấy một số ví dụ phía dưới.\n",
    "\n",
    "#### Phương thức truy vấn thông tin\n",
    "\n",
    "Một số phương pháp để kiểm tra loại kí tự số alpha có trong một chuỗi: isdigit (), isalpha (), islower (), isupper (), istitle (), isspace (), str.alunum ():"
   ]
  },
  {
   "cell_type": "code",
   "execution_count": 57,
   "metadata": {},
   "outputs": [
    {
     "name": "stdout",
     "output_type": "stream",
     "text": [
      "True\n",
      "False\n"
     ]
    }
   ],
   "source": [
    "# Kiểm tra xem string gồm các chữ số\n",
    "print(\"10\".isdigit())\n",
    "print(\"abc\".isdigit())"
   ]
  },
  {
   "cell_type": "code",
   "execution_count": 56,
   "metadata": {},
   "outputs": [
    {
     "name": "stdout",
     "output_type": "stream",
     "text": [
      "False\n",
      "True\n"
     ]
    }
   ],
   "source": [
    "# Kiểm tra xem string chỉ được tạo từ các kí tự chữ cái\n",
    "print(\"10\".isalpha()) \n",
    "print(\"abc\".isalpha()) "
   ]
  },
  {
   "cell_type": "code",
   "execution_count": 55,
   "metadata": {},
   "outputs": [
    {
     "name": "stdout",
     "output_type": "stream",
     "text": [
      "False\n",
      "True\n"
     ]
    }
   ],
   "source": [
    "# Kiểm tra xem string với tất cả các kí tự ở dạng chữ hoa\n",
    "print(\"Ab\".isupper())\n",
    "print(\"AB\".isupper())"
   ]
  },
  {
   "cell_type": "code",
   "execution_count": 54,
   "metadata": {},
   "outputs": [
    {
     "name": "stdout",
     "output_type": "stream",
     "text": [
      "True\n",
      "False\n"
     ]
    }
   ],
   "source": [
    "# Kiểm tra xem string với tất cả các kí tự ở dạng chữ thường\n",
    "print(\"ab\".islower()) \n",
    "print(\"Ab\".islower()) "
   ]
  },
  {
   "cell_type": "code",
   "execution_count": 53,
   "metadata": {},
   "outputs": [
    {
     "name": "stdout",
     "output_type": "stream",
     "text": [
      "True\n",
      "False\n",
      "False\n"
     ]
    }
   ],
   "source": [
    "# Kiểm tra xem string có bắt đầu bằng chữ in hoa\n",
    "print(\"Hello\".istitle()) \n",
    "print(\"HELLO\".istitle()) \n",
    "print(\"hello\".istitle()) "
   ]
  },
  {
   "cell_type": "code",
   "execution_count": 52,
   "metadata": {},
   "outputs": [
    {
     "name": "stdout",
     "output_type": "stream",
     "text": [
      "False\n",
      "True\n",
      "True\n",
      "False\n"
     ]
    }
   ],
   "source": [
    "# Kiểm tra xem string chỉ là khoảng trắng\n",
    "print(\"\".isspace())\n",
    "print(\" \".isspace())\n",
    "print(\"   \".isspace())\n",
    "print(\"   abc  \".isspace())"
   ]
  },
  {
   "cell_type": "markdown",
   "metadata": {},
   "source": [
    "Bạn có thể đêm kí tự dựa vào hàm count(), hoặc lấy chiều dài của chuỗi dùng hàm len()"
   ]
  },
  {
   "cell_type": "code",
   "execution_count": 60,
   "metadata": {},
   "outputs": [
    {
     "name": "stdout",
     "output_type": "stream",
     "text": [
      "2\n",
      "0\n",
      "11\n"
     ]
    }
   ],
   "source": [
    "s = \"AI VIET NAM\"\n",
    "\n",
    "print(s.count('A'))\n",
    "print(s.count('a'))\n",
    "print(len(mystr))"
   ]
  },
  {
   "cell_type": "markdown",
   "metadata": {},
   "source": [
    "### Các phương thức trả về một phiên bản sửa đổi của chuỗi.\n",
    "\n",
    "Các phương thức sau đây trả về bản sao đã sửa đổi của chuỗi gốc, không thay đổi.\n",
    "\n",
    "Đầu tiên, bạn có thể sửa đổi các trường hợp bằng cách sử dụng title(), capitalize(), lower(), upper() and swapcase():"
   ]
  },
  {
   "cell_type": "code",
   "execution_count": 81,
   "metadata": {},
   "outputs": [
    {
     "data": {
      "text/plain": [
       "'Đây Là Bài Học Của Ai Viet Nam'"
      ]
     },
     "execution_count": 81,
     "metadata": {},
     "output_type": "execute_result"
    }
   ],
   "source": [
    "# Chuyển đổi kí tự đầu từng từ (word) trong một chuỗi thành kí tự hoa\n",
    "mystr = \"Đây là bài học của AI VIET NAM\"\n",
    "mystr.title()       "
   ]
  },
  {
   "cell_type": "code",
   "execution_count": 80,
   "metadata": {},
   "outputs": [
    {
     "data": {
      "text/plain": [
       "'Đây là bài học của ai viet nam'"
      ]
     },
     "execution_count": 80,
     "metadata": {},
     "output_type": "execute_result"
    }
   ],
   "source": [
    "# Chuyển đổi chữ cái đầu tiên của một chuỗi thành chữ hoa\n",
    "# và các kí tự sau thành chữ thường\n",
    "mystr = \"Đây là bài học của AI VIET NAM\"\n",
    "mystr.capitalize()  "
   ]
  },
  {
   "cell_type": "code",
   "execution_count": 79,
   "metadata": {},
   "outputs": [
    {
     "data": {
      "text/plain": [
       "'ĐÂY LÀ BÀI HỌC CỦA AI VIET NAM'"
      ]
     },
     "execution_count": 79,
     "metadata": {},
     "output_type": "execute_result"
    }
   ],
   "source": [
    "# Chuyển đổi tất cả các kí tự trong chuỗi thành chữ hoa\n",
    "mystr = \"Đây là bài học của AI VIET NAM\"\n",
    "mystr.upper()       "
   ]
  },
  {
   "cell_type": "code",
   "execution_count": 78,
   "metadata": {},
   "outputs": [
    {
     "data": {
      "text/plain": [
       "'đây là bài học của ai viet nam'"
      ]
     },
     "execution_count": 78,
     "metadata": {},
     "output_type": "execute_result"
    }
   ],
   "source": [
    "# Chuyển đổi các kí tự sang chữ thường\n",
    "mystr = \"Đây là bài học của AI VIET NAM\"\n",
    "mystr.lower()      "
   ]
  },
  {
   "cell_type": "code",
   "execution_count": 77,
   "metadata": {},
   "outputs": [
    {
     "data": {
      "text/plain": [
       "'đÂY LÀ BÀI HỌC CỦA ai viet nam'"
      ]
     },
     "execution_count": 77,
     "metadata": {},
     "output_type": "execute_result"
    }
   ],
   "source": [
    "# Chuyển đổi các kí tự từ chữ thường sang chữ hoa và ngược lại\n",
    "mystr = \"Đây là bài học của AI VIET NAM\"\n",
    "mystr.swapcase()  "
   ]
  },
  {
   "cell_type": "code",
   "execution_count": 76,
   "metadata": {},
   "outputs": [
    {
     "data": {
      "text/plain": [
       "'-----Đây là bài học của AI VIET NAM-----'"
      ]
     },
     "execution_count": 76,
     "metadata": {},
     "output_type": "execute_result"
    }
   ],
   "source": [
    "# Chỉnh chuỗi ở trung tâm, và chiều dài của chuỗi là 40\n",
    "mystr = \"Đây là bài học của AI VIET NAM\"\n",
    "mystr.center(40, '-')  "
   ]
  },
  {
   "cell_type": "code",
   "execution_count": 74,
   "metadata": {},
   "outputs": [
    {
     "data": {
      "text/plain": [
       "'Đây là bài học của AI VIET NAM          '"
      ]
     },
     "execution_count": 74,
     "metadata": {},
     "output_type": "execute_result"
    }
   ],
   "source": [
    "# Chỉnh chuỗi sang trái, và chiều dài của chuỗi là 40\n",
    "mystr = \"Đây là bài học của AI VIET NAM\"\n",
    "mystr.ljust(40) "
   ]
  },
  {
   "cell_type": "code",
   "execution_count": 73,
   "metadata": {},
   "outputs": [
    {
     "data": {
      "text/plain": [
       "'----------Đây là bài học của AI VIET NAM'"
      ]
     },
     "execution_count": 73,
     "metadata": {},
     "output_type": "execute_result"
    }
   ],
   "source": [
    "# Chỉnh chuỗi sang phải, và chiều dài chuỗi là 40\n",
    "mystr = \"Đây là bài học của AI VIET NAM\"\n",
    "mystr.rjust(40, '-') "
   ]
  },
  {
   "cell_type": "code",
   "execution_count": 82,
   "metadata": {},
   "outputs": [
    {
     "data": {
      "text/plain": [
       "'0000000000Đây là bài học của AI VIET NAM'"
      ]
     },
     "execution_count": 82,
     "metadata": {},
     "output_type": "execute_result"
    }
   ],
   "source": [
    "# Thêm số 0 vào bên trái để chuỗi có chiều dài là 40\n",
    "mystr = \"Đây là bài học của AI VIET NAM\"\n",
    "mystr.zfill(40) "
   ]
  },
  {
   "cell_type": "code",
   "execution_count": 68,
   "metadata": {},
   "outputs": [
    {
     "data": {
      "text/plain": [
       "'Đây là bài học của AI VIET NAM'"
      ]
     },
     "execution_count": 68,
     "metadata": {},
     "output_type": "execute_result"
    }
   ],
   "source": [
    "# Loại bỏ khoảng trắng ở cả hai đầu của chuỗi\n",
    "mystr = \"  Đây là bài học của AI VIET NAM  \"\n",
    "mystr.strip()"
   ]
  },
  {
   "cell_type": "code",
   "execution_count": 67,
   "metadata": {},
   "outputs": [
    {
     "data": {
      "text/plain": [
       "'  Đây là bài học của AI VIET NAM'"
      ]
     },
     "execution_count": 67,
     "metadata": {},
     "output_type": "execute_result"
    }
   ],
   "source": [
    "# Loại bỏ khoảng trắng ở đầu bên phải của chuỗi\n",
    "mystr = \"  Đây là bài học của AI VIET NAM  \"\n",
    "mystr.rstrip()"
   ]
  },
  {
   "cell_type": "code",
   "execution_count": 66,
   "metadata": {},
   "outputs": [
    {
     "data": {
      "text/plain": [
       "'Đây là bài học của AI VIET NAM  '"
      ]
     },
     "execution_count": 66,
     "metadata": {},
     "output_type": "execute_result"
    }
   ],
   "source": [
    "# Loại bỏ khoảng trắng ở đầu bên trái của chuỗi\n",
    "mystr = \"  Đây là bài học của AI VIET NAM  \"\n",
    "mystr.lstrip()"
   ]
  },
  {
   "cell_type": "markdown",
   "metadata": {},
   "source": [
    "Bạn có thể xóa kí tự đặt biệt bằng translate() hoặc thay thế từ bằng replace()\n"
   ]
  },
  {
   "cell_type": "code",
   "execution_count": 61,
   "metadata": {},
   "outputs": [
    {
     "data": {
      "text/plain": [
       "'Đây là bài học của AIVIETNAM'"
      ]
     },
     "execution_count": 61,
     "metadata": {},
     "output_type": "execute_result"
    }
   ],
   "source": [
    "# Thay thế chuỗi\n",
    "mystr = \"Đây là bài học của AI VIET NAM\"\n",
    "mystr.replace('AI VIET NAM', 'AIVIETNAM')"
   ]
  },
  {
   "cell_type": "markdown",
   "metadata": {},
   "source": [
    "Bạn có thể dùng phương thức partition() để tách chuỗi"
   ]
  },
  {
   "cell_type": "code",
   "execution_count": 83,
   "metadata": {},
   "outputs": [
    {
     "data": {
      "text/plain": [
       "('Đây là bài học ', 'của', ' AI VIET NAM')"
      ]
     },
     "execution_count": 83,
     "metadata": {},
     "output_type": "execute_result"
    }
   ],
   "source": [
    "# Tách chuỗi\n",
    "mystr = \"Đây là bài học của AI VIET NAM\"\n",
    "mystr.partition('của')"
   ]
  },
  {
   "cell_type": "markdown",
   "metadata": {},
   "source": [
    "### Phương thức để tìm vị trí của string"
   ]
  },
  {
   "cell_type": "markdown",
   "metadata": {},
   "source": [
    "Một số phương thức như endswith(), startswith(), find() và index(), những phương thức\n",
    "này giúp tìm kiếm cho những chuỗi con trong string"
   ]
  },
  {
   "cell_type": "code",
   "execution_count": 84,
   "metadata": {},
   "outputs": [
    {
     "name": "stdout",
     "output_type": "stream",
     "text": [
      "True\n",
      "False\n"
     ]
    }
   ],
   "source": [
    "# Kiểm tra phần kết thúc của một string\n",
    "mystr = \"Đây là bài học của AI VIET NAM\"\n",
    "print(mystr.endswith('VIET NAM'))\n",
    "print(mystr.endswith('bài học'))"
   ]
  },
  {
   "cell_type": "code",
   "execution_count": 87,
   "metadata": {},
   "outputs": [
    {
     "name": "stdout",
     "output_type": "stream",
     "text": [
      "True\n",
      "False\n"
     ]
    }
   ],
   "source": [
    "# Kiểm tra phần đầu của một string\n",
    "mystr = \"Đây là bài học của AI VIET NAM\"\n",
    "print(mystr.startswith('Đây'))\n",
    "print(mystr.startswith('AI'))"
   ]
  },
  {
   "cell_type": "code",
   "execution_count": 85,
   "metadata": {},
   "outputs": [
    {
     "name": "stdout",
     "output_type": "stream",
     "text": [
      "11\n",
      "-1\n"
     ]
    }
   ],
   "source": [
    "# Tìm vị trí của một string trong một string khác\n",
    "# trả về -1 nếu không tìm thấy\n",
    "mystr = \"Đây là bài học của AI VIET NAM\"\n",
    "print(mystr.find('học'))\n",
    "print(mystr.find('hello'))"
   ]
  },
  {
   "cell_type": "code",
   "execution_count": 89,
   "metadata": {},
   "outputs": [
    {
     "name": "stdout",
     "output_type": "stream",
     "text": [
      "11\n"
     ]
    },
    {
     "ename": "ValueError",
     "evalue": "substring not found",
     "output_type": "error",
     "traceback": [
      "\u001b[0;31m---------------------------------------------------------------------------\u001b[0m",
      "\u001b[0;31mValueError\u001b[0m                                Traceback (most recent call last)",
      "\u001b[0;32m<ipython-input-89-5077ce643cbd>\u001b[0m in \u001b[0;36m<module>\u001b[0;34m\u001b[0m\n\u001b[1;32m      3\u001b[0m \u001b[0mmystr\u001b[0m \u001b[0;34m=\u001b[0m \u001b[0;34m\"Đây là bài học của AI VIET NAM\"\u001b[0m\u001b[0;34m\u001b[0m\u001b[0;34m\u001b[0m\u001b[0m\n\u001b[1;32m      4\u001b[0m \u001b[0mprint\u001b[0m\u001b[0;34m(\u001b[0m\u001b[0mmystr\u001b[0m\u001b[0;34m.\u001b[0m\u001b[0mindex\u001b[0m\u001b[0;34m(\u001b[0m\u001b[0;34m'học'\u001b[0m\u001b[0;34m)\u001b[0m\u001b[0;34m)\u001b[0m\u001b[0;34m\u001b[0m\u001b[0;34m\u001b[0m\u001b[0m\n\u001b[0;32m----> 5\u001b[0;31m \u001b[0mprint\u001b[0m\u001b[0;34m(\u001b[0m\u001b[0mmystr\u001b[0m\u001b[0;34m.\u001b[0m\u001b[0mindex\u001b[0m\u001b[0;34m(\u001b[0m\u001b[0;34m'hello'\u001b[0m\u001b[0;34m)\u001b[0m\u001b[0;34m)\u001b[0m\u001b[0;34m\u001b[0m\u001b[0;34m\u001b[0m\u001b[0m\n\u001b[0m",
      "\u001b[0;31mValueError\u001b[0m: substring not found"
     ]
    }
   ],
   "source": [
    "# Tìm vị trí của một string trong một string khác\n",
    "# trả về ValueError nếu không tìm thấy\n",
    "mystr = \"Đây là bài học của AI VIET NAM\"\n",
    "print(mystr.index('học'))\n",
    "print(mystr.index('hello'))"
   ]
  },
  {
   "cell_type": "code",
   "execution_count": null,
   "metadata": {},
   "outputs": [],
   "source": []
  },
  {
   "cell_type": "code",
   "execution_count": 23,
   "metadata": {},
   "outputs": [
    {
     "name": "stdout",
     "output_type": "stream",
     "text": [
      "\n",
      " Starbucks has the best coffee \n",
      "\n"
     ]
    }
   ],
   "source": [
    "str1 = \"\\n Starbucks has the best coffee \\n\"\n",
    "print(str1)"
   ]
  },
  {
   "cell_type": "code",
   "execution_count": 24,
   "metadata": {},
   "outputs": [
    {
     "name": "stdout",
     "output_type": "stream",
     "text": [
      "Starbucks has the best coffee\n"
     ]
    }
   ],
   "source": [
    "newstr = str1.strip()\n",
    "print(newstr)"
   ]
  },
  {
   "cell_type": "code",
   "execution_count": null,
   "metadata": {},
   "outputs": [],
   "source": []
  },
  {
   "cell_type": "code",
   "execution_count": 1,
   "metadata": {},
   "outputs": [
    {
     "name": "stdout",
     "output_type": "stream",
     "text": [
      "\n",
      "        <student>\n",
      "            <name>John</name>\n",
      "            <age>26</age>\n",
      "        </student>\n",
      "        \n"
     ]
    }
   ],
   "source": [
    "data = '''\n",
    "        <student>\n",
    "            <name>John</name>\n",
    "            <age>26</age>\n",
    "        </student>\n",
    "        '''\n",
    "print(data)"
   ]
  },
  {
   "cell_type": "code",
   "execution_count": 2,
   "metadata": {},
   "outputs": [
    {
     "name": "stdout",
     "output_type": "stream",
     "text": [
      "<student><name>John</name><age>26</age></student>\n"
     ]
    }
   ],
   "source": [
    "newstr = data.replace(\"\\n\", \"\").replace(\" \", \"\")\n",
    "print(newstr)"
   ]
  },
  {
   "cell_type": "code",
   "execution_count": 10,
   "metadata": {},
   "outputs": [
    {
     "name": "stdout",
     "output_type": "stream",
     "text": [
      "0\n",
      "39\n",
      "<name>John</name><age>26</age>\n"
     ]
    }
   ],
   "source": [
    "student_tag = 'student'\n",
    "student_tag_begin = newstr.find('<' + student_tag + '>')\n",
    "student_tag_end   = newstr.find('</' + student_tag + '>')\n",
    "\n",
    "print(student_tag_begin)\n",
    "print(student_tag_end)\n",
    "\n",
    "student_data = newstr[student_tag_begin+len(student_tag)+2:student_tag_end]\n",
    "print(student_data)"
   ]
  },
  {
   "cell_type": "code",
   "execution_count": 9,
   "metadata": {},
   "outputs": [
    {
     "name": "stdout",
     "output_type": "stream",
     "text": [
      "<name>John</name><age>26</age>\n"
     ]
    }
   ],
   "source": []
  },
  {
   "cell_type": "code",
   "execution_count": 6,
   "metadata": {},
   "outputs": [
    {
     "name": "stdout",
     "output_type": "stream",
     "text": [
      "7\n"
     ]
    }
   ],
   "source": [
    "print(len(student_tag))"
   ]
  },
  {
   "cell_type": "code",
   "execution_count": null,
   "metadata": {},
   "outputs": [],
   "source": []
  },
  {
   "cell_type": "code",
   "execution_count": 26,
   "metadata": {},
   "outputs": [
    {
     "name": "stdout",
     "output_type": "stream",
     "text": [
      "<student>\n",
      "    <name>John</name>\n",
      "    <age>26</age>\n",
      "</student>\n"
     ]
    }
   ],
   "source": [
    "newstr = data.strip()\n",
    "print(newstr)"
   ]
  },
  {
   "cell_type": "code",
   "execution_count": 29,
   "metadata": {},
   "outputs": [
    {
     "name": "stdout",
     "output_type": "stream",
     "text": [
      "0\n",
      "50\n",
      "<name>John</name>\n",
      "    <age>26</age>\n"
     ]
    }
   ],
   "source": [
    "stag_b = newstr.find(\"<student>\")\n",
    "stag_e = newstr.find(\"</student>\")\n",
    "print(stag_b)\n",
    "print(stag_e)\n",
    "\n",
    "student_data = newstr[9:50].strip()\n",
    "print(student_data)"
   ]
  },
  {
   "cell_type": "code",
   "execution_count": null,
   "metadata": {},
   "outputs": [],
   "source": []
  },
  {
   "cell_type": "code",
   "execution_count": 10,
   "metadata": {},
   "outputs": [
    {
     "name": "stdout",
     "output_type": "stream",
     "text": [
      "<student><name>John</name><age>26</age></student>\n"
     ]
    }
   ],
   "source": [
    "'''\n",
    "<student>\n",
    "    <name>John</name>\n",
    "    <age>26</age>\n",
    "</student>\n",
    "'''\n",
    "\n",
    "data = '''<student><name>John</name><age>26</age></student>'''\n",
    "print(data)"
   ]
  },
  {
   "cell_type": "code",
   "execution_count": 13,
   "metadata": {},
   "outputs": [
    {
     "name": "stdout",
     "output_type": "stream",
     "text": [
      "0\n",
      "39\n"
     ]
    }
   ],
   "source": [
    "stag_b = data.find(\"<student>\")\n",
    "stag_e = data.find(\"</student>\")\n",
    "print(stag_b)\n",
    "print(stag_e)\n",
    "\n",
    "student_data = data[9:39]\n",
    "print(student_data)"
   ]
  },
  {
   "cell_type": "code",
   "execution_count": 16,
   "metadata": {},
   "outputs": [
    {
     "name": "stdout",
     "output_type": "stream",
     "text": [
      "9\n",
      "19\n",
      "John\n"
     ]
    }
   ],
   "source": [
    "name_b = data.find(\"<name>\")\n",
    "name_e = data.find(\"</name>\")\n",
    "print(name_b)\n",
    "print(name_e)\n",
    "\n",
    "name_e_data = data[name_b+6:name_e]\n",
    "print(name_e_data)"
   ]
  },
  {
   "cell_type": "code",
   "execution_count": null,
   "metadata": {},
   "outputs": [],
   "source": []
  },
  {
   "cell_type": "code",
   "execution_count": 12,
   "metadata": {},
   "outputs": [
    {
     "name": "stdout",
     "output_type": "stream",
     "text": [
      "\n",
      "        {\n",
      "          name:John,\n",
      "          age:26\n",
      "        }\n",
      "       \n"
     ]
    }
   ],
   "source": [
    "data = '''\n",
    "        {\n",
    "          name:John,\n",
    "          age:26\n",
    "        }\n",
    "       '''\n",
    "print(data)"
   ]
  },
  {
   "cell_type": "code",
   "execution_count": 13,
   "metadata": {},
   "outputs": [
    {
     "name": "stdout",
     "output_type": "stream",
     "text": [
      "{name:John,age:26}\n"
     ]
    }
   ],
   "source": [
    "newstr = data.replace(\"\\n\", \"\").replace(\" \", \"\")\n",
    "print(newstr)"
   ]
  },
  {
   "cell_type": "code",
   "execution_count": null,
   "metadata": {},
   "outputs": [],
   "source": []
  },
  {
   "cell_type": "code",
   "execution_count": 21,
   "metadata": {},
   "outputs": [
    {
     "name": "stdout",
     "output_type": "stream",
     "text": [
      "1\n",
      "11\n"
     ]
    }
   ],
   "source": [
    "name_p = data.find(\"name:\")\n",
    "age_p = data.find(\"age:\")\n",
    "print(name_p)\n",
    "print(age_p)"
   ]
  },
  {
   "cell_type": "code",
   "execution_count": 22,
   "metadata": {},
   "outputs": [
    {
     "name": "stdout",
     "output_type": "stream",
     "text": [
      "John\n"
     ]
    }
   ],
   "source": [
    "name_data = data[name_p+5:age_p]\n",
    "print(name_e_data)"
   ]
  },
  {
   "cell_type": "code",
   "execution_count": null,
   "metadata": {},
   "outputs": [],
   "source": []
  },
  {
   "cell_type": "code",
   "execution_count": 35,
   "metadata": {},
   "outputs": [
    {
     "name": "stdout",
     "output_type": "stream",
     "text": [
      "65\n",
      "A\n"
     ]
    }
   ],
   "source": [
    "i = 65\n",
    "print(i)\n",
    "\n",
    "c = chr(i)\n",
    "print(c)"
   ]
  },
  {
   "cell_type": "code",
   "execution_count": null,
   "metadata": {},
   "outputs": [],
   "source": []
  }
 ],
 "metadata": {
  "kernelspec": {
   "display_name": "Python 3 (ipykernel)",
   "language": "python",
   "name": "python3"
  },
  "language_info": {
   "codemirror_mode": {
    "name": "ipython",
    "version": 3
   },
   "file_extension": ".py",
   "mimetype": "text/x-python",
   "name": "python",
   "nbconvert_exporter": "python",
   "pygments_lexer": "ipython3",
   "version": "3.9.13"
  }
 },
 "nbformat": 4,
 "nbformat_minor": 2
}
