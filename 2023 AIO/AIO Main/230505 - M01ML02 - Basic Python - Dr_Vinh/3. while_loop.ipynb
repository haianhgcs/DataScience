{
 "cells": [
  {
   "cell_type": "code",
   "execution_count": 1,
   "metadata": {},
   "outputs": [
    {
     "name": "stdout",
     "output_type": "stream",
     "text": [
      "Giá trị của i hiện tại là 0\n",
      "Giá trị của i hiện tại là 1\n",
      "Giá trị của i hiện tại là 2\n",
      "Giá trị của i hiện tại là 3\n",
      "Giá trị của i hiện tại là 4\n",
      "Giá trị của i hiện tại là 5\n",
      "Giá trị của i hiện tại là 6\n",
      "Giá trị của i hiện tại là 7\n",
      "Giá trị của i hiện tại là 8\n",
      "Giá trị của i hiện tại là 9\n"
     ]
    }
   ],
   "source": [
    "# tạo 2 biến n và i\n",
    "n = 10\n",
    "i = 0\n",
    "\n",
    "while i<n:\n",
    "    print('Giá trị của i hiện tại là', i)\n",
    "    i = i + 1"
   ]
  },
  {
   "cell_type": "code",
   "execution_count": 2,
   "metadata": {},
   "outputs": [
    {
     "name": "stdout",
     "output_type": "stream",
     "text": [
      "Làm gì đó ...\n",
      "Làm gì đó ...\n",
      "Làm gì đó ...\n",
      "Làm gì đó ...\n",
      "Làm gì đó ...\n",
      "Phần code này khi đã thoát while\n"
     ]
    }
   ],
   "source": [
    "# tạo biến i\n",
    "i = 0\n",
    "\n",
    "# bắt đầu vòng lặp while\n",
    "while i<5:\n",
    "    print('Làm gì đó ...')\n",
    "    i = i + 1\n",
    "print('Phần code này khi đã thoát while')"
   ]
  },
  {
   "cell_type": "code",
   "execution_count": null,
   "metadata": {},
   "outputs": [],
   "source": []
  },
  {
   "cell_type": "code",
   "execution_count": 2,
   "metadata": {},
   "outputs": [
    {
     "ename": "SyntaxError",
     "evalue": "unexpected EOF while parsing (<ipython-input-2-92691dee7f3a>, line 6)",
     "output_type": "error",
     "traceback": [
      "\u001b[1;36m  File \u001b[1;32m\"<ipython-input-2-92691dee7f3a>\"\u001b[1;36m, line \u001b[1;32m6\u001b[0m\n\u001b[1;33m    # Khối code ngoài (sau) while\u001b[0m\n\u001b[1;37m                                 ^\u001b[0m\n\u001b[1;31mSyntaxError\u001b[0m\u001b[1;31m:\u001b[0m unexpected EOF while parsing\n"
     ]
    }
   ],
   "source": [
    "# code trước while\n",
    "\n",
    "while condition:\n",
    "    # khối code trong while\n",
    "    \n",
    "# code sau while"
   ]
  },
  {
   "cell_type": "code",
   "execution_count": null,
   "metadata": {},
   "outputs": [],
   "source": []
  },
  {
   "cell_type": "code",
   "execution_count": 2,
   "metadata": {},
   "outputs": [
    {
     "name": "stdout",
     "output_type": "stream",
     "text": [
      "0\n",
      "1\n",
      "2\n",
      "3\n",
      "4\n",
      "Phần code này khi đã thoát while\n"
     ]
    }
   ],
   "source": [
    "# tạo biến i\n",
    "i = 0\n",
    "\n",
    "# bắt đầu vòng lặp while\n",
    "while i<5:\n",
    "    # code inside while\n",
    "    print(i)\n",
    "    i = i + 1\n",
    "    \n",
    "print('Phần code này khi đã thoát while')"
   ]
  },
  {
   "cell_type": "code",
   "execution_count": null,
   "metadata": {},
   "outputs": [],
   "source": []
  },
  {
   "cell_type": "code",
   "execution_count": null,
   "metadata": {},
   "outputs": [],
   "source": []
  },
  {
   "cell_type": "code",
   "execution_count": 3,
   "metadata": {},
   "outputs": [
    {
     "ename": "SyntaxError",
     "evalue": "unexpected EOF while parsing (<ipython-input-3-ee79a1e8bb3f>, line 2)",
     "output_type": "error",
     "traceback": [
      "\u001b[1;36m  File \u001b[1;32m\"<ipython-input-3-ee79a1e8bb3f>\"\u001b[1;36m, line \u001b[1;32m2\u001b[0m\n\u001b[1;33m    # phần code cho for\u001b[0m\n\u001b[1;37m                       ^\u001b[0m\n\u001b[1;31mSyntaxError\u001b[0m\u001b[1;31m:\u001b[0m unexpected EOF while parsing\n"
     ]
    }
   ],
   "source": [
    "for phần_tử in iterable:\n",
    "    # khối code trong for"
   ]
  },
  {
   "cell_type": "code",
   "execution_count": null,
   "metadata": {},
   "outputs": [],
   "source": []
  },
  {
   "cell_type": "code",
   "execution_count": 22,
   "metadata": {},
   "outputs": [
    {
     "name": "stdout",
     "output_type": "stream",
     "text": [
      "Số sinh ra có giá trị là 4\n",
      "Số sinh ra có giá trị là 3\n",
      "Số sinh ra có giá trị là 8\n",
      "Số sinh ra có giá trị là 1\n",
      "Số sinh ra có giá trị là 0\n",
      "Số sinh ra có giá trị là 5\n",
      "Đã thoát khỏi while\n"
     ]
    }
   ],
   "source": [
    "import random\n",
    "\n",
    "# cho vòng lặp chạy vô tận\n",
    "while True:\n",
    "    # sinh số ngẫu nhiêu\n",
    "    num = random.randint(0,10)\n",
    "    print('Số sinh ra có giá trị là', num)\n",
    "    \n",
    "    # kiểm tra num có bằng 5 hay không?\n",
    "    if num == 5:\n",
    "        # nếu có thì thoát khỏi while\n",
    "        break;\n",
    "print('Đã thoát khỏi while')"
   ]
  },
  {
   "cell_type": "code",
   "execution_count": null,
   "metadata": {},
   "outputs": [],
   "source": []
  }
 ],
 "metadata": {
  "kernelspec": {
   "display_name": "Python 3 (ipykernel)",
   "language": "python",
   "name": "python3"
  },
  "language_info": {
   "codemirror_mode": {
    "name": "ipython",
    "version": 3
   },
   "file_extension": ".py",
   "mimetype": "text/x-python",
   "name": "python",
   "nbconvert_exporter": "python",
   "pygments_lexer": "ipython3",
   "version": "3.9.13"
  }
 },
 "nbformat": 4,
 "nbformat_minor": 2
}
