{
 "cells": [
  {
   "cell_type": "markdown",
   "id": "89ec59eb",
   "metadata": {},
   "source": [
    "# Python print() function\n",
    "* Giới thiệu hàm prrint() cơ bản"
   ]
  },
  {
   "cell_type": "code",
   "execution_count": 2,
   "id": "bd049f4a",
   "metadata": {},
   "outputs": [],
   "source": [
    "?print"
   ]
  },
  {
   "cell_type": "markdown",
   "id": "cbe76d2c",
   "metadata": {},
   "source": [
    "Docstring:\n",
    "\n",
    "`print(value, ..., sep=' ', end='\\n', file=sys.stdout, flush=False)`\n",
    "\n",
    "Prints the values to a stream, or to `sys.stdout` by default.\n",
    "\n",
    "Optional keyword arguments:\n",
    "* file:  a file-like object (stream); defaults to the current `sys.stdout`.\n",
    "* sep:   string inserted between values, default a space.\n",
    "* end:   string appended after the last value, default a newline.\n",
    "* flush: whether to forcibly flush the stream.\n",
    "* Type:      builtin_function_or_method"
   ]
  },
  {
   "cell_type": "markdown",
   "id": "a56c154b",
   "metadata": {},
   "source": [
    "# Exercise1: Viết function tìm thể tích\n",
    "* Hình lập phương\n",
    "* Hình hộp chữ nhật\n",
    "* Hình trụ tròn\n",
    "* Hình cầu\n",
    "\n",
    "Viết 4 functions thực hiện tính thể tích của các khối sau:\n",
    "* Hình lập phương $𝑽 = 𝒔^𝟑$ (s là độ dài của cạnh)\n",
    "    + input function: s\n",
    "    + output function: V\n",
    "\n",
    "* Hình hộp chữ nhật $𝑽 = 𝒍 ∗ 𝒘 ∗ 𝒉$ (l là chiều dài, w là chiều rộng, h: là chiều cao)\n",
    "    + input function: l, w, h\n",
    "    + output function: V\n",
    "* Hình trụ tròn: $𝑽 = \\pi ∗ 𝒓^𝟐 ∗ 𝒉$ (r là bán kính đáy, h là chiều cao)\n",
    "    + input function: r, h\n",
    "    + output function: V\n",
    "* Hình cầu: $𝑽 = \\displaystyle\\frac{𝟒}{𝟑} ∗ \\pi ∗ 𝒓^𝟑$ (r bán kính hình cầu)\n",
    "    + input function: r\n",
    "    + output function: V\n",
    "\n",
    "NOTE: Tùy thuộc vào giá trị 𝜋 các bạn định nghĩa mà kết quả có thể sai lệch. Ví dụ tự định nghĩa `𝜋 = 3.14` hoặc dùng math.pi `𝜋 = 3.141592653589793`"
   ]
  },
  {
   "cell_type": "code",
   "execution_count": 63,
   "id": "bdecc82a",
   "metadata": {},
   "outputs": [],
   "source": [
    "import math\n",
    "\n",
    "def calc_cube_volume(s):\n",
    "    return s ** 3\n",
    "\n",
    "def calc_rectangular_prism_volumn(l,w,h):\n",
    "    return l * w * h\n",
    "\n",
    "def calc_cylinder_volume(r,h):\n",
    "    PI = 3.14 # math.pi\n",
    "    return PI * r**2 * h\n",
    "\n",
    "def calc_globular_volume(r):\n",
    "    PI = 3.14 # math.pi\n",
    "    return (4 / 3) * PI * r**3"
   ]
  },
  {
   "cell_type": "code",
   "execution_count": 59,
   "id": "9aefe1b3",
   "metadata": {},
   "outputs": [
    {
     "data": {
      "text/plain": [
       "27"
      ]
     },
     "execution_count": 59,
     "metadata": {},
     "output_type": "execute_result"
    }
   ],
   "source": [
    "assert calc_cube_volume(s=2)==8\n",
    "calc_cube_volume(3)"
   ]
  },
  {
   "cell_type": "code",
   "execution_count": 61,
   "id": "08bdfe9e",
   "metadata": {},
   "outputs": [
    {
     "data": {
      "text/plain": [
       "6"
      ]
     },
     "execution_count": 61,
     "metadata": {},
     "output_type": "execute_result"
    }
   ],
   "source": [
    "assert calc_rectangular_prism_volumn(2,2,3) == 12\n",
    "calc_rectangular_prism_volumn(1,2,3)"
   ]
  },
  {
   "cell_type": "code",
   "execution_count": 66,
   "id": "6f73d14c",
   "metadata": {},
   "outputs": [
    {
     "name": "stdout",
     "output_type": "stream",
     "text": [
      "18.09\n"
     ]
    }
   ],
   "source": [
    "assert calc_cylinder_volume(1.5,4) == 28.26\n",
    "print(round(calc_cylinder_volume(1.2, 4),2))"
   ]
  },
  {
   "cell_type": "code",
   "execution_count": 68,
   "id": "6130d0b7",
   "metadata": {},
   "outputs": [
    {
     "name": "stdout",
     "output_type": "stream",
     "text": [
      "9.2\n"
     ]
    }
   ],
   "source": [
    "assert round(calc_globular_volume(1),2) == 4.19\n",
    "print(round(calc_globular_volume(1.3),2))"
   ]
  },
  {
   "cell_type": "markdown",
   "id": "01afdf5e",
   "metadata": {},
   "source": [
    "# Exercise2: Viết function đánh giá classification model bằng f1-score\n",
    "![w01_exersise2](../../../../images/2023AIO/w01_exersise2.PNG)"
   ]
  },
  {
   "cell_type": "code",
   "execution_count": 76,
   "id": "70990d71",
   "metadata": {},
   "outputs": [],
   "source": [
    "def calc_f1_score(tp, fp, fn):\n",
    "    if type(tp) is not int:\n",
    "        print(\"tp must be int\")\n",
    "        return\n",
    "    if type(fp) is not int:\n",
    "        print(\"fp must be int\")\n",
    "        return\n",
    "    if type(fn) is not int:\n",
    "        print(\"fn must be int\")\n",
    "        return\n",
    "        \n",
    "    if tp <= 0 or fp <= 0 or fn <= 0:\n",
    "        print(\"tp and fp and fn must be greater than zero\")\n",
    "        return\n",
    "    precision = tp / (tp + fp)\n",
    "    recall = tp / (tp + fn)\n",
    "    f1_score = 2 * precision * recall / (precision + recall)\n",
    "    \n",
    "    print(f\"precision is {precision}\")\n",
    "    print(f\"recall is {recall}\")\n",
    "    print(f\"f1-score is {f1_score}\")\n",
    "    \n",
    "    return f1_score"
   ]
  },
  {
   "cell_type": "code",
   "execution_count": 11,
   "id": "47de4163",
   "metadata": {},
   "outputs": [
    {
     "name": "stdout",
     "output_type": "stream",
     "text": [
      "precision is 0.4\n",
      "recall is 0.3333333333333333\n",
      "f1-score is 0.3636363636363636\n"
     ]
    },
    {
     "data": {
      "text/plain": [
       "(0.4, 0.3333333333333333, 0.3636363636363636)"
      ]
     },
     "execution_count": 11,
     "metadata": {},
     "output_type": "execute_result"
    }
   ],
   "source": [
    "calc_f1_score(2,3,4)"
   ]
  },
  {
   "cell_type": "code",
   "execution_count": 12,
   "id": "962d8f80",
   "metadata": {},
   "outputs": [
    {
     "name": "stdout",
     "output_type": "stream",
     "text": [
      "tp must be int\n"
     ]
    }
   ],
   "source": [
    "calc_f1_score('a',3,4)"
   ]
  },
  {
   "cell_type": "code",
   "execution_count": 13,
   "id": "5bac1724",
   "metadata": {},
   "outputs": [
    {
     "name": "stdout",
     "output_type": "stream",
     "text": [
      "fp must be int\n"
     ]
    }
   ],
   "source": [
    "calc_f1_score(2,'a',4)"
   ]
  },
  {
   "cell_type": "code",
   "execution_count": 14,
   "id": "2ae28ff3",
   "metadata": {},
   "outputs": [
    {
     "name": "stdout",
     "output_type": "stream",
     "text": [
      "fn must be int\n"
     ]
    }
   ],
   "source": [
    "calc_f1_score(2,3,'a')"
   ]
  },
  {
   "cell_type": "code",
   "execution_count": 15,
   "id": "33738ae7",
   "metadata": {},
   "outputs": [
    {
     "name": "stdout",
     "output_type": "stream",
     "text": [
      "tp and fp and fn must be greater than zero\n"
     ]
    }
   ],
   "source": [
    "calc_f1_score(2,3,0)"
   ]
  },
  {
   "cell_type": "code",
   "execution_count": 16,
   "id": "d218673e",
   "metadata": {},
   "outputs": [
    {
     "name": "stdout",
     "output_type": "stream",
     "text": [
      "tp must be int\n"
     ]
    }
   ],
   "source": [
    "calc_f1_score(2.1,3,4)"
   ]
  },
  {
   "cell_type": "code",
   "execution_count": 77,
   "id": "75e523e2",
   "metadata": {
    "scrolled": true
   },
   "outputs": [
    {
     "name": "stdout",
     "output_type": "stream",
     "text": [
      "precision is 0.4\n",
      "recall is 0.2857142857142857\n",
      "f1-score is 0.3333333333333333\n",
      "precision is 0.3333333333333333\n",
      "recall is 0.2857142857142857\n",
      "f1-score is 0.30769230769230765\n",
      "0.31\n"
     ]
    }
   ],
   "source": [
    "assert round(calc_f1_score(2,3,5),2) == 0.33\n",
    "print(round(calc_f1_score(2,4,5),2))"
   ]
  },
  {
   "cell_type": "markdown",
   "id": "15fb667b",
   "metadata": {},
   "source": [
    "# Exercise3: Viết function tính kết quả theo các activtion function\n",
    "* Binary Step Function\n",
    "* Sigmoid Function\n",
    "* Elu Function\n",
    "\n",
    "![w01_exersise3](../../../../images/2023AIO/w01_exersise3.PNG)"
   ]
  },
  {
   "cell_type": "code",
   "execution_count": 78,
   "id": "49480aff",
   "metadata": {},
   "outputs": [
    {
     "name": "stdout",
     "output_type": "stream",
     "text": [
      "True\n",
      "False\n"
     ]
    }
   ],
   "source": [
    "def is_number(x):\n",
    "    try:\n",
    "        float(x)\n",
    "    except ValueError:\n",
    "        return False\n",
    "    return True\n",
    "\n",
    "assert is_number(3) == 1.0\n",
    "assert is_number('-2a') == 0.0\n",
    "print(is_number(1))\n",
    "print(is_number('n'))"
   ]
  },
  {
   "cell_type": "code",
   "execution_count": 86,
   "id": "1cb438a9",
   "metadata": {},
   "outputs": [],
   "source": [
    "def is_number(x):\n",
    "    try:\n",
    "        float(x)\n",
    "    except ValueError:\n",
    "        return False\n",
    "    return True\n",
    "\n",
    "def calc_activation(x,act_name):  \n",
    "    #x = input(\"Input x = \")\n",
    "    if not is_number(x):\n",
    "        print(\"x must be a number\")\n",
    "        return\n",
    "    \n",
    "    #func = input(\"Input activation function (binary|sigmoid|elu): \").lower()\n",
    "    act_name = act_name.lower()\n",
    "    if (act_name != \"binary\") and (act_name != \"sigmoid\") and (act_name != \"elu\"):\n",
    "        print(f\"{act_name} is not supportted\")\n",
    "        return\n",
    "    \n",
    "    x = float(x)\n",
    "    if act_name == \"binary\":\n",
    "        if x < 0:\n",
    "            return 0\n",
    "        else:\n",
    "            return 1\n",
    "    elif act_name == \"sigmoid\":\n",
    "        return 1 / (1 + math.exp(-x))\n",
    "    elif act_name == \"elu\":\n",
    "        alpha = 0.01\n",
    "        if x < 0:\n",
    "            return alpha * (math.exp(x) - 1)\n",
    "        else:\n",
    "            return x\n",
    "    "
   ]
  },
  {
   "cell_type": "code",
   "execution_count": 36,
   "id": "84e5254f",
   "metadata": {},
   "outputs": [
    {
     "name": "stdout",
     "output_type": "stream",
     "text": [
      "Input x = 1.5\n",
      "Input activation function (binary|sigmoid|elu): binary\n"
     ]
    },
    {
     "data": {
      "text/plain": [
       "1"
      ]
     },
     "execution_count": 36,
     "metadata": {},
     "output_type": "execute_result"
    }
   ],
   "source": [
    "calc_activation()"
   ]
  },
  {
   "cell_type": "code",
   "execution_count": 37,
   "id": "b47859c6",
   "metadata": {},
   "outputs": [
    {
     "name": "stdout",
     "output_type": "stream",
     "text": [
      "Input x = 1.5\n",
      "Input activation function (binary|sigmoid|elu): sigmoid\n"
     ]
    },
    {
     "data": {
      "text/plain": [
       "0.8175744761936437"
      ]
     },
     "execution_count": 37,
     "metadata": {},
     "output_type": "execute_result"
    }
   ],
   "source": [
    "calc_activation()"
   ]
  },
  {
   "cell_type": "code",
   "execution_count": 38,
   "id": "004d0695",
   "metadata": {},
   "outputs": [
    {
     "name": "stdout",
     "output_type": "stream",
     "text": [
      "Input x = abc\n",
      "x must be a number\n"
     ]
    }
   ],
   "source": [
    "calc_activation()"
   ]
  },
  {
   "cell_type": "code",
   "execution_count": 39,
   "id": "dfbdde75",
   "metadata": {
    "scrolled": true
   },
   "outputs": [
    {
     "name": "stdout",
     "output_type": "stream",
     "text": [
      "Input x = 1.5\n",
      "Input activation function (binary|sigmoid|elu): relu\n",
      "relu is not supportted\n"
     ]
    }
   ],
   "source": [
    "calc_activation()"
   ]
  },
  {
   "cell_type": "code",
   "execution_count": 87,
   "id": "d517c654",
   "metadata": {},
   "outputs": [
    {
     "name": "stdout",
     "output_type": "stream",
     "text": [
      "1\n",
      "0\n"
     ]
    }
   ],
   "source": [
    "assert float(calc_activation(4, 'binary')) == 1.0\n",
    "assert float(calc_activation(-7, 'binary')) == 0.0\n",
    "print( calc_activation(2, 'binary'))\n",
    "print( calc_activation(-1, 'binary'))"
   ]
  },
  {
   "cell_type": "code",
   "execution_count": 83,
   "id": "68451191",
   "metadata": {},
   "outputs": [
    {
     "name": "stdout",
     "output_type": "stream",
     "text": [
      "0.88\n"
     ]
    }
   ],
   "source": [
    "assert round(calc_activation(3, 'sigmoid'),2) == 0.95\n",
    "print( round(calc_activation(2, 'sigmoid'),2))"
   ]
  },
  {
   "cell_type": "code",
   "execution_count": 84,
   "id": "2485154b",
   "metadata": {},
   "outputs": [
    {
     "name": "stdout",
     "output_type": "stream",
     "text": [
      "-0.01\n"
     ]
    }
   ],
   "source": [
    "assert round(calc_activation(1, 'elu')) == 1\n",
    "print( round(calc_activation(-1, 'elu'),2))"
   ]
  },
  {
   "cell_type": "code",
   "execution_count": 88,
   "id": "80fac02f",
   "metadata": {},
   "outputs": [
    {
     "name": "stdout",
     "output_type": "stream",
     "text": [
      "0.95\n"
     ]
    }
   ],
   "source": [
    "assert calc_activation(1, 'binary') == 1\n",
    "print( round(calc_activation(3, 'sigmoid'),2))"
   ]
  },
  {
   "cell_type": "markdown",
   "id": "c8d9793b",
   "metadata": {},
   "source": [
    "# Exercise4: Viết function tính loss theo regression loss function\n",
    "* Mean Absolute Error (MAE)\n",
    "* Mean Square Error (MSE)\n",
    "* Root Mean Square Error (RMSE)\n",
    "\n",
    "![w01_exersise4](../../../../images/2023AIO/w01_exersise4.PNG)"
   ]
  },
  {
   "cell_type": "code",
   "execution_count": 89,
   "id": "370f6cd2",
   "metadata": {},
   "outputs": [],
   "source": [
    "import random\n",
    "\n",
    "def calc_mae(y, y_hat):\n",
    "    return abs(y - y_hat)\n",
    "\n",
    "def calc_mse(y, y_hat):\n",
    "    return (y - y_hat) ** 2\n",
    "\n",
    "def calc_regression_loss():  \n",
    "    num_samples = input(\"Input number of samples (integer number) which are generated: \")\n",
    "    if not num_samples.isnumeric():\n",
    "        print(\"number of samples must be an integer number\")\n",
    "        return\n",
    "    \n",
    "    loss_name = input(\"Input loss name (MAE|MSE|RMSE): \").upper()\n",
    "    if (loss_name != \"MAE\") and (loss_name != \"MSE\") and (loss_name != \"RMSE\"):\n",
    "        print(f\"{func} is not supportted\")\n",
    "        return\n",
    "    \n",
    "    num_samples = int(num_samples)\n",
    "    final_loss = 0\n",
    "    for i in range (0, num_samples):\n",
    "        predict_i = random.uniform(0,10) #random.randint(0,10)\n",
    "        target_i = random.uniform(0,10)  #random.randint(0,10)\n",
    "        loss_i = 0\n",
    "        if loss_name == \"MAE\":\n",
    "            loss_i = calc_mae(predict_i, target_i)\n",
    "        elif loss_name == \"MSE\" or loss_name == \"RMSE\":\n",
    "            loss_i = calc_mse(predict_i, target_i)\n",
    "        final_loss += loss_i\n",
    "        \n",
    "        print(f\"loss name: {loss_name}, sample: {i}, pred: {predict_i}, target: {target_i}, loss: {loss_i}\")\n",
    "        \n",
    "    final_loss /= num_samples\n",
    "    if loss_name == \"RMSE\":\n",
    "        final_loss = math.sqrt(final_loss)\n",
    "    \n",
    "    print(f\"final RMSE: {final_loss}\")"
   ]
  },
  {
   "cell_type": "code",
   "execution_count": 90,
   "id": "cf58621c",
   "metadata": {},
   "outputs": [
    {
     "name": "stdout",
     "output_type": "stream",
     "text": [
      "7\n"
     ]
    }
   ],
   "source": [
    "y = 1\n",
    "y_hat = 6\n",
    "assert calc_mae(y, y_hat)==5\n",
    "\n",
    "y = 2\n",
    "y_hat = 9\n",
    "print(calc_mae(y, y_hat))"
   ]
  },
  {
   "cell_type": "code",
   "execution_count": 92,
   "id": "3084625e",
   "metadata": {},
   "outputs": [
    {
     "name": "stdout",
     "output_type": "stream",
     "text": [
      "1\n"
     ]
    }
   ],
   "source": [
    "y = 4\n",
    "y_hat = 2\n",
    "assert calc_mse(y, y_hat)==4\n",
    "print(calc_mse(2, 1))"
   ]
  },
  {
   "cell_type": "code",
   "execution_count": 45,
   "id": "5b1f56db",
   "metadata": {},
   "outputs": [
    {
     "name": "stdout",
     "output_type": "stream",
     "text": [
      "Input number of samples (integer number) which are generated: 5\n",
      "Input loss name (MAE|MSE|RMSE): RMSE\n",
      "loss name: RMSE, sample: 0, pred: 2.8449821963834134, target: 2.4451262490367442, loss: 0.15988477862850228\n",
      "loss name: RMSE, sample: 1, pred: 1.5076574668887988, target: 7.254973226675668, loss: 33.03163844269452\n",
      "loss name: RMSE, sample: 2, pred: 5.936577996361759, target: 1.9836211799304093, loss: 15.62586759257107\n",
      "loss name: RMSE, sample: 3, pred: 1.1824254362188136, target: 1.121640502434983, loss: 0.003694808175104677\n",
      "loss name: RMSE, sample: 4, pred: 9.353525484361642, target: 3.9589918517132103, loss: 29.100993113775083\n",
      "final RMSE: 3.9477101903722436\n"
     ]
    }
   ],
   "source": [
    "calc_regression_loss()"
   ]
  },
  {
   "cell_type": "markdown",
   "id": "6a7f03b2",
   "metadata": {},
   "source": [
    "# (Optional) Exercise5: Viết function thực hiện tính Pascal’s Triangle và Fibonacci Sequence\n",
    "![w01_exersise5](../../../../images/2023AIO/w01_exersise5.PNG)\n",
    "![w01_exersise52](../../../../images/2023AIO/w01_exersise52.PNG)\n",
    "![w01_exersise53](../../../../images/2023AIO/w01_exersise53.PNG)"
   ]
  },
  {
   "cell_type": "markdown",
   "id": "ea42b33c",
   "metadata": {},
   "source": [
    "## Pascal’s Triangle\n",
    "* Input: level là số lượng hàng\n",
    "* Output: Print ra kết quả từng hàng theo Pascal’s Triangle"
   ]
  },
  {
   "cell_type": "code",
   "execution_count": 55,
   "id": "b2ce4994",
   "metadata": {},
   "outputs": [],
   "source": [
    "import numpy as np\n",
    "\n",
    "def print_pascal_triangle(level=5):\n",
    "    arr_number = np.array([1])\n",
    "    for i in range(1,level+1):\n",
    "        print(arr_number, sep=' ')\n",
    "        arr_number_next_level = np.array([1])\n",
    "        \n",
    "        if i == 0:\n",
    "            continue\n",
    "        if i == 1:\n",
    "            arr_number = np.append(arr_number,[1])\n",
    "            continue\n",
    "            \n",
    "        for j in range(0, len(arr_number) - 1):\n",
    "            arr_number_next_level = np.append(arr_number_next_level, arr_number[j] + arr_number[j+1])\n",
    "            \n",
    "        arr_number_next_level = np.append(arr_number_next_level,[1])\n",
    "        \n",
    "        arr_number = arr_number_next_level"
   ]
  },
  {
   "cell_type": "code",
   "execution_count": 63,
   "id": "8def3da3",
   "metadata": {},
   "outputs": [
    {
     "name": "stdout",
     "output_type": "stream",
     "text": [
      "[1]\n",
      "[1 1]\n",
      "[1 2 1]\n",
      "[1 3 3 1]\n",
      "[1 4 6 4 1]\n",
      "[ 1  5 10 10  5  1]\n"
     ]
    }
   ],
   "source": [
    "print_pascal_triangle(6)"
   ]
  },
  {
   "cell_type": "markdown",
   "id": "5546aae6",
   "metadata": {},
   "source": [
    "## Fibonacci Sequence\n",
    "* Input: length là độ dài của chuỗi Fibonacci\n",
    "* Output: Print ra kết quả các element trong chuỗi Fibonacci\n",
    "* Các bạn nên tìm hiểu các công thức có thể thực hiện được Pascal’s Triangle và Fibonacci Sequence"
   ]
  },
  {
   "cell_type": "code",
   "execution_count": 78,
   "id": "da1ae542",
   "metadata": {},
   "outputs": [],
   "source": [
    "import numpy as np\n",
    "\n",
    "def print_fibonacci(length=5):\n",
    "    arr_number = np.array([0])\n",
    "    for i in range(0, length):\n",
    "        if i == 0:\n",
    "            continue\n",
    "        if i == 1:\n",
    "            arr_number = np.append(arr_number, [1])\n",
    "            continue\n",
    "            \n",
    "        arr_number = np.append(arr_number, arr_number[len(arr_number)-1] + arr_number[len(arr_number)-2])\n",
    "        \n",
    "    print(arr_number, sep=' ')"
   ]
  },
  {
   "cell_type": "code",
   "execution_count": 80,
   "id": "6ed054d7",
   "metadata": {},
   "outputs": [
    {
     "name": "stdout",
     "output_type": "stream",
     "text": [
      "[ 0  1  1  2  3  5  8 13 21]\n"
     ]
    }
   ],
   "source": [
    "print_fibonacci(9)"
   ]
  },
  {
   "cell_type": "markdown",
   "id": "222c48bb",
   "metadata": {},
   "source": [
    "# (Optional) Exerices6: Viết function xấp xỉ các hàm lượng giác\n",
    "![w01_exersise6](../../../../images/2023AIO/w01_exersise6.PNG)"
   ]
  },
  {
   "cell_type": "markdown",
   "id": "805e50e1",
   "metadata": {},
   "source": [
    "Viết 4 functions để ước lượng các hàm số sau.\n",
    "* Input: x (số muốn tính toán) và n (số lượng bậc muốn xấp xỉ)\n",
    "* Output: Kết quả ước lượng hàm tương ứng với x. Ví dụ hàm cos(x=0) thì output = 1\n",
    "\n",
    "NOTE:\n",
    "* x là radian\n",
    "* n là số nguyên dương ≥ 0\n",
    "* các bạn nên viết một hàm tính giai thừa riêng"
   ]
  },
  {
   "cell_type": "code",
   "execution_count": 103,
   "id": "b7bb2599",
   "metadata": {},
   "outputs": [],
   "source": [
    "def calc_giaithua(n):\n",
    "    result = 1\n",
    "    for i in range (1, n+1):\n",
    "        result *= i\n",
    "    #print(f\"{n}!={result}\")\n",
    "    return result\n",
    "\n",
    "def sin(x, n):\n",
    "    sin_result = 0\n",
    "    for i in range (0, n):\n",
    "        value_i = ((-1) ** i) * (x ** (2 * i + 1)) / calc_giaithua(2 * i + 1)\n",
    "        sin_result += value_i\n",
    "    \n",
    "    return sin_result\n",
    "\n",
    "def cos(x, n):\n",
    "    cos_result = 0\n",
    "    for i in range (0, n):\n",
    "        cos_result += ((-1) ** i) * (x ** (2 * i)) / calc_giaithua(2 * i)\n",
    "    \n",
    "    return cos_result\n",
    "\n",
    "def sinh(x, n):\n",
    "    sinh_result = 0\n",
    "    for i in range (0, n):\n",
    "        sinh_result += (x ** (2 * i + 1)) / calc_giaithua(2 * i + 1)\n",
    "    \n",
    "    return sinh_result\n",
    "\n",
    "def cosh(x, n):\n",
    "    cosh_result = 0\n",
    "    for i in range (0, n):\n",
    "        cosh_result += (x ** (2 * i)) / calc_giaithua(2 * i)\n",
    "    \n",
    "    return cosh_result"
   ]
  },
  {
   "cell_type": "code",
   "execution_count": 104,
   "id": "a643661c",
   "metadata": {},
   "outputs": [
    {
     "data": {
      "text/plain": [
       "0.001592652393160744"
      ]
     },
     "execution_count": 104,
     "metadata": {},
     "output_type": "execute_result"
    }
   ],
   "source": [
    "sin(3.14, 10)"
   ]
  },
  {
   "cell_type": "code",
   "execution_count": 105,
   "id": "5273de79",
   "metadata": {},
   "outputs": [
    {
     "name": "stdout",
     "output_type": "stream",
     "text": [
      "-1.0\n"
     ]
    }
   ],
   "source": [
    "assert round(cos(1, 10), 2) == 0.54\n",
    "print(round(cos(3.14, 10),2))"
   ]
  },
  {
   "cell_type": "code",
   "execution_count": 108,
   "id": "31404282",
   "metadata": {},
   "outputs": [
    {
     "name": "stdout",
     "output_type": "stream",
     "text": [
      "0.0016\n"
     ]
    }
   ],
   "source": [
    "assert round(sin(1, 10), 4) == 0.8415\n",
    "print(round(sin(3.14, 10),4))"
   ]
  },
  {
   "cell_type": "code",
   "execution_count": 110,
   "id": "33fa4032",
   "metadata": {},
   "outputs": [
    {
     "name": "stdout",
     "output_type": "stream",
     "text": [
      "11.53\n"
     ]
    }
   ],
   "source": [
    "assert round(sinh(1, 10), 2) == 1.18\n",
    "print(round(sinh(3.14, 10),2))"
   ]
  },
  {
   "cell_type": "code",
   "execution_count": 111,
   "id": "4a7c0302",
   "metadata": {},
   "outputs": [
    {
     "name": "stdout",
     "output_type": "stream",
     "text": [
      "11.57\n"
     ]
    }
   ],
   "source": [
    "assert round(cosh(1, 10), 2) == 1.54\n",
    "print(round(cosh(3.14, 10),2))"
   ]
  },
  {
   "cell_type": "code",
   "execution_count": 20,
   "id": "9e6836bb",
   "metadata": {},
   "outputs": [
    {
     "name": "stdout",
     "output_type": "stream",
     "text": [
      "0!=1\n",
      "2!=2\n",
      "4!=24\n",
      "6!=720\n",
      "8!=40320\n",
      "10!=3628800\n",
      "12!=479001600\n",
      "14!=87178291200\n",
      "16!=20922789888000\n",
      "18!=6402373705728000\n"
     ]
    },
    {
     "data": {
      "text/plain": [
       "-0.9999987352210833"
      ]
     },
     "execution_count": 20,
     "metadata": {},
     "output_type": "execute_result"
    }
   ],
   "source": [
    "cos(3.14,10)"
   ]
  },
  {
   "cell_type": "code",
   "execution_count": 23,
   "id": "64fac0d5",
   "metadata": {},
   "outputs": [
    {
     "name": "stdout",
     "output_type": "stream",
     "text": [
      "1!=1\n",
      "3!=6\n",
      "5!=120\n",
      "7!=5040\n",
      "9!=362880\n",
      "11!=39916800\n",
      "13!=6227020800\n",
      "15!=1307674368000\n",
      "17!=355687428096000\n",
      "19!=121645100408832000\n"
     ]
    },
    {
     "data": {
      "text/plain": [
       "11.530292029865986"
      ]
     },
     "execution_count": 23,
     "metadata": {},
     "output_type": "execute_result"
    }
   ],
   "source": [
    "sinh(3.14, 10)"
   ]
  },
  {
   "cell_type": "code",
   "execution_count": 24,
   "id": "881c7ba9",
   "metadata": {},
   "outputs": [
    {
     "name": "stdout",
     "output_type": "stream",
     "text": [
      "0!=1\n",
      "2!=2\n",
      "4!=24\n",
      "6!=720\n",
      "8!=40320\n",
      "10!=3628800\n",
      "12!=479001600\n",
      "14!=87178291200\n",
      "16!=20922789888000\n",
      "18!=6402373705728000\n"
     ]
    },
    {
     "data": {
      "text/plain": [
       "11.573574824666185"
      ]
     },
     "execution_count": 24,
     "metadata": {},
     "output_type": "execute_result"
    }
   ],
   "source": [
    "cosh(3.14, 10)"
   ]
  },
  {
   "cell_type": "markdown",
   "id": "e8d123bd",
   "metadata": {},
   "source": [
    "# (Optional) Exercise7: Viết function đảo ngược các vị trí 1 số nguyên dương cho trước\n",
    "![w01_exersise7](../../../../images/2023AIO/w01_exersise7.PNG)"
   ]
  },
  {
   "cell_type": "markdown",
   "id": "7db8ab0e",
   "metadata": {},
   "source": [
    "* Input: n là một dãy số nguyên dương.\n",
    "* Output: Đảo ngược vị trí các số trong n. Ví dụ input: 12345678910, output: 1987654321\n",
    "\n",
    "NOTE: Các bạn chú ý các điều kiện sau\n",
    "* Không được ép kiểu sang string\n",
    "* Chỉ sử dụng while hoặc for loop"
   ]
  },
  {
   "cell_type": "code",
   "execution_count": 112,
   "id": "1fee1d99",
   "metadata": {},
   "outputs": [],
   "source": [
    "def reverse_number(n):\n",
    "    arr = []\n",
    "    is_finish = False\n",
    "    while not is_finish:\n",
    "        number_du = n % 10 \n",
    "        number_nguyen = n // 10\n",
    "        arr.append(number_du)\n",
    "        if (number_nguyen == 0):\n",
    "            is_finish = True\n",
    "        n = number_nguyen\n",
    "    \n",
    "    rev_number = 0\n",
    "    for i in range(0, len(arr)):\n",
    "        rev_number = rev_number * 10 + arr[i]\n",
    "    return rev_number"
   ]
  },
  {
   "cell_type": "code",
   "execution_count": 114,
   "id": "f4ac2ac6",
   "metadata": {},
   "outputs": [
    {
     "name": "stdout",
     "output_type": "stream",
     "text": [
      "21\n",
      "987654321\n"
     ]
    }
   ],
   "source": [
    "assert reverse_number(1234)==4321\n",
    "assert reverse_number(34532)==23543\n",
    "print(reverse_number(12))\n",
    "print(reverse_number(123456789))"
   ]
  },
  {
   "cell_type": "code",
   "execution_count": 54,
   "id": "349ac209",
   "metadata": {},
   "outputs": [
    {
     "data": {
      "text/plain": [
       "1234567891"
      ]
     },
     "execution_count": 54,
     "metadata": {},
     "output_type": "execute_result"
    }
   ],
   "source": [
    "reverse_number(19876543210)"
   ]
  },
  {
   "cell_type": "code",
   "execution_count": 55,
   "id": "9b4a81f5",
   "metadata": {
    "scrolled": true
   },
   "outputs": [
    {
     "data": {
      "text/plain": [
       "987654321"
      ]
     },
     "execution_count": 55,
     "metadata": {},
     "output_type": "execute_result"
    }
   ],
   "source": [
    "reverse_number(123456789)"
   ]
  },
  {
   "cell_type": "code",
   "execution_count": 57,
   "id": "66194f5b",
   "metadata": {},
   "outputs": [
    {
     "name": "stdout",
     "output_type": "stream",
     "text": [
      "var1=  This is var1\n",
      "var1=This is var1, var2=3, var3=15.5\n"
     ]
    }
   ],
   "source": [
    "var1 = \"This is var1\"\n",
    "var2 = 3\n",
    "var3 = 15.5\n",
    "print('var1= ', var1)\n",
    "print(f'var1={var1}, var2={var2}, var3={var3}')"
   ]
  },
  {
   "cell_type": "code",
   "execution_count": 69,
   "id": "00a70dd7",
   "metadata": {},
   "outputs": [
    {
     "name": "stdout",
     "output_type": "stream",
     "text": [
      "tp must be int\n"
     ]
    }
   ],
   "source": [
    "tp = 'true'\n",
    "if type(tp) != int: # isinstance(tp, int)\n",
    "    print('tp must be int')"
   ]
  },
  {
   "cell_type": "code",
   "execution_count": 70,
   "id": "dd30863e",
   "metadata": {},
   "outputs": [],
   "source": [
    "fp = 1\n",
    "if type(fp) != int: # isinstance(fp, int)\n",
    "    print('fp must be int')"
   ]
  },
  {
   "cell_type": "code",
   "execution_count": 71,
   "id": "1f6e5ff6",
   "metadata": {},
   "outputs": [
    {
     "name": "stdout",
     "output_type": "stream",
     "text": [
      "fn must be int\n"
     ]
    }
   ],
   "source": [
    "fn = 'One'\n",
    "if type(fn) != int: # isinstance(fp, int)\n",
    "    print('fn must be int')"
   ]
  },
  {
   "cell_type": "code",
   "execution_count": 72,
   "id": "b7eb694e",
   "metadata": {},
   "outputs": [
    {
     "name": "stdout",
     "output_type": "stream",
     "text": [
      "tp and fp and fn must be greater than zero\n"
     ]
    }
   ],
   "source": [
    "tp = 10\n",
    "fp = -1\n",
    "fn = 1\n",
    "if not ((tp > 0) and (fn > 0) and (fp > 0)):\n",
    "    print('tp and fp and fn must be greater than zero')"
   ]
  },
  {
   "cell_type": "code",
   "execution_count": 94,
   "id": "2dd7e949",
   "metadata": {},
   "outputs": [
    {
     "name": "stdout",
     "output_type": "stream",
     "text": [
      "10 20 30 "
     ]
    }
   ],
   "source": [
    "value1 = 10\n",
    "value2 = 20\n",
    "value3 = 30\n",
    "print(value1, end=' ')\n",
    "print(value2, end=' ')\n",
    "print(value3, end=' ')"
   ]
  },
  {
   "cell_type": "code",
   "execution_count": 96,
   "id": "ea56b4cc",
   "metadata": {},
   "outputs": [
    {
     "name": "stdout",
     "output_type": "stream",
     "text": [
      "0 \n",
      "0 1 \n",
      "0 1 2 \n",
      "0 1 2 3 \n",
      "0 1 2 3 4 \n"
     ]
    }
   ],
   "source": [
    "def test1(level):\n",
    "    for lv in range(level):\n",
    "        for i in range(lv + 1):\n",
    "            print(i, end=' ')\n",
    "        print()\n",
    "        \n",
    "test1(5)"
   ]
  },
  {
   "cell_type": "code",
   "execution_count": 97,
   "id": "a1f9a2fd",
   "metadata": {
    "scrolled": true
   },
   "outputs": [
    {
     "name": "stdout",
     "output_type": "stream",
     "text": [
      "0\n",
      "1\n",
      "2\n",
      "3\n"
     ]
    }
   ],
   "source": [
    "for row in range(4):\n",
    "    print(row)"
   ]
  },
  {
   "cell_type": "code",
   "execution_count": 115,
   "id": "1e528a11",
   "metadata": {},
   "outputs": [
    {
     "name": "stdout",
     "output_type": "stream",
     "text": [
      "0 1 1 2 3 5 8 13 "
     ]
    }
   ],
   "source": [
    "def test2(length):\n",
    "    count = 0\n",
    "    n1, n2 = 0, 1\n",
    "    while count < length:\n",
    "        print(n1, end=' ')\n",
    "        nth = n1 + n2\n",
    "        n1 = n2\n",
    "        n2 = nth\n",
    "        count += 1\n",
    "test2(length=8)"
   ]
  },
  {
   "cell_type": "code",
   "execution_count": null,
   "id": "6d6847f1",
   "metadata": {},
   "outputs": [],
   "source": []
  }
 ],
 "metadata": {
  "kernelspec": {
   "display_name": "Python 3 (ipykernel)",
   "language": "python",
   "name": "python3"
  },
  "language_info": {
   "codemirror_mode": {
    "name": "ipython",
    "version": 3
   },
   "file_extension": ".py",
   "mimetype": "text/x-python",
   "name": "python",
   "nbconvert_exporter": "python",
   "pygments_lexer": "ipython3",
   "version": "3.9.0"
  }
 },
 "nbformat": 4,
 "nbformat_minor": 5
}
