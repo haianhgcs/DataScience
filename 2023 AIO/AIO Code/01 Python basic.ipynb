{
 "cells": [
  {
   "cell_type": "markdown",
   "id": "16c5d879",
   "metadata": {},
   "source": [
    "\n",
    "![Python variable](../../images/PythonBasics_Python_variable.PNG)"
   ]
  },
  {
   "cell_type": "code",
   "execution_count": 1,
   "id": "b59f3317",
   "metadata": {},
   "outputs": [
    {
     "name": "stdout",
     "output_type": "stream",
     "text": [
      "<class 'str'>\n"
     ]
    },
    {
     "ename": "ValueError",
     "evalue": "invalid literal for int() with base 10: 'a10'",
     "output_type": "error",
     "traceback": [
      "\u001b[1;31m---------------------------------------------------------------------------\u001b[0m",
      "\u001b[1;31mValueError\u001b[0m                                Traceback (most recent call last)",
      "Cell \u001b[1;32mIn[1], line 3\u001b[0m\n\u001b[0;32m      1\u001b[0m x \u001b[38;5;241m=\u001b[39m \u001b[38;5;124m\"\u001b[39m\u001b[38;5;124ma10\u001b[39m\u001b[38;5;124m\"\u001b[39m\n\u001b[0;32m      2\u001b[0m \u001b[38;5;28mprint\u001b[39m(\u001b[38;5;28mtype\u001b[39m(x))\n\u001b[1;32m----> 3\u001b[0m y \u001b[38;5;241m=\u001b[39m \u001b[38;5;28;43mint\u001b[39;49m\u001b[43m(\u001b[49m\u001b[43mx\u001b[49m\u001b[43m)\u001b[49m\n\u001b[0;32m      4\u001b[0m \u001b[38;5;28mprint\u001b[39m(\u001b[38;5;28mtype\u001b[39m(y))\n",
      "\u001b[1;31mValueError\u001b[0m: invalid literal for int() with base 10: 'a10'"
     ]
    }
   ],
   "source": [
    "x = \"a10\"\n",
    "print(type(x))\n",
    "y = int(x)\n",
    "print(type(y))"
   ]
  },
  {
   "cell_type": "markdown",
   "id": "2236dbb3",
   "metadata": {},
   "source": [
    "![Python variable](../../images/PythonBasics_Arithmetic_Operators.PNG)"
   ]
  },
  {
   "cell_type": "code",
   "execution_count": 3,
   "id": "023bb580",
   "metadata": {},
   "outputs": [
    {
     "name": "stdout",
     "output_type": "stream",
     "text": [
      "My name is Hai Anh, I am 41 years old and my BMI is 1.830435827591732\n"
     ]
    }
   ],
   "source": [
    "name = \"Hai Anh\"\n",
    "age = 41\n",
    "height = 158\n",
    "weight = 65\n",
    "# calculate BMI\n",
    "BMI = (weight / (height ** 2)) * 703\n",
    "# print statement\n",
    "print(\"My name is \" + name + \", I am \" + str(age) + \" years old and my BMI is \" + str(BMI))\n"
   ]
  },
  {
   "cell_type": "markdown",
   "id": "8f21643b",
   "metadata": {},
   "source": [
    "## Question 3 - Logical Operators\n",
    "![LogicalOperators](../../images/PythonBasics_LogicalOperators.PNG)"
   ]
  },
  {
   "cell_type": "markdown",
   "id": "d49978bb",
   "metadata": {},
   "source": [
    "## Question 4 - Bitwise Operators\n",
    "![LogicalOperators](../../images/PythonBasics_Bitwise_Operators.PNG)\n"
   ]
  },
  {
   "cell_type": "markdown",
   "id": "cbc4a6a9",
   "metadata": {},
   "source": [
    "## Question 5 - Membership Operators\n",
    "![LogicalOperators](../../images/PythonBasics_MembershipOperators.PNG)"
   ]
  },
  {
   "cell_type": "markdown",
   "id": "2e994c7f",
   "metadata": {},
   "source": [
    "## Question 6 - Python Environment\n",
    "![LogicalOperators](../../images/PythonBasics_PythonEnvironment.PNG)"
   ]
  },
  {
   "cell_type": "markdown",
   "id": "11e2ea4f",
   "metadata": {},
   "source": [
    "Import the Python virtual environment from the requirements.txt file\n",
    ">pip install -r requirements.txt"
   ]
  },
  {
   "cell_type": "markdown",
   "id": "f3c591e7",
   "metadata": {},
   "source": [
    "## Question 7 - Functions\n",
    "A function is a block of code that only runs when it is called. You can pass data, known as parameters, into a function. A function can return data as a result.\n",
    "\n",
    "In Python a function is defined using the `def` keyword:"
   ]
  },
  {
   "cell_type": "code",
   "execution_count": 5,
   "id": "b0b03403",
   "metadata": {},
   "outputs": [],
   "source": [
    "def hello_world(name):\n",
    "    '''\n",
    "    docstring\n",
    "    '''\n",
    "    print(f\"{name} hello world\")"
   ]
  },
  {
   "cell_type": "code",
   "execution_count": 6,
   "id": "910ff7cb",
   "metadata": {},
   "outputs": [],
   "source": [
    "def add_two_numbers(a, b):\n",
    "    '''\n",
    "    docstring\n",
    "    '''\n",
    "    return a + b"
   ]
  },
  {
   "cell_type": "markdown",
   "id": "218a4af3",
   "metadata": {},
   "source": [
    "* Define function name: Lowercase with underscores and begin with a verb.\n",
    "* Indentation: use 4 spaces to imply codes inside the function\n",
    "* Function parameters (optional): Input variables that are used in the function, and are placed in the parenthesis\n",
    "* Docstring: Explain and describe the function in the triple prime symbols\n",
    "* Output of the function: use keyword `return`, default `None` if there is no return.\n",
    "\n",
    "Examples:\n",
    "To call a function, use the functiona name followed by parenthesis:"
   ]
  },
  {
   "cell_type": "code",
   "execution_count": 7,
   "id": "0977076e",
   "metadata": {},
   "outputs": [
    {
     "name": "stdout",
     "output_type": "stream",
     "text": [
      "AI Vietnam hello world\n"
     ]
    }
   ],
   "source": [
    "hello_world(\"AI Vietnam\")"
   ]
  },
  {
   "cell_type": "code",
   "execution_count": 8,
   "id": "e27b621b",
   "metadata": {},
   "outputs": [
    {
     "name": "stdout",
     "output_type": "stream",
     "text": [
      "AI Vietnam hello world\n",
      "None\n"
     ]
    }
   ],
   "source": [
    "x = hello_world(\"AI Vietnam\")\n",
    "print(x)"
   ]
  },
  {
   "cell_type": "code",
   "execution_count": 9,
   "id": "5c2b8c91",
   "metadata": {},
   "outputs": [
    {
     "name": "stdout",
     "output_type": "stream",
     "text": [
      "3.0\n"
     ]
    }
   ],
   "source": [
    "x = add_two_numbers(1,2.0)\n",
    "print(x)"
   ]
  },
  {
   "cell_type": "markdown",
   "id": "389dfb05",
   "metadata": {},
   "source": [
    "We can set default values for function parameters:"
   ]
  },
  {
   "cell_type": "code",
   "execution_count": 10,
   "id": "56546c84",
   "metadata": {},
   "outputs": [],
   "source": [
    "def add_two_numbers(a, b=2):\n",
    "    '''\n",
    "    docstring\n",
    "    '''\n",
    "    return a+b"
   ]
  },
  {
   "cell_type": "markdown",
   "id": "25f3ee97",
   "metadata": {},
   "source": [
    "Note that parameters with default values cannot be placed before the ones without default values. Now if we run the above function:"
   ]
  },
  {
   "cell_type": "code",
   "execution_count": 11,
   "id": "7f9256a6",
   "metadata": {},
   "outputs": [
    {
     "name": "stdout",
     "output_type": "stream",
     "text": [
      "3\n"
     ]
    }
   ],
   "source": [
    "x = add_two_numbers(1)\n",
    "print(x)"
   ]
  },
  {
   "cell_type": "code",
   "execution_count": 12,
   "id": "3353a510",
   "metadata": {},
   "outputs": [
    {
     "data": {
      "text/plain": [
       "314.0"
      ]
     },
     "execution_count": 12,
     "metadata": {},
     "output_type": "execute_result"
    }
   ],
   "source": [
    "def calc_circle_area(radius):\n",
    "    pi = 3.14\n",
    "    return radius * radius * 3.14\n",
    "\n",
    "calc_circle_area(10)"
   ]
  },
  {
   "cell_type": "markdown",
   "id": "28b7b798",
   "metadata": {},
   "source": [
    "## Question 8 - Scopes\n",
    "A variable is only available from inside the region it is created. This is called scope.\n",
    "### Local Scope:\n",
    "A variable created inside a function belongs to the local scope of that function, and can only be used inside that function."
   ]
  },
  {
   "cell_type": "code",
   "execution_count": 14,
   "id": "51d4aef7",
   "metadata": {},
   "outputs": [
    {
     "ename": "NameError",
     "evalue": "name 'z' is not defined",
     "output_type": "error",
     "traceback": [
      "\u001b[1;31m---------------------------------------------------------------------------\u001b[0m",
      "\u001b[1;31mNameError\u001b[0m                                 Traceback (most recent call last)",
      "Cell \u001b[1;32mIn[14], line 8\u001b[0m\n\u001b[0;32m      5\u001b[0m     z \u001b[38;5;241m=\u001b[39m \u001b[38;5;241m2\u001b[39m\n\u001b[0;32m      7\u001b[0m assign_variable()\n\u001b[1;32m----> 8\u001b[0m \u001b[38;5;28mprint\u001b[39m(\u001b[43mz\u001b[49m)\n",
      "\u001b[1;31mNameError\u001b[0m: name 'z' is not defined"
     ]
    }
   ],
   "source": [
    "def assign_variable():\n",
    "    '''\n",
    "    docstring\n",
    "    '''\n",
    "    z = 2\n",
    "    \n",
    "assign_variable()\n",
    "print(z)"
   ]
  },
  {
   "cell_type": "markdown",
   "id": "a4e3ffaa",
   "metadata": {},
   "source": [
    "### Global Scope:\n",
    "A variable created in the main body of the Python code is a global variable and belongs to the global scope. Global variables are available from within any scope, global and local."
   ]
  },
  {
   "cell_type": "code",
   "execution_count": 15,
   "id": "68b49196",
   "metadata": {},
   "outputs": [
    {
     "name": "stdout",
     "output_type": "stream",
     "text": [
      "4\n"
     ]
    }
   ],
   "source": [
    "x = 2\n",
    "\n",
    "def add_to_x(y=2):\n",
    "    '''\n",
    "    docstring\n",
    "    '''\n",
    "    return x + y\n",
    "\n",
    "z = add_to_x()\n",
    "print(z)"
   ]
  },
  {
   "cell_type": "markdown",
   "id": "0641a7a6",
   "metadata": {},
   "source": [
    "### Global Keyword:\n",
    "If you need to create a global variable, but are stuck in the local scope, you can use the `global` keyword."
   ]
  },
  {
   "cell_type": "code",
   "execution_count": 16,
   "id": "30904a0f",
   "metadata": {},
   "outputs": [
    {
     "name": "stdout",
     "output_type": "stream",
     "text": [
      "2\n"
     ]
    }
   ],
   "source": [
    "def assign_variable():\n",
    "    global x\n",
    "    x = 2\n",
    "    \n",
    "assign_variable()\n",
    "print(x)"
   ]
  }
 ],
 "metadata": {
  "kernelspec": {
   "display_name": "Python 3 (ipykernel)",
   "language": "python",
   "name": "python3"
  },
  "language_info": {
   "codemirror_mode": {
    "name": "ipython",
    "version": 3
   },
   "file_extension": ".py",
   "mimetype": "text/x-python",
   "name": "python",
   "nbconvert_exporter": "python",
   "pygments_lexer": "ipython3",
   "version": "3.9.0"
  }
 },
 "nbformat": 4,
 "nbformat_minor": 5
}
