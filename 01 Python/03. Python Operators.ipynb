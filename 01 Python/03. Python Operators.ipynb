{
 "cells": [
  {
   "cell_type": "markdown",
   "metadata": {},
   "source": [
    "---\n",
    "---\n",
    "\n",
    "<center><h1> 📍📍 Theory of Operators 📍📍 </h1> </center>\n",
    "\n",
    "\n",
    "* ***Arithmetic operators***  \n",
    "\n",
    "* ***Comparison operators***\n",
    "\n",
    "* ***Logical / Boolean Operators (Returns Boolean values) operators***\n",
    "\n",
    "* ***Assignment operators***\n",
    "\n",
    "* ***Identity operators***\n",
    "\n",
    "* ***Membership operators***\n",
    "\n",
    "* ***Bitwise operators***\n",
    "\n",
    "---\n",
    "\n",
    "---"
   ]
  },
  {
   "cell_type": "markdown",
   "metadata": {},
   "source": [
    "***Let's initialize a few variables***\n",
    "\n",
    "---"
   ]
  },
  {
   "cell_type": "code",
   "execution_count": 41,
   "metadata": {},
   "outputs": [],
   "source": [
    "a = 15      # int\n",
    "b = 8       # int\n",
    "c = 15.5    # float\n",
    "s = 'Hello' # String"
   ]
  },
  {
   "cell_type": "markdown",
   "metadata": {},
   "source": [
    "---\n",
    "\n",
    "### 📍📍 ***Arithmetic Operator*** 📍📍\n",
    "\n",
    "\n",
    " * '+' Addition  \n",
    " * '-'  Subtraction\n",
    " * '*'  Multiplication\n",
    " * '/'   Division\n",
    " * '%'  Modulus\n",
    " * '**' Exponential\n",
    " * '//' Floor Division\n",
    " \n",
    "---"
   ]
  },
  {
   "cell_type": "code",
   "execution_count": 1,
   "metadata": {},
   "outputs": [
    {
     "name": "stdout",
     "output_type": "stream",
     "text": [
      "50\n",
      "10\n",
      "600\n",
      "1.5\n",
      "348678440100000000000000000000\n",
      "1\n",
      "10\n"
     ]
    }
   ],
   "source": [
    "a, b = 30, 20\n",
    "\n",
    "# Addition\n",
    "print(a + b)\n",
    "\n",
    "# Substraction\n",
    "print(a - b)\n",
    "\n",
    "# Multiplication\n",
    "print(a * b)\n",
    "\n",
    "#Division\n",
    "print(a / b)\n",
    "\n",
    "# Exponentiation\n",
    "print(a ** b)\n",
    "\n",
    "# Floor division\n",
    "print(a // b)\n",
    "\n",
    "# Modulus\n",
    "print(a % b)"
   ]
  },
  {
   "cell_type": "markdown",
   "metadata": {},
   "source": [
    "`//` gives the quotient and `%` gives the reminder of a division"
   ]
  },
  {
   "cell_type": "markdown",
   "metadata": {},
   "source": [
    "---\n",
    "### 📍📍 ***`Comparison operators:`***\n",
    "\n",
    " * '=='\tEqual\t\n",
    " * '!='\tNot equal\t\t\n",
    " * '>'\tGreater than\t\n",
    " * '<'\tLess than\t\t\n",
    " * '>='\tGreater than or equal to\t\t\n",
    " * '<='\tLess than or equal to\t\t\n",
    "\n",
    "---"
   ]
  },
  {
   "cell_type": "code",
   "execution_count": 49,
   "metadata": {},
   "outputs": [
    {
     "data": {
      "text/plain": [
       "False"
      ]
     },
     "execution_count": 49,
     "metadata": {},
     "output_type": "execute_result"
    }
   ],
   "source": [
    "a==b"
   ]
  },
  {
   "cell_type": "code",
   "execution_count": 50,
   "metadata": {},
   "outputs": [
    {
     "data": {
      "text/plain": [
       "True"
      ]
     },
     "execution_count": 50,
     "metadata": {},
     "output_type": "execute_result"
    }
   ],
   "source": [
    "a != b"
   ]
  },
  {
   "cell_type": "code",
   "execution_count": 51,
   "metadata": {},
   "outputs": [
    {
     "data": {
      "text/plain": [
       "False"
      ]
     },
     "execution_count": 51,
     "metadata": {},
     "output_type": "execute_result"
    }
   ],
   "source": [
    "a == 51"
   ]
  },
  {
   "cell_type": "code",
   "execution_count": 52,
   "metadata": {},
   "outputs": [
    {
     "data": {
      "text/plain": [
       "bool"
      ]
     },
     "execution_count": 52,
     "metadata": {},
     "output_type": "execute_result"
    }
   ],
   "source": [
    "type(a == b)"
   ]
  },
  {
   "cell_type": "code",
   "execution_count": 53,
   "metadata": {},
   "outputs": [
    {
     "data": {
      "text/plain": [
       "True"
      ]
     },
     "execution_count": 53,
     "metadata": {},
     "output_type": "execute_result"
    }
   ],
   "source": [
    "a>b"
   ]
  },
  {
   "cell_type": "code",
   "execution_count": 54,
   "metadata": {},
   "outputs": [
    {
     "data": {
      "text/plain": [
       "False"
      ]
     },
     "execution_count": 54,
     "metadata": {},
     "output_type": "execute_result"
    }
   ],
   "source": [
    "a < b"
   ]
  },
  {
   "cell_type": "code",
   "execution_count": 55,
   "metadata": {},
   "outputs": [
    {
     "data": {
      "text/plain": [
       "False"
      ]
     },
     "execution_count": 55,
     "metadata": {},
     "output_type": "execute_result"
    }
   ],
   "source": [
    "a>51"
   ]
  },
  {
   "cell_type": "code",
   "execution_count": 56,
   "metadata": {},
   "outputs": [
    {
     "data": {
      "text/plain": [
       "False"
      ]
     },
     "execution_count": 56,
     "metadata": {},
     "output_type": "execute_result"
    }
   ],
   "source": [
    "a>=51"
   ]
  },
  {
   "cell_type": "markdown",
   "metadata": {},
   "source": [
    "---\n",
    "\n",
    "### 📍📍 Logical /Boolean Operators (Returns Boolean values)  Operator:\n",
    "\n",
    " * and\n",
    " * or\n",
    " * not\n",
    " \n",
    "---\n",
    "\n",
    "- Logical operators are used to combine conditional statements.\n",
    "- The logical operators and, or and not are also referred to as boolean operators.\n",
    "- The logical operators and, or and not are also referred to as boolean operators. Boolean and operator returns true if both operands return true.\n"
   ]
  },
  {
   "cell_type": "code",
   "execution_count": 57,
   "metadata": {},
   "outputs": [
    {
     "data": {
      "text/plain": [
       "True"
      ]
     },
     "execution_count": 57,
     "metadata": {},
     "output_type": "execute_result"
    }
   ],
   "source": [
    "(1 == 1) and (2 == 2)"
   ]
  },
  {
   "cell_type": "code",
   "execution_count": 58,
   "metadata": {},
   "outputs": [
    {
     "data": {
      "text/plain": [
       "True"
      ]
     },
     "execution_count": 58,
     "metadata": {},
     "output_type": "execute_result"
    }
   ],
   "source": [
    "(1 == 1) or (3 == 4)"
   ]
  },
  {
   "cell_type": "code",
   "execution_count": 59,
   "metadata": {},
   "outputs": [
    {
     "data": {
      "text/plain": [
       "True"
      ]
     },
     "execution_count": 59,
     "metadata": {},
     "output_type": "execute_result"
    }
   ],
   "source": [
    "(1 <= 2) or ((2 > 3) or (4 == 4))"
   ]
  },
  {
   "cell_type": "code",
   "execution_count": null,
   "metadata": {},
   "outputs": [],
   "source": [
    "a, b = 10, 20\n",
    "\n",
    "# \"and\" Returns True if both statements are true\n",
    "print(a > 5 and b > 5)\n",
    "\n",
    "# \"or\" Returns True if one of the statements is true\n",
    "print(a < 5 or b > 5)\n",
    "\n",
    "# \"not\" Reverse the result, returns False if the result is true\n",
    "print(not(a < 5 or b > 5))"
   ]
  },
  {
   "cell_type": "markdown",
   "metadata": {},
   "source": [
    "---\n",
    "\n",
    "### 📍📍 Assignment Operator:\n",
    "\n",
    " * =\n",
    " * -=\n",
    " * *=\n",
    " * /=\n",
    " * %=\n",
    " * //=\n",
    " * **=\n",
    "\n",
    "\n",
    "Bitwise Operator\n",
    "\n",
    " * &=\n",
    " * |=\n",
    " * ^=\n",
    " * \\>>=\n",
    " * <<=\n",
    "---\n",
    "\n"
   ]
  },
  {
   "cell_type": "code",
   "execution_count": null,
   "metadata": {},
   "outputs": [],
   "source": [
    "# Equal\n",
    "x = 5\n",
    "print(x)\n",
    "\n",
    "x = 5\n",
    "x += 3 # equal to x = x + 3\n",
    "print(x)\n",
    "\n",
    "# x -= 3\n",
    "# x *= 3\n",
    "# x /= 3\n",
    "# x %= 3\n",
    "# x //= 3\n",
    "# x **= 3\n",
    "\n",
    "# Bitwise Operator\n",
    "# x &= 3\n",
    "# x |= 3\n",
    "# x ^= 3\n",
    "# x >>= 3\n",
    "# x <<= 3"
   ]
  },
  {
   "cell_type": "markdown",
   "metadata": {},
   "source": [
    "---\n",
    "\n",
    "### 📍📍 Identity Operators:\n",
    "\n",
    " * is\n",
    " * is not\n",
    " \n",
    "---\n",
    "- Identity operators are used to compare the objects, not if they are equal\n",
    "- if they are actually the same object, with the same memory location:"
   ]
  },
  {
   "cell_type": "code",
   "execution_count": null,
   "metadata": {},
   "outputs": [],
   "source": [
    "# IS operator - Returns True if both variables are the same object\n",
    "\n",
    "x = [\"apple\", \"banana\"]\n",
    "y = [\"apple\", \"banana\"]\n",
    "z = x\n",
    "\n",
    "print(x is z) # returns True because z is the same object as x\n",
    "\n",
    "print(x is y) # returns False because x is not the same object as y, even if they have the same content\n",
    "\n",
    "print(x == y) # to demonstrate the difference betweeen \"is\" and \"==\": this comparison returns True because x is equal to y"
   ]
  },
  {
   "cell_type": "code",
   "execution_count": null,
   "metadata": {},
   "outputs": [],
   "source": [
    "# IS NOT - Returns True if both variables are not the same object\n",
    "\n",
    "x = [\"apple\", \"banana\"]\n",
    "y = [\"apple\", \"banana\"]\n",
    "z = x\n",
    "\n",
    "print(x is not z) # returns False because z is the same object as x\n",
    "\n",
    "print(x is not y) # returns True because x is not the same object as y, even if they have the same content\n",
    "\n",
    "print(x != y) # to demonstrate the difference betweeen \"is not\" and \"!=\": this comparison returns False because x is equal to y\n"
   ]
  },
  {
   "cell_type": "markdown",
   "metadata": {},
   "source": [
    "---\n",
    "\n",
    "### 📍📍 Membership Operators:\n",
    "\n",
    " * in\n",
    " * not in\n",
    " \n",
    "---\n",
    "- Membership operators are used to test if a sequence is presented in an object"
   ]
  },
  {
   "cell_type": "code",
   "execution_count": null,
   "metadata": {},
   "outputs": [],
   "source": [
    "# IN Operator - Returns True if a sequence with the specified value is present in the object\n",
    "\n",
    "x = [\"apple\", \"banana\"]\n",
    "print(\"banana\" in x) # returns True because a sequence with the value \"banana\" is in the list\n",
    "\n",
    "# NOT IN Operator - Returns True if a sequence with the specified value is not present in the object\n",
    "\n",
    "print(\"pineapple\" not in x) # returns True because a sequence with the value \"pineapple\" is not in the list"
   ]
  },
  {
   "cell_type": "markdown",
   "metadata": {},
   "source": [
    "---\n",
    "\n",
    "### 📍📍 Bitwise Operators:\n",
    "\n",
    " * & Bitwise AND\n",
    " * | Bitwise OR \n",
    " * ~ Bitwise NOT\n",
    " * ^ Bitwise XOR\n",
    " * \\>> Bitwise right shift\n",
    " * \\<< Bitwise left shift\n",
    " \n",
    "---\n",
    "- Bitwise operators are used to compare (binary) numbers"
   ]
  },
  {
   "cell_type": "code",
   "execution_count": null,
   "metadata": {},
   "outputs": [],
   "source": [
    "x, y = 10, 4\n",
    "\n",
    "# & Bitwise AND                 x & y = 0 (0000 0000)\n",
    "print(x & y)\n",
    "\n",
    "# | Bitwise OR                  x | y = 14 (0000 1110)\n",
    "print(x | y)\n",
    "\n",
    "# ~ Bitwise NOT                 ~x = -11 (1111 0101) x = 10(1010) => ~(1010) => -(1010 + 1) => -(1011) => -11 Decimal\n",
    "print(~x)\n",
    "\n",
    "# ^ Bitwise XOR                 x ^ y = 14 (0000 1110)\n",
    "print(x ^ y)\n",
    "\n",
    "# >> Bitwise right shift        x >> 2 = 2 (0000 0010) => 0000 1010 shift to right two place => 0000 0010\n",
    "print(x >> 2)\n",
    "\n",
    "# << Bitwise left shift         x << 2 = 40 (0010 1000) => 0000 1010 shift to left two place => 0010 1000\n",
    "print(x << 2)"
   ]
  }
 ],
 "metadata": {
  "kernelspec": {
   "display_name": "Python 3 (ipykernel)",
   "language": "python",
   "name": "python3"
  },
  "language_info": {
   "codemirror_mode": {
    "name": "ipython",
    "version": 3
   },
   "file_extension": ".py",
   "mimetype": "text/x-python",
   "name": "python",
   "nbconvert_exporter": "python",
   "pygments_lexer": "ipython3",
   "version": "3.9.7"
  }
 },
 "nbformat": 4,
 "nbformat_minor": 2
}
