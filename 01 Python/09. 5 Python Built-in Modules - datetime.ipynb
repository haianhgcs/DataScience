{
 "cells": [
  {
   "cell_type": "markdown",
   "id": "b8daef6c",
   "metadata": {},
   "source": [
    "# Python Datetime\n",
    "## Python Dates\n",
    "A date in Python is not a data type of its own, but we can import a module named datetime to work with dates as date objects."
   ]
  },
  {
   "cell_type": "markdown",
   "id": "bfab6832",
   "metadata": {},
   "source": [
    "### Importing Date Time Libraries/Modules"
   ]
  },
  {
   "cell_type": "code",
   "execution_count": 2,
   "id": "89749485",
   "metadata": {},
   "outputs": [],
   "source": [
    "import datetime"
   ]
  },
  {
   "cell_type": "code",
   "execution_count": null,
   "id": "c95f5ee2",
   "metadata": {},
   "outputs": [],
   "source": [
    "# Import the datetime module and display the current date:\n",
    "x = datetime.datetime.now()\n",
    "print(x)"
   ]
  },
  {
   "cell_type": "code",
   "execution_count": null,
   "id": "c52b61b3",
   "metadata": {},
   "outputs": [],
   "source": [
    "# dates are easily constructed and formatted\n",
    "from datetime import date"
   ]
  },
  {
   "cell_type": "code",
   "execution_count": null,
   "id": "c8007ce0",
   "metadata": {},
   "outputs": [],
   "source": [
    "# get the current date\n",
    "TODAY = date.today()\n",
    "print(\"Date: \", TODAY)"
   ]
  },
  {
   "cell_type": "markdown",
   "id": "708eb615",
   "metadata": {},
   "source": [
    "#### Observation:\n",
    "- The date contains year, month, day, hour, minute, second, and microsecond.\n",
    "- The datetime module has many methods to return information about the date object."
   ]
  },
  {
   "cell_type": "markdown",
   "id": "a550af5c",
   "metadata": {},
   "source": [
    "### A reference of all the legal format codes:\n",
    "\n",
    "| **Directive** | **Meaning**                                                                                      |\n",
    "| ---           | ---                                                                                              |\n",
    "|  **%a**       | Weekday as locale’s abbreviated name.   Wed\t                                                   |\n",
    "|  **%A**       | Weekday as locale’s full name.          Wednesday                                                |  \n",
    "|  **%d**       | Day of the month as a zero-padded decimal number. Day of month 01-31\t31                         |\n",
    "|  **%b**       | Month as locale’s abbreviated name.\t  Month name, short version\tDec\t                           |\n",
    "|  **%B**       | Month as locale’s full name.\t          Month name, full version\tDecember                       |\n",
    "|  **%m**       | Month as a zero-padded decimal number.  Month as a number 01-12\t12\t                           |\n",
    "|  **%y**       | Year without century as a zero-padded decimal number. Year, short version, without century\t18 |\n",
    "|  **%Y**       | Year with century as a decimal number.  Year, full version\t2018                               |\n",
    "|  **%H**       | Hour (24-hour clock) as a zero-padded decimal number. Hour 00-23\t17                             |\n",
    "|  **%w**       | Weekday as a number 0-6, 0 is Sunday\t3.                                                         |\n",
    "|  **%W**       | Week number of year, Monday as the first day of week, 00-53\t52                                 |\n",
    "|  **%I**       | Weekday as a number 0-6, 0 is Sunday\t3.Hour 00-12\t05                                         |\n",
    "|  **%p**       | AM/PM\tPM                                                                                         |\n",
    "|  **%M**       | Minute 00-59\t41                                                                                 |\n",
    "|  **%S**       | Second 00-59\t08                                                                                 |\n",
    "|  **%f**       | Microsecond 000000-999999\t548513                                                                 |\n",
    "|  **%z**       | UTC offset\t+0100                                                                              |\n",
    "|  **%Z**       | Timezone\tCST\t                                                                                   |\n",
    "|  **%j**       | Day number of year 001-366\t365\t\t                                                           |\n",
    "|  **%u**       | ISO 8601 weekday (1-7)\t1\t                                                                   |\n",
    "|  **%U**       | Week number of year, Sunday as the first day of week, 00-53\t52\t\t                           |\n",
    "|  **%c**       | Local version of date and time\tMon Dec 31 17:41:00 2018                                       |\n",
    "|  **%x**       | Local version of date\t12/31/18\t                                                               |\n",
    "|  **%X**       | Local version of time\t17:41:00\t                                                               |\n",
    "|  **%%**       | A % character\t%\t                                                                               |\n",
    "|  **%G**       | ISO 8601 year\t2018\t                                                                           |\n",
    "|  **%V**       | ISO 8601 weeknumber (01-53)\t01\t                                                               |\n",
    "\n",
    "\n",
    "---\n",
    "\n",
    "***You can read more about the other directives and datetime library here: https://docs.python.org/3/library/datetime.html***\n",
    "\n",
    "### The strftime() Method\n",
    "The datetime object has a method for formatting date objects into readable strings.\n",
    "\n",
    "The method is called strftime(), and takes one parameter, format, to specify the format of the returned string:"
   ]
  },
  {
   "cell_type": "code",
   "execution_count": null,
   "id": "73238a73",
   "metadata": {},
   "outputs": [],
   "source": [
    "# Return the year and name of weekday:\n",
    "x = datetime.datetime.now()\n",
    "\n",
    "print(x.year)\n",
    "print(x.strftime(\"%A\"))"
   ]
  },
  {
   "cell_type": "code",
   "execution_count": null,
   "id": "dbff12b1",
   "metadata": {},
   "outputs": [],
   "source": [
    "# Display the name of the month:\n",
    "print(x.strftime(\"%B\"))"
   ]
  },
  {
   "cell_type": "code",
   "execution_count": null,
   "id": "72c08903",
   "metadata": {},
   "outputs": [],
   "source": [
    "print(x.strftime(\"%p\"))"
   ]
  },
  {
   "cell_type": "code",
   "execution_count": null,
   "id": "4304fe36",
   "metadata": {},
   "outputs": [],
   "source": [
    "# format date\n",
    "print(\"Formatted date:\", TODAY.strftime(\"%m-%d-%y.\"))"
   ]
  },
  {
   "cell_type": "code",
   "execution_count": null,
   "id": "dbd1e022",
   "metadata": {},
   "outputs": [],
   "source": [
    "# format date\n",
    "print(\"Formatted date:\", TODAY.strftime(\"%d %b %Y \"))"
   ]
  },
  {
   "cell_type": "code",
   "execution_count": null,
   "id": "874e52fa",
   "metadata": {},
   "outputs": [],
   "source": [
    "# format date\n",
    "print(\"Formatted date:\", TODAY.strftime(\"%A on the %d day of %B.\"))"
   ]
  },
  {
   "cell_type": "code",
   "execution_count": null,
   "id": "b4344a32",
   "metadata": {},
   "outputs": [],
   "source": [
    "# dates support calendar arithmetic\n",
    "birthday = date(1964, 7, 31)\n",
    "age = TODAY - birthday\n",
    "\n",
    "print(\"Age in days:\", age.days)"
   ]
  },
  {
   "cell_type": "markdown",
   "id": "3f5cea88",
   "metadata": {},
   "source": [
    "### The datetime module exports the following constants:\n",
    "datetime.MINYEAR : The smallest year number allowed in a date or datetime object. MINYEAR is 1.\n",
    "\n",
    "datetime.MAXYEAR : The largest year number allowed in a date or datetime object. MAXYEAR is 9999."
   ]
  },
  {
   "cell_type": "code",
   "execution_count": null,
   "id": "9500583c",
   "metadata": {},
   "outputs": [],
   "source": [
    "print(datetime.MINYEAR)\n",
    "print(datetime.MAXYEAR)"
   ]
  },
  {
   "cell_type": "markdown",
   "id": "1e8411ea",
   "metadata": {},
   "source": [
    "### Available Types in DateTime\n",
    "class datetime.date : An idealized naive date, assuming the current Gregorian calendar always was, and always will be, in effect. Attributes: year, month, and day.\n",
    "\n",
    "class datetime.time : An idealized time, independent of any particular day, assuming that every day has exactly 24*60*60 seconds (there is no notion of “leap seconds” here). Attributes: hour, minute, second, microsecond, and tzinfo.\n",
    "\n",
    "class datetime.datetime : A combination of a date and a time. Attributes: year, month, day, hour, minute, second, microsecond, and tzinfo.\n",
    "\n",
    "class datetime.timedelta : A duration expressing the difference between two date, time, or datetime instances to microsecond resolution.\n",
    "\n",
    "class datetime.tzinfo : An abstract base class for time zone information objects. These are used by the datetime and time classes to provide a customizable notion of time adjustment (for example, to account for time zone and/or daylight saving time).\n",
    "\n",
    "class datetime.timezone : A class that implements the tzinfo abstract base class as a fixed offset from the UTC."
   ]
  },
  {
   "cell_type": "code",
   "execution_count": 3,
   "id": "e8ea0b15",
   "metadata": {},
   "outputs": [
    {
     "name": "stdout",
     "output_type": "stream",
     "text": [
      "Todays' Date :  2022-01-15\n",
      "Todays' Date and Time :  2022-01-15 17:16:27.055728\n",
      "Old Date and Time :  2020-05-16 18:18:18.000999\n",
      "Old Date :  2020-05-16\n",
      "Todays' Date :  2022-01-15\n",
      "Todays' Time :  17:16:27.055728\n",
      "2022\n",
      "1\n",
      "15\n",
      "5\n",
      "17:16:27.055728\n"
     ]
    }
   ],
   "source": [
    "prevDate = datetime.datetime(2020, 5, 16, 18, 18, 18, 999)\n",
    "toDateTime = datetime.datetime.now()\n",
    "toDate = datetime.date.today()\n",
    "\n",
    "print('Todays\\' Date : ', toDate)\n",
    "print('Todays\\' Date and Time : ', toDateTime)\n",
    "print('Old Date and Time : ', prevDate)\n",
    "print('Old Date : ', prevDate.date())\n",
    "print('Todays\\' Date : ', toDateTime.date())\n",
    "print('Todays\\' Time : ', toDateTime.time())\n",
    "\n",
    "print(toDate.year)    # Between MINYEAR and MAXYEAR inclusive.\n",
    "print(toDate.month)   # Between 1 and 12 inclusive.\n",
    "print(toDate.day)     # Between 1 and the number of days in the given month of the given year.\n",
    "print(prevDate.weekday())\n",
    "\n",
    "print(toDateTime.timetz())"
   ]
  },
  {
   "cell_type": "code",
   "execution_count": null,
   "id": "032ed2f5",
   "metadata": {},
   "outputs": [],
   "source": [
    "### Creating Date Objects\n",
    "To create a date, we can use the datetime() class (constructor) of the datetime module.\n",
    "- The datetime() class requires three parameters to create a date: year, month, day."
   ]
  },
  {
   "cell_type": "code",
   "execution_count": null,
   "id": "4c65c28a",
   "metadata": {},
   "outputs": [],
   "source": [
    "# Create a date object:\n",
    "x = datetime.datetime(2020, 5, 17) # 3 parameters such as Year, month, date\n",
    "\n",
    "print(x)"
   ]
  },
  {
   "cell_type": "markdown",
   "id": "8aac285b",
   "metadata": {},
   "source": [
    "#### Observation:\n",
    "The datetime() class also takes parameters for time and timezone (hour, minute, second, microsecond, tzone), but they are optional, and has a default value of 0, (None for timezone)."
   ]
  },
  {
   "cell_type": "code",
   "execution_count": null,
   "id": "885cf6cd",
   "metadata": {},
   "outputs": [],
   "source": [
    "# Creating date object with time and time zone\n",
    "from datetime import tzinfo\n",
    "import pytz\n",
    "eastern = pytz.timezone('US/Eastern')\n",
    "\n",
    "x = datetime.datetime(2020, 5, 17, 18, 18, 18, 999, eastern) # 3 parameters such as Year, month, date\n",
    "\n",
    "print(x)"
   ]
  },
  {
   "cell_type": "code",
   "execution_count": null,
   "id": "b93986fd",
   "metadata": {},
   "outputs": [],
   "source": [
    "import pytz\n",
    "import datetime as DT\n",
    "\n",
    "eastern = pytz.timezone('US/Eastern')\n",
    "utc = pytz.utc\n",
    "test = '2013-03-27 23:05' # This is a \"naive\" datetime:\n",
    "\n",
    "test2 = DT.datetime.strptime(test, '%Y-%m-%d %H:%M')   \n",
    "print(test2) # the EST timezone:"
   ]
  },
  {
   "cell_type": "code",
   "execution_count": null,
   "id": "46d1c4e7",
   "metadata": {},
   "outputs": [],
   "source": [
    "# Converting to the EST timezone:\n",
    "print(eastern.localize(test2))"
   ]
  },
  {
   "cell_type": "code",
   "execution_count": null,
   "id": "949edc1a",
   "metadata": {},
   "outputs": [],
   "source": [
    "# Converting to the UTC timezone:\n",
    "print(utc.localize(test2))    # 2013-03-27 23:05:00+00:00"
   ]
  },
  {
   "cell_type": "markdown",
   "id": "9679118f",
   "metadata": {},
   "source": [
    "### DateTime.tzinfo()\n",
    "The datetime.now() does not have any information about the time zones. It just uses the current system time. \n",
    "\n",
    "In some situations, the time zone details may be needed. In such cases the tzinfo abstract class is used. tzinfo is an abstract base class. It cannot be instantiated directly. A concrete subclass has to derive it and implement the methods provided by this abstract class.\n",
    "\n",
    "The instance of the tzinfo class can be passed to the constructors of the datetime and time objects. It finds its applications in situations such as the conversion of local time to UTC or to account for daylight saving time."
   ]
  },
  {
   "cell_type": "markdown",
   "id": "9acdde90",
   "metadata": {},
   "source": [
    "#### The methods available for implementation in tzinfo base class are :\n",
    "\n",
    "- utcoffset(self, dt)\n",
    "- dst(self, dt)\n",
    "- tzname(self, dt)\n",
    "- fromutc(self, dt)"
   ]
  },
  {
   "cell_type": "code",
   "execution_count": null,
   "id": "81211b8e",
   "metadata": {},
   "outputs": [],
   "source": [
    "import datetime as dt\n",
    "from dateutil import tz\n",
    "   \n",
    "tz_string = dt.datetime.now(dt.timezone.utc).astimezone().tzname()\n",
    "  \n",
    "print(\"datetime.now() :\", tz_string)\n",
    "  \n",
    "NYC = tz.gettz('Europe / Berlin')  \n",
    "dt1 = dt.datetime(2015, 5, 21, 12, 0) \n",
    "dt2 = dt.datetime(2015, 12, 21, 12, 0, tzinfo = NYC) \n",
    "  \n",
    "print(\"Naive Object :\", dt1.tzname())\n",
    "print(\"Aware Object :\", dt2.tzname())"
   ]
  },
  {
   "cell_type": "code",
   "execution_count": null,
   "id": "f95333b3",
   "metadata": {},
   "outputs": [],
   "source": [
    "from datetime import tzinfo, timedelta, datetime\n",
    "class TZ(tzinfo):\n",
    "    def utcoffset(self, dt): \n",
    "        return timedelta(minutes=-399)\n",
    "    \n",
    "datetime(2021, 6, 27, tzinfo=TZ()).isoformat(' ')"
   ]
  },
  {
   "cell_type": "code",
   "execution_count": 4,
   "id": "819342f6",
   "metadata": {},
   "outputs": [],
   "source": [
    "import calendar"
   ]
  },
  {
   "cell_type": "code",
   "execution_count": 5,
   "id": "a98b0568",
   "metadata": {},
   "outputs": [
    {
     "name": "stdout",
     "output_type": "stream",
     "text": [
      "   November 2017\n",
      "Mo Tu We Th Fr Sa Su\n",
      "       1  2  3  4  5\n",
      " 6  7  8  9 10 11 12\n",
      "13 14 15 16 17 18 19\n",
      "20 21 22 23 24 25 26\n",
      "27 28 29 30\n",
      "\n"
     ]
    }
   ],
   "source": [
    "yy = 2017\n",
    "mm = 11\n",
    "    \n",
    "# display the calendar \n",
    "print(calendar.month(yy, mm)) "
   ]
  },
  {
   "cell_type": "code",
   "execution_count": 6,
   "id": "6dcb4fd8",
   "metadata": {
    "scrolled": true
   },
   "outputs": [
    {
     "name": "stdout",
     "output_type": "stream",
     "text": [
      "The calender of year 2018 is : \n",
      "                                  2021\n",
      "\n",
      "      January                   February                   March\n",
      "Mo Tu We Th Fr Sa Su      Mo Tu We Th Fr Sa Su      Mo Tu We Th Fr Sa Su\n",
      "             1  2  3       1  2  3  4  5  6  7       1  2  3  4  5  6  7\n",
      " 4  5  6  7  8  9 10       8  9 10 11 12 13 14       8  9 10 11 12 13 14\n",
      "11 12 13 14 15 16 17      15 16 17 18 19 20 21      15 16 17 18 19 20 21\n",
      "18 19 20 21 22 23 24      22 23 24 25 26 27 28      22 23 24 25 26 27 28\n",
      "25 26 27 28 29 30 31                                29 30 31\n",
      "\n",
      "       April                      May                       June\n",
      "Mo Tu We Th Fr Sa Su      Mo Tu We Th Fr Sa Su      Mo Tu We Th Fr Sa Su\n",
      "          1  2  3  4                      1  2          1  2  3  4  5  6\n",
      " 5  6  7  8  9 10 11       3  4  5  6  7  8  9       7  8  9 10 11 12 13\n",
      "12 13 14 15 16 17 18      10 11 12 13 14 15 16      14 15 16 17 18 19 20\n",
      "19 20 21 22 23 24 25      17 18 19 20 21 22 23      21 22 23 24 25 26 27\n",
      "26 27 28 29 30            24 25 26 27 28 29 30      28 29 30\n",
      "                          31\n",
      "\n",
      "        July                     August                  September\n",
      "Mo Tu We Th Fr Sa Su      Mo Tu We Th Fr Sa Su      Mo Tu We Th Fr Sa Su\n",
      "          1  2  3  4                         1             1  2  3  4  5\n",
      " 5  6  7  8  9 10 11       2  3  4  5  6  7  8       6  7  8  9 10 11 12\n",
      "12 13 14 15 16 17 18       9 10 11 12 13 14 15      13 14 15 16 17 18 19\n",
      "19 20 21 22 23 24 25      16 17 18 19 20 21 22      20 21 22 23 24 25 26\n",
      "26 27 28 29 30 31         23 24 25 26 27 28 29      27 28 29 30\n",
      "                          30 31\n",
      "\n",
      "      October                   November                  December\n",
      "Mo Tu We Th Fr Sa Su      Mo Tu We Th Fr Sa Su      Mo Tu We Th Fr Sa Su\n",
      "             1  2  3       1  2  3  4  5  6  7             1  2  3  4  5\n",
      " 4  5  6  7  8  9 10       8  9 10 11 12 13 14       6  7  8  9 10 11 12\n",
      "11 12 13 14 15 16 17      15 16 17 18 19 20 21      13 14 15 16 17 18 19\n",
      "18 19 20 21 22 23 24      22 23 24 25 26 27 28      20 21 22 23 24 25 26\n",
      "25 26 27 28 29 30 31      29 30                     27 28 29 30 31\n",
      "\n"
     ]
    }
   ],
   "source": [
    "# using calender to print calendar of year \n",
    "# prints calendar of 2018 \n",
    "print (\"The calender of year 2018 is : \") \n",
    "print (calendar.calendar(2021)) "
   ]
  },
  {
   "cell_type": "markdown",
   "id": "c7e8c836",
   "metadata": {},
   "source": [
    "## Time"
   ]
  },
  {
   "cell_type": "code",
   "execution_count": 7,
   "id": "c2af4831",
   "metadata": {},
   "outputs": [
    {
     "name": "stdout",
     "output_type": "stream",
     "text": [
      "Number of ticks since 12:00am, January 1, 1970: 1642241948.3473182\n"
     ]
    }
   ],
   "source": [
    "import time;  # This is required to include time module.\n",
    "\n",
    "ticks = time.time()\n",
    "print(\"Number of ticks since 12:00am, January 1, 1970:\", ticks)"
   ]
  },
  {
   "cell_type": "code",
   "execution_count": null,
   "id": "e1c1b433",
   "metadata": {},
   "outputs": [],
   "source": [
    "localtime = time.localtime(time.time())\n",
    "print(\"Local current time :\", localtime)"
   ]
  },
  {
   "cell_type": "code",
   "execution_count": 8,
   "id": "f45e5645",
   "metadata": {},
   "outputs": [
    {
     "name": "stdout",
     "output_type": "stream",
     "text": [
      "Local current time : Sat Jan 15 17:19:23 2022\n"
     ]
    }
   ],
   "source": [
    "localtime = time.asctime( time.localtime(time.time()) )\n",
    "print(\"Local current time :\", localtime)"
   ]
  }
 ],
 "metadata": {
  "kernelspec": {
   "display_name": "Python 3 (ipykernel)",
   "language": "python",
   "name": "python3"
  },
  "language_info": {
   "codemirror_mode": {
    "name": "ipython",
    "version": 3
   },
   "file_extension": ".py",
   "mimetype": "text/x-python",
   "name": "python",
   "nbconvert_exporter": "python",
   "pygments_lexer": "ipython3",
   "version": "3.9.7"
  }
 },
 "nbformat": 4,
 "nbformat_minor": 5
}
