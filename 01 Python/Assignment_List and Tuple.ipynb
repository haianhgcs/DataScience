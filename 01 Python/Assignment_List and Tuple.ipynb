{
 "cells": [
  {
   "cell_type": "markdown",
   "id": "30b342a2",
   "metadata": {},
   "source": [
    "## Problem Statement:\n",
    "* 🎓🎓 Analytics Vidhya conducted an assessment test to hire a Data Scientist. The\n",
    "candidates were evaluated on 5 different subjects A, B, C, D, and E. The marks of\n",
    "5 different subjects out of 100 are given below. Help Analytics Vidhya to find out\n",
    "the answers of the following questions.\n",
    "* 🙇 Who scored the highest marks in the subject B?\n",
    "* 🙇 What is the average marks scored in the subject C?\n",
    "* 🙇 Who scored the highest percentage of marks?\n",
    "* 🙇 If considered only top-4 subjects of a candidate, then who scored the highest\n",
    "percentage of marks?"
   ]
  },
  {
   "cell_type": "code",
   "execution_count": 5,
   "id": "bfc3cbac",
   "metadata": {},
   "outputs": [],
   "source": [
    "# student marks\n",
    "student_marks = [['Name',['A', 'B', 'C', 'D', 'E']],\n",
    "                 ['Ankit',   [41, 34, 45, 55, 63]],\n",
    "                 ['Aravind', [42, 23, 34, 44, 53]],\n",
    "                 ['Lakshay', [32, 23, 13, 54, 67]],\n",
    "                 ['Gyan',    [23, 82, 23, 63, 34]],\n",
    "                 ['Pranav',  [21, 23, 25, 56, 56]]\n",
    "                ]"
   ]
  },
  {
   "cell_type": "code",
   "execution_count": 3,
   "id": "e960c424",
   "metadata": {},
   "outputs": [
    {
     "data": {
      "text/plain": [
       "[56, 56, 25, 23]"
      ]
     },
     "execution_count": 3,
     "metadata": {},
     "output_type": "execute_result"
    }
   ],
   "source": [
    "sorted([21, 23, 25, 56, 56], reverse=True)[0:4]"
   ]
  },
  {
   "cell_type": "code",
   "execution_count": 9,
   "id": "8f953fb0",
   "metadata": {},
   "outputs": [],
   "source": [
    "# extract data from list by subject\n",
    "subject_B = []\n",
    "subject_C = []\n",
    "total_marks_by_student = []\n",
    "total_top_marks_by_student = []\n",
    "for item in student_marks[1:]:\n",
    "    subject_B.append([item[1][1], item[0]])\n",
    "    subject_C.append(item[1][2])\n",
    "    total_marks_by_student.append([sum(item[1]), item[0]])\n",
    "    total_top_marks_by_student.append([sum(sorted(item[1], reverse=True)[0:4]),item[0]])"
   ]
  },
  {
   "cell_type": "code",
   "execution_count": 22,
   "id": "47df8cc7",
   "metadata": {
    "scrolled": true
   },
   "outputs": [
    {
     "name": "stdout",
     "output_type": "stream",
     "text": [
      "Gyan has the highest marks in the subject B\n"
     ]
    }
   ],
   "source": [
    "# Finding student with highest marks in the subject B\n",
    "sorted(subject_B, reverse = True)\n",
    "print(\"{} has the highest marks in the subject B\".format(subject_B[0][1]))"
   ]
  },
  {
   "cell_type": "code",
   "execution_count": 26,
   "id": "02c3db7c",
   "metadata": {},
   "outputs": [
    {
     "name": "stdout",
     "output_type": "stream",
     "text": [
      "The average marsk scored in the subject C is 28.0\n"
     ]
    }
   ],
   "source": [
    "print(\"The average marsk scored in the subject C is {}\".format(sum(subject_C)/len(subject_C)))"
   ]
  },
  {
   "cell_type": "code",
   "execution_count": 41,
   "id": "610d1222",
   "metadata": {
    "scrolled": true
   },
   "outputs": [
    {
     "name": "stdout",
     "output_type": "stream",
     "text": [
      "Ankit has the highest percentage of marks (47%)\n"
     ]
    }
   ],
   "source": [
    "sorted(total_marks_by_student, reverse = True)\n",
    "highest_percentage = int((total_marks_by_student[0][0] /500)*100)\n",
    "print(\"{0} has the highest percentage of marks ({1}%)\".format(total_marks_by_student[0][1], str(highest_percentage)))"
   ]
  },
  {
   "cell_type": "code",
   "execution_count": 13,
   "id": "d9f3181e",
   "metadata": {},
   "outputs": [
    {
     "name": "stdout",
     "output_type": "stream",
     "text": [
      "Consider top-4 subject: Ankit has the highest percentage of marks (40%)\n"
     ]
    }
   ],
   "source": [
    "sorted(total_top_marks_by_student, reverse = True)\n",
    "mark, student = sorted(total_top_marks_by_student, reverse = True)[0]\n",
    "highest_percentage = int((mark /500)*100)\n",
    "print(\"Consider top-4 subject: {0} has the highest percentage of marks ({1}%)\".format(student, str(highest_percentage)))"
   ]
  }
 ],
 "metadata": {
  "kernelspec": {
   "display_name": "Python 3 (ipykernel)",
   "language": "python",
   "name": "python3"
  },
  "language_info": {
   "codemirror_mode": {
    "name": "ipython",
    "version": 3
   },
   "file_extension": ".py",
   "mimetype": "text/x-python",
   "name": "python",
   "nbconvert_exporter": "python",
   "pygments_lexer": "ipython3",
   "version": "3.9.7"
  }
 },
 "nbformat": 4,
 "nbformat_minor": 5
}
