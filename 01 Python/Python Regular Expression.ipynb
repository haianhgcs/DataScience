{
 "cells": [
  {
   "cell_type": "markdown",
   "metadata": {},
   "source": [
    "# Regular Expressions in Python\n",
    "The term Regular Expression is popularly shortened as regex. A regex is a sequence of characters that defines a search pattern, used mainly for performing find and replace operations in search engines and text processors.\n",
    "\n",
    "Python offers regex capabilities through the re module bundled as a part of the standard library."
   ]
  },
  {
   "cell_type": "markdown",
   "metadata": {},
   "source": [
    "## Raw strings\n",
    "Different functions in Python's re module use raw string as an argument. A normal string, when prefixed with 'r' or 'R' becomes a raw string."
   ]
  },
  {
   "cell_type": "code",
   "execution_count": 1,
   "metadata": {},
   "outputs": [
    {
     "name": "stdout",
     "output_type": "stream",
     "text": [
      "Hello! How are you?\n",
      "Hello! How are you?\n"
     ]
    }
   ],
   "source": [
    "tstring = 'Hello! How are you?'\n",
    "rawstr = r'Hello! How are you?'\n",
    "\n",
    "print(tstring)\n",
    "print(rawstr)"
   ]
  },
  {
   "cell_type": "markdown",
   "metadata": {},
   "source": [
    "#### Observation: Different between Raw and Normal String\n",
    "The difference between a normal string and a raw string is that the normal string in print() function translates escape characters (such as \\n, \\t etc.) if any, while those in a raw string are not."
   ]
  },
  {
   "cell_type": "code",
   "execution_count": 2,
   "metadata": {},
   "outputs": [
    {
     "name": "stdout",
     "output_type": "stream",
     "text": [
      "normal string: Hello!\n",
      "How are you?\n",
      "raw string: Hello!\\nHow are you?\n"
     ]
    }
   ],
   "source": [
    "str1 = \"Hello!\\n How are you?\"\n",
    "print(\"normal string:\", str1)\n",
    "\n",
    "str2 = r\"Hello!\\n How are you?\"\n",
    "print(\"raw string:\",str2) "
   ]
  },
  {
   "cell_type": "markdown",
   "metadata": {},
   "source": [
    "## meta characters\n",
    "Some characters carry a special meaning when they appear as a part pattern matching string. \n",
    "- In Windows or Linux DOS commands, we use * and ? - they are similar to meta characters. \n",
    "- Python's re module uses the following characters as meta characters:\n",
    "\n",
    "- Meta Characters::     **. ^ $ * + ? [ ] \\ | ( )**"
   ]
  },
  {
   "cell_type": "markdown",
   "metadata": {},
   "source": [
    "- When a set of alpha-numeric characters are placed inside square brackets [], the target string is matched with these characters. \n",
    "- A range of characters or individual characters can be listed in the square bracket.\n",
    "    - [abc]\tmatch any of the characters a, b, or c\n",
    "    - [a-c]\twhich uses a range to express the same set of characters.\n",
    "    - [a-z]\tmatch only lowercase letters.\n",
    "    - [0-9]\tmatch only digits."
   ]
  },
  {
   "cell_type": "markdown",
   "metadata": {},
   "source": [
    "### The following specific characters carry certain specific meaning."
   ]
  },
  {
   "cell_type": "markdown",
   "metadata": {},
   "source": [
    "Pattern\t| Description\n",
    ":- | :-\n",
    "\\d\t| Matches any decimal digit; this is equivalent to the class [0-9].\n",
    "\\D\t| Matches any non-digit character\n",
    "\\s\t| Matches any whitespace character\n",
    "\\S\t| Matches any non-whitespace character\n",
    "\\w\t| Matches any alphanumeric character\n",
    "\\W\t| Matches any non-alphanumeric character.\n",
    ".\t| Matches with any single character except newline ‘\\n’.\n",
    "?\t| match 0 or 1 occurrence of the pattern to its left\n",
    "+\t| 1 or more occurrences of the pattern to its left\n",
    "*\t| 0 or more occurrences of the pattern to its left\n",
    "\\b\t| boundary between word and non-word. /B is opposite of /b\n",
    "[..]\t| Matches any single character in a square bracket\n",
    "\\\t| It is used for special meaning characters like . to match a period or + for plus sign.\n",
    "{n,m}\t| Matches at least n and at most m occurrences of preceding\n",
    "a| b\t| Matches either a or b"
   ]
  },
  {
   "cell_type": "markdown",
   "metadata": {},
   "source": [
    "## re.match() function\n",
    "This function in re module tries to find if the specified pattern is present at the beginning of the given string.\n",
    " - re.match(pattern, string)"
   ]
  },
  {
   "cell_type": "code",
   "execution_count": 4,
   "metadata": {},
   "outputs": [
    {
     "name": "stdout",
     "output_type": "stream",
     "text": [
      "<re.Match object; span=(0, 2), match='We'>\n",
      "None\n"
     ]
    }
   ],
   "source": [
    "from re import match\n",
    "\n",
    "mystr = \"Welcome to TutorialsTeacher\"\n",
    "obj1 = match(\"We\", mystr)\n",
    "print(obj1)\n",
    "\n",
    "obj2 = match(\"Tut\", mystr)\n",
    "print(obj2) "
   ]
  },
  {
   "cell_type": "code",
   "execution_count": null,
   "metadata": {},
   "outputs": [],
   "source": [
    "print(\"start:\", obj1.start(), \"end:\", obj1.end())"
   ]
  },
  {
   "cell_type": "markdown",
   "metadata": {},
   "source": [
    "### The following example demonstrates the use of the range of characters to find out if a string starts with 'W' and is followed by an alphabet."
   ]
  },
  {
   "cell_type": "code",
   "execution_count": 5,
   "metadata": {},
   "outputs": [
    {
     "name": "stdout",
     "output_type": "stream",
     "text": [
      "<re.Match object; span=(0, 2), match='We'>\n",
      "None\n",
      "<re.Match object; span=(0, 2), match='Wi'>\n",
      "None\n",
      "<re.Match object; span=(0, 2), match='Wo'>\n",
      "<re.Match object; span=(0, 2), match='Wa'>\n"
     ]
    }
   ],
   "source": [
    "from re import match\n",
    "\n",
    "strings=[\"Welcome to TutorialsTeacher\", \n",
    "         \"weather forecast\",\n",
    "         \"Winston Churchill\", \n",
    "         \"W.G.Grace\",\n",
    "         \"Wonders of India\", \n",
    "         \"Water park\"]\n",
    "\n",
    "for string in strings:\n",
    "    obj = match(\"W[a-z]\",string)\n",
    "    print(obj)"
   ]
  },
  {
   "cell_type": "markdown",
   "metadata": {},
   "source": [
    "## re.search() function\n",
    "The **re.search()** function searches for a specified pattern anywhere in the given string and stops the search on the first occurrence."
   ]
  },
  {
   "cell_type": "code",
   "execution_count": 6,
   "metadata": {},
   "outputs": [
    {
     "name": "stdout",
     "output_type": "stream",
     "text": [
      "<re.Match object; span=(12, 15), match='whi'>\n",
      "Starting point: 12, Ending point : 15 and finding group: whi\n"
     ]
    }
   ],
   "source": [
    "from re import search\n",
    "\n",
    "string = \"Try to earn while you learn\"\n",
    "\n",
    "obj = search(\"whi\", string)\n",
    "print(obj)\n",
    "print('Starting point: {}, Ending point : {} and finding group: {}'.format(obj.start(), obj.end(), obj.group()))"
   ]
  },
  {
   "cell_type": "markdown",
   "metadata": {},
   "source": [
    "#### Observation:\n",
    "This function also returns the Match object with start and end attributes. It also gives a group of characters of which the pattern is a part of."
   ]
  },
  {
   "cell_type": "markdown",
   "metadata": {},
   "source": [
    "## re.findall() Function\n",
    "As against the **search()** function, the **findall()** continues to search for the pattern till the target string is exhausted. The object returns a list of all occurrences."
   ]
  },
  {
   "cell_type": "code",
   "execution_count": 7,
   "metadata": {},
   "outputs": [
    {
     "name": "stdout",
     "output_type": "stream",
     "text": [
      "['earn', 'earn']\n",
      "2\n"
     ]
    }
   ],
   "source": [
    "from re import findall\n",
    "\n",
    "string = \"Try to earn while you learn\"\n",
    "\n",
    "obj = findall(\"earn\", string)\n",
    "print(obj)\n",
    "print(len(obj))"
   ]
  },
  {
   "cell_type": "markdown",
   "metadata": {},
   "source": [
    "### This function can be used to get the list of words in a sentence. We shall use \\W* pattern for the purpose. We also check which of the words do not have any vowels in them."
   ]
  },
  {
   "cell_type": "code",
   "execution_count": 8,
   "metadata": {},
   "outputs": [
    {
     "name": "stdout",
     "output_type": "stream",
     "text": [
      "['Fly', '', 'in', '', 'the', '', 'sky', '', '']\n",
      "Fly\n",
      "sky\n"
     ]
    }
   ],
   "source": [
    "obj = findall(r\"\\w*\", \"Fly in the sky.\")\n",
    "print(obj)\n",
    "\n",
    "for word in obj:\n",
    "    obj= search(r\"[aeiou]\",word)\n",
    "    if word!='' and obj==None:\n",
    "        print(word)"
   ]
  },
  {
   "cell_type": "markdown",
   "metadata": {},
   "source": [
    "## re.finditer() function\n",
    "The **re.finditer()** function returns an iterator object of all matches in the target string. \n",
    "-  For each matched group, start and end positions can be obtained by **span()** attribute."
   ]
  },
  {
   "cell_type": "code",
   "execution_count": 9,
   "metadata": {},
   "outputs": [
    {
     "name": "stdout",
     "output_type": "stream",
     "text": [
      "(7, 11)\n",
      "(23, 27)\n"
     ]
    }
   ],
   "source": [
    "from re import finditer\n",
    "\n",
    "string = \"Try to earn while you learn\"\n",
    "\n",
    "it = finditer(\"earn\", string)\n",
    "for match in it:\n",
    "    print(match.span())"
   ]
  },
  {
   "cell_type": "markdown",
   "metadata": {},
   "source": [
    "## re.split() function\n",
    "The re.split() function works similar to the split() method of str object in Python. It splits the given string every time a white space is found. In the above example of the findall() to get all words, the list also contains each occurrence of white space as a word. That is eliminated by the split() function in re module."
   ]
  },
  {
   "cell_type": "code",
   "execution_count": 10,
   "metadata": {},
   "outputs": [
    {
     "name": "stdout",
     "output_type": "stream",
     "text": [
      "['Flat', 'is', 'better', 'than', 'nested.', 'Sparse', 'is', 'better', 'than', 'dense.']\n",
      "['Flat', 'is', 'better', 'than', 'nested.', 'Sparse', 'is', 'better', 'than', 'dense.']\n"
     ]
    }
   ],
   "source": [
    "from re import split\n",
    "\n",
    "string = \"Flat is better than nested. Sparse is better than dense.\"\n",
    "\n",
    "# Splitting is using re\n",
    "words = split(r' ', string)\n",
    "# Splitting is using string.split\n",
    "strSplit = string.split(' ')\n",
    "\n",
    "print(words)\n",
    "print(strSplit)"
   ]
  },
  {
   "cell_type": "markdown",
   "metadata": {},
   "source": [
    "## re.compile() Function\n",
    "The **re.compile()** function returns a pattern object which can be repeatedly used in different regex functions. \n",
    "- In the following example, a string 'is' is compiled to get a pattern object and is subjected to the search() method."
   ]
  },
  {
   "cell_type": "code",
   "execution_count": 16,
   "metadata": {},
   "outputs": [
    {
     "name": "stdout",
     "output_type": "stream",
     "text": [
      "Flat <re.Match object; span=(0, 1), match='F'>\n",
      "is <re.Match object; span=(0, 1), match='i'>\n",
      "better None\n",
      "than <re.Match object; span=(0, 1), match='t'>\n",
      "nested. None\n",
      "Sparse None\n",
      "is <re.Match object; span=(0, 1), match='i'>\n",
      "better None\n",
      "than <re.Match object; span=(0, 1), match='t'>\n",
      "dense. None\n"
     ]
    }
   ],
   "source": [
    "from re import *\n",
    "\n",
    "pattern = compile(r'[aeioutF]')\n",
    "string = \"Flat is better than nested. Sparse is better than dense.\"\n",
    "\n",
    "words = split(r' ', string) \n",
    "for word in words:\n",
    "    print(word, pattern.match(word))"
   ]
  },
  {
   "cell_type": "code",
   "execution_count": 14,
   "metadata": {},
   "outputs": [
    {
     "name": "stdout",
     "output_type": "stream",
     "text": [
      "Flat <re.Match object; span=(2, 3), match='a'>\n",
      "is <re.Match object; span=(0, 1), match='i'>\n",
      "better <re.Match object; span=(1, 2), match='e'>\n",
      "than <re.Match object; span=(2, 3), match='a'>\n",
      "nested. <re.Match object; span=(1, 2), match='e'>\n",
      "Sparse <re.Match object; span=(2, 3), match='a'>\n",
      "is <re.Match object; span=(0, 1), match='i'>\n",
      "better <re.Match object; span=(1, 2), match='e'>\n",
      "than <re.Match object; span=(2, 3), match='a'>\n",
      "dense. <re.Match object; span=(1, 2), match='e'>\n"
     ]
    }
   ],
   "source": [
    "for word in words:\n",
    "    print(word, pattern.search(word))"
   ]
  },
  {
   "cell_type": "code",
   "execution_count": null,
   "metadata": {},
   "outputs": [],
   "source": []
  }
 ],
 "metadata": {
  "kernelspec": {
   "display_name": "Python 3",
   "language": "python",
   "name": "python3"
  },
  "language_info": {
   "codemirror_mode": {
    "name": "ipython",
    "version": 3
   },
   "file_extension": ".py",
   "mimetype": "text/x-python",
   "name": "python",
   "nbconvert_exporter": "python",
   "pygments_lexer": "ipython3",
   "version": "3.7.8"
  }
 },
 "nbformat": 4,
 "nbformat_minor": 2
}
