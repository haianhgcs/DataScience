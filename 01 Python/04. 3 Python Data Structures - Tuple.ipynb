{
 "cells": [
  {
   "cell_type": "markdown",
   "id": "82dddb19",
   "metadata": {},
   "source": [
    "# Python Tuple\n",
    "* We generally use tuple for heterogeneous (different) datatypes and list for homogeneous (similar) datatypes.\n",
    "* Since tuples are immutable, iterating through tuple is faster than with list. So there is a slight performance boost.\n",
    "* Tuples that contain immutable elements can be used as a key for a dictionary. With lists, this is not possible.\n",
    "* If you have data that doesn't change, implementing it as tuple will guarantee that it remains write-protected.\n",
    "\n"
   ]
  },
  {
   "cell_type": "markdown",
   "id": "72a18671",
   "metadata": {},
   "source": [
    "# Tuple\n",
    "Tuples are used to store multiple items in a single variable.\n",
    "\n",
    "Tuple is one of 4 built-in data types in Python used to store collections of data, the other 3 are List, Set, and Dictionary, all with different qualities and usage.\n",
    "\n",
    "A tuple is a collection which is ordered and unchangeable.\n",
    "\n",
    "Tuples are written with round brackets."
   ]
  },
  {
   "cell_type": "code",
   "execution_count": 5,
   "id": "6c1565c7",
   "metadata": {},
   "outputs": [],
   "source": [
    "my_tuple = ('A', 'B', 'C', 'D', 'D', 'E', 1 , 'D')"
   ]
  },
  {
   "cell_type": "code",
   "execution_count": 6,
   "id": "524bbe99",
   "metadata": {},
   "outputs": [
    {
     "name": "stdout",
     "output_type": "stream",
     "text": [
      "('apple', 'banana', 'cherry')\n",
      "<class 'tuple'>\n"
     ]
    }
   ],
   "source": [
    "myTuple = (\"apple\", \"banana\", \"cherry\")\n",
    "print(myTuple)\n",
    "print(type(myTuple))"
   ]
  },
  {
   "cell_type": "code",
   "execution_count": 1,
   "id": "e4d492b0",
   "metadata": {},
   "outputs": [
    {
     "data": {
      "text/plain": [
       "(12345, 54321, 'hello!')"
      ]
     },
     "execution_count": 1,
     "metadata": {},
     "output_type": "execute_result"
    }
   ],
   "source": [
    "t = 12345, 54321, 'hello!'\n",
    "t"
   ]
  },
  {
   "cell_type": "markdown",
   "id": "1562989b",
   "metadata": {},
   "source": [
    "## The tuple() Constructor\n",
    "It is also possible to use the tuple() constructor to make a tuple."
   ]
  },
  {
   "cell_type": "code",
   "execution_count": 7,
   "id": "6e411414",
   "metadata": {},
   "outputs": [
    {
     "name": "stdout",
     "output_type": "stream",
     "text": [
      "('apple', 'banana', 'cherry')\n"
     ]
    }
   ],
   "source": [
    "myTuple = tuple((\"apple\", \"banana\", \"cherry\")) # note the double round-brackets\n",
    "print(myTuple)"
   ]
  },
  {
   "cell_type": "markdown",
   "id": "f567402d",
   "metadata": {},
   "source": [
    "## Tuple Items\n",
    "Tuple items are ordered, unchangeable, and allow duplicate values.\n",
    "   - When we say that tuples are ordered, it means that the items have a defined order, and that order will not change.\n",
    "   - Tuples are unchangeable, meaning that we cannot change, add or remove items after the tuple has been created.\n",
    "   - Since tuples are indexed, they can have items with the same value:\n",
    "\n",
    "Tuple items are indexed, the first item has index [0], the second item has index [1] etc."
   ]
  },
  {
   "cell_type": "code",
   "execution_count": 8,
   "id": "a7f3282d",
   "metadata": {},
   "outputs": [
    {
     "name": "stdout",
     "output_type": "stream",
     "text": [
      "('apple', 'banana', 'cherry', 'apple', 'cherry')\n"
     ]
    }
   ],
   "source": [
    "# Tuples allow duplicate values:\n",
    "myTuple = (\"apple\", \"banana\", \"cherry\", \"apple\", \"cherry\")\n",
    "print(myTuple)"
   ]
  },
  {
   "cell_type": "code",
   "execution_count": 9,
   "id": "f52eb208",
   "metadata": {},
   "outputs": [
    {
     "name": "stdout",
     "output_type": "stream",
     "text": [
      "5\n"
     ]
    }
   ],
   "source": [
    "# Finding length\n",
    "# Tuples allow duplicate values:\n",
    "myTuple = (\"apple\", \"banana\", \"cherry\", \"apple\", \"cherry\")\n",
    "print(len(myTuple))"
   ]
  },
  {
   "cell_type": "markdown",
   "id": "8ec034de",
   "metadata": {},
   "source": [
    "## Create Tuple With One Item\n",
    "To create a tuple with only one item, you have to add a comma after the item, otherwise Python will not recognize it as a tuple."
   ]
  },
  {
   "cell_type": "code",
   "execution_count": 10,
   "id": "7313ad6e",
   "metadata": {},
   "outputs": [
    {
     "name": "stdout",
     "output_type": "stream",
     "text": [
      "<class 'tuple'>\n",
      "<class 'str'>\n"
     ]
    }
   ],
   "source": [
    "myTuple = (\"apple\",)\n",
    "print(type(myTuple))\n",
    "\n",
    "#NOT a tuple\n",
    "myTuple = (\"apple\")\n",
    "print(type(myTuple))"
   ]
  },
  {
   "cell_type": "markdown",
   "id": "914ebfc6",
   "metadata": {},
   "source": [
    "## Tuple Items - Data Types\n",
    "Tuple items can be of any data type:"
   ]
  },
  {
   "cell_type": "code",
   "execution_count": 11,
   "id": "4fb73f54",
   "metadata": {},
   "outputs": [
    {
     "name": "stdout",
     "output_type": "stream",
     "text": [
      "('apple', 'banana', 'cherry')\n",
      "(1, 5, 7, 9, 3)\n",
      "(True, False, False)\n",
      "('abc', 34, True, 40, 'male')\n"
     ]
    }
   ],
   "source": [
    "tuple1 = (\"apple\", \"banana\", \"cherry\")\n",
    "tuple2 = (1, 5, 7, 9, 3)\n",
    "tuple3 = (True, False, False)\n",
    "mixTuple = (\"abc\", 34, True, 40, \"male\")\n",
    "print(tuple1)\n",
    "print(tuple2)\n",
    "print(tuple3)\n",
    "print(mixTuple)"
   ]
  },
  {
   "cell_type": "markdown",
   "id": "f7401000",
   "metadata": {},
   "source": [
    "## Access Tuple Items\n",
    "You can access tuple items by referring to the index number, inside square brackets:"
   ]
  },
  {
   "cell_type": "code",
   "execution_count": null,
   "id": "89a8fdc1",
   "metadata": {},
   "outputs": [],
   "source": [
    "myTuple = (\"apple\", \"banana\", \"cherry\")\n",
    "print(myTuple[1])\n",
    "\n",
    "# Negative Indexing: -1 refers to the last item, -2 refers to the second last item etc.\n",
    "print(myTuple[-1])"
   ]
  },
  {
   "cell_type": "markdown",
   "id": "1ed1c4fa",
   "metadata": {},
   "source": [
    "#### Slicing of a tuple\n",
    "\n",
    "---"
   ]
  },
  {
   "cell_type": "code",
   "execution_count": null,
   "id": "4e707ce1",
   "metadata": {},
   "outputs": [],
   "source": [
    "my_tuple = ('A', 'B', 'C', 'D', 'D', 'E', 1 , 'D')"
   ]
  },
  {
   "cell_type": "code",
   "execution_count": null,
   "id": "2d501971",
   "metadata": {},
   "outputs": [],
   "source": [
    "# first three elements\n",
    "my_tuple[:3]"
   ]
  },
  {
   "cell_type": "code",
   "execution_count": null,
   "id": "e35d5b03",
   "metadata": {},
   "outputs": [],
   "source": [
    "# define the start and end point to slice\n",
    "my_tuple[3:5]"
   ]
  },
  {
   "cell_type": "code",
   "execution_count": null,
   "id": "f588f195",
   "metadata": {},
   "outputs": [],
   "source": [
    "# count method on a slice \n",
    "my_tuple[3:5].count('D')"
   ]
  },
  {
   "cell_type": "code",
   "execution_count": null,
   "id": "f2536496",
   "metadata": {},
   "outputs": [],
   "source": [
    "# index method on a slice\n",
    "my_tuple[1:4].index('B')"
   ]
  },
  {
   "cell_type": "markdown",
   "id": "f9d27952",
   "metadata": {},
   "source": [
    "You can specify a range of indexes by specifying where to start and where to end the range.\n",
    "\n",
    "When specifying a range, the return value will be a new tuple with the specified items."
   ]
  },
  {
   "cell_type": "code",
   "execution_count": 15,
   "id": "3511ea0c",
   "metadata": {},
   "outputs": [
    {
     "name": "stdout",
     "output_type": "stream",
     "text": [
      "('cherry', 'orange', 'kiwi')\n",
      "('apple', 'banana', 'cherry', 'orange')\n",
      "('cherry', 'orange', 'kiwi', 'melon', 'mango')\n"
     ]
    }
   ],
   "source": [
    "myTuple = (\"apple\", \"banana\", \"cherry\", \"orange\", \"kiwi\", \"melon\", \"mango\")\n",
    "print(myTuple[2:5])\n",
    "\n",
    "# This example returns the items from the beginning to, but NOT included, \"kiwi\":\n",
    "print(myTuple[:4])\n",
    "\n",
    "# This example returns the items from \"cherry\" and to the end:\n",
    "print(myTuple[2:])"
   ]
  },
  {
   "cell_type": "markdown",
   "id": "c9b607e6",
   "metadata": {},
   "source": [
    "## Change Tuple Values\n",
    "Once a tuple is created, you cannot change its values. Tuples are unchangeable, or immutable as it also is called."
   ]
  },
  {
   "cell_type": "markdown",
   "id": "3b38a021",
   "metadata": {},
   "source": [
    "#### Tuples are immutable\n",
    "\n",
    "- We cannot edit/update or delete elements from the tuple.\n",
    "\n",
    "---"
   ]
  },
  {
   "cell_type": "code",
   "execution_count": 12,
   "id": "d50dca85",
   "metadata": {
    "scrolled": true
   },
   "outputs": [
    {
     "ename": "TypeError",
     "evalue": "'tuple' object does not support item assignment",
     "output_type": "error",
     "traceback": [
      "\u001b[1;31m---------------------------------------------------------------------------\u001b[0m",
      "\u001b[1;31mTypeError\u001b[0m                                 Traceback (most recent call last)",
      "\u001b[1;32mC:\\Users\\ANHNGU~1\\AppData\\Local\\Temp/ipykernel_7592/3605141140.py\u001b[0m in \u001b[0;36m<module>\u001b[1;34m\u001b[0m\n\u001b[0;32m      1\u001b[0m \u001b[0mmy_tuple\u001b[0m \u001b[1;33m=\u001b[0m \u001b[1;33m(\u001b[0m\u001b[1;34m'A'\u001b[0m\u001b[1;33m,\u001b[0m \u001b[1;34m'B'\u001b[0m\u001b[1;33m,\u001b[0m \u001b[1;34m'C'\u001b[0m\u001b[1;33m,\u001b[0m \u001b[1;34m'D'\u001b[0m\u001b[1;33m,\u001b[0m \u001b[1;34m'D'\u001b[0m\u001b[1;33m,\u001b[0m \u001b[1;34m'E'\u001b[0m\u001b[1;33m,\u001b[0m \u001b[1;36m1\u001b[0m \u001b[1;33m,\u001b[0m \u001b[1;34m'D'\u001b[0m\u001b[1;33m)\u001b[0m\u001b[1;33m\u001b[0m\u001b[1;33m\u001b[0m\u001b[0m\n\u001b[1;32m----> 2\u001b[1;33m \u001b[0mmy_tuple\u001b[0m\u001b[1;33m[\u001b[0m\u001b[1;36m2\u001b[0m\u001b[1;33m]\u001b[0m \u001b[1;33m=\u001b[0m \u001b[1;34m'D'\u001b[0m\u001b[1;33m\u001b[0m\u001b[1;33m\u001b[0m\u001b[0m\n\u001b[0m",
      "\u001b[1;31mTypeError\u001b[0m: 'tuple' object does not support item assignment"
     ]
    }
   ],
   "source": [
    "my_tuple = ('A', 'B', 'C', 'D', 'D', 'E', 1 , 'D')\n",
    "my_tuple[2] = 'D'"
   ]
  },
  {
   "cell_type": "code",
   "execution_count": 14,
   "id": "19a12c6f",
   "metadata": {},
   "outputs": [
    {
     "ename": "TypeError",
     "evalue": "'tuple' object doesn't support item deletion",
     "output_type": "error",
     "traceback": [
      "\u001b[1;31m---------------------------------------------------------------------------\u001b[0m",
      "\u001b[1;31mTypeError\u001b[0m                                 Traceback (most recent call last)",
      "\u001b[1;32mC:\\Users\\ANHNGU~1\\AppData\\Local\\Temp/ipykernel_7592/3855699595.py\u001b[0m in \u001b[0;36m<module>\u001b[1;34m\u001b[0m\n\u001b[1;32m----> 1\u001b[1;33m \u001b[1;32mdel\u001b[0m \u001b[0mmy_tuple\u001b[0m\u001b[1;33m[\u001b[0m\u001b[1;36m0\u001b[0m\u001b[1;33m]\u001b[0m\u001b[1;33m\u001b[0m\u001b[1;33m\u001b[0m\u001b[0m\n\u001b[0m",
      "\u001b[1;31mTypeError\u001b[0m: 'tuple' object doesn't support item deletion"
     ]
    }
   ],
   "source": [
    "del my_tuple[0]"
   ]
  },
  {
   "cell_type": "code",
   "execution_count": 16,
   "id": "5e49e68b",
   "metadata": {},
   "outputs": [
    {
     "ename": "TypeError",
     "evalue": "'tuple' object does not support item assignment",
     "output_type": "error",
     "traceback": [
      "\u001b[1;31m---------------------------------------------------------------------------\u001b[0m",
      "\u001b[1;31mTypeError\u001b[0m                                 Traceback (most recent call last)",
      "\u001b[1;32mC:\\Users\\ANHNGU~1\\AppData\\Local\\Temp/ipykernel_7592/1650472079.py\u001b[0m in \u001b[0;36m<module>\u001b[1;34m\u001b[0m\n\u001b[0;32m      1\u001b[0m \u001b[0mx\u001b[0m \u001b[1;33m=\u001b[0m \u001b[1;33m(\u001b[0m\u001b[1;34m\"apple\"\u001b[0m\u001b[1;33m,\u001b[0m \u001b[1;34m\"banana\"\u001b[0m\u001b[1;33m,\u001b[0m \u001b[1;34m\"cherry\"\u001b[0m\u001b[1;33m)\u001b[0m\u001b[1;33m\u001b[0m\u001b[1;33m\u001b[0m\u001b[0m\n\u001b[1;32m----> 2\u001b[1;33m \u001b[0mx\u001b[0m\u001b[1;33m[\u001b[0m\u001b[1;36m1\u001b[0m\u001b[1;33m]\u001b[0m \u001b[1;33m=\u001b[0m \u001b[1;34m'mango'\u001b[0m\u001b[1;33m\u001b[0m\u001b[1;33m\u001b[0m\u001b[0m\n\u001b[0m",
      "\u001b[1;31mTypeError\u001b[0m: 'tuple' object does not support item assignment"
     ]
    }
   ],
   "source": [
    "x = (\"apple\", \"banana\", \"cherry\")\n",
    "x[1] = 'mango'"
   ]
  },
  {
   "cell_type": "markdown",
   "id": "9821f368",
   "metadata": {},
   "source": [
    "\n",
    "But there is a workaround. You can convert the tuple into a list, change the list, and convert the list back into a tuple."
   ]
  },
  {
   "cell_type": "code",
   "execution_count": null,
   "id": "ad8bf6ae",
   "metadata": {},
   "outputs": [],
   "source": [
    "x = (\"apple\", \"banana\", \"cherry\")\n",
    "y = list(x)\n",
    "y[1] = \"kiwi\"\n",
    "x = tuple(y)\n",
    "\n",
    "print(x)"
   ]
  },
  {
   "cell_type": "markdown",
   "id": "7fd3a803",
   "metadata": {},
   "source": [
    "## Add Items\n",
    "Since tuples are immutable, they do not have a build-in append() method, but there are other ways to add items to a tuple.\n",
    "\n",
    "1. Convert into a list: Just like the workaround for changing a tuple, you can convert it into a list, add your item(s), and convert it back into a tuple.\n",
    "2. Add tuple to a tuple. You are allowed to add tuples to tuples, so if you want to add one item, (or many), create a new tuple with the item(s), and add it to the existing tuple:"
   ]
  },
  {
   "cell_type": "code",
   "execution_count": null,
   "id": "c2da6226",
   "metadata": {
    "scrolled": true
   },
   "outputs": [],
   "source": [
    "myTuple = (\"apple\", \"banana\", \"cherry\")\n",
    "y = list(myTuple)\n",
    "y.append(\"orange\")\n",
    "myTuple = tuple(y)\n",
    "print(myTuple)\n",
    "\n",
    "y = (\"mango\",)\n",
    "myTuple += y\n",
    "\n",
    "print(myTuple)"
   ]
  },
  {
   "cell_type": "markdown",
   "id": "f5426898",
   "metadata": {},
   "source": [
    "## Find out the index of any element if present in Tuple\n",
    "\n",
    "---"
   ]
  },
  {
   "cell_type": "code",
   "execution_count": null,
   "id": "ad343917",
   "metadata": {},
   "outputs": [],
   "source": [
    "my_tuple.index('E')"
   ]
  },
  {
   "cell_type": "markdown",
   "id": "4ab1566e",
   "metadata": {},
   "source": [
    "## Count of an element in a tuple\n",
    "\n",
    "---"
   ]
  },
  {
   "cell_type": "code",
   "execution_count": null,
   "id": "161a6bf2",
   "metadata": {},
   "outputs": [],
   "source": [
    "my_tuple.count('D')"
   ]
  },
  {
   "cell_type": "markdown",
   "id": "d96e687d",
   "metadata": {},
   "source": [
    "## Unpacking a Tuple\n",
    "When we create a tuple, we normally assign values to it. This is called \"packing\" a tuple:"
   ]
  },
  {
   "cell_type": "code",
   "execution_count": null,
   "id": "186b8feb",
   "metadata": {},
   "outputs": [],
   "source": [
    "fruits = (\"apple\", \"banana\", \"cherry\")\n",
    "print(fruits)"
   ]
  },
  {
   "cell_type": "code",
   "execution_count": null,
   "id": "f43f097e",
   "metadata": {},
   "outputs": [],
   "source": [
    "# But, in Python, we are also allowed to extract the values back into variables. This is called \"unpacking\":\n",
    "fruits = (\"apple\", \"banana\", \"cherry\")\n",
    "\n",
    "(green, yellow, red) = fruits\n",
    "\n",
    "print(green)\n",
    "print(yellow)\n",
    "print(red)"
   ]
  },
  {
   "cell_type": "markdown",
   "id": "175cf839",
   "metadata": {},
   "source": [
    "Make sure the number of values you are unpacking matches the number of variables being assigned."
   ]
  },
  {
   "cell_type": "code",
   "execution_count": 2,
   "id": "09ecdaca",
   "metadata": {},
   "outputs": [
    {
     "ename": "ValueError",
     "evalue": "too many values to unpack (expected 3)",
     "output_type": "error",
     "traceback": [
      "\u001b[1;31m---------------------------------------------------------------------------\u001b[0m",
      "\u001b[1;31mValueError\u001b[0m                                Traceback (most recent call last)",
      "Cell \u001b[1;32mIn[2], line 2\u001b[0m\n\u001b[0;32m      1\u001b[0m x \u001b[38;5;241m=\u001b[39m (\u001b[38;5;124m'\u001b[39m\u001b[38;5;124mChristopher\u001b[39m\u001b[38;5;124m'\u001b[39m, \u001b[38;5;124m'\u001b[39m\u001b[38;5;124mBrooks\u001b[39m\u001b[38;5;124m'\u001b[39m, \u001b[38;5;124m'\u001b[39m\u001b[38;5;124mbrooksch@umich.edu\u001b[39m\u001b[38;5;124m'\u001b[39m, \u001b[38;5;124m'\u001b[39m\u001b[38;5;124mAnn Arbor\u001b[39m\u001b[38;5;124m'\u001b[39m)\n\u001b[1;32m----> 2\u001b[0m fname, lname, email \u001b[38;5;241m=\u001b[39m x\n",
      "\u001b[1;31mValueError\u001b[0m: too many values to unpack (expected 3)"
     ]
    }
   ],
   "source": [
    "x = ('Christopher', 'Brooks', 'brooksch@umich.edu', 'Ann Arbor')\n",
    "fname, lname, email = x"
   ]
  },
  {
   "cell_type": "markdown",
   "id": "4f34e033",
   "metadata": {},
   "source": [
    "### Using Asterisk*\n",
    "If the number of variables is less than the number of values, you can add an * to the variable name and the values will be assigned to the variable as a list:"
   ]
  },
  {
   "cell_type": "code",
   "execution_count": null,
   "id": "7fd1e2bb",
   "metadata": {},
   "outputs": [],
   "source": [
    "fruits = (\"apple\", \"banana\", \"cherry\", \"strawberry\", \"raspberry\")\n",
    "\n",
    "(green, yellow, *red) = fruits\n",
    "\n",
    "print(green)\n",
    "print(yellow)\n",
    "print(red)"
   ]
  },
  {
   "cell_type": "code",
   "execution_count": null,
   "id": "54f8ca91",
   "metadata": {},
   "outputs": [],
   "source": [
    "fruits = (\"apple\", \"mango\", \"papaya\", \"pineapple\", \"cherry\")\n",
    "\n",
    "(green, *tropic, red) = fruits\n",
    "\n",
    "print(green)\n",
    "print(tropic)\n",
    "print(red)"
   ]
  },
  {
   "cell_type": "markdown",
   "id": "911825de",
   "metadata": {},
   "source": [
    "## Loop Through a Tuple\n",
    "You can loop through the tuple items by using a for loop."
   ]
  },
  {
   "cell_type": "code",
   "execution_count": null,
   "id": "d87beb50",
   "metadata": {},
   "outputs": [],
   "source": [
    "myTuple = (\"apple\", \"banana\", \"cherry\")\n",
    "for x in myTuple:\n",
    "    print(x)"
   ]
  },
  {
   "cell_type": "code",
   "execution_count": null,
   "id": "cb25370e",
   "metadata": {},
   "outputs": [],
   "source": [
    "myTuple = (\"apple\", \"banana\", \"cherry\")\n",
    "for i in range(len(myTuple)):\n",
    "    print(myTuple[i])"
   ]
  },
  {
   "cell_type": "markdown",
   "id": "6ec0d65c",
   "metadata": {},
   "source": [
    "### Using a While Loop\n",
    "You can loop through the list items by using a while loop.\n",
    "\n",
    "Use the len() function to determine the length of the tuple, then start at 0 and loop your way through the tuple items by refering to their indexes.\n",
    "\n",
    "Remember to increase the index by 1 after each iteration."
   ]
  },
  {
   "cell_type": "code",
   "execution_count": null,
   "id": "54c0e857",
   "metadata": {},
   "outputs": [],
   "source": [
    "myTuple = (\"apple\", \"banana\", \"cherry\")\n",
    "i = 0\n",
    "while i < len(myTuple):\n",
    "    print(myTuple[i])\n",
    "    i = i + 1"
   ]
  },
  {
   "cell_type": "markdown",
   "id": "bddcc18e",
   "metadata": {},
   "source": [
    "## Join Two Tuples\n",
    "To join two or more tuples you can use the + operator:"
   ]
  },
  {
   "cell_type": "code",
   "execution_count": null,
   "id": "e3d3dc2f",
   "metadata": {},
   "outputs": [],
   "source": [
    "tuple1 = (\"a\", \"b\" , \"c\")\n",
    "tuple2 = (1, 2, 3)\n",
    "\n",
    "tuple3 = tuple1 + tuple2\n",
    "print(tuple3)\n",
    "\n",
    "tuple3 = tuple1 + tuple2\n",
    "print(tuple3)"
   ]
  }
 ],
 "metadata": {
  "kernelspec": {
   "display_name": "Python 3 (ipykernel)",
   "language": "python",
   "name": "python3"
  },
  "language_info": {
   "codemirror_mode": {
    "name": "ipython",
    "version": 3
   },
   "file_extension": ".py",
   "mimetype": "text/x-python",
   "name": "python",
   "nbconvert_exporter": "python",
   "pygments_lexer": "ipython3",
   "version": "3.9.0"
  }
 },
 "nbformat": 4,
 "nbformat_minor": 5
}
