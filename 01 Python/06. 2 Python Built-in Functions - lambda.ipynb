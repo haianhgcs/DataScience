{
 "cells": [
  {
   "cell_type": "markdown",
   "id": "4f17cf80",
   "metadata": {},
   "source": [
    "## Python Lambda\n",
    "- A lambda function is a small anonymous function.\n",
    "- A lambda function can take any number of arguments, but can only have one expression.\n",
    "    - lambda arguments : expression\n",
    "\n",
    "### Why Use Lambda Functions?\n",
    "- The power of lambda is better shown when you use them as an anonymous function inside another function.\n",
    "- It is more efficient than function when the function task is small.\n",
    "- Do not use Lambda functions when task is complex.\n",
    "- It works best when you have to call a function millions of times but the execution task is simple.\n",
    "\n",
    "Say you have a function definition that takes one argument, and that argument will be multiplied with an unknown number:"
   ]
  },
  {
   "cell_type": "code",
   "execution_count": 1,
   "id": "75a13e35",
   "metadata": {},
   "outputs": [
    {
     "name": "stdout",
     "output_type": "stream",
     "text": [
      "15\n",
      "15\n"
     ]
    }
   ],
   "source": [
    "def add_10(num):\n",
    "    return num + 10\n",
    "print(add_10(5))\n",
    "\n",
    "x = lambda a : a + 10\n",
    "print(x(5))"
   ]
  },
  {
   "cell_type": "markdown",
   "id": "2394f520",
   "metadata": {},
   "source": [
    "***A Lambda function with two arguments.***"
   ]
  },
  {
   "cell_type": "code",
   "execution_count": 2,
   "id": "66ca9a5c",
   "metadata": {},
   "outputs": [
    {
     "name": "stdout",
     "output_type": "stream",
     "text": [
      "30\n",
      "30\n"
     ]
    }
   ],
   "source": [
    "def mul_two_num(a, b):\n",
    "    return a * b\n",
    "print(mul_two_num(5,6))\n",
    "\n",
    "# Using Lambda\n",
    "x = lambda a, b : a * b\n",
    "print(x(5, 6))"
   ]
  },
  {
   "cell_type": "code",
   "execution_count": 3,
   "id": "2873117e",
   "metadata": {},
   "outputs": [
    {
     "name": "stdout",
     "output_type": "stream",
     "text": [
      "22\n"
     ]
    }
   ],
   "source": [
    "# Use that function definition to make a function that always doubles the number you send in:\n",
    "def myfunc(n):\n",
    "    return lambda a : a * n\n",
    "\n",
    "# Returning lambda function here with n value\n",
    "mydoubler = myfunc(2)\n",
    "\n",
    "# executing lambda function with passing a value to multiply a and n\n",
    "print(mydoubler(11))"
   ]
  }
 ],
 "metadata": {
  "kernelspec": {
   "display_name": "Python 3 (ipykernel)",
   "language": "python",
   "name": "python3"
  },
  "language_info": {
   "codemirror_mode": {
    "name": "ipython",
    "version": 3
   },
   "file_extension": ".py",
   "mimetype": "text/x-python",
   "name": "python",
   "nbconvert_exporter": "python",
   "pygments_lexer": "ipython3",
   "version": "3.9.7"
  }
 },
 "nbformat": 4,
 "nbformat_minor": 5
}
