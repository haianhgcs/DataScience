{
 "cells": [
  {
   "cell_type": "markdown",
   "id": "82dddb19",
   "metadata": {},
   "source": [
    "# Python Lists"
   ]
  },
  {
   "cell_type": "markdown",
   "id": "e809c6c3",
   "metadata": {},
   "source": [
    "## List\n",
    "Lists are used to store multiple items in a single variable.\n",
    "\n",
    "Lists are one of 4 built-in data types in Python used to store collections of data, the other 3 are Tuple, Set, and Dictionary, all with different qualities and usage."
   ]
  },
  {
   "cell_type": "markdown",
   "id": "fed73b20",
   "metadata": {},
   "source": [
    "***Creating a list***\n",
    "\n",
    "---"
   ]
  },
  {
   "cell_type": "code",
   "execution_count": null,
   "id": "615a2825",
   "metadata": {},
   "outputs": [],
   "source": [
    "#creating a list\n",
    "my_list =[1, 2, 3, 4, 5, 6, 7, 8, 9, 10]"
   ]
  },
  {
   "cell_type": "code",
   "execution_count": null,
   "id": "53089064",
   "metadata": {},
   "outputs": [],
   "source": [
    "myList = [\"apple\", \"banana\", \"cherry\"]\n",
    "print(myList)\n",
    "print(type(myList))"
   ]
  },
  {
   "cell_type": "markdown",
   "id": "70ccedc6",
   "metadata": {},
   "source": [
    "## The list() Constructor\n",
    "It is also possible to use the list() constructor when creating a new list."
   ]
  },
  {
   "cell_type": "code",
   "execution_count": null,
   "id": "bf895ef9",
   "metadata": {},
   "outputs": [],
   "source": [
    "myList = list((\"apple\", \"banana\", \"cherry\")) # note the double round-brackets\n",
    "print(myList)"
   ]
  },
  {
   "cell_type": "markdown",
   "id": "ee3b9ca7",
   "metadata": {},
   "source": [
    "## Allow Duplicates\n",
    "Since lists are indexed, lists can have items with the same value:"
   ]
  },
  {
   "cell_type": "code",
   "execution_count": null,
   "id": "0480404d",
   "metadata": {},
   "outputs": [],
   "source": [
    "myList = [\"apple\", \"banana\", \"cherry\", \"apple\", \"cherry\"]\n",
    "print(myList)"
   ]
  },
  {
   "cell_type": "markdown",
   "id": "d76be4e3",
   "metadata": {},
   "source": [
    "## List Length\n",
    "To determine how many items a list has, use the len() function:"
   ]
  },
  {
   "cell_type": "code",
   "execution_count": null,
   "id": "da821acb",
   "metadata": {},
   "outputs": [],
   "source": [
    "myList = [\"apple\", \"banana\", \"cherry\"]\n",
    "print(len(myList))"
   ]
  },
  {
   "cell_type": "markdown",
   "id": "70c5d7d6",
   "metadata": {},
   "source": [
    "## List Items - Data Types\n",
    "List items can be of any data type:"
   ]
  },
  {
   "cell_type": "code",
   "execution_count": null,
   "id": "eba2fa0c",
   "metadata": {},
   "outputs": [],
   "source": [
    "list1 = [\"apple\", \"banana\", \"cherry\"]\n",
    "list2 = [1, 5, 7, 9, 3]\n",
    "list3 = [True, False, False]\n",
    "mixedList = [\"abc\", 34, True, 40, \"male\"]\n",
    "print(list1)\n",
    "print(list2)\n",
    "print(list3)\n",
    "print(mixedList)"
   ]
  },
  {
   "cell_type": "markdown",
   "id": "2184eb07",
   "metadata": {},
   "source": [
    "## Access Items\n",
    "List items are indexed and you can access them by referring to the index number:"
   ]
  },
  {
   "cell_type": "code",
   "execution_count": null,
   "id": "351bb001",
   "metadata": {},
   "outputs": [],
   "source": [
    "myList = [\"apple\", \"banana\", \"cherry\"]\n",
    "print(myList[1])\n",
    "\n",
    "# Negative listing\n",
    "print(myList[-1])"
   ]
  },
  {
   "cell_type": "markdown",
   "id": "cb7de312",
   "metadata": {},
   "source": [
    "***List Slicing***\n",
    "\n",
    "---\n",
    "You can specify a range of indexes by specifying where to start and where to end the range.\n",
    "\n",
    "When specifying a range, the return value will be a new list with the specified items."
   ]
  },
  {
   "cell_type": "code",
   "execution_count": null,
   "id": "832549f0",
   "metadata": {},
   "outputs": [],
   "source": [
    "# get all the elements in the list using colon only\n",
    "my_list[:]"
   ]
  },
  {
   "cell_type": "code",
   "execution_count": null,
   "id": "e07c00df",
   "metadata": {},
   "outputs": [],
   "source": [
    "# same result using the double colon also\n",
    "my_list[::]"
   ]
  },
  {
   "cell_type": "code",
   "execution_count": null,
   "id": "f97e65a6",
   "metadata": {},
   "outputs": [],
   "source": [
    "# after second colon we define the step\n",
    "my_list[::1]"
   ]
  },
  {
   "cell_type": "code",
   "execution_count": null,
   "id": "2ed94757",
   "metadata": {},
   "outputs": [],
   "source": [
    "# slice list with step 2\n",
    "my_list[::2]"
   ]
  },
  {
   "cell_type": "code",
   "execution_count": null,
   "id": "b4687a67",
   "metadata": {},
   "outputs": [],
   "source": [
    "# list from index 2 upto 5 with step 1\n",
    "my_list[2:5:1]"
   ]
  },
  {
   "cell_type": "code",
   "execution_count": null,
   "id": "2d892fcf",
   "metadata": {},
   "outputs": [],
   "source": [
    "# list from index 2 upto 5 with step 2 \n",
    "my_list[2:5:2]"
   ]
  },
  {
   "cell_type": "code",
   "execution_count": null,
   "id": "fe03b878",
   "metadata": {},
   "outputs": [],
   "source": [
    "# list from index 3 to second last index\n",
    "my_list[2:-2]"
   ]
  },
  {
   "cell_type": "code",
   "execution_count": null,
   "id": "0dab440b",
   "metadata": {},
   "outputs": [],
   "source": [
    "# reverse the list using step value as -1\n",
    "my_list[::-1]"
   ]
  },
  {
   "cell_type": "code",
   "execution_count": 23,
   "id": "356d2fcc",
   "metadata": {},
   "outputs": [
    {
     "name": "stdout",
     "output_type": "stream",
     "text": [
      "['cherry', 'orange', 'kiwi']\n"
     ]
    }
   ],
   "source": [
    "myList = [\"apple\", \"banana\", \"cherry\", \"orange\", \"kiwi\", \"melon\", \"mango\"]\n",
    "print(myList[2:5])"
   ]
  },
  {
   "cell_type": "markdown",
   "id": "360173fe",
   "metadata": {},
   "source": [
    "## Change Item Value\n",
    "To change the value of a specific item, refer to the index number:"
   ]
  },
  {
   "cell_type": "code",
   "execution_count": null,
   "id": "66aae1aa",
   "metadata": {},
   "outputs": [],
   "source": [
    "myList = [\"apple\", \"banana\", \"cherry\"]\n",
    "print(myList)\n",
    "\n",
    "# Changing the value of second index\n",
    "myList[1] = \"blackcurrant\"\n",
    "print(myList)"
   ]
  },
  {
   "cell_type": "code",
   "execution_count": 1,
   "id": "4e342c69",
   "metadata": {},
   "outputs": [
    {
     "name": "stdout",
     "output_type": "stream",
     "text": [
      "['apple', 'blackcurrant', 'watermelon', 'orange', 'kiwi', 'mango']\n"
     ]
    }
   ],
   "source": [
    "# Change of range of items\n",
    "myList = [\"apple\", \"banana\", \"cherry\", \"orange\", \"kiwi\", \"mango\"]\n",
    "myList[1:3] = [\"blackcurrant\", \"watermelon\"]\n",
    "print(myList)"
   ]
  },
  {
   "cell_type": "code",
   "execution_count": 2,
   "id": "7743687b",
   "metadata": {},
   "outputs": [
    {
     "name": "stdout",
     "output_type": "stream",
     "text": [
      "['apple', 'blackcurrant', 'watermelon', 'cherry']\n"
     ]
    }
   ],
   "source": [
    "# Change the second value by replacing it with two new values:\n",
    "myList = [\"apple\", \"banana\", \"cherry\"]\n",
    "myList[1:2] = [\"blackcurrant\", \"watermelon\"]\n",
    "print(myList)"
   ]
  },
  {
   "cell_type": "markdown",
   "id": "104e44cc",
   "metadata": {},
   "source": [
    "## Insert Items\n",
    "To insert a new list item, without replacing any of the existing values, we can use the insert() method.\n",
    "\n",
    "The insert() method inserts an item at the specified index:"
   ]
  },
  {
   "cell_type": "code",
   "execution_count": null,
   "id": "102edf2f",
   "metadata": {},
   "outputs": [],
   "source": [
    "myList = [\"apple\", \"banana\", \"cherry\"]\n",
    "myList.insert(2, \"watermelon\")\n",
    "print(myList)"
   ]
  },
  {
   "cell_type": "markdown",
   "id": "ef324591",
   "metadata": {},
   "source": [
    "## Append Items\n",
    "To add an item to the end of the list, use the append() method:"
   ]
  },
  {
   "cell_type": "code",
   "execution_count": null,
   "id": "9280c322",
   "metadata": {},
   "outputs": [],
   "source": [
    "myList = [\"apple\", \"banana\", \"cherry\"]\n",
    "myList.append(\"orange\")\n",
    "print(myList)"
   ]
  },
  {
   "cell_type": "code",
   "execution_count": null,
   "id": "7893ee27",
   "metadata": {},
   "outputs": [],
   "source": [
    "# let's try to append multiple elements in the list\n",
    "my_list.append([1,2])\n",
    "my_list"
   ]
  },
  {
   "cell_type": "markdown",
   "id": "99675444",
   "metadata": {},
   "source": [
    "You can see that it has created an nested list when used append method, You can add multiple elements to the list by using extend function. \n",
    "\n",
    "---"
   ]
  },
  {
   "cell_type": "markdown",
   "id": "d3218f57",
   "metadata": {},
   "source": [
    "## Extend List\n",
    "To append elements from another list to the current list, use the extend() method."
   ]
  },
  {
   "cell_type": "code",
   "execution_count": null,
   "id": "57db2d44",
   "metadata": {},
   "outputs": [],
   "source": [
    "myList = [\"apple\", \"banana\", \"cherry\"]\n",
    "tropicalList = [\"mango\", \"pineapple\", \"papaya\"]\n",
    "myList.extend(tropicalList)\n",
    "print(myList)"
   ]
  },
  {
   "cell_type": "markdown",
   "id": "8b3a4dad",
   "metadata": {},
   "source": [
    "## Add Any Iterable\n",
    "The extend() method does not have to append lists, you can add any iterable object (tuples, sets, dictionaries etc.)."
   ]
  },
  {
   "cell_type": "code",
   "execution_count": null,
   "id": "a9d87014",
   "metadata": {},
   "outputs": [],
   "source": [
    "myList = [\"apple\", \"banana\", \"cherry\"]\n",
    "myTuple = (\"kiwi\", \"orange\")\n",
    "myList.extend(myTuple)\n",
    "print(myList)"
   ]
  },
  {
   "cell_type": "code",
   "execution_count": null,
   "id": "77cf2cfb",
   "metadata": {},
   "outputs": [],
   "source": [
    "myList = [\"apple\", \"banana\", \"cherry\"]\n",
    "myDic = {1:\"abc\",2:\"xyz\"}\n",
    "myList.extend(myDic)\n",
    "print(myList)"
   ]
  },
  {
   "cell_type": "markdown",
   "id": "6a341266",
   "metadata": {},
   "source": [
    "## Remove Specified Item\n",
    "The remove() method removes the specified item."
   ]
  },
  {
   "cell_type": "code",
   "execution_count": 1,
   "id": "69dcca48",
   "metadata": {},
   "outputs": [
    {
     "name": "stdout",
     "output_type": "stream",
     "text": [
      "['apple', 'cherry']\n"
     ]
    }
   ],
   "source": [
    "myList = [\"apple\", \"banana\", \"cherry\"]\n",
    "myList.remove(\"banana\")\n",
    "print(myList)"
   ]
  },
  {
   "cell_type": "markdown",
   "id": "2f2d10e4",
   "metadata": {},
   "source": [
    "## Remove Specified Index\n",
    "The pop() method removes the specified index."
   ]
  },
  {
   "cell_type": "code",
   "execution_count": null,
   "id": "36c267e8",
   "metadata": {},
   "outputs": [],
   "source": [
    "myList = [\"apple\", \"banana\", \"cherry\"]\n",
    "myList.pop(1)\n",
    "print(myList)"
   ]
  },
  {
   "cell_type": "code",
   "execution_count": null,
   "id": "e300736a",
   "metadata": {},
   "outputs": [],
   "source": [
    "# If you do not specify the index, the pop() method removes the last item.\n",
    "myList = [\"apple\", \"banana\", \"cherry\"]\n",
    "myList.pop()\n",
    "print(myList)"
   ]
  },
  {
   "cell_type": "code",
   "execution_count": null,
   "id": "b1fc6ace",
   "metadata": {},
   "outputs": [],
   "source": [
    "# Remove the first item:\n",
    "myList = [\"apple\", \"banana\", \"cherry\"]\n",
    "del myList[0]\n",
    "print(myList)"
   ]
  },
  {
   "cell_type": "code",
   "execution_count": 4,
   "id": "ed6eeae6",
   "metadata": {},
   "outputs": [
    {
     "ename": "NameError",
     "evalue": "name 'myList' is not defined",
     "output_type": "error",
     "traceback": [
      "\u001b[1;31m---------------------------------------------------------------------------\u001b[0m",
      "\u001b[1;31mNameError\u001b[0m                                 Traceback (most recent call last)",
      "\u001b[1;32mC:\\Users\\ANHNGU~1\\AppData\\Local\\Temp/ipykernel_15628/3320775016.py\u001b[0m in \u001b[0;36m<module>\u001b[1;34m\u001b[0m\n\u001b[0;32m      2\u001b[0m \u001b[0mmyList\u001b[0m \u001b[1;33m=\u001b[0m \u001b[1;33m[\u001b[0m\u001b[1;34m\"apple\"\u001b[0m\u001b[1;33m,\u001b[0m \u001b[1;34m\"banana\"\u001b[0m\u001b[1;33m,\u001b[0m \u001b[1;34m\"cherry\"\u001b[0m\u001b[1;33m]\u001b[0m\u001b[1;33m\u001b[0m\u001b[1;33m\u001b[0m\u001b[0m\n\u001b[0;32m      3\u001b[0m \u001b[1;32mdel\u001b[0m \u001b[0mmyList\u001b[0m\u001b[1;33m\u001b[0m\u001b[1;33m\u001b[0m\u001b[0m\n\u001b[1;32m----> 4\u001b[1;33m \u001b[0mprint\u001b[0m\u001b[1;33m(\u001b[0m\u001b[0mmyList\u001b[0m\u001b[1;33m)\u001b[0m\u001b[1;33m\u001b[0m\u001b[1;33m\u001b[0m\u001b[0m\n\u001b[0m",
      "\u001b[1;31mNameError\u001b[0m: name 'myList' is not defined"
     ]
    }
   ],
   "source": [
    "# Delete the entire list:\n",
    "myList = [\"apple\", \"banana\", \"cherry\"]\n",
    "del myList\n",
    "print(myList)"
   ]
  },
  {
   "cell_type": "markdown",
   "id": "07d941f8",
   "metadata": {},
   "source": [
    "## Clear the List\n",
    "The clear() method empties the list.\n",
    "\n",
    "The list still remains, but it has no content."
   ]
  },
  {
   "cell_type": "code",
   "execution_count": null,
   "id": "e05812b4",
   "metadata": {},
   "outputs": [],
   "source": [
    "myList = [\"apple\", \"banana\", \"cherry\"]\n",
    "myList.clear()\n",
    "print(myList)"
   ]
  },
  {
   "cell_type": "markdown",
   "id": "8b384d8c",
   "metadata": {},
   "source": [
    "## Search for an element in the List\n",
    "\n",
    "---"
   ]
  },
  {
   "cell_type": "code",
   "execution_count": null,
   "id": "08e6a747",
   "metadata": {},
   "outputs": [],
   "source": [
    "my_list = [1, 2, 3, 4, 5, 6, 7, 8, 9, 10, 3, [1, 2], 2, 2, 3, 4]\n",
    "# find out the index of an element in the list if present\n",
    "my_list.index(4)"
   ]
  },
  {
   "cell_type": "code",
   "execution_count": null,
   "id": "8a5abd9d",
   "metadata": {},
   "outputs": [],
   "source": [
    "my_list = [1, 2, 3, 4, 5, 6, 7, 8, 9, 10, 3, [1, 2], 2, 2, 3, 4]\n",
    "# index can also search nested objects\n",
    "my_list.index([1,2])"
   ]
  },
  {
   "cell_type": "markdown",
   "id": "94944d5c",
   "metadata": {},
   "source": [
    "---\n",
    "\n",
    "## Check if the particular element is present in the list or not.\n",
    "\n",
    "We will use `in` or `not in` to get the answers of these type of queries. These `in` and `not in` are also called as `membership operators.`\n",
    "\n",
    "---"
   ]
  },
  {
   "cell_type": "code",
   "execution_count": 1,
   "id": "89bbe780",
   "metadata": {},
   "outputs": [
    {
     "data": {
      "text/plain": [
       "False"
      ]
     },
     "execution_count": 1,
     "metadata": {},
     "output_type": "execute_result"
    }
   ],
   "source": [
    "my_list = [1, 'w', 2, 3, 'python', 4, 5, 6, 7, 8, 9, 10, 3, [1, 2], 2, 2, 3, 4]\n",
    "90 in my_list"
   ]
  },
  {
   "cell_type": "code",
   "execution_count": 2,
   "id": "d5aa4b18",
   "metadata": {},
   "outputs": [
    {
     "data": {
      "text/plain": [
       "True"
      ]
     },
     "execution_count": 2,
     "metadata": {},
     "output_type": "execute_result"
    }
   ],
   "source": [
    "[1, 2] in my_list"
   ]
  },
  {
   "cell_type": "code",
   "execution_count": 3,
   "id": "e4131de5",
   "metadata": {},
   "outputs": [
    {
     "data": {
      "text/plain": [
       "True"
      ]
     },
     "execution_count": 3,
     "metadata": {},
     "output_type": "execute_result"
    }
   ],
   "source": [
    "[117] not in my_list"
   ]
  },
  {
   "cell_type": "markdown",
   "id": "6d94c2c3",
   "metadata": {},
   "source": [
    "## Loop Through a List\n",
    "You can loop through the list items by using a for loop:"
   ]
  },
  {
   "cell_type": "code",
   "execution_count": null,
   "id": "245fa300",
   "metadata": {},
   "outputs": [],
   "source": [
    "myList = [\"apple\", \"banana\", \"cherry\"]\n",
    "for x in myList:\n",
    "    print(x)"
   ]
  },
  {
   "cell_type": "code",
   "execution_count": null,
   "id": "acfcf491",
   "metadata": {},
   "outputs": [],
   "source": [
    "myList = [\"apple\", \"banana\", \"cherry\"]\n",
    "for i in range(len(myList)):\n",
    "    print(myList[i])"
   ]
  },
  {
   "cell_type": "markdown",
   "id": "07e1434a",
   "metadata": {},
   "source": [
    "## Using a While Loop\n",
    "You can loop through the list items by using a while loop.\n",
    "\n",
    "Use the len() function to determine the length of the list, then start at 0 and loop your way through the list items by refering to their indexes.\n",
    "\n",
    "Remember to increase the index by 1 after each iteration."
   ]
  },
  {
   "cell_type": "code",
   "execution_count": null,
   "id": "48f07387",
   "metadata": {},
   "outputs": [],
   "source": [
    "myList = [\"apple\", \"banana\", \"cherry\"]\n",
    "i = 0\n",
    "while i < len(myList):\n",
    "    print(myList[i])\n",
    "    i = i + 1"
   ]
  },
  {
   "cell_type": "markdown",
   "id": "c288c07b",
   "metadata": {},
   "source": [
    "## Looping Using List Comprehension\n",
    "List Comprehension offers the shortest syntax for looping through lists:"
   ]
  },
  {
   "cell_type": "code",
   "execution_count": null,
   "id": "bca9b78c",
   "metadata": {},
   "outputs": [],
   "source": [
    "myList = [\"apple\", \"banana\", \"cherry\"]\n",
    "loopList = [x for x in myList]\n",
    "print(list(loopList))"
   ]
  },
  {
   "cell_type": "code",
   "execution_count": null,
   "id": "50675cc4",
   "metadata": {},
   "outputs": [],
   "source": [
    "fruits = [\"apple\", \"banana\", \"cherry\", \"kiwi\", \"mango\"]\n",
    "myList = []\n",
    "\n",
    "for x in fruits:\n",
    "    if \"a\" in x:\n",
    "        myList.append(x)\n",
    "\n",
    "print(myList)"
   ]
  },
  {
   "cell_type": "code",
   "execution_count": null,
   "id": "fec587a0",
   "metadata": {},
   "outputs": [],
   "source": [
    "# Using list comprehension\n",
    "# Syntax: myList = [expression for item in iterable if condition == True]\n",
    "myList = [x for x in fruits if \"a\" in x]\n",
    "print(myList)"
   ]
  },
  {
   "cell_type": "code",
   "execution_count": null,
   "id": "9ac4a40d",
   "metadata": {},
   "outputs": [],
   "source": [
    "myList = [x if x != \"banana\" else \"orange\" for x in fruits]\n",
    "print(myList)"
   ]
  },
  {
   "cell_type": "markdown",
   "id": "50684a5c",
   "metadata": {},
   "source": [
    "## Sort List Alphanumerically\n",
    "List objects have a sort() method that will sort the list alphanumerically, ascending, by default:"
   ]
  },
  {
   "cell_type": "code",
   "execution_count": null,
   "id": "02b0a96e",
   "metadata": {},
   "outputs": [],
   "source": [
    "myList = [\"orange\", \"mango\", \"kiwi\", \"pineapple\", \"banana\"]\n",
    "myList.sort()\n",
    "print(myList)"
   ]
  },
  {
   "cell_type": "code",
   "execution_count": null,
   "id": "9315702f",
   "metadata": {},
   "outputs": [],
   "source": [
    "myList = [100, 50, 65, 82, 23]\n",
    "myList.sort()\n",
    "print(myList)"
   ]
  },
  {
   "cell_type": "code",
   "execution_count": null,
   "id": "73dabfc6",
   "metadata": {},
   "outputs": [],
   "source": [
    "# To sort descending, use the keyword argument reverse = True:\n",
    "myList = [100, 50, 65, 82, 23]\n",
    "myList.sort(reverse = True)\n",
    "print(myList)"
   ]
  },
  {
   "cell_type": "code",
   "execution_count": null,
   "id": "b68b5791",
   "metadata": {},
   "outputs": [],
   "source": [
    "# another way of sorting list\n",
    "sample_list = [2, 33, 42, 1, 34, 35]\n",
    "sorted(sample_list)"
   ]
  },
  {
   "cell_type": "markdown",
   "id": "5eab60b8",
   "metadata": {},
   "source": [
    "## Customize Sort Function\n",
    "You can also customize your own function by using the keyword argument key = function.\n",
    "\n",
    "The function will return a number that will be used to sort the list (the lowest number first):"
   ]
  },
  {
   "cell_type": "code",
   "execution_count": null,
   "id": "b3a34760",
   "metadata": {},
   "outputs": [],
   "source": [
    "def myfunc(n):\n",
    "    #print(abs(n - 50))\n",
    "    return abs(n - 50)\n",
    "\n",
    "myList = [100, 50, 65, 82, 23]\n",
    "myList.sort(key = myfunc)\n",
    "print(myList)"
   ]
  },
  {
   "cell_type": "markdown",
   "id": "36458b63",
   "metadata": {},
   "source": [
    "## Case Insensitive Sort\n",
    "By default the sort() method is case sensitive, resulting in all capital letters being sorted before lower case letters:"
   ]
  },
  {
   "cell_type": "code",
   "execution_count": null,
   "id": "b46409eb",
   "metadata": {},
   "outputs": [],
   "source": [
    "myList = [\"banana\", \"Orange\", \"Kiwi\", \"cherry\"]\n",
    "myList.sort()\n",
    "print(myList)"
   ]
  },
  {
   "cell_type": "markdown",
   "id": "532293d9",
   "metadata": {},
   "source": [
    "## Reverse Order\n",
    "What if you want to reverse the order of a list, regardless of the alphabet?\n",
    "\n",
    "The reverse() method reverses the current sorting order of the elements."
   ]
  },
  {
   "cell_type": "code",
   "execution_count": null,
   "id": "2b8eacaf",
   "metadata": {},
   "outputs": [],
   "source": [
    "myList = [\"banana\", \"Orange\", \"Kiwi\", \"cherry\"]\n",
    "myList.reverse()\n",
    "print(myList)"
   ]
  },
  {
   "cell_type": "markdown",
   "id": "c47d4ba2",
   "metadata": {},
   "source": [
    "## Copy a List\n",
    "You cannot copy a list simply by typing list2 = list1, because: list2 will only be a reference to list1, and changes made in list1 will automatically also be made in list2.\n",
    "\n",
    "There are ways to make a copy, one way is to use the built-in List method copy()."
   ]
  },
  {
   "cell_type": "code",
   "execution_count": null,
   "id": "dc91c010",
   "metadata": {},
   "outputs": [],
   "source": [
    "firstList = [\"apple\", \"banana\", \"cherry\"]\n",
    "mylist = firstList.copy()\n",
    "print(mylist)"
   ]
  },
  {
   "cell_type": "code",
   "execution_count": null,
   "id": "3498c2cb",
   "metadata": {},
   "outputs": [],
   "source": [
    "# Make a copy of a list with the list() method:\n",
    "firstList = [\"apple\", \"banana\", \"cherry\"]\n",
    "mylist = list(firstList)\n",
    "print(mylist)"
   ]
  },
  {
   "cell_type": "code",
   "execution_count": null,
   "id": "9662627e",
   "metadata": {},
   "outputs": [],
   "source": [
    "testList = firstList\n",
    "print(testList)"
   ]
  },
  {
   "cell_type": "markdown",
   "id": "0edf059a",
   "metadata": {},
   "source": [
    "## Join Two Lists\n",
    "There are several ways to join, or concatenate, two or more lists in Python.\n",
    "\n",
    "One of the easiest ways are by using the + operator."
   ]
  },
  {
   "cell_type": "code",
   "execution_count": null,
   "id": "5271b8c8",
   "metadata": {},
   "outputs": [],
   "source": [
    "list1 = [\"a\", \"b\", \"c\"]\n",
    "list2 = [1, 2, 3]\n",
    "\n",
    "list3 = list1 + list2\n",
    "print(list3)"
   ]
  },
  {
   "cell_type": "code",
   "execution_count": null,
   "id": "6e7070d4",
   "metadata": {},
   "outputs": [],
   "source": [
    "list1 = [\"a\", \"b\" , \"c\"]\n",
    "list2 = [1, 2, 3]\n",
    "\n",
    "for x in list2:\n",
    "    list1.append(x)\n",
    "\n",
    "print(list1)"
   ]
  },
  {
   "cell_type": "code",
   "execution_count": null,
   "id": "c41d6472",
   "metadata": {},
   "outputs": [],
   "source": [
    "list1 = [\"a\", \"b\" , \"c\"]\n",
    "list2 = [1, 2, 3]\n",
    "\n",
    "list1.extend(list2)\n",
    "print(list1)"
   ]
  },
  {
   "cell_type": "markdown",
   "id": "abd8c063",
   "metadata": {},
   "source": [
    "---\n",
    "\n",
    "# Problem Statement: 📝📝\n",
    "\n",
    "* ***🎓🎓 Analytics Vidhya conducted an assessment test to hire a Data Scientist. The candidates were evaluated on 5 different subject `A`, `B`, `C`, `D`, and `E`. 🎓🎓 The marks of 5 different subjects out of 100 are given below. Help Analytics Vidhya to find out the answers of the following question.***\n",
    "\n",
    "📍📍\n",
    "\n",
    "   * 🙇 Who scored the highest marks in the subject B?\n",
    "\n"
   ]
  },
  {
   "cell_type": "code",
   "execution_count": 5,
   "id": "1ae642b8",
   "metadata": {},
   "outputs": [],
   "source": [
    "# student marks\n",
    "student_marks = [['Name',  ['A','B','C','D','E']],\n",
    "                 ['Ankit',  [41, 34, 45, 55, 63]],\n",
    "                 ['Aravind',[42, 23, 34, 44, 53]],\n",
    "                 ['Lakshay',[32, 23, 13, 54, 67]],\n",
    "                 ['Gyan',   [23, 82, 23, 63, 34]],\n",
    "                 ['Pranav', [21, 23, 25, 56, 56]]\n",
    "                ]"
   ]
  },
  {
   "cell_type": "markdown",
   "id": "07d3dd42",
   "metadata": {},
   "source": [
    "- Let's try to access the first index of the list."
   ]
  },
  {
   "cell_type": "code",
   "execution_count": 7,
   "id": "55ab1206",
   "metadata": {},
   "outputs": [
    {
     "data": {
      "text/plain": [
       "['Name', ['A', 'B', 'C', 'D', 'E']]"
      ]
     },
     "execution_count": 7,
     "metadata": {},
     "output_type": "execute_result"
    }
   ],
   "source": [
    "student_marks[0]"
   ]
  },
  {
   "cell_type": "markdown",
   "id": "cb50f0ac",
   "metadata": {},
   "source": [
    "- Here the first element in the index is similar to headers in the CSV file. So, we will slice the list from the second element."
   ]
  },
  {
   "cell_type": "code",
   "execution_count": 8,
   "id": "0158f5f5",
   "metadata": {},
   "outputs": [
    {
     "data": {
      "text/plain": [
       "['Ankit', [41, 34, 45, 55, 63]]"
      ]
     },
     "execution_count": 8,
     "metadata": {},
     "output_type": "execute_result"
    }
   ],
   "source": [
    "student_marks[1]"
   ]
  },
  {
   "cell_type": "markdown",
   "id": "39134038",
   "metadata": {},
   "source": [
    "- Now, each element in the list from the index 1 contains 2 elements, the first one is the Name and second one is list of marks"
   ]
  },
  {
   "cell_type": "code",
   "execution_count": null,
   "id": "f17cef2e",
   "metadata": {},
   "outputs": [],
   "source": [
    "student_marks[1][0]"
   ]
  },
  {
   "cell_type": "code",
   "execution_count": null,
   "id": "10d17356",
   "metadata": {},
   "outputs": [],
   "source": [
    "student_marks[1][1]"
   ]
  },
  {
   "cell_type": "markdown",
   "id": "c79a7a74",
   "metadata": {},
   "source": [
    "- Now, the student marks are in order **`A`**, **`B`**, **`C`**, **`D`** and **`E`**. and we need to access the value at index 1 to get the marks in subject **`B`**"
   ]
  },
  {
   "cell_type": "code",
   "execution_count": 9,
   "id": "127e97d4",
   "metadata": {},
   "outputs": [
    {
     "data": {
      "text/plain": [
       "34"
      ]
     },
     "execution_count": 9,
     "metadata": {},
     "output_type": "execute_result"
    }
   ],
   "source": [
    "student_marks[1][1][1]"
   ]
  },
  {
   "cell_type": "markdown",
   "id": "0f77a538",
   "metadata": {},
   "source": [
    "***That's the marks of `Ankit` in Subject `B`***\n",
    "\n",
    "---"
   ]
  },
  {
   "cell_type": "markdown",
   "id": "363b79a7",
   "metadata": {},
   "source": [
    "---\n",
    "---\n",
    "***Now, we will solve the problem step by step.***\n",
    "\n",
    "\n",
    "---\n",
    "\n",
    "## 📍📍📍Who scored the highest marks in the subject B 🏆 🥇?   \n",
    "\n",
    "---\n",
    "\n",
    "***Step1 📍: Select name of student and marks in subject B***"
   ]
  },
  {
   "cell_type": "code",
   "execution_count": 10,
   "id": "8604d38f",
   "metadata": {},
   "outputs": [
    {
     "name": "stdout",
     "output_type": "stream",
     "text": [
      "Ankit 34\n",
      "Aravind 23\n",
      "Lakshay 23\n",
      "Gyan 82\n",
      "Pranav 23\n"
     ]
    }
   ],
   "source": [
    "for student in student_marks[1:]:\n",
    "    name = student[0]\n",
    "    marks_in_B = student[1][1]\n",
    "    \n",
    "    print(name, marks_in_B)"
   ]
  },
  {
   "cell_type": "markdown",
   "id": "fd7ab2b2",
   "metadata": {},
   "source": [
    "---\n",
    "***Step2 📍: Store the filtered name and marks in another list.***"
   ]
  },
  {
   "cell_type": "code",
   "execution_count": 11,
   "id": "00e802ac",
   "metadata": {},
   "outputs": [],
   "source": [
    "# list to store the marks\n",
    "student_with_marks_in_B = []\n",
    "\n",
    "for student in student_marks[1:]:\n",
    "    name = student[0]\n",
    "    marks_in_B = student[1][1]\n",
    "    \n",
    "    student_with_marks_in_B.append([marks_in_B,name])"
   ]
  },
  {
   "cell_type": "code",
   "execution_count": 12,
   "id": "76602c7a",
   "metadata": {},
   "outputs": [
    {
     "data": {
      "text/plain": [
       "[[34, 'Ankit'], [23, 'Aravind'], [23, 'Lakshay'], [82, 'Gyan'], [23, 'Pranav']]"
      ]
     },
     "execution_count": 12,
     "metadata": {},
     "output_type": "execute_result"
    }
   ],
   "source": [
    "student_with_marks_in_B"
   ]
  },
  {
   "cell_type": "markdown",
   "id": "f3757a83",
   "metadata": {},
   "source": [
    "---\n",
    "\n",
    "***Step3 📍: Sort the list. (We Kept the marks as the first index)***"
   ]
  },
  {
   "cell_type": "code",
   "execution_count": 13,
   "id": "c9244d16",
   "metadata": {},
   "outputs": [
    {
     "data": {
      "text/plain": [
       "[[23, 'Aravind'], [23, 'Lakshay'], [23, 'Pranav'], [34, 'Ankit'], [82, 'Gyan']]"
      ]
     },
     "execution_count": 13,
     "metadata": {},
     "output_type": "execute_result"
    }
   ],
   "source": [
    "sorted(student_with_marks_in_B)"
   ]
  },
  {
   "cell_type": "markdown",
   "id": "56857ba3",
   "metadata": {},
   "source": [
    "---\n",
    "\n",
    "***Step4 📍: Get the final index of the sorted list***"
   ]
  },
  {
   "cell_type": "code",
   "execution_count": 14,
   "id": "06d487ca",
   "metadata": {},
   "outputs": [
    {
     "data": {
      "text/plain": [
       "'Gyan'"
      ]
     },
     "execution_count": 14,
     "metadata": {},
     "output_type": "execute_result"
    }
   ],
   "source": [
    "sorted(student_with_marks_in_B)[-1][1]"
   ]
  },
  {
   "cell_type": "markdown",
   "id": "8f0063d5",
   "metadata": {},
   "source": [
    "***So, we got the answer of the first question. Gyan🥇🥇 has scored the highest marks in subject B.***\n",
    "\n",
    "---\n",
    "---"
   ]
  },
  {
   "cell_type": "code",
   "execution_count": null,
   "id": "a2e52786",
   "metadata": {},
   "outputs": [],
   "source": []
  }
 ],
 "metadata": {
  "kernelspec": {
   "display_name": "Python 3 (ipykernel)",
   "language": "python",
   "name": "python3"
  },
  "language_info": {
   "codemirror_mode": {
    "name": "ipython",
    "version": 3
   },
   "file_extension": ".py",
   "mimetype": "text/x-python",
   "name": "python",
   "nbconvert_exporter": "python",
   "pygments_lexer": "ipython3",
   "version": "3.9.7"
  }
 },
 "nbformat": 4,
 "nbformat_minor": 5
}
