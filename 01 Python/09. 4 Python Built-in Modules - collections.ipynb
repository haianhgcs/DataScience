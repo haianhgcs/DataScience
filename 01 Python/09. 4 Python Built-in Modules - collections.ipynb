{
 "cells": [
  {
   "cell_type": "markdown",
   "id": "019f8e50",
   "metadata": {},
   "source": [
    "### Collections Module\n",
    "The collections module provides alternatives to built-in container data types such as list, tuple and dict."
   ]
  },
  {
   "cell_type": "markdown",
   "id": "4f0c958c",
   "metadata": {},
   "source": [
    "#### namedtuple()\n",
    "The namedtuple() function returns a tuple-like object with named fields. These field attributes are accessible by lookup as well as by index.\n",
    "\n",
    "- Signature: collections.namedtuple(type_name, field-list)"
   ]
  },
  {
   "cell_type": "code",
   "execution_count": null,
   "id": "eeb9b2dd",
   "metadata": {},
   "outputs": [],
   "source": [
    "# Python code to demonstrate namedtuple()     \n",
    "from collections import namedtuple \n",
    "      \n",
    "# Declaring namedtuple()  \n",
    "Student = namedtuple('Student',['name','age','DOB'])  \n",
    "      \n",
    "# Adding values  \n",
    "S = Student('Nandini','19','2541997')  \n",
    "      \n",
    "# Access using index  \n",
    "print (\"The Student age using index is : \",end =\"\")  \n",
    "print (S[1])  \n",
    "      \n",
    "# Access using name   \n",
    "print (\"The Student name using keyname is : \",end =\"\")  \n",
    "print (S.name)\n",
    "\n",
    "# Access using getattr()\n",
    "print (\"The Student DOB using getattr() is : \",end =\"\")\n",
    "print (getattr(S,'DOB'))"
   ]
  },
  {
   "cell_type": "markdown",
   "id": "7c7af6e3",
   "metadata": {},
   "source": [
    "#### OrderedDict()\n",
    "The OrderedDict() function is similar to a normal dictionary object in Python. However, it remembers the order of the keys in which they were first inserted."
   ]
  },
  {
   "cell_type": "code",
   "execution_count": 1,
   "id": "c70bbd33",
   "metadata": {},
   "outputs": [
    {
     "name": "stdout",
     "output_type": "stream",
     "text": [
      "A 65\n",
      "C 67\n",
      "B 66\n",
      "D 68\n"
     ]
    }
   ],
   "source": [
    "import collections\n",
    "d1 = collections.OrderedDict()\n",
    "d1['A'] = 65\n",
    "d1['C'] = 67\n",
    "d1['B'] = 66\n",
    "d1['D'] = 68\n",
    "\n",
    "for k,v in d1.items():\n",
    "    print (k,v)"
   ]
  },
  {
   "cell_type": "code",
   "execution_count": null,
   "id": "450bce5b",
   "metadata": {},
   "outputs": [],
   "source": []
  }
 ],
 "metadata": {
  "kernelspec": {
   "display_name": "Python 3 (ipykernel)",
   "language": "python",
   "name": "python3"
  },
  "language_info": {
   "codemirror_mode": {
    "name": "ipython",
    "version": 3
   },
   "file_extension": ".py",
   "mimetype": "text/x-python",
   "name": "python",
   "nbconvert_exporter": "python",
   "pygments_lexer": "ipython3",
   "version": "3.9.7"
  }
 },
 "nbformat": 4,
 "nbformat_minor": 5
}
