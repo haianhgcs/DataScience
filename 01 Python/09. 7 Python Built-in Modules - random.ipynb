{
 "cells": [
  {
   "cell_type": "markdown",
   "id": "19abe12a",
   "metadata": {},
   "source": [
    "### Random Module\n",
    "The random module is a built-in module to generate the pseudo-random variables. It can be used perform some action randomly such as to get a random number, selecting a random elements from a list, shuffle elements randomly, etc."
   ]
  },
  {
   "cell_type": "code",
   "execution_count": 1,
   "id": "6d3e356f",
   "metadata": {},
   "outputs": [],
   "source": [
    "import random"
   ]
  },
  {
   "cell_type": "code",
   "execution_count": 2,
   "id": "3aa0e9bc",
   "metadata": {},
   "outputs": [
    {
     "name": "stdout",
     "output_type": "stream",
     "text": [
      "0.4389224764714874\n",
      "48\n",
      "8\n",
      "9\n",
      "50\n",
      "p\n",
      "43\n",
      "[43, 45, 23, 12, 65, 67]\n"
     ]
    }
   ],
   "source": [
    "print(random.random()) # random.random() method returns a random float number between 0.0 to 1.0.\n",
    "print(random.randint(1, 100)) # random.randint() method returns a random integer between the specified integers.\n",
    "\n",
    "# random.randrange() method returns a randomly element from the range created by the start, stop and step arguments.\n",
    "# The value of start is 0 by default. Similarly, the value of step is 1 by default.\n",
    "print(random.randrange(1, 10))  \n",
    "print(random.randrange(1, 10, 2))\n",
    "print(random.randrange(0, 101, 10))\n",
    "\n",
    "# random.choice() method returns a randomly selected element from a non-empty sequence. \n",
    "# An empty sequence as argument raises an IndexError.\n",
    "print(random.choice('computer'))\n",
    "print(random.choice([12,23,45,67,65,43]))\n",
    "\n",
    "# random.shuffle() method randomly reorders the elements in a list.\n",
    "numbers=[12,23,45,67,65,43]\n",
    "random.shuffle(numbers)\n",
    "print(numbers)"
   ]
  },
  {
   "cell_type": "code",
   "execution_count": 3,
   "id": "b1a8fcc5",
   "metadata": {},
   "outputs": [
    {
     "name": "stdout",
     "output_type": "stream",
     "text": [
      "[40, 40, 25, 70, 82, 34, 46, 42, 81, 77, 82, 36, 22, 30, 92, 21, 71, 37, 74, 39, 77, 79, 28, 11, 89, 88, 67, 100, 19, 90, 39, 25, 63, 87, 70, 15, 30, 59, 16, 50, 16, 53, 31, 31, 55, 19, 10, 13, 58, 91, 32, 15, 91, 39, 90, 98, 80, 13, 10, 11, 39, 97, 93, 74, 27, 28, 98, 93, 68, 64, 19, 60, 12, 29, 15, 81, 69, 46, 35, 92, 44, 65, 17, 13, 54, 62, 74, 60, 16, 61, 89, 32, 22, 32, 78, 24, 44, 84, 42, 57]\n",
      "None\n"
     ]
    }
   ],
   "source": [
    "myList = []\n",
    "for i in range(100):\n",
    "    myList.append(random.randint(10, 100))\n",
    "    \n",
    "print(myList)\n",
    "print(random.shuffle(myList))\n"
   ]
  },
  {
   "cell_type": "code",
   "execution_count": null,
   "id": "8fe15273",
   "metadata": {},
   "outputs": [],
   "source": [
    "# select a random element from a list\n",
    "random.choice(['apple', 'pear', 'banana'])"
   ]
  },
  {
   "cell_type": "code",
   "execution_count": null,
   "id": "30e6b424",
   "metadata": {},
   "outputs": [],
   "source": [
    "# select 10 different numbers within a range of numbers\n",
    "\n",
    "random.sample(range(10,50), 10)"
   ]
  },
  {
   "cell_type": "code",
   "execution_count": null,
   "id": "0db3cd88",
   "metadata": {},
   "outputs": [],
   "source": [
    "# select a random float number\n",
    "random.random()  "
   ]
  },
  {
   "cell_type": "code",
   "execution_count": null,
   "id": "7ff6ecc6",
   "metadata": {},
   "outputs": [],
   "source": [
    "# select a random float number within a range.\n",
    "random.uniform(0,2)"
   ]
  },
  {
   "cell_type": "code",
   "execution_count": null,
   "id": "0f5ee9df",
   "metadata": {},
   "outputs": [],
   "source": [
    "# random integer chosen from range(6)\n",
    "random.randrange(3,6)"
   ]
  },
  {
   "cell_type": "code",
   "execution_count": null,
   "id": "5e7e0266",
   "metadata": {},
   "outputs": [],
   "source": [
    "random.randint(1,10)"
   ]
  },
  {
   "cell_type": "code",
   "execution_count": null,
   "id": "90b4a514",
   "metadata": {},
   "outputs": [],
   "source": []
  }
 ],
 "metadata": {
  "kernelspec": {
   "display_name": "Python 3 (ipykernel)",
   "language": "python",
   "name": "python3"
  },
  "language_info": {
   "codemirror_mode": {
    "name": "ipython",
    "version": 3
   },
   "file_extension": ".py",
   "mimetype": "text/x-python",
   "name": "python",
   "nbconvert_exporter": "python",
   "pygments_lexer": "ipython3",
   "version": "3.9.7"
  }
 },
 "nbformat": 4,
 "nbformat_minor": 5
}
