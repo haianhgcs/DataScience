{
 "cells": [
  {
   "cell_type": "markdown",
   "id": "fa358f24",
   "metadata": {},
   "source": [
    "# Collections - Containers\n",
    "Python provides many efficient types of containers, in which collections of objects can be stored.\n",
    "There are three native kinds of collections: tuples, lists, and dictionaries"
   ]
  },
  {
   "cell_type": "markdown",
   "id": "d4666171",
   "metadata": {},
   "source": [
    "## Arrays\n",
    "* You cannot have an array of difference data types\n",
    "* Whenever you slice an array you don't create a copy of array"
   ]
  },
  {
   "cell_type": "code",
   "execution_count": null,
   "id": "cec6e01d",
   "metadata": {},
   "outputs": [],
   "source": [
    "l = [23245, 27, 546, 215, -1234]\n",
    "l"
   ]
  },
  {
   "cell_type": "markdown",
   "id": "27e25363",
   "metadata": {},
   "source": [
    "You can always make a copy but you have to call copy method to tell non-pilot "
   ]
  },
  {
   "cell_type": "code",
   "execution_count": null,
   "id": "c0ab956e",
   "metadata": {},
   "outputs": [],
   "source": [
    "c = l.copy()\n",
    "c"
   ]
  },
  {
   "cell_type": "markdown",
   "id": "539dc637",
   "metadata": {},
   "source": [
    "When you are slicing an array, you are making a view of that same array so if you make changes to the slide you're going to make changes to the original array."
   ]
  },
  {
   "cell_type": "code",
   "execution_count": null,
   "id": "92267536",
   "metadata": {},
   "outputs": [],
   "source": [
    "a[2:5]"
   ]
  },
  {
   "cell_type": "markdown",
   "id": "2cbae233",
   "metadata": {},
   "source": [
    "Unpacking Array Items"
   ]
  },
  {
   "cell_type": "code",
   "execution_count": null,
   "id": "9cad2969",
   "metadata": {},
   "outputs": [],
   "source": [
    "first_name, last_name = ['Farhad', 'Malik']\n",
    "print(first_name) #It will print Farhad\n",
    "print(last_name) #It will print Malik"
   ]
  },
  {
   "cell_type": "markdown",
   "id": "4afc5f29",
   "metadata": {},
   "source": [
    "## slicing\n",
    "Slicing means taking a subset out of a collection, when slicing a collection it will create a new other copy of data from that slicing\n",
    "\n",
    "**Slicing syntax**: colors[start:stop:stride]\n",
    "\n",
    "**Note** colors[start:stop] contains the elements with indices i such as start <= i < stop (i ranging from start to stop-1)"
   ]
  },
  {
   "cell_type": "code",
   "execution_count": null,
   "id": "6efcc10b",
   "metadata": {},
   "outputs": [],
   "source": [
    "y = ['A', 'B', 'C', 'D', 'E', 'F', 'G', 'H', 'I', 'J']\n",
    "y[:]     # Get everything from list\n",
    "y[:7]    # Get element from index 0 to index 6\n",
    "y[2:]    # Get element from index 2 to end\n",
    "y[2:7]   # Get element from 2 to 6\n",
    "y[-8:7]  # Get element from index 3 to index 6\n",
    "y[-8:-3] # Get element from index 3 to index 6\n",
    "y[2:9:2] # Get every second element from index 2 to index 8\n",
    "y[::-1]  # get list in reversed order"
   ]
  },
  {
   "cell_type": "markdown",
   "id": "7d892bf5",
   "metadata": {},
   "source": [
    "**reserve order**"
   ]
  },
  {
   "cell_type": "code",
   "execution_count": null,
   "id": "31bc1ea1",
   "metadata": {},
   "outputs": [],
   "source": [
    "rcolors2 = list(colors)\n",
    "print(rcolors2)\n",
    "rcolors2.reverse() # in-place\n",
    "print(rcolors2)"
   ]
  },
  {
   "cell_type": "markdown",
   "id": "39de63bc",
   "metadata": {},
   "source": [
    "## Initialising empty containers"
   ]
  },
  {
   "cell_type": "code",
   "execution_count": null,
   "id": "816bd252",
   "metadata": {},
   "outputs": [],
   "source": [
    "a_list = list()\n",
    "a_dict = dict()\n",
    "a_map = map()\n",
    "a_set = set()"
   ]
  },
  {
   "cell_type": "markdown",
   "id": "210a94bc",
   "metadata": {},
   "source": [
    "\n",
    "## Python Collections\n",
    "The collections module provides high-performance datatypes that can enhance your code, making things much cleaner and easier. \n",
    "\n",
    "[python collections tutorial](https://towardsdatascience.com/a-hands-on-guide-to-python-collections-aa350cb399e3)"
   ]
  },
  {
   "cell_type": "code",
   "execution_count": null,
   "id": "4e17f69a",
   "metadata": {},
   "outputs": [],
   "source": [
    "from collections import Counter\n",
    "count = Counter(['a','b','c','d','b','c','d','b'])\n",
    "print(count)"
   ]
  },
  {
   "cell_type": "code",
   "execution_count": null,
   "id": "ead9a089",
   "metadata": {},
   "outputs": [],
   "source": [
    "count.most_common(3)"
   ]
  },
  {
   "cell_type": "markdown",
   "id": "515268d0",
   "metadata": {},
   "source": [
    "## enumerate\n",
    "Common task is to iterate over a sequence while keeping track of the item number. Python provides a built-in function - **enumerate** for this:"
   ]
  },
  {
   "cell_type": "code",
   "execution_count": null,
   "id": "53f9b385",
   "metadata": {},
   "outputs": [],
   "source": [
    "words = ('cool', 'powerful', 'readable')\n",
    "for index, item in enumerate(words):\n",
    "    print((index, item))"
   ]
  },
  {
   "cell_type": "markdown",
   "id": "e8cd5da2",
   "metadata": {},
   "source": [
    "## List Comprehensions"
   ]
  },
  {
   "cell_type": "markdown",
   "id": "d5a14829",
   "metadata": {},
   "source": [
    "Convert function to list comprehensions"
   ]
  },
  {
   "cell_type": "code",
   "execution_count": null,
   "id": "f85bc08f",
   "metadata": {},
   "outputs": [],
   "source": [
    "# for loop\n",
    "my_list = []\n",
    "for number in range(0, 1000):\n",
    "    if number % 2 == 0:\n",
    "        my_list.append(number)\n",
    "my_list"
   ]
  },
  {
   "cell_type": "markdown",
   "id": "53b8d56e",
   "metadata": {},
   "source": [
    "Now the same thing but with `list comprehension`."
   ]
  },
  {
   "cell_type": "code",
   "execution_count": null,
   "id": "376a5886",
   "metadata": {},
   "outputs": [],
   "source": [
    "my_list = [number for number in range(0,1000) if number % 2 == 0]\n",
    "my_list"
   ]
  },
  {
   "cell_type": "code",
   "execution_count": null,
   "id": "0fcddfc7",
   "metadata": {},
   "outputs": [],
   "source": [
    "def times_tables():\n",
    "    lst = []\n",
    "    for i in range(10):\n",
    "        for j in range(10):\n",
    "            lst.append(i * j)\n",
    "    return lst\n",
    "\n",
    "# Rewrite in list comprehension\n",
    "times_tables = [i * j for i in range(10) for j in range(10)]"
   ]
  },
  {
   "cell_type": "code",
   "execution_count": null,
   "id": "850ebe46",
   "metadata": {},
   "outputs": [],
   "source": [
    "lowercase = 'abcdefghijklmnopqrstuvwxyz'\n",
    "digits = '0123456789'\n",
    "correct_answer = [a + b + c + d for a in lowercase for b in lowercase for c in digits for d in digits]\n",
    "correct_answer[:50]"
   ]
  },
  {
   "cell_type": "code",
   "execution_count": null,
   "id": "cb151080",
   "metadata": {},
   "outputs": [],
   "source": [
    "[i**2 for i in range(4)]"
   ]
  },
  {
   "cell_type": "markdown",
   "id": "7f55dc45",
   "metadata": {},
   "source": [
    "# Generators\n",
    "Generator functions allow you to declare a function that behaves like an iterator, i.e. it can be used in a for loop. This greatly simplifies your code and is much more memory efficient than a simple for loop.\n",
    "\n",
    "Consider an example where we want to add up all of the numbers from 1 to 1000. The first part of the code below illustrates how you would do this using a for loop.\n",
    "\n",
    "Now that’s all fine and dandy if the list is small, say a length of 1000. The problem arises when you want to do this with a huge list, say 1 billion float numbers. With a for loop, that massive memory chewing list is created in memory — not everyone has unlimited RAM to store such a thing! The range() function in Python does the same thing, it builds the list in memory\n",
    "Section (2) of the code illustrates the summing of the list of numbers using a Python generator. A generator will create elements and store them in memory only as it needs them i.e one at a time. That means, if you have to create 1 billion floating point numbers, you’ll only be storing them in memory one at a time! The xrange() function in Python uses generators to build lists.\n",
    "\n",
    "Moral of the story: If you have a large range that you’d like to generate a list for, use a generator or the xrange function. This is especially true if you have a really memory sensitive system such as mobile or at-the-edge computing.\n",
    "That being said, if you’d like to iterate over the list multiple times and it’s small enough to fit into memory, it will be better to use for loops and the range function. This is because generators and xrange will be freshly generating the list values every time you access them, whereas range is a static list and the integers already exist in memory for quick access."
   ]
  },
  {
   "cell_type": "markdown",
   "id": "abb69948",
   "metadata": {},
   "source": [
    "Generator functions allow you to declare a function that behaves like an iterator. They allow programmers to make an iterator in a fast, easy, and clean way. An iterator is an object that can be iterated (looped) upon. It is used to abstract a container of data to make it behave like an iterable object. Some examples of common iterable objects are strings, lists and dictionaries.\n",
    "\n",
    "A generator looks a lot like a function, but uses the keyword `yield` instead of `return`. Let us take an example for better understanding."
   ]
  },
  {
   "cell_type": "code",
   "execution_count": null,
   "id": "5911076e",
   "metadata": {},
   "outputs": [],
   "source": [
    "def generate_numbers():\n",
    "    n = 0\n",
    "    while n < 3:\n",
    "        yield n\n",
    "        n += 1"
   ]
  },
  {
   "cell_type": "markdown",
   "id": "17ba99a9",
   "metadata": {},
   "source": [
    "That’s a generator function. When you call it, it returns a generator object:"
   ]
  },
  {
   "cell_type": "code",
   "execution_count": null,
   "id": "1423d844",
   "metadata": {},
   "outputs": [],
   "source": [
    "numbers = generate_numbers()\n",
    "type(numbers)"
   ]
  },
  {
   "cell_type": "markdown",
   "id": "655b5062",
   "metadata": {},
   "source": [
    "The important thing to note is how state is encapsulated within the body of the generator function. You can also step through one by one, using the built-in `next()` function:"
   ]
  },
  {
   "cell_type": "code",
   "execution_count": null,
   "id": "50696030",
   "metadata": {},
   "outputs": [],
   "source": [
    "next_number = generate_numbers()\n",
    "print(next(next_number))\n",
    "print(next(next_number))\n",
    "print(next(next_number))"
   ]
  },
  {
   "cell_type": "markdown",
   "id": "e1d11757",
   "metadata": {},
   "source": [
    "**What happens if you call next() past the end?**\n",
    "\n",
    "`StopIteration` is a built-in exception type, which is automatically raised once the generator stops yielding. It's the signal to the for loop to stop.\n",
    "\n",
    "**Yield Statement**\n",
    "\n",
    "Its primary job is to control the flow of a generator function in a way that’s similar to return statement. When you call a generator function or use a generator expression, you return a special iterator called a generator. You can assign this generator to a variable in order to use it. When you call special methods on the generator, such as `next()`, the code within the function is executed up to yield.\n",
    "\n",
    "When the Python yield statement is hit, the program suspends function execution and returns the yielded value to the caller. (In contrast, return stops function execution completely.) When a function is suspended, the state of that function is saved.\n",
    "\n",
    "**Compare generators with normal approach**\n",
    "\n",
    "Let us say that we have to iterate through a large list of numbers (eg 100000000) and store the square of all the numbers which are even in a seperate list."
   ]
  },
  {
   "cell_type": "code",
   "execution_count": null,
   "id": "a23b40f0",
   "metadata": {},
   "outputs": [],
   "source": [
    "import memory_profiler\n",
    "import time\n",
    "def check_even(numbers):\n",
    "    even = []\n",
    "    for num in numbers:\n",
    "        if num % 2 == 0: \n",
    "            even.append(num*num)\n",
    "            \n",
    "    return even\n",
    "if __name__ == '__main__':\n",
    "    m1 = memory_profiler.memory_usage()\n",
    "    t1 = time.clock()\n",
    "    cubes = check_even(range(100000000))\n",
    "    t2 = time.clock()\n",
    "    m2 = memory_profiler.memory_usage()\n",
    "    time_diff = t2 - t1\n",
    "    mem_diff = m2[0] - m1[0]\n",
    "    print(f\"It took {time_diff} Secs and {mem_diff} Mb to execute this method\")"
   ]
  },
  {
   "cell_type": "code",
   "execution_count": null,
   "id": "ce199cf9",
   "metadata": {},
   "outputs": [],
   "source": [
    "import memory_profiler\n",
    "import time\n",
    "def check_even(numbers):\n",
    "    for num in numbers:\n",
    "        if num % 2 == 0:\n",
    "            yield num * num \n",
    "    \n",
    "if __name__ == '__main__':\n",
    "    m1 = memory_profiler.memory_usage()\n",
    "    t1 = time.clock()\n",
    "    cubes = check_even(range(100000000))\n",
    "    t2 = time.clock()\n",
    "    m2 = memory_profiler.memory_usage()\n",
    "    time_diff = t2 - t1\n",
    "    mem_diff = m2[0] - m1[0]\n",
    "    print(f\"It took {time_diff} Secs and {mem_diff} Mb to execute this method\")"
   ]
  },
  {
   "cell_type": "code",
   "execution_count": null,
   "id": "a55784e9",
   "metadata": {},
   "outputs": [],
   "source": [
    "# (1) Using a for loop\n",
    "numbers = list()\n",
    "\n",
    "for i in range(1000):\n",
    "    numbers.append(i+1)\n",
    "    \n",
    "total = sum(numbers)\n",
    "\n",
    "# (2) Using a generator\n",
    " def generate_numbers(n):\n",
    "    num = 0\n",
    "    while num < n:\n",
    "        yield num\n",
    "        num += 1\n",
    "total = sum(generate_numbers(1000))\n",
    " \n",
    "# (3) range() vs xrange()\n",
    "total = sum(range(1000 + 1))\n",
    "total = sum(xrange(1000 + 1))"
   ]
  },
  {
   "cell_type": "code",
   "execution_count": null,
   "id": "0daa9d60",
   "metadata": {},
   "outputs": [],
   "source": [
    "import time\n",
    "t1 = time.clock()\n",
    "sum([i * i for i in range(1, 100000000)])\n",
    "t2 = time.clock()\n",
    "time_diff = t2 - t1\n",
    "print(f\"It took {time_diff} Secs to execute this method\") # It took 13.197494000000006 Secs to execute this method"
   ]
  },
  {
   "cell_type": "code",
   "execution_count": null,
   "id": "fc2be4cf",
   "metadata": {},
   "outputs": [],
   "source": [
    "t1 = time.clock()\n",
    "sum((i * i for i in range(1, 100000000)))\n",
    "t2 = time.clock()\n",
    "time_diff = t2 - t1\n",
    "print(f\"It took {time_diff} Secs to execute this method\") # It took 9.53867000000001 Secs to execute this method"
   ]
  },
  {
   "cell_type": "code",
   "execution_count": null,
   "id": "45c994b2",
   "metadata": {},
   "outputs": [],
   "source": []
  },
  {
   "cell_type": "code",
   "execution_count": null,
   "id": "da84ba77",
   "metadata": {},
   "outputs": [],
   "source": []
  },
  {
   "cell_type": "code",
   "execution_count": null,
   "id": "5eba5f8c",
   "metadata": {},
   "outputs": [],
   "source": []
  },
  {
   "cell_type": "code",
   "execution_count": null,
   "id": "765968d4",
   "metadata": {},
   "outputs": [],
   "source": []
  }
 ],
 "metadata": {
  "kernelspec": {
   "display_name": "Python 3 (ipykernel)",
   "language": "python",
   "name": "python3"
  },
  "language_info": {
   "codemirror_mode": {
    "name": "ipython",
    "version": 3
   },
   "file_extension": ".py",
   "mimetype": "text/x-python",
   "name": "python",
   "nbconvert_exporter": "python",
   "pygments_lexer": "ipython3",
   "version": "3.9.0"
  }
 },
 "nbformat": 4,
 "nbformat_minor": 5
}
