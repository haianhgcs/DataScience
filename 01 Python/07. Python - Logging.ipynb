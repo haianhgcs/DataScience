{
 "cells": [
  {
   "cell_type": "markdown",
   "metadata": {},
   "source": [
    "# Logging in Python"
   ]
  },
  {
   "cell_type": "markdown",
   "metadata": {},
   "source": [
    "- Logging is a means of tracking events that happen when some software runs and it is important for software developing, debugging and running. \n",
    "- Without any logging record and your program crashes, there are very little chances that you detect the cause of the problem. And if you detect the cause, it will consume a lot of time. \n",
    "- With logging, you can leave a trail of breadcrumbs so that if something goes wrong, we can determine the cause of the problem."
   ]
  },
  {
   "cell_type": "markdown",
   "metadata": {},
   "source": [
    "## Why Printing is not a good option?\n",
    "- Some developers use the concept of printing the statements to validate if the statements are executed correctly or some error has occurred. But printing is not a good idea. It may solve your issues for simple scripts but for complex scripts, printing approach will fail.\n",
    "- Python has a built-in module logging which allows writing status messages to a file or any other output streams. The file can contain the information on which part of the code is executed and what problems have been arisen."
   ]
  },
  {
   "cell_type": "markdown",
   "metadata": {},
   "source": [
    "There are two built-in levels of the log message.\n",
    "\n",
    " - **Debug** : These are used to give Detailed information, typically of interest only when diagnosing problems.\n",
    " - **Info** : These are used to Confirm that things are working as expected\n",
    " - **Warning** : These are used an indication that something unexpected happened, or indicative of some problem in the near future\n",
    " - **Error** : This tells that due to a more serious problem, the software has not been able to perform some function\n",
    " - **Critical** : This tells serious error, indicating that the program itself may be unable to continue running"
   ]
  },
  {
   "cell_type": "markdown",
   "metadata": {},
   "source": [
    "- Logging module is packed with several features. It has several constants, classes, and methods. The items with all caps are constant, the capitalize items are classes and the items which start with lowercase letters are methods."
   ]
  },
  {
   "cell_type": "markdown",
   "metadata": {},
   "source": [
    "There are several logger objects offered by the module itself.\n",
    " - **Logger.info(msg)** : This will log a message with level INFO on this logger.\n",
    " - **Logger.warning(msg)** : This will log a message with level WARNING on this logger.\n",
    " - **Logger.error(msg)** : This will log a message with level ERROR on this logger.\n",
    " - **Logger.critical(msg)** : This will log a message with level CRITICAL on this logger.\n",
    " - **Logger.log(lvl,msg)** : This will Logs a message with integer level lvl on this logger.\n",
    " - **Logger.exception(msg)** : This will log a message with level ERROR on this logger.\n",
    " - **Logger.setLevel(lvl)** : This function sets the threshold of this logger to lvl. This means that all the messages below this level will be ignored.\n",
    " - **Logger.addFilter(filt)** : This adds a specific filter filt to the to this logger.\n",
    " - **Logger.removeFilter(filt)** : This removes a specific filter filt to the to this logger.\n",
    " - **Logger.filter(record)** : This method applies the logger’s filter to the record provided and returns True if record is to be processed. Else, it will return False.\n",
    " - **Logger.addHandler(hdlr)** : This adds a specific handler hdlr to the to this logger.\n",
    " - **Logger.removeHandler(hdlr)** : This removes a specific handler hdlr to the to this logger.\n",
    " - **Logger.hasHandlers()** : This checks if the logger has any handler configured or not."
   ]
  },
  {
   "cell_type": "markdown",
   "metadata": {},
   "source": [
    "Basics of using the logging module to record the events in a file are very simple. For that, simply import the module from the library.\n",
    "\n",
    "   - Create and configure the logger. It can have several parameters. But importantly, pass the name of the file in which you want to record the events.\n",
    "   - Here the format of the logger can also be set. By default, the file works in append mode but we can change that to write mode if required.\n",
    "   - Also, the level of the logger can be set which acts as the threshold for tracking based on the numeric values assigned to each level.\n",
    "   - There are several attributes which can be passed as parameters.\n",
    "   - The list of all those parameters is given in Python Library. The user can choose the required attribute according to the requirement.\n",
    "   - After that, create an object and use the various methods as shown in the example."
   ]
  },
  {
   "cell_type": "code",
   "execution_count": 1,
   "metadata": {},
   "outputs": [],
   "source": [
    "# Importing module\n",
    "import logging\n",
    "\n",
    "# Create and configure logger\n",
    "logging.basicConfig(filename=\"newLogFile.log\",\n",
    "                    format='%(asctime)s %(message)s',\n",
    "                    filemode='w')\n",
    "\n",
    "logging.debug('This is a debug message')\n",
    "logging.info('This is an info message')\n",
    "logging.warning('This is a warning message')\n",
    "logging.error('This is an error message')\n",
    "logging.critical('This is a critical message')"
   ]
  },
  {
   "cell_type": "code",
   "execution_count": 2,
   "metadata": {},
   "outputs": [],
   "source": [
    "# A small sample how to create file and logging information\n",
    "\n",
    "\n",
    "# Creating an object\n",
    "logger=logging.getLogger()\n",
    "  \n",
    "# Setting the threshold of logger to DEBUG\n",
    "logger.setLevel(logging.DEBUG)\n",
    "  \n",
    "# Test messages\n",
    "logger.debug(\"Harmless debug Message\")\n",
    "logger.info(\"Just an information\")\n",
    "logger.warning(\"Its a Warning\")\n",
    "logger.error(\"Did you try to divide by zero\")\n",
    "logger.critical(\"Internet is down\")"
   ]
  },
  {
   "cell_type": "code",
   "execution_count": 3,
   "metadata": {},
   "outputs": [],
   "source": [
    "# Create and configure logger\n",
    "logging.basicConfig(filename=\"newLogFile.log\",\n",
    "                    format='%(asctime)s %(message)s',\n",
    "                    filemode='w')\n",
    "  \n",
    "FORMAT = '%(asctime)-15s %(clientip)s %(user)-8s %(message)s'\n",
    "logging.basicConfig(format=FORMAT)\n",
    "d = {'clientip': '192.168.0.1', 'user': 'fbloggs'}\n",
    "logging.warning('Protocol problem: %s', 'connection reset', extra=d)"
   ]
  },
  {
   "cell_type": "code",
   "execution_count": 6,
   "metadata": {},
   "outputs": [
    {
     "ename": "ZeroDivisionError",
     "evalue": "division by zero",
     "output_type": "error",
     "traceback": [
      "\u001b[1;31m---------------------------------------------------------------------------\u001b[0m",
      "\u001b[1;31mZeroDivisionError\u001b[0m                         Traceback (most recent call last)",
      "\u001b[1;32m<ipython-input-6-7f9a8f8731c9>\u001b[0m in \u001b[0;36m<module>\u001b[1;34m\u001b[0m\n\u001b[0;32m      2\u001b[0m \u001b[0mb\u001b[0m \u001b[1;33m=\u001b[0m \u001b[1;36m0\u001b[0m\u001b[1;33m\u001b[0m\u001b[1;33m\u001b[0m\u001b[0m\n\u001b[0;32m      3\u001b[0m \u001b[1;33m\u001b[0m\u001b[0m\n\u001b[1;32m----> 4\u001b[1;33m \u001b[0mc\u001b[0m \u001b[1;33m=\u001b[0m \u001b[0ma\u001b[0m \u001b[1;33m/\u001b[0m \u001b[0mb\u001b[0m\u001b[1;33m\u001b[0m\u001b[1;33m\u001b[0m\u001b[0m\n\u001b[0m\u001b[0;32m      5\u001b[0m \u001b[1;31m# except Exception as e:\u001b[0m\u001b[1;33m\u001b[0m\u001b[1;33m\u001b[0m\u001b[1;33m\u001b[0m\u001b[0m\n\u001b[0;32m      6\u001b[0m \u001b[1;31m#     logging.error(\"Exception occurred\", exc_info=True)\u001b[0m\u001b[1;33m\u001b[0m\u001b[1;33m\u001b[0m\u001b[1;33m\u001b[0m\u001b[0m\n",
      "\u001b[1;31mZeroDivisionError\u001b[0m: division by zero"
     ]
    }
   ],
   "source": [
    "a = 5\n",
    "b = 0\n",
    "\n",
    "try:\n",
    "    c = a / b\n",
    "except Exception as e:\n",
    "    logging.error(\"Exception occurred\", exc_info=True)"
   ]
  },
  {
   "cell_type": "code",
   "execution_count": null,
   "metadata": {},
   "outputs": [],
   "source": []
  },
  {
   "cell_type": "code",
   "execution_count": null,
   "metadata": {},
   "outputs": [],
   "source": []
  }
 ],
 "metadata": {
  "kernelspec": {
   "display_name": "Python 3 (ipykernel)",
   "language": "python",
   "name": "python3"
  },
  "language_info": {
   "codemirror_mode": {
    "name": "ipython",
    "version": 3
   },
   "file_extension": ".py",
   "mimetype": "text/x-python",
   "name": "python",
   "nbconvert_exporter": "python",
   "pygments_lexer": "ipython3",
   "version": "3.9.7"
  }
 },
 "nbformat": 4,
 "nbformat_minor": 2
}
