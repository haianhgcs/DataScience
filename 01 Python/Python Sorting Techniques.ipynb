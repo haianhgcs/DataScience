{
 "cells": [
  {
   "cell_type": "markdown",
   "id": "88d6a2bc",
   "metadata": {},
   "source": [
    "# Sorting Techniques in Python\n",
    "Sorting refers to arranging data in a particular format. Sorting algorithm specifies the way to arrange data in a particular order. Most common orders are in numerical or lexicographical order.\n",
    "\n",
    "#### What is Lexicographical Order\n",
    "In mathematics, the lexicographic or lexicographical order is a generalization of the alphabetical order of the dictionaries to sequences of ordered symbols or, more generally, of elements of a totally ordered set. There are several variants and generalizations of the lexicographical ordering.\n",
    "\n",
    "The importance of sorting lies in the fact that data searching can be optimized to a very high level, if data is stored in a sorted manner. Sorting is also used to represent data in more readable formats.\n",
    "\n",
    "### Python - Sorting Algorithms\n",
    "- Bubble Sort.\n",
    "- Selection Sort.\n",
    "- Insertion Sort.\n",
    "- Merge Sort.\n",
    "- Quic Sort."
   ]
  },
  {
   "cell_type": "markdown",
   "id": "28b1e6a3",
   "metadata": {},
   "source": [
    "### Best Sorting Techinque in Python\n",
    "The Merge Sort Algorithm in Python. Merge sort is a very efficient sorting algorithm. It's based on the divide-and-conquer approach, a powerful algorithmic technique used to solve complex problems."
   ]
  },
  {
   "cell_type": "markdown",
   "id": "560a21dc",
   "metadata": {},
   "source": [
    "## Bubble Sort\n",
    "- Bubble sort is the one usually taught in introductory CS classes since it clearly demonstrates how sort works while being simple and easy to understand. \n",
    "- Bubble sort steps through the list and compares adjacent pairs of elements. The elements are swapped if they are in the wrong order. \n",
    "- The pass through the unsorted portion of the list is repeated until the list is sorted. \n",
    "- Because Bubble sort repeatedly passes through the unsorted part of the list, it has a worst case complexity of O(n²)."
   ]
  },
  {
   "cell_type": "code",
   "execution_count": 1,
   "id": "a361f997",
   "metadata": {},
   "outputs": [],
   "source": [
    "def bubble_sort(arr):\n",
    "    def swap(i, j):\n",
    "        arr[i], arr[j] = arr[j], arr[i]\n",
    "\n",
    "    n = len(arr)\n",
    "    swapped = True\n",
    "    \n",
    "    x = -1\n",
    "    while swapped:\n",
    "        swapped = False\n",
    "        x = x + 1\n",
    "        for i in range(1, n-x):\n",
    "            if arr[i - 1] > arr[i]:\n",
    "                swap(i - 1, i)\n",
    "                swapped = True\n",
    "                    \n",
    "    return arr"
   ]
  },
  {
   "cell_type": "code",
   "execution_count": 3,
   "id": "540b8e0b",
   "metadata": {},
   "outputs": [
    {
     "name": "stdout",
     "output_type": "stream",
     "text": [
      "Before Bubble Sort:  [15, 3, 43, 23, 12, 8, 30, 45, 56, 32]\n",
      "After Bubble Sort:  [3, 8, 12, 15, 23, 30, 32, 43, 45, 56]\n"
     ]
    }
   ],
   "source": [
    "myBubbleList = [15, 3, 43, 23, 12, 8, 30, 45, 56, 32]\n",
    "print(\"Before Bubble Sort: \", myBubbleList)\n",
    "myBubbleList = bubble_sort(myBubbleList)\n",
    "print(\"After Bubble Sort: \", myBubbleList)"
   ]
  },
  {
   "cell_type": "markdown",
   "id": "3fd8808e",
   "metadata": {},
   "source": [
    "## Selection Sort\n",
    "- Selection sort is also quite simple but frequently outperforms bubble sort. \n",
    "- If you are choosing between the two, it’s best to just default right to selection sort. \n",
    "- With Selection sort, we divide our input list / array into two parts: the sublist of items already sorted and the sublist of items remaining to be sorted that make up the rest of the list. \n",
    "- We first find the smallest element in the unsorted sublist and place it at the end of the sorted sublist. \n",
    "- Thus, we are continuously grabbing the smallest unsorted element and placing it in sorted order in the sorted sublist. \n",
    "- This process continues iteratively until the list is fully sorted."
   ]
  },
  {
   "cell_type": "code",
   "execution_count": 4,
   "id": "78ba24da",
   "metadata": {},
   "outputs": [],
   "source": [
    "def selection_sort(arr):        \n",
    "    for i in range(len(arr)):\n",
    "        minimum = i\n",
    "        \n",
    "        for j in range(i + 1, len(arr)):\n",
    "            # Select the smallest value\n",
    "            if arr[j] < arr[minimum]:\n",
    "                minimum = j\n",
    "\n",
    "        # Place it at the front of the \n",
    "        # sorted end of the array\n",
    "        arr[minimum], arr[i] = arr[i], arr[minimum]\n",
    "            \n",
    "    return arr"
   ]
  },
  {
   "cell_type": "code",
   "execution_count": 5,
   "id": "d8e1130a",
   "metadata": {},
   "outputs": [
    {
     "name": "stdout",
     "output_type": "stream",
     "text": [
      "Before Selection Sort:  [15, 3, 43, 23, 12, 8, 30, 45, 56, 32]\n",
      "After Selection Sort:  [3, 8, 12, 15, 23, 30, 32, 43, 45, 56]\n"
     ]
    }
   ],
   "source": [
    "mySelectList = [15, 3, 43, 23, 12, 8, 30, 45, 56, 32]\n",
    "print(\"Before Selection Sort: \", mySelectList)\n",
    "mySelectList = selection_sort(mySelectList)\n",
    "print(\"After Selection Sort: \", mySelectList)"
   ]
  },
  {
   "cell_type": "markdown",
   "id": "eb452693",
   "metadata": {},
   "source": [
    "## Insertion Sort\n",
    "- Insertion sort is both faster and well-arguably more simplistic than both bubble sort and selection sort. \n",
    "- Funny enough, it’s how many people sort their cards when playing a card game! On each loop iteration, insertion sort removes one element from the array. \n",
    "- It then finds the location where that element belongs within another sorted array and inserts it there. It repeats this process until no input elements remain."
   ]
  },
  {
   "cell_type": "code",
   "execution_count": 6,
   "id": "d1376404",
   "metadata": {},
   "outputs": [],
   "source": [
    "def insertion_sort(arr):  \n",
    "    for i in range(len(arr)):\n",
    "        cursor = arr[i]\n",
    "        pos = i\n",
    "        \n",
    "        while pos > 0 and arr[pos - 1] > cursor:\n",
    "            # Swap the number down the list\n",
    "            arr[pos] = arr[pos - 1]\n",
    "            pos = pos - 1\n",
    "        # Break and do the final swap\n",
    "        arr[pos] = cursor\n",
    "\n",
    "    return arr"
   ]
  },
  {
   "cell_type": "code",
   "execution_count": 7,
   "id": "67700662",
   "metadata": {},
   "outputs": [
    {
     "name": "stdout",
     "output_type": "stream",
     "text": [
      "Before Insertion Sort:  [15, 3, 43, 23, 12, 8, 30, 45, 56, 32]\n",
      "After Insertion Sort:  [3, 8, 12, 15, 23, 30, 32, 43, 45, 56]\n"
     ]
    }
   ],
   "source": [
    "myInsertList = [15, 3, 43, 23, 12, 8, 30, 45, 56, 32]\n",
    "print(\"Before Insertion Sort: \", myInsertList)\n",
    "myInsertList = selection_sort(myInsertList)\n",
    "print(\"After Insertion Sort: \", myInsertList)"
   ]
  },
  {
   "cell_type": "markdown",
   "id": "20cb840c",
   "metadata": {},
   "source": [
    "# Merge Sort\n",
    "Merge sort is a perfectly elegant example of a Divide and Conquer algorithm. It simple uses the 2 main steps of such an algorithm:\n",
    "1. Continuously divide the unsorted list until you have N sublists, where each sublist has 1 element that is “unsorted” and N is the number of elements in the original array.\n",
    "2. Repeatedly merge i.e conquer the sublists together 2 at a time to produce new sorted sublists until all elements have been fully merged into a single sorted array."
   ]
  },
  {
   "cell_type": "code",
   "execution_count": 8,
   "id": "0f3e9d60",
   "metadata": {},
   "outputs": [],
   "source": [
    "def merge_sort(arr):\n",
    "    # The last array split\n",
    "    if len(arr) <= 1:\n",
    "        return arr\n",
    "    mid = len(arr) // 2\n",
    "    # Perform merge_sort recursively on both halves\n",
    "    left, right = merge_sort(arr[:mid]), merge_sort(arr[mid:])\n",
    "\n",
    "    # Merge each side together\n",
    "    return merge(left, right, arr.copy())\n",
    "\n",
    "\n",
    "def merge(left, right, merged):\n",
    "    left_cursor, right_cursor = 0, 0\n",
    "    while left_cursor < len(left) and right_cursor < len(right):\n",
    "      \n",
    "        # Sort each one and place into the result\n",
    "        if left[left_cursor] <= right[right_cursor]:\n",
    "            merged[left_cursor+right_cursor]=left[left_cursor]\n",
    "            left_cursor += 1\n",
    "        else:\n",
    "            merged[left_cursor + right_cursor] = right[right_cursor]\n",
    "            right_cursor += 1\n",
    "            \n",
    "    for left_cursor in range(left_cursor, len(left)):\n",
    "        merged[left_cursor + right_cursor] = left[left_cursor]\n",
    "        \n",
    "    for right_cursor in range(right_cursor, len(right)):\n",
    "        merged[left_cursor + right_cursor] = right[right_cursor]\n",
    "\n",
    "    return merged"
   ]
  },
  {
   "cell_type": "code",
   "execution_count": 9,
   "id": "ee7e8a38",
   "metadata": {},
   "outputs": [
    {
     "name": "stdout",
     "output_type": "stream",
     "text": [
      "Before Merge Sort:  [15, 3, 43, 23, 12, 8, 30, 45, 56, 32]\n",
      "After Merge Sort:  [3, 8, 12, 15, 23, 30, 32, 43, 45, 56]\n"
     ]
    }
   ],
   "source": [
    "myMergeList = [15, 3, 43, 23, 12, 8, 30, 45, 56, 32]\n",
    "print(\"Before Merge Sort: \", myMergeList)\n",
    "myMergeList = merge_sort(myMergeList)\n",
    "print(\"After Merge Sort: \", myMergeList)"
   ]
  },
  {
   "cell_type": "markdown",
   "id": "3c255849",
   "metadata": {},
   "source": [
    "## Quick Sort\n",
    "Quick sort is also a divide and conquer algorithm like merge sort. Although it’s a bit more complicated, in most standard implementations it performs significantly faster than merge sort and rarely reaches its worst case complexity of O(n²). \n",
    "\n",
    "It has 3 main steps:\n",
    "1. We first select an element which we will call the pivot from the array.\n",
    "2. Move all elements that are smaller than the pivot to the left of the pivot; move all elements that are larger than the pivot to the right of the pivot. This is called the partition operation.\n",
    "3. Recursively apply the above 2 steps separately to each of the sub-arrays of elements with smaller and bigger values than the last pivot."
   ]
  },
  {
   "cell_type": "code",
   "execution_count": 10,
   "id": "3624cddb",
   "metadata": {},
   "outputs": [],
   "source": [
    "def partition(arr, low, high):\n",
    "    i = (low-1)         # index of smaller element\n",
    "    pivot = arr[high]     # pivot\n",
    "  \n",
    "    for j in range(low, high):\n",
    "  \n",
    "        # If current element is smaller than or\n",
    "        # equal to pivot\n",
    "        if arr[j] <= pivot:\n",
    "  \n",
    "            # increment index of smaller element\n",
    "            i = i+1\n",
    "            arr[i], arr[j] = arr[j], arr[i]\n",
    "  \n",
    "    arr[i+1], arr[high] = arr[high], arr[i+1]\n",
    "    return (i+1)\n",
    "  \n",
    "# The main function that implements QuickSort\n",
    "# arr[] --> Array to be sorted,\n",
    "# low  --> Starting index,\n",
    "# high  --> Ending index\n",
    "  \n",
    "# Function to do Quick sort\n",
    "  \n",
    "def quickSort(arr, low, high):\n",
    "    if len(arr) == 1:\n",
    "        return arr\n",
    "    if low < high:\n",
    "  \n",
    "        # pi is partitioning index, arr[p] is now\n",
    "        # at right place\n",
    "        pi = partition(arr, low, high)\n",
    "  \n",
    "        # Separately sort elements before\n",
    "        # partition and after partition\n",
    "        quickSort(arr, low, pi-1)\n",
    "        quickSort(arr, pi+1, high)"
   ]
  },
  {
   "cell_type": "code",
   "execution_count": 16,
   "id": "90b73bdd",
   "metadata": {},
   "outputs": [
    {
     "name": "stdout",
     "output_type": "stream",
     "text": [
      "Before Quick Sort:  [15, 3, 43, 23, 12, 8, 30, 45, 56, 32]\n",
      "After Quick Sort:  [3, 8, 12, 15, 23, 30, 32, 43, 45, 56]\n"
     ]
    }
   ],
   "source": [
    "myQuickList = [15, 3, 43, 23, 12, 8, 30, 45, 56, 32]\n",
    "n = len(myQuickList)\n",
    "print(\"Before Quick Sort: \", myQuickList)\n",
    "quickSort(myQuickList, 0, n-1)\n",
    "print(\"After Quick Sort: \", myQuickList)"
   ]
  },
  {
   "cell_type": "code",
   "execution_count": null,
   "id": "6e404a40",
   "metadata": {},
   "outputs": [],
   "source": []
  }
 ],
 "metadata": {
  "kernelspec": {
   "display_name": "Python 3",
   "language": "python",
   "name": "python3"
  },
  "language_info": {
   "codemirror_mode": {
    "name": "ipython",
    "version": 3
   },
   "file_extension": ".py",
   "mimetype": "text/x-python",
   "name": "python",
   "nbconvert_exporter": "python",
   "pygments_lexer": "ipython3",
   "version": "3.8.8"
  }
 },
 "nbformat": 4,
 "nbformat_minor": 5
}
