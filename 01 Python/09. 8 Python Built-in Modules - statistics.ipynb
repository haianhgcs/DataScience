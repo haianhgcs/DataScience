{
 "cells": [
  {
   "cell_type": "markdown",
   "id": "486bb3e3",
   "metadata": {},
   "source": [
    "### Statistics Module\n",
    "The statistics module provides functions to mathematical statistics of numeric data. The following popular statistical functions are defined in this module."
   ]
  },
  {
   "cell_type": "code",
   "execution_count": null,
   "id": "f6d99582",
   "metadata": {},
   "outputs": [],
   "source": [
    "import statistics\n",
    "statistics.mean([2,5,6,9])"
   ]
  },
  {
   "cell_type": "code",
   "execution_count": null,
   "id": "cd85a120",
   "metadata": {},
   "outputs": [],
   "source": [
    "print(statistics.median([1,2,3,8,9]))\n",
    "print(statistics.median([1,2,3,7,8,9]))\n",
    "print(statistics.mode([2,5,3,2,8,3,9,4,2,5,6]))\n",
    "print(statistics.stdev([1,1.5,2,2.5,3,3.5,4,4.5,5]))"
   ]
  },
  {
   "cell_type": "code",
   "execution_count": null,
   "id": "d81700f5",
   "metadata": {},
   "outputs": [],
   "source": []
  },
  {
   "cell_type": "code",
   "execution_count": null,
   "id": "3d876c4b",
   "metadata": {},
   "outputs": [],
   "source": []
  },
  {
   "cell_type": "code",
   "execution_count": null,
   "id": "735e1cc0",
   "metadata": {},
   "outputs": [],
   "source": []
  },
  {
   "cell_type": "code",
   "execution_count": null,
   "id": "69579add",
   "metadata": {},
   "outputs": [],
   "source": []
  }
 ],
 "metadata": {
  "kernelspec": {
   "display_name": "Python 3 (ipykernel)",
   "language": "python",
   "name": "python3"
  },
  "language_info": {
   "codemirror_mode": {
    "name": "ipython",
    "version": 3
   },
   "file_extension": ".py",
   "mimetype": "text/x-python",
   "name": "python",
   "nbconvert_exporter": "python",
   "pygments_lexer": "ipython3",
   "version": "3.9.7"
  }
 },
 "nbformat": 4,
 "nbformat_minor": 5
}
