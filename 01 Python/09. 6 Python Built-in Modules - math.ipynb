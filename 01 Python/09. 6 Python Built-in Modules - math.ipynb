{
 "cells": [
  {
   "cell_type": "markdown",
   "id": "41f04d81",
   "metadata": {},
   "source": [
    "### Math Module\n",
    "Some of the most popular mathematical functions are defined in the math module. These include trigonometric functions, representation functions, logarithmic functions, angle conversion functions, etc. In addition, two mathematical constants are also defined in this module.\n",
    "\n",
    "***Learn more about the functions in math library here: https://docs.python.org/3/library/math.html***\n",
    "\n",
    "---\n",
    "\n",
    "- Pi is a well-known mathematical constant, which is defined as the ratio of the circumference to the diameter of a circle and its value is 3.141592653589793."
   ]
  },
  {
   "cell_type": "code",
   "execution_count": null,
   "id": "a8fd858e",
   "metadata": {},
   "outputs": [],
   "source": [
    "import math\n",
    "print(math.pi) # pi is a mathematical constant and its value is 3.141592653589793\n",
    "print(math.e) # Euler's number and it is a base of the natural logarithm. Its value is 2.718281828459045\n",
    "print(math.radians(30))\n",
    "print(math.degrees(math.pi/6))\n",
    "\n",
    "# sin, cos and tan ratios for the angle of 30 degrees (0.5235987755982988 radians)\n",
    "print(math.sin(0.5235987755982988))\n",
    "print(math.cos(0.5235987755982988))\n",
    "print(math.tan(0.5235987755982988))\n",
    "\n",
    "# Log values\n",
    "print(math.log(10))\n",
    "print(math.log10(10))"
   ]
  },
  {
   "cell_type": "code",
   "execution_count": null,
   "id": "3795c811",
   "metadata": {},
   "outputs": [],
   "source": [
    "# Exponent value\n",
    "print(math.exp(10))\n",
    "print(math.e**10)\n",
    "print(math.pow(2,4))\n",
    "print(math.sqrt(100))\n",
    "print(math.ceil(4.5867))\n",
    "print(math.floor(4.5687))"
   ]
  },
  {
   "cell_type": "code",
   "execution_count": null,
   "id": "fffe5f01",
   "metadata": {},
   "outputs": [],
   "source": [
    "# importing sqrt() and factorial from the module math\n",
    "from math import sqrt, factorial\n",
    " \n",
    "# if we simply do \"import math\", then math.sqrt(16) and math.factorial() are required.\n",
    "print(sqrt(16))\n",
    "print(factorial(6))"
   ]
  },
  {
   "cell_type": "code",
   "execution_count": 2,
   "id": "666dc174",
   "metadata": {},
   "outputs": [
    {
     "data": {
      "text/plain": [
       "5"
      ]
     },
     "execution_count": 2,
     "metadata": {},
     "output_type": "execute_result"
    }
   ],
   "source": [
    "# greatest common divisor of the integers a and b.\n",
    "math.gcd(20,25)"
   ]
  },
  {
   "cell_type": "code",
   "execution_count": 1,
   "id": "e67833a5",
   "metadata": {},
   "outputs": [
    {
     "name": "stdout",
     "output_type": "stream",
     "text": [
      "------------------------- Math Part -------------------------\n",
      "5.0\n",
      "3.141592653589793\n",
      "114.59155902616465\n",
      "1.0471975511965976\n",
      "0.9092974268256817\n",
      "0.8775825618903728\n",
      "0.23414336235146527\n",
      "24\n",
      "------------------------- Random Part -------------------------\n",
      "5\n",
      "0.3207510141414168\n",
      "90.04635691351045\n",
      "python\n",
      "------------------------- Date Part -------------------------\n",
      "1642239693.981616\n",
      "1970-01-06\n"
     ]
    }
   ],
   "source": [
    "# importing built-in module math\n",
    "import math\n",
    "# importing built in module random\n",
    "import random\n",
    "# importing built in module datetime\n",
    "import datetime\n",
    "from datetime import date\n",
    "import time\n",
    "\n",
    "print('-'*25 +' Math Part '+ '-'*25)\n",
    "\n",
    "# using square root(sqrt) function contained\n",
    "# in math module\n",
    "print(math.sqrt(25))\n",
    " \n",
    "# using pi function contained in math module\n",
    "print(math.pi)\n",
    " \n",
    "# 2 radians = 114.59 degreees\n",
    "print(math.degrees(2)) \n",
    " \n",
    "# 60 degrees = 1.04 radians\n",
    "print(math.radians(60)) \n",
    " \n",
    "# Sine of 2 radians\n",
    "print(math.sin(2)) \n",
    " \n",
    "# Cosine of 0.5 radians\n",
    "print(math.cos(0.5)) \n",
    " \n",
    "# Tangent of 0.23 radians\n",
    "print(math.tan(0.23))\n",
    " \n",
    "# 1 * 2 * 3 * 4 = 24\n",
    "print(math.factorial(4)) \n",
    " \n",
    "print('-'*25 +' Random Part '+ '-'*25)\n",
    "\n",
    "# printing random integer between 0 and 5\n",
    "print(random.randint(0, 5)) \n",
    " \n",
    "# print random floating point number between 0 and 1\n",
    "print(random.random()) \n",
    " \n",
    "# random number between 0 and 100\n",
    "print(random.random() * 100) \n",
    " \n",
    "List = [1, 4, True, 800, \"python\", 27, \"hello\"]\n",
    " \n",
    "# using choice function in random module for choosing\n",
    "# a random element from a set such as a list\n",
    "print(random.choice(List))\n",
    " \n",
    "print('-'*25 +' Date Part '+ '-'*25)\n",
    "\n",
    "# Returns the number of seconds since the\n",
    "# Unix Epoch, January 1st 1970\n",
    "print(time.time()) \n",
    " \n",
    "# Converts a number of seconds to a date object\n",
    "print(date.fromtimestamp(454554)) "
   ]
  },
  {
   "cell_type": "code",
   "execution_count": null,
   "id": "c149f05d",
   "metadata": {},
   "outputs": [],
   "source": []
  },
  {
   "cell_type": "code",
   "execution_count": null,
   "id": "a9b99bb2",
   "metadata": {},
   "outputs": [],
   "source": []
  },
  {
   "cell_type": "code",
   "execution_count": null,
   "id": "f23083e2",
   "metadata": {},
   "outputs": [],
   "source": []
  }
 ],
 "metadata": {
  "kernelspec": {
   "display_name": "Python 3 (ipykernel)",
   "language": "python",
   "name": "python3"
  },
  "language_info": {
   "codemirror_mode": {
    "name": "ipython",
    "version": 3
   },
   "file_extension": ".py",
   "mimetype": "text/x-python",
   "name": "python",
   "nbconvert_exporter": "python",
   "pygments_lexer": "ipython3",
   "version": "3.9.7"
  }
 },
 "nbformat": 4,
 "nbformat_minor": 5
}
