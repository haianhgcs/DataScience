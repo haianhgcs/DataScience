{
 "cells": [
  {
   "cell_type": "markdown",
   "metadata": {},
   "source": [
    "## Sequences in Python\n",
    "In Python programming, sequences are a generic term for an ordered set which means that the order in which we input the items will be the same when we access them.\n",
    "\n",
    "- Python supports six different types of sequences.\n",
    "\n",
    "    - These are strings, lists, tuples, byte sequences, byte arrays, and range objects."
   ]
  },
  {
   "cell_type": "markdown",
   "metadata": {},
   "source": [
    "### Python String\n",
    "- Strings are a group of characters written inside a single or double-quotes.\n",
    "- Python does not have a character type so a single character inside quotes is also considered as a string.\n",
    "- Strings are immutable in nature so we can reassign a variable to a new string but we can’t make any changes in the string."
   ]
  },
  {
   "cell_type": "code",
   "execution_count": 54,
   "metadata": {},
   "outputs": [
    {
     "name": "stdout",
     "output_type": "stream",
     "text": [
      "hello friend\n",
      "hello  friend\n",
      "hello hello  friend\n"
     ]
    }
   ],
   "source": [
    "a, b = 'hello ', 'friend'\n",
    "print(a + b)\n",
    "print(a + ' ' + b)\n",
    "print(a*2 + ' ' + b)"
   ]
  },
  {
   "cell_type": "markdown",
   "metadata": {},
   "source": [
    "### Python Lists\n",
    "- Lists are the most versatile sequence type. The elements of a list can be any object, and lists are mutable.\n",
    "- Lists are similar to an array but they allow us to create a heterogeneous collection of items inside a list.\n",
    "- List can contain numbers, strings, lists, tuples, dictionaries, objects, etc.\n",
    "- Lists are declared by using square brackets around comma-separated items."
   ]
  },
  {
   "cell_type": "code",
   "execution_count": 56,
   "metadata": {},
   "outputs": [
    {
     "name": "stdout",
     "output_type": "stream",
     "text": [
      "[10, 20, 30, 40, 50, 60]\n",
      "[10, 20, 30, 40, 10, 20, 30, 40]\n"
     ]
    }
   ],
   "source": [
    "list1, list2 = [10,20,30,40], [50, 60]\n",
    "print(list1 + list2)\n",
    "print(list1*2)"
   ]
  },
  {
   "cell_type": "markdown",
   "metadata": {},
   "source": [
    "### Python Tuples\n",
    "- Tuples are also a sequence of Python objects. A tuple is created by separating items with a comma.\n",
    "- They can be optionally put inside the parenthesis () but it is necessary to put parenthesis in an empty tuple.\n",
    "- A single item tuple should use a comma in the end."
   ]
  },
  {
   "cell_type": "code",
   "execution_count": 61,
   "metadata": {},
   "outputs": [
    {
     "name": "stdout",
     "output_type": "stream",
     "text": [
      "<class 'tuple'>\n",
      "<class 'int'>\n",
      "<class 'tuple'>\n",
      "('78 Street', 3.8, 9826)\n"
     ]
    }
   ],
   "source": [
    "tup = ()\n",
    "print( type(tup) )\n",
    "\n",
    "tup = (45)\n",
    "print(type(tup))\n",
    "tup = (45,)\n",
    "print(type(tup))\n",
    "\n",
    "tup = (1,2,3,4,5)\n",
    "tup = ('78 Street', 3.8, 9826 )\n",
    "print(tup)"
   ]
  },
  {
   "cell_type": "markdown",
   "metadata": {},
   "source": [
    "- Tuples are also immutable like strings so we can only reassign the variable but we cannot change, add or remove elements from the tuple."
   ]
  },
  {
   "cell_type": "code",
   "execution_count": 62,
   "metadata": {},
   "outputs": [
    {
     "ename": "TypeError",
     "evalue": "'tuple' object does not support item assignment",
     "output_type": "error",
     "traceback": [
      "\u001b[1;31m---------------------------------------------------------------------------\u001b[0m",
      "\u001b[1;31mTypeError\u001b[0m                                 Traceback (most recent call last)",
      "\u001b[1;32m<ipython-input-62-359316b38c5e>\u001b[0m in \u001b[0;36m<module>\u001b[1;34m\u001b[0m\n\u001b[0;32m      1\u001b[0m \u001b[0mtup\u001b[0m \u001b[1;33m=\u001b[0m \u001b[1;33m(\u001b[0m\u001b[1;36m1\u001b[0m\u001b[1;33m,\u001b[0m\u001b[1;36m2\u001b[0m\u001b[1;33m,\u001b[0m\u001b[1;36m3\u001b[0m\u001b[1;33m,\u001b[0m\u001b[1;36m4\u001b[0m\u001b[1;33m,\u001b[0m\u001b[1;36m5\u001b[0m\u001b[1;33m)\u001b[0m\u001b[1;33m\u001b[0m\u001b[1;33m\u001b[0m\u001b[0m\n\u001b[1;32m----> 2\u001b[1;33m \u001b[0mtup\u001b[0m\u001b[1;33m[\u001b[0m\u001b[1;36m2\u001b[0m\u001b[1;33m]\u001b[0m \u001b[1;33m=\u001b[0m \u001b[1;36m10\u001b[0m\u001b[1;33m\u001b[0m\u001b[1;33m\u001b[0m\u001b[0m\n\u001b[0m",
      "\u001b[1;31mTypeError\u001b[0m: 'tuple' object does not support item assignment"
     ]
    }
   ],
   "source": [
    "tup = (1,2,3,4,5)\n",
    "tup[2] = 10"
   ]
  },
  {
   "cell_type": "markdown",
   "metadata": {},
   "source": [
    "### Bytes Sequences in Python\n",
    "- The bytes() function in Python is used to return an immutable bytes sequence.\n",
    "- Since they are immutable, we cannot modify them.\n",
    "- If you want a mutable byte sequence, then it is better to use byte arrays."
   ]
  },
  {
   "cell_type": "code",
   "execution_count": 64,
   "metadata": {},
   "outputs": [
    {
     "name": "stdout",
     "output_type": "stream",
     "text": [
      "b'\\x00\\x00\\x00\\x00\\x00\\x00\\x00\\x00\\x00\\x00'\n"
     ]
    }
   ],
   "source": [
    "size = 10\n",
    "b = bytes(size)\n",
    "print(b)"
   ]
  },
  {
   "cell_type": "markdown",
   "metadata": {},
   "source": [
    "- Iterables can be converted into bytes."
   ]
  },
  {
   "cell_type": "code",
   "execution_count": 65,
   "metadata": {},
   "outputs": [
    {
     "name": "stdout",
     "output_type": "stream",
     "text": [
      "b'\\x04\\x02\\x01'\n"
     ]
    }
   ],
   "source": [
    "print(bytes([4,2,1]))"
   ]
  },
  {
   "cell_type": "markdown",
   "metadata": {},
   "source": [
    "- For strings, we have to provide the encoding in the second parameter."
   ]
  },
  {
   "cell_type": "code",
   "execution_count": 67,
   "metadata": {},
   "outputs": [
    {
     "data": {
      "text/plain": [
       "b'Hello'"
      ]
     },
     "execution_count": 67,
     "metadata": {},
     "output_type": "execute_result"
    }
   ],
   "source": [
    "bytes('Hello', 'utf=8')"
   ]
  },
  {
   "cell_type": "markdown",
   "metadata": {},
   "source": [
    "### Byte Arrays in Python\n",
    "- Byte arrays are similar to bytes sequence.\n",
    "- The only difference here is that byte arrays are mutable while bytes sequences are immutable. So, it also returns the bytes object the same way."
   ]
  },
  {
   "cell_type": "code",
   "execution_count": 69,
   "metadata": {},
   "outputs": [
    {
     "name": "stdout",
     "output_type": "stream",
     "text": [
      "bytearray(b'\\x00\\x00\\x00\\x00')\n",
      "bytearray(b'\\x01\\x02\\x03\\x04')\n",
      "bytearray(b'Hola!')\n"
     ]
    }
   ],
   "source": [
    "print(bytearray(4))\n",
    "print(bytearray([1, 2, 3, 4]))\n",
    "print(bytearray('Hola!', 'utf-8'))"
   ]
  },
  {
   "cell_type": "markdown",
   "metadata": {},
   "source": [
    "- Since byte arrays are mutable, let’s try changing a byte from the array."
   ]
  },
  {
   "cell_type": "code",
   "execution_count": 71,
   "metadata": {},
   "outputs": [
    {
     "name": "stdout",
     "output_type": "stream",
     "text": [
      "bytearray(b'\\x01\\x03\\x04\\x05')\n",
      "bytearray(b'\\x01\\x03\\x02\\x05')\n",
      "<class 'bytearray'>\n"
     ]
    }
   ],
   "source": [
    "a = bytearray([1,3,4,5])\n",
    "print(a)\n",
    "a[2] = 2\n",
    "print(a)\n",
    "print(type(a))"
   ]
  },
  {
   "cell_type": "markdown",
   "metadata": {},
   "source": [
    "### Python range() objects\n",
    "- range() is a built-in function in Python that returns us a range object.\n",
    "- The range object is nothing but a sequence of integers.\n",
    "- It generates the integers within the specified start and stop range."
   ]
  },
  {
   "cell_type": "code",
   "execution_count": 72,
   "metadata": {},
   "outputs": [
    {
     "name": "stdout",
     "output_type": "stream",
     "text": [
      "<class 'range'>\n",
      "range(0, 10)\n"
     ]
    }
   ],
   "source": [
    "num = range(10)\n",
    "print(type(num))\n",
    "print(num)"
   ]
  },
  {
   "cell_type": "code",
   "execution_count": 74,
   "metadata": {},
   "outputs": [
    {
     "name": "stdout",
     "output_type": "stream",
     "text": [
      "0 1 2 3 4 5 6 7 8 9 "
     ]
    }
   ],
   "source": [
    "for i in num:\n",
    "    print(i, end = ' ')"
   ]
  },
  {
   "cell_type": "code",
   "execution_count": 76,
   "metadata": {},
   "outputs": [
    {
     "name": "stdout",
     "output_type": "stream",
     "text": [
      "4 6 8 10 12 14 "
     ]
    }
   ],
   "source": [
    "for i in range(4,16,2):\n",
    "    print(i, end = ' ')"
   ]
  },
  {
   "cell_type": "markdown",
   "metadata": {},
   "source": [
    "### Performing Sequnce Operations\n",
    "1. Concatenation - The operator (+) is used to concatenate the second element to the first.\n",
    "2. Repeat - The operator (*) is used to repeat a sequence n number of times.\n",
    "3. Membership Operators: Membership operators (in) and (not in) are used to check whether an item is present in the sequence or not. They return True or False.\n",
    "4. Slicing Operator: All the sequences in Python can be sliced. The slicing operator can take out a part of a sequence from the sequence."
   ]
  },
  {
   "cell_type": "code",
   "execution_count": 81,
   "metadata": {},
   "outputs": [
    {
     "name": "stdout",
     "output_type": "stream",
     "text": [
      "(1, 2, 3, 4)\n"
     ]
    }
   ],
   "source": [
    "# Concatenation Operator\n",
    "a, b = (1,2), (3,4)\n",
    "print(a + b)"
   ]
  },
  {
   "cell_type": "code",
   "execution_count": 80,
   "metadata": {},
   "outputs": [
    {
     "name": "stdout",
     "output_type": "stream",
     "text": [
      "(1, 2, 3, 1, 2, 3, 1, 2, 3)\n"
     ]
    }
   ],
   "source": [
    "# Repeat Operator *\n",
    "a = (1,2,3)\n",
    "print(a*3)"
   ]
  },
  {
   "cell_type": "code",
   "execution_count": 79,
   "metadata": {},
   "outputs": [
    {
     "name": "stdout",
     "output_type": "stream",
     "text": [
      "Exist\n",
      "True\n"
     ]
    }
   ],
   "source": [
    "# Membership Operator IN, NOT IN\n",
    "a = [1,2,3,4]\n",
    "if 2 in a:\n",
    "    print('Exist')\n",
    "else:\n",
    "    print('Not Exist')\n",
    "    \n",
    "print(2 in a)"
   ]
  },
  {
   "cell_type": "code",
   "execution_count": 77,
   "metadata": {},
   "outputs": [
    {
     "name": "stdout",
     "output_type": "stream",
     "text": [
      "new yo\n",
      "(2, 3)\n"
     ]
    }
   ],
   "source": [
    "# Slicing\n",
    "print('The new york times'[4:10])\n",
    "print((1,2,3,4,5)[1:3])"
   ]
  },
  {
   "cell_type": "markdown",
   "metadata": {},
   "source": [
    "### Sequence Functions\n",
    "1. len(): The len() function is very handy when you want to know the length of the sequence\n",
    "2. min() and max(): The min() and max() functions are used to get the minimum value and the maximum value from the sequences respectively.\n",
    "3. index(): The index() method searches an element in the sequence and returns the index of the first occurrence.\n",
    "4. count(): The count() method counts the number of times an element has occurred in the sequence."
   ]
  },
  {
   "cell_type": "code",
   "execution_count": 84,
   "metadata": {},
   "outputs": [
    {
     "name": "stdout",
     "output_type": "stream",
     "text": [
      "18\n",
      "1\n",
      "5\n",
      "1\n",
      "3\n"
     ]
    }
   ],
   "source": [
    "print(len(\"This is a sentence\"))\n",
    "\n",
    "print(min([5,3,2,1]))\n",
    "print(max([5,3,2,1]))\n",
    "\n",
    "print('Hahaha'.index('a'))\n",
    "\n",
    "print('Hahaha'.count('a'))"
   ]
  },
  {
   "cell_type": "markdown",
   "metadata": {},
   "source": [
    "### Nested Sequences"
   ]
  },
  {
   "cell_type": "code",
   "execution_count": 3,
   "metadata": {},
   "outputs": [
    {
     "name": "stdout",
     "output_type": "stream",
     "text": [
      "\n",
      "A1 B1 C1 \n",
      "A2 B2 C2 \n",
      "A3 B3 C3 "
     ]
    }
   ],
   "source": [
    "# Nested loop to create sequence\n",
    "for row in [1, 2, 3]:  \n",
    "    print()\n",
    "    for column in ['A', 'B', 'C']:\n",
    "        print(f'{column}{row}', end=' ')"
   ]
  },
  {
   "cell_type": "markdown",
   "metadata": {},
   "source": [
    "### List of Sequence"
   ]
  },
  {
   "cell_type": "code",
   "execution_count": 4,
   "metadata": {},
   "outputs": [
    {
     "name": "stdout",
     "output_type": "stream",
     "text": [
      "setosa -> 10.2\n",
      "versicolor -> 13.9\n",
      "virginica -> 16.599999999999998\n"
     ]
    }
   ],
   "source": [
    "DATA = [(5.1, 3.5, 1.4, 0.2, 'setosa'),\n",
    "        (5.7, 2.8, 4.1, 1.3, 'versicolor'),\n",
    "        (6.3, 2.9, 5.6, 1.8, 'virginica')]\n",
    "\n",
    "for row in DATA:\n",
    "    sepal_length = row[0]\n",
    "    sepal_width = row[1]\n",
    "    petal_length = row[2]\n",
    "    petal_width = row[3]\n",
    "    species = row[4]\n",
    "    total = sepal_length + sepal_width + petal_length + petal_width\n",
    "    print(f'{species} -> {total}')"
   ]
  },
  {
   "cell_type": "markdown",
   "metadata": {},
   "source": [
    "## Generator Expressions \n",
    "- To create iterators, we can use both regular functions and generators.\n",
    "- Generators are written just like a normal function but we use yield() instead of return() for returning a result.\n",
    "\n",
    "#### Advantages:\n",
    " - Compare to regular functions which on encountering a return statement terminates entirely, generators use yield statement in which the state of the function is saved from the last call and can be picked up or resumed the next time we call a generator function.\n",
    " - Another great advantage of the generator over a list is that it takes much less memory.\n",
    " - Two more functions _next_() and _iter_() make the generator function more compact and reliable. "
   ]
  },
  {
   "cell_type": "code",
   "execution_count": 7,
   "metadata": {},
   "outputs": [
    {
     "name": "stdout",
     "output_type": "stream",
     "text": [
      "First result is  1\n",
      "Second result is  2\n",
      "Third result is  3\n"
     ]
    },
    {
     "data": {
      "text/plain": [
       "3"
      ]
     },
     "execution_count": 7,
     "metadata": {},
     "output_type": "execute_result"
    }
   ],
   "source": [
    "\n",
    "# Python code to illustrate generator, yield() and next(). \n",
    "def generator(): \n",
    "    t = 1\n",
    "    print ('First result is ',t) \n",
    "    yield t \n",
    "  \n",
    "    t += 1\n",
    "    print ('Second result is ',t) \n",
    "    yield t \n",
    "  \n",
    "    t += 1\n",
    "    print('Third result is ',t) \n",
    "    yield t \n",
    "    \n",
    "call = generator() \n",
    "\n",
    "next(call) \n",
    "next(call) \n",
    "next(call)"
   ]
  },
  {
   "cell_type": "markdown",
   "metadata": {},
   "source": [
    "#### Difference between Generator function and Normal function –\n",
    "\n",
    "- Once the function yields, the function is paused and the control is transferred to the caller.\n",
    "- When the function terminates, StopIteration is raised automatically on further calls.\n",
    "- Local variables and their states are remembered between successive calls.\n",
    "- Generator function contains one or more yield statement instead of return statement.\n",
    "- As the methods like _next_() and _iter_() are implemented automatically, we can iterate through the items using next()."
   ]
  },
  {
   "cell_type": "code",
   "execution_count": 9,
   "metadata": {},
   "outputs": [
    {
     "name": "stdout",
     "output_type": "stream",
     "text": [
      "0 1 4 9 16 25 36 49 64 81 "
     ]
    }
   ],
   "source": [
    "# Python code to illustrate generator expression \n",
    "generator = (num ** 2 for num in range(10)) \n",
    "for num in generator:\n",
    "    print(num, end = ' ')"
   ]
  },
  {
   "cell_type": "code",
   "execution_count": 10,
   "metadata": {},
   "outputs": [
    {
     "name": "stdout",
     "output_type": "stream",
     "text": [
      "['k', 'e', 'e', 'g']\n"
     ]
    }
   ],
   "source": [
    "# We can also generate a list using generator expressions :\n",
    "string = 'geek'\n",
    "li = list(string[i] for i in range(len(string)-1, -1, -1))\n",
    "print(li)"
   ]
  },
  {
   "cell_type": "markdown",
   "metadata": {},
   "source": [
    "### Use of Python Generators\n",
    "\n",
    "1. Easy to Implement\n",
    "2. Memory Efficient\n",
    "3. Represent Infinite Stream\n",
    "4. Pipelining Generators"
   ]
  },
  {
   "cell_type": "markdown",
   "metadata": {},
   "source": [
    "#### Easy to Implement Generator"
   ]
  },
  {
   "cell_type": "code",
   "execution_count": 11,
   "metadata": {},
   "outputs": [],
   "source": [
    "class PowTwo:\n",
    "    def __init__(self, max=0):\n",
    "        self.n = 0\n",
    "        self.max = max\n",
    "\n",
    "    def __iter__(self):\n",
    "        return self\n",
    "\n",
    "    def __next__(self):\n",
    "        if self.n > self.max:\n",
    "            raise StopIteration\n",
    "\n",
    "        result = 2 ** self.n\n",
    "        self.n += 1\n",
    "        return result"
   ]
  },
  {
   "cell_type": "code",
   "execution_count": 29,
   "metadata": {},
   "outputs": [
    {
     "name": "stdout",
     "output_type": "stream",
     "text": [
      "1\n",
      "2\n",
      "4\n",
      "8\n"
     ]
    }
   ],
   "source": [
    "x = PowTwo(max=3)\n",
    "print(next(x))\n",
    "print(next(x))\n",
    "print(next(x))\n",
    "print(next(x))\n"
   ]
  },
  {
   "cell_type": "code",
   "execution_count": 27,
   "metadata": {},
   "outputs": [
    {
     "name": "stdout",
     "output_type": "stream",
     "text": [
      "1\n",
      "2\n",
      "4\n",
      "8\n"
     ]
    }
   ],
   "source": [
    "def PowTwoGen(max=0):\n",
    "    n = 0\n",
    "    while n < max+1:\n",
    "        yield 2 ** n\n",
    "        n += 1\n",
    "x = PowTwoGen(max=3)\n",
    "print(next(x))\n",
    "print(next(x))\n",
    "print(next(x))\n",
    "print(next(x))"
   ]
  },
  {
   "cell_type": "markdown",
   "metadata": {},
   "source": [
    "#### Memory Efficient\n",
    "- A normal function to return a sequence will create the entire sequence in memory before returning the result. This is an overkill, if the number of items in the sequence is very large.\n",
    "- Generator implementation of such sequences is memory friendly and is preferred since it only produces one item at a time."
   ]
  },
  {
   "cell_type": "markdown",
   "metadata": {},
   "source": [
    "#### Represent Infinite Stream\n",
    "- Generators are excellent mediums to represent an infinite stream of data. Infinite streams cannot be stored in memory, and since generators produce only one item at a time, they can represent an infinite stream of data.\n",
    "\n",
    "The following generator function can generate all the even numbers (at least in theory)."
   ]
  },
  {
   "cell_type": "code",
   "execution_count": 41,
   "metadata": {},
   "outputs": [
    {
     "name": "stdout",
     "output_type": "stream",
     "text": [
      "2\n",
      "4\n",
      "6\n",
      "8\n",
      "10\n",
      "12\n",
      "14\n",
      "16\n",
      "18\n",
      "20\n",
      "22\n",
      "24\n"
     ]
    }
   ],
   "source": [
    "def all_even():\n",
    "    n = 2\n",
    "    while True:\n",
    "        yield n\n",
    "        n += 2\n",
    "\n",
    "x = all_even()\n",
    "print(next(x))\n",
    "print(next(x))\n",
    "print(next(x))\n",
    "print(next(x))\n",
    "print(next(x))\n",
    "print(next(x))\n",
    "print(next(x))\n",
    "print(next(x))\n",
    "print(next(x))\n",
    "print(next(x))\n",
    "print(next(x))\n",
    "print(next(x))"
   ]
  },
  {
   "cell_type": "markdown",
   "metadata": {},
   "source": [
    "#### Pipelining Generators\n",
    "- Multiple generators can be used to pipeline a series of operations. This is best illustrated using an example.\n",
    "- Suppose we have a generator that produces the numbers in the Fibonacci series. And we have another generator for squaring numbers.\n",
    "- If we want to find out the sum of squares of numbers in the Fibonacci series, we can do it in the following way by pipelining the output of generator functions together."
   ]
  },
  {
   "cell_type": "code",
   "execution_count": 50,
   "metadata": {},
   "outputs": [
    {
     "name": "stdout",
     "output_type": "stream",
     "text": [
      "1 :  1\n",
      "1 :  1\n",
      "2 :  4\n",
      "3 :  9\n",
      "5 :  25\n",
      "8 :  64\n",
      "13 :  169\n",
      "21 :  441\n",
      "34 :  1156\n",
      "55 :  3025\n",
      "4895\n"
     ]
    }
   ],
   "source": [
    "def fibonacci_numbers(nums):\n",
    "    x, y = 0, 1\n",
    "    for _ in range(nums):\n",
    "        x, y = y, x+y\n",
    "        yield x\n",
    "\n",
    "def square(nums):\n",
    "    for num in nums:\n",
    "        yield num**2\n",
    "\n",
    "x = fibonacci_numbers(10)\n",
    "y = square(fibonacci_numbers(10))\n",
    "print(next(x), \": \", next(y))\n",
    "print(next(x), \": \", next(y))\n",
    "print(next(x), \": \", next(y))\n",
    "print(next(x), \": \", next(y))\n",
    "print(next(x), \": \", next(y))\n",
    "print(next(x), \": \", next(y))\n",
    "print(next(x), \": \", next(y))\n",
    "print(next(x), \": \", next(y))\n",
    "print(next(x), \": \", next(y))\n",
    "print(next(x), \": \", next(y))\n",
    "\n",
    "print(sum(square(fibonacci_numbers(10))))"
   ]
  },
  {
   "cell_type": "code",
   "execution_count": null,
   "metadata": {},
   "outputs": [],
   "source": []
  }
 ],
 "metadata": {
  "kernelspec": {
   "display_name": "Python 3 (ipykernel)",
   "language": "python",
   "name": "python3"
  },
  "language_info": {
   "codemirror_mode": {
    "name": "ipython",
    "version": 3
   },
   "file_extension": ".py",
   "mimetype": "text/x-python",
   "name": "python",
   "nbconvert_exporter": "python",
   "pygments_lexer": "ipython3",
   "version": "3.9.7"
  }
 },
 "nbformat": 4,
 "nbformat_minor": 2
}
