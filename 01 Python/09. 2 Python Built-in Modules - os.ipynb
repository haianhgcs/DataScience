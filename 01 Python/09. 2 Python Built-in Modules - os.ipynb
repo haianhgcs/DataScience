{
 "cells": [
  {
   "cell_type": "markdown",
   "id": "71a82616",
   "metadata": {},
   "source": [
    "### OS Module\n",
    "It is possible to automatically perform many operating system tasks. The OS module in Python provides functions for creating and removing a directory (folder), fetching its contents, changing and identifying the current directory, etc."
   ]
  },
  {
   "cell_type": "code",
   "execution_count": 1,
   "id": "da69051e",
   "metadata": {},
   "outputs": [
    {
     "name": "stdout",
     "output_type": "stream",
     "text": [
      "Current working directory:  D:\\Personal\\DataScience\\Python\n",
      "Changed working directory:  D:\\Personal\\DataScience\\Python\\MyNewOSFolder\n"
     ]
    }
   ],
   "source": [
    "import os\n",
    "\n",
    "# Get Current Working Directory\n",
    "print('Current working directory: ', os.getcwd())\n",
    "\n",
    "# Create a Physical Directory\n",
    "os.mkdir(\"MyNewOSFolder/\")\n",
    "\n",
    "# Change Working Directory\n",
    "os.chdir(\"MyNewOSFolder/\")\n",
    "print('Changed working directory: ', os.getcwd())"
   ]
  },
  {
   "cell_type": "code",
   "execution_count": 2,
   "id": "778c09c1",
   "metadata": {},
   "outputs": [
    {
     "name": "stdout",
     "output_type": "stream",
     "text": [
      "D:\\Personal\\DataScience\\Python\n"
     ]
    }
   ],
   "source": [
    "# Change directory to parent\n",
    "os.chdir(\"..\")\n",
    "print(os.getcwd())"
   ]
  },
  {
   "cell_type": "code",
   "execution_count": null,
   "id": "76ef19e1",
   "metadata": {},
   "outputs": [],
   "source": [
    "# Change directory to Drive\n",
    "os.chdir(\"C:\\\\\")\n",
    "print(os.getcwd())"
   ]
  },
  {
   "cell_type": "code",
   "execution_count": null,
   "id": "0670774e",
   "metadata": {},
   "outputs": [],
   "source": [
    "# Remove Directory\n",
    "os.rmdir(\"c:\\Sidhartha\\MLCourse\\Training\\Day_3\\MyNewOSFolder\")"
   ]
  },
  {
   "cell_type": "code",
   "execution_count": null,
   "id": "871bf0b2",
   "metadata": {},
   "outputs": [],
   "source": [
    "# Listing directory\n",
    "os.listdir(\"c:\\Sidhartha\\MLCourse\\Training\\Day_3\")"
   ]
  },
  {
   "cell_type": "code",
   "execution_count": null,
   "id": "2567047e",
   "metadata": {},
   "outputs": [],
   "source": [
    "# List of directories in CWD\n",
    "os.listdir()"
   ]
  },
  {
   "cell_type": "markdown",
   "id": "4d8561f5",
   "metadata": {},
   "source": [
    "## Directory Listing\n",
    "The built-in os module has a number of useful functions that can be used to list directory contents and filter the results.\n",
    "\n",
    "- **os.listdir():** Returns a list of all files and folders in a directory\n",
    "- **os.scandir():** Returns an iterator of all the objects in a directory including file attribute information\n",
    "- **pathlib.Path.iterdir():** Returns an iterator of all the objects in a directory including file attribute information"
   ]
  },
  {
   "cell_type": "code",
   "execution_count": 1,
   "id": "b9524e97",
   "metadata": {},
   "outputs": [
    {
     "name": "stdout",
     "output_type": "stream",
     "text": [
      ".ipynb_checkpoints\n",
      "01. Variables and Data Types.ipynb\n",
      "02. Python Data Types - Numbers.ipynb\n",
      "02. Python Data Types - String.ipynb\n",
      "03. Python Operators.ipynb\n",
      "04. 1 Python Iterators.ipynb\n",
      "04. 2 Python Data Structures - List.ipynb\n",
      "04. 3 Python Data Structures - Tuple.ipynb\n",
      "04. 4 Python Data Structures - Sets.ipynb\n",
      "04. 5 Python Data Structures - Dictionary.ipynb\n",
      "05. Python Flow Control.ipynb\n",
      "06. 1 Python Functions.ipynb\n",
      "06. 2 Python Built-in Functions - lambda.ipynb\n",
      "06. 3 Python Built-in Functions - filter.ipynb\n",
      "06. 4 Python Built-in Functions - map.ipynb\n",
      "06. 5 Python Built-in Functions - reduce.ipynb\n",
      "07. Python - Logging.ipynb\n",
      "08. Python - Exception Handling.ipynb\n",
      "09. 1 Python Modules and Packages.ipynb\n",
      "09. 2 Python Built-in Modules - os.ipynb\n",
      "09. 3 Python Built-in Modules - sys.ipynb\n",
      "09. 4 Python Built-in Modules - collections.ipynb\n",
      "09. 5 Python Built-in Modules - datetime.ipynb\n",
      "09. 6 Python Built-in Modules - math.ipynb\n",
      "09. 7 Python Built-in Modules - random.ipynb\n",
      "09. 8 Python Built-in Modules - statistics.ipynb\n",
      "10. Python Working with File.ipynb\n",
      "Assignment_List and Tuple.ipynb\n",
      "Assignment_List and Tuple.zip\n",
      "calc.py\n",
      "config\n",
      "Handling Text Files in Python.ipynb\n",
      "myModule.py\n",
      "MyNewOSFolder\n",
      "Python Decorator.ipynb\n",
      "Python JSON.ipynb\n",
      "Python OO Programming.ipynb\n",
      "Python Reactive Programming.ipynb\n",
      "Python Regular Expression.ipynb\n",
      "Python Sequence.ipynb\n",
      "Python Sorting Techniques.ipynb\n",
      "Untitled1.ipynb\n",
      "users.py\n",
      "__pycache__\n"
     ]
    }
   ],
   "source": [
    "import os as fileOS\n",
    "# Returns a list of all files and folders in a directory\n",
    "entries = fileOS.listdir()\n",
    "for entry in entries:\n",
    "    print(entry)"
   ]
  },
  {
   "cell_type": "code",
   "execution_count": 2,
   "id": "3a4919a4",
   "metadata": {},
   "outputs": [
    {
     "data": {
      "text/plain": [
       "<nt.ScandirIterator at 0x14714331090>"
      ]
     },
     "execution_count": 2,
     "metadata": {},
     "output_type": "execute_result"
    }
   ],
   "source": [
    "import os as fileOS\n",
    "fileOS.scandir()"
   ]
  },
  {
   "cell_type": "markdown",
   "id": "c01f7573",
   "metadata": {},
   "source": [
    "#### Run command in the system shell"
   ]
  },
  {
   "cell_type": "code",
   "execution_count": null,
   "id": "391f079c",
   "metadata": {},
   "outputs": [],
   "source": [
    "# Change current working directory\n",
    "print(\"Change current directory to sample_data\")\n",
    "os.system('mkdir sample_data')\n",
    "os.chdir('sample_data/') "
   ]
  },
  {
   "cell_type": "code",
   "execution_count": null,
   "id": "4baaf90c",
   "metadata": {},
   "outputs": [],
   "source": [
    "# Run the command mkdir in the system shell\n",
    "print(\"Make new directory\")\n",
    "os.system('mkdir today')"
   ]
  },
  {
   "cell_type": "code",
   "execution_count": null,
   "id": "cdb7c0a9",
   "metadata": {},
   "outputs": [],
   "source": [
    "# Check if new directory got created\n",
    "print(\"Listing existing directories:\")\n",
    "os.system('ls')"
   ]
  },
  {
   "cell_type": "code",
   "execution_count": null,
   "id": "133b6632",
   "metadata": {},
   "outputs": [],
   "source": []
  }
 ],
 "metadata": {
  "kernelspec": {
   "display_name": "Python 3 (ipykernel)",
   "language": "python",
   "name": "python3"
  },
  "language_info": {
   "codemirror_mode": {
    "name": "ipython",
    "version": 3
   },
   "file_extension": ".py",
   "mimetype": "text/x-python",
   "name": "python",
   "nbconvert_exporter": "python",
   "pygments_lexer": "ipython3",
   "version": "3.9.7"
  }
 },
 "nbformat": 4,
 "nbformat_minor": 5
}
