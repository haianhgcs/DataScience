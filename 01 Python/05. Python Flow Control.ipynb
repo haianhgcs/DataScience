{
 "cells": [
  {
   "cell_type": "markdown",
   "metadata": {},
   "source": [
    "---\n",
    "\n",
    "## 📌📌 Indentation and Comments in Python\n",
    "\n",
    "***Before we start Conditional Statements, let's have a look at `indentation` and `comments` in Python.***\n",
    "\n",
    "#### `INDENTATION`\n",
    "\n",
    "\n",
    " - Indentation means `(spaces and tabs)` that are used at the beginning of any statement. The statements with the same indentation belong to the same group also called as `suite`. \n",
    "\n",
    "---"
   ]
  },
  {
   "cell_type": "code",
   "execution_count": null,
   "metadata": {},
   "outputs": [],
   "source": [
    "a = 5\n",
    "    b = 6 # unexpected extra space will give us an error"
   ]
  },
  {
   "cell_type": "code",
   "execution_count": null,
   "metadata": {},
   "outputs": [],
   "source": [
    "if (2 == 2):\n",
    "print('True Statement')"
   ]
  },
  {
   "cell_type": "markdown",
   "metadata": {},
   "source": [
    "***The above code snippet contains the `if` statement which expects to perform some lines of code if the condition is true. So, all of that code should belong to a group which python finds out by `indented` block of code.***\n",
    "\n",
    "---"
   ]
  },
  {
   "cell_type": "code",
   "execution_count": null,
   "metadata": {},
   "outputs": [],
   "source": [
    "if (2 == 2):\n",
    "    print('True Statement')"
   ]
  },
  {
   "cell_type": "markdown",
   "metadata": {},
   "source": [
    "---\n",
    "\n",
    "#### `COMMENTS`\n",
    "\n",
    "To write a comment in Python, simply put the hash mark # before your desired comment:\n",
    "\n",
    "---"
   ]
  },
  {
   "cell_type": "code",
   "execution_count": null,
   "metadata": {},
   "outputs": [],
   "source": [
    "print('This line will be executed')\n",
    "# print('This is a comment')\n",
    "# This line does nothing !!!"
   ]
  },
  {
   "cell_type": "markdown",
   "metadata": {},
   "source": [
    "# Flow Control\n",
    "A program's control flow is the order in which the program's code executes. The control flow of a Python program is regulated by conditional statements, loops, and function calls.\n",
    "\n",
    "- Below are different flow control statements\n",
    "\n",
    "***The control flow of a Python program is regulated by conditional statements, loops, and function calls.***\n",
    "\n",
    "Python has three types of control structures:\n",
    "\n",
    "- Sequential - default mode\n",
    "- Selection - used for decisions and branching\n",
    "- Repetition - used for looping, i.e., repeating a piece of code multiple times."
   ]
  },
  {
   "cell_type": "markdown",
   "metadata": {},
   "source": [
    "## Sequential\n",
    "- Sequential statements are a set of statements whose execution process happens in a sequence. \n",
    "- The problem with sequential statements is that if the logic has broken in any one of the lines, then the complete source code execution will break."
   ]
  },
  {
   "cell_type": "code",
   "execution_count": null,
   "metadata": {},
   "outputs": [],
   "source": [
    "## This is a Sequential statement\n",
    " \n",
    "a=20\n",
    "b=10\n",
    "c=a-b\n",
    "print(\"Subtraction is : \",c)"
   ]
  },
  {
   "cell_type": "code",
   "execution_count": null,
   "metadata": {},
   "outputs": [],
   "source": [
    "a = 20\n",
    "b = 0\n",
    "c = a / b\n",
    "print(c)\n",
    "d = c * 30\n",
    "print(d)"
   ]
  },
  {
   "cell_type": "markdown",
   "metadata": {},
   "source": [
    "## Selection/Decision control statements\n",
    "- In Python, the selection statements are also known as Decision control statements or branching statements.\n",
    "- The selection statement allows a program to test several conditions and execute instructions based on which condition is true.\n",
    "\n",
    "### Some Decision Control Statements are:\n",
    "\n",
    "- Simple if\n",
    "- if-else\n",
    "- nested if\n",
    "- if-elif-else"
   ]
  },
  {
   "cell_type": "markdown",
   "metadata": {},
   "source": [
    "#### `if` Statements¶\n",
    "Perhaps the most well-known statement type is the if statement.\n",
    "\n",
    "- Python supports the usual logical conditions from mathematics:\n",
    "\n",
    "     - Equals: a == b\n",
    "     - Not Equals: a != b\n",
    "     - Less than: a < b\n",
    "     - Less than or equal to: a <= b\n",
    "     - Greater than: a > b\n",
    "     - Greater than or equal to: a >= b\n",
    "- These conditions can be used in several ways, most commonly in \"if statements\" and loops.\n",
    "\n",
    "if \\<OBJECT\\>:\n",
    "\n",
    "    Evaluates to False:\n",
    "        * any number equal to zero (0, 0.0, 0 + 0j)\n",
    "        * an empty container (list, tuple, set, dictionary, ...)\n",
    "        * False, None\n",
    "        \n",
    "    Evaluates to True:\n",
    "        * everything else"
   ]
  },
  {
   "cell_type": "code",
   "execution_count": null,
   "metadata": {},
   "outputs": [],
   "source": [
    "a = 33\n",
    "b = 200\n",
    "if b > a:\n",
    "    print(\"b is greater than a\")"
   ]
  },
  {
   "cell_type": "markdown",
   "metadata": {},
   "source": [
    "a `in` b for any collection b: b contains a"
   ]
  },
  {
   "cell_type": "code",
   "execution_count": null,
   "metadata": {},
   "outputs": [],
   "source": [
    "b = [1, 2, 3]\n",
    "print(2 in b)\n",
    "print(5 in b)"
   ]
  },
  {
   "cell_type": "markdown",
   "metadata": {},
   "source": [
    "multiple comparisons with all kinds of operators in a single line"
   ]
  },
  {
   "cell_type": "code",
   "execution_count": null,
   "metadata": {},
   "outputs": [],
   "source": [
    "a = 3\n",
    "print( 2 < a < 8) # True\n",
    "print(1 == a < 2) # False"
   ]
  },
  {
   "cell_type": "markdown",
   "metadata": {},
   "source": [
    "#### Short hand if and else"
   ]
  },
  {
   "cell_type": "code",
   "execution_count": null,
   "metadata": {},
   "outputs": [],
   "source": [
    "if b > a: print(\"b is greater than a\")"
   ]
  },
  {
   "cell_type": "code",
   "execution_count": null,
   "metadata": {},
   "outputs": [],
   "source": [
    "print(\"a is greater than b\") if a > b else print(\"b is greater than a\")"
   ]
  },
  {
   "cell_type": "code",
   "execution_count": null,
   "metadata": {},
   "outputs": [],
   "source": [
    "a = 330\n",
    "b = 330\n",
    "print(\"a is greater than b\") if a > b else print(\"a is equal to b\") if a == b else print(\"b is greater than a\")"
   ]
  },
  {
   "cell_type": "markdown",
   "metadata": {},
   "source": [
    "#### If... Elif.... Else Statement"
   ]
  },
  {
   "cell_type": "code",
   "execution_count": null,
   "metadata": {},
   "outputs": [],
   "source": [
    "x = int(input(\"Please enter an integer: \"))\n",
    "\n",
    "if (x == 0):\n",
    "    print(x, \"is Zeor\")\n",
    "elif (x%2 == 0):\n",
    "    print(x, \"is a Even Number\")\n",
    "else:\n",
    "    print(x, \"is a Odd Number\")"
   ]
  },
  {
   "cell_type": "code",
   "execution_count": null,
   "metadata": {},
   "outputs": [],
   "source": [
    "# Chained Statements\n",
    "x = random.randn()\n",
    "if (x > 1):\n",
    "    answer = \"Greater than 1\"\n",
    "elif (x >= -1):\n",
    "    answer = \"Betweens -1 and 1\"    \n",
    "else:\n",
    "    answer = \"Less than -1\"    \n",
    "print(x)\n",
    "print(answer)"
   ]
  },
  {
   "cell_type": "markdown",
   "metadata": {},
   "source": [
    "#### Nested If Statements"
   ]
  },
  {
   "cell_type": "code",
   "execution_count": null,
   "metadata": {},
   "outputs": [],
   "source": [
    "x = int(input(\"Please enter an integer: \"))\n",
    "\n",
    "if x > 10:\n",
    "    print(\"Input value is above ten,\")\n",
    "    if x > 20:\n",
    "        print(\"and also above 20!\")\n",
    "    else:\n",
    "        print(\"but not above 20.\")"
   ]
  },
  {
   "cell_type": "code",
   "execution_count": null,
   "metadata": {},
   "outputs": [],
   "source": [
    "from numpy import random\n",
    "x = random.randn()\n",
    "if (x > 1):\n",
    "    answer = \"Greater than 1\"\n",
    "else:\n",
    "    if (x >= -1):\n",
    "        answer = \"Betweens -1 and 1\"    \n",
    "    else:\n",
    "        answer = \"Less than -1\"    \n",
    "print(x)\n",
    "print(answer)"
   ]
  },
  {
   "cell_type": "markdown",
   "metadata": {},
   "source": [
    "#### switch/case statements\n",
    "Because Python has first-class functions they can be used to emulate switch/case statements"
   ]
  },
  {
   "cell_type": "code",
   "execution_count": null,
   "metadata": {},
   "outputs": [],
   "source": [
    "def dispatch_if(operator, x, y):\n",
    "    if operator == 'add':\n",
    "        return x + y\n",
    "    elif operator == 'sub':\n",
    "        return x - y\n",
    "    elif operator == 'mul':\n",
    "        return x * y\n",
    "    elif operator == 'div':\n",
    "        return x / y\n",
    "    else:\n",
    "        return None"
   ]
  },
  {
   "cell_type": "code",
   "execution_count": null,
   "metadata": {},
   "outputs": [],
   "source": [
    "def dispatch_dict(operator, x, y):\n",
    "    return {\n",
    "        'add': lambda: x + y,\n",
    "        'sub': lambda: x - y,\n",
    "        'mul': lambda: x * y,\n",
    "        'div': lambda: x / y,\n",
    "    }.get(operator, lambda: None)()\n",
    "\n",
    "print(dispatch_if('mul', 2, 8))\n",
    "print(dispatch_dict('mul', 2, 8))\n",
    "print(dispatch_if('unknown', 2, 8))\n",
    "print(dispatch_dict('unknown', 2, 8))"
   ]
  },
  {
   "cell_type": "code",
   "execution_count": null,
   "metadata": {},
   "outputs": [],
   "source": [
    "# Different ways to test multiple\n",
    "# flags at once in Python\n",
    "x, y, z = 0, 1, 0\n",
    "\n",
    "if x == 1 or y == 1 or z == 1:\n",
    "    print('passed')\n",
    "\n",
    "if 1 in (x, y, z):\n",
    "    print('passed')\n",
    "\n",
    "# These only test for truthiness:\n",
    "if x or y or z:\n",
    "    print('passed')\n",
    "\n",
    "if any((x, y, z)):\n",
    "    print('passed')"
   ]
  },
  {
   "cell_type": "markdown",
   "metadata": {},
   "source": [
    "#### Pass Statement\n",
    "if statement with no content, put in the pass statement to avoid getting an error."
   ]
  },
  {
   "cell_type": "code",
   "execution_count": null,
   "metadata": {},
   "outputs": [],
   "source": [
    "a = 33\n",
    "b = 200\n",
    "\n",
    "if b > a:\n",
    "    pass"
   ]
  },
  {
   "cell_type": "markdown",
   "metadata": {},
   "source": [
    "#### Conditional Expressions\n",
    "- Ternary operators also known as conditional expressions are operators that evaluate something based on a condition being true or false.\n",
    "     - [on_true] if [expression] else [on_false] "
   ]
  },
  {
   "cell_type": "markdown",
   "metadata": {},
   "source": [
    "##### Simple Method to use ternary operator:"
   ]
  },
  {
   "cell_type": "code",
   "execution_count": null,
   "metadata": {},
   "outputs": [],
   "source": [
    "# Program to demonstrate conditional operator\n",
    "a, b = 10, 20\n",
    "  \n",
    "# Copy value of a in min if a < b else copy b\n",
    "min = a if a < b else b\n",
    "  \n",
    "print(min)"
   ]
  },
  {
   "cell_type": "markdown",
   "metadata": {},
   "source": [
    "##### Direct Method by using tuples, Dictionary and lambda"
   ]
  },
  {
   "cell_type": "code",
   "execution_count": null,
   "metadata": {},
   "outputs": [],
   "source": [
    "# Python program to demonstrate ternary operator\n",
    "a, b = 10, 20\n",
    "  \n",
    "# Use tuple for selecting an item\n",
    "# (if_test_false,if_test_true)[test]\n",
    "print( (b, a) [a < b] )"
   ]
  },
  {
   "cell_type": "code",
   "execution_count": null,
   "metadata": {
    "scrolled": true
   },
   "outputs": [],
   "source": [
    "# Use Dictionary for selecting an item\n",
    "print({True: a, False: b} [a < b])"
   ]
  },
  {
   "cell_type": "code",
   "execution_count": null,
   "metadata": {},
   "outputs": [],
   "source": [
    "# lamda is more efficient than above two methods\n",
    "# because in lambda  we are assure that\n",
    "# only one expression will be evaluated unlike in\n",
    "# tuple and Dictionary\n",
    "print((lambda: b, lambda: a)[a < b]())"
   ]
  },
  {
   "cell_type": "markdown",
   "metadata": {},
   "source": [
    "##### Ternary operator can be written as nested if-else"
   ]
  },
  {
   "cell_type": "code",
   "execution_count": null,
   "metadata": {},
   "outputs": [],
   "source": [
    "print (\"Both a and b are equal\" if a == b else \"a is greater than b\" if a > b else \"b is greater than a\")"
   ]
  },
  {
   "cell_type": "code",
   "execution_count": null,
   "metadata": {},
   "outputs": [],
   "source": [
    "# Alternet approach\n",
    "if a != b:\n",
    "    if a > b:\n",
    "        print(\"a is greater than b\")\n",
    "    else:\n",
    "        print(\"b is greater than a\")\n",
    "else:\n",
    "    print(\"Both a and b are equal\")"
   ]
  },
  {
   "cell_type": "code",
   "execution_count": null,
   "metadata": {},
   "outputs": [],
   "source": [
    "# Finding even or odd\n",
    "a = int(input(\"Please enter an integer: \"))\n",
    "result = 'Even' if a % 2 == 0 else 'Odd'\n",
    "print(result)"
   ]
  },
  {
   "cell_type": "markdown",
   "metadata": {},
   "source": [
    "#### 📍 📍 Problem 1 : Take an input from a user in variable x and print \"Even\" if the number is divisible by 2, otherwise print \"Odd\"."
   ]
  },
  {
   "cell_type": "code",
   "execution_count": null,
   "metadata": {},
   "outputs": [],
   "source": [
    "# take the input from the user by using the input function\n",
    "x = input()\n",
    "\n",
    "# by default the type is string, so we need to convert the type first\n",
    "x = int(x)\n",
    "\n",
    "if(x%2 == 0):\n",
    "    print(\"Even\")\n",
    "else:\n",
    "    print(\"Odd\")"
   ]
  },
  {
   "cell_type": "markdown",
   "metadata": {},
   "source": [
    "#### 📍 📍Problem 2 : Take input from the user in variable y and print \"`Grade A`\" if y is greater than 90, \"`Grade B`\" if y is greater than 60 but less than or equal to 90 and \"`Grade F`\" Otherwise.\n",
    "\n",
    "---"
   ]
  },
  {
   "cell_type": "code",
   "execution_count": null,
   "metadata": {},
   "outputs": [],
   "source": [
    "# take the input from the user by using the input function\n",
    "y = input()\n",
    "\n",
    "# by default the type is string, so we need to convert the type first\n",
    "y = int(y)\n",
    "\n",
    "if  (y > 90):\n",
    "    print(\"Grade A\")\n",
    "\n",
    "elif(y > 60):\n",
    "    print(\"Grade B\")\n",
    "\n",
    "else:\n",
    "    print(\"Grade F\")"
   ]
  },
  {
   "cell_type": "markdown",
   "metadata": {},
   "source": [
    "## Repetition\n",
    "A repetition statement is used to repeat a group(block) of programming instructions."
   ]
  },
  {
   "cell_type": "markdown",
   "metadata": {},
   "source": [
    "***Python Loops***\n",
    "- Python has two primitive loop commands:\n",
    "\n",
    "     - for loops\n",
    "     - while loops"
   ]
  },
  {
   "cell_type": "markdown",
   "metadata": {},
   "source": [
    "### 📍📍 Jump Statements in Python (break, continue and pass)\n",
    "\n",
    "- Using for loops and while loops in Python allow you to automate and repeat tasks in an efficient manner.\n",
    "\n",
    "- But sometimes, an external factor may influence the way your program runs. When this occurs, you may want your program to exit a loop completely, skip part of a loop before continuing, or ignore that external factor. \n",
    "- You can do these actions with break and continue statements.\n",
    "\n",
    "---\n",
    "#### 1. Break Statement\n",
    "- In Python, the break statement provides you with the opportunity to exit out of a loop when an external condition is triggered. \n",
    "\n",
    "- You’ll put the break statement within the block of code under your loop statement, usually after a conditional if statement.\n",
    "\n",
    "- The break statement causes a program to break out of a loop.\n",
    "\n",
    "\n",
    "Let’s look at an example that uses the break statement in a for loop:\n",
    "\n"
   ]
  },
  {
   "cell_type": "code",
   "execution_count": null,
   "metadata": {},
   "outputs": [],
   "source": [
    "number = 0\n",
    "\n",
    "for number in range(10):\n",
    "    if number == 5:\n",
    "        break    # break here\n",
    "\n",
    "    print('Number is ' + str(number))\n",
    "\n",
    "print('Out of loop')"
   ]
  },
  {
   "cell_type": "markdown",
   "metadata": {},
   "source": [
    "---\n",
    "\n",
    "#### 2. Continue Statement\n",
    "\n",
    "- The continue statement gives you the option to skip over the part of a loop where an external condition is triggered, but to go on to complete the rest of the loop. \n",
    "\n",
    "- That is, the current iteration of the loop will be disrupted, but the program will return to the top of the loop.\n",
    "\n",
    "- The continue statement will be within the block of code under the loop statement, usually after a conditional if statement.\n",
    "\n",
    "- The continue statement causes a program to skip certain factors that come up within a loop, but then continue through the rest of the loop.\n",
    "\n",
    "\n",
    "Using the same for loop program as in the Break Statement section above, we’ll use a continue statement rather than a break statement:\n"
   ]
  },
  {
   "cell_type": "code",
   "execution_count": null,
   "metadata": {},
   "outputs": [],
   "source": [
    "number = 0\n",
    "\n",
    "for number in range(10):\n",
    "    if number == 5:\n",
    "        continue    # continue here\n",
    "\n",
    "    print('Number is ' + str(number))\n",
    "\n",
    "print('Out of loop')"
   ]
  },
  {
   "cell_type": "markdown",
   "metadata": {},
   "source": [
    "- The difference in using the continue statement rather than a break statement is that our code will continue despite the disruption when the variable number is evaluated as equivalent to 5. \n",
    "\n",
    "\n",
    "---\n",
    "\n",
    "####  3. Pass Statement\n",
    "\n",
    "- pass is a null operation — when it is executed, nothing happens.\n",
    "- It is useful as a placeholder when a statement is required syntactically, but no code needs to be executed.\n",
    "\n",
    "- The pass statement tells the program to disregard that condition and continue to run the program as usual.\n",
    "\n",
    "\n",
    "Using the same code block as above, let’s replace the break or continue statement with a pass statement:\n"
   ]
  },
  {
   "cell_type": "code",
   "execution_count": null,
   "metadata": {},
   "outputs": [],
   "source": [
    "number = 0\n",
    "\n",
    "for number in range(10):\n",
    "    if number == 5:\n",
    "        pass    # pass here\n",
    "\n",
    "    print('Number is ' + str(number))\n",
    "\n",
    "print('Out of loop')\n"
   ]
  },
  {
   "cell_type": "markdown",
   "metadata": {},
   "source": [
    "- The pass statement can create minimal classes, or act as a placeholder when working on new code and thinking on an algorithmic level before hammering out details.\n",
    "\n",
    "- The break, continue, and pass statements in Python will allow you to use for loops and while loops more effectively in your code.\n",
    "\n",
    "---"
   ]
  },
  {
   "cell_type": "markdown",
   "metadata": {},
   "source": [
    "#### The `range()` Function\n",
    "- To loop through a set of code a specified number of times, we can use the `range()` function,\n",
    "- The `range()` function returns a sequence of numbers, starting from 0 by default, and increments by 1 (by default), and ends at a specified number.\n",
    "- When we pass only one argument (considered as **`END_POINT`**) in the range function. The loop starts with **`0`** and runs till **`END_POINT - 1.`**"
   ]
  },
  {
   "cell_type": "code",
   "execution_count": null,
   "metadata": {},
   "outputs": [],
   "source": [
    "# Loop will start with 0 and ends with 5\n",
    "for x in range(6):\n",
    "    print(x)"
   ]
  },
  {
   "cell_type": "markdown",
   "metadata": {},
   "source": [
    "* When we pass two arguments (first one considered as **`START_POINT`** and second one as **`END_POINT`**). The loop start with **`START_POINT`** and runs till **`END_POINT -1`**."
   ]
  },
  {
   "cell_type": "code",
   "execution_count": null,
   "metadata": {},
   "outputs": [],
   "source": [
    "for x in range(2, 6):\n",
    "    print(x)"
   ]
  },
  {
   "cell_type": "markdown",
   "metadata": {},
   "source": [
    "* When we pass three arguments (first one considered as **`START_POINT`**, second one as **`END_POINT`** and the last one is **`STEP`**). "
   ]
  },
  {
   "cell_type": "code",
   "execution_count": null,
   "metadata": {},
   "outputs": [],
   "source": [
    "for x in range(2, 30, 3):\n",
    "    print(x)"
   ]
  },
  {
   "cell_type": "markdown",
   "metadata": {},
   "source": [
    "### Python `for` Loops\n",
    "- A for loop is used for iterating over a sequence (that is either a list, a tuple, a dictionary, a set, or a string).\n",
    "- This is more like an iterator method as found in other object-orientated programming languages."
   ]
  },
  {
   "cell_type": "code",
   "execution_count": null,
   "metadata": {},
   "outputs": [],
   "source": [
    "fruits = [\"apple\", \"banana\", \"cherry\"]\n",
    "for x in fruits:\n",
    "    print(x)"
   ]
  },
  {
   "cell_type": "code",
   "execution_count": null,
   "metadata": {},
   "outputs": [],
   "source": [
    "for i in range(5):\n",
    "    print(\"Hello Python\", i)\n",
    "    print(\"second line\")\n",
    "print(\"third line\")"
   ]
  },
  {
   "cell_type": "code",
   "execution_count": null,
   "metadata": {},
   "outputs": [],
   "source": [
    "mylist = [10, 100, 1000]\n",
    "for j in mylist:\n",
    "    print(\"j is equal to: \", j)"
   ]
  },
  {
   "cell_type": "markdown",
   "metadata": {},
   "source": [
    "Let's iterate from 0 to 999 and return the even numbers."
   ]
  },
  {
   "cell_type": "code",
   "execution_count": null,
   "metadata": {},
   "outputs": [],
   "source": [
    "my_list = []\n",
    "for number in range(0, 1000):\n",
    "    if number % 2 == 0:\n",
    "        my_list.append(number)\n",
    "my_list"
   ]
  },
  {
   "cell_type": "markdown",
   "metadata": {},
   "source": [
    "#### Looping a string"
   ]
  },
  {
   "cell_type": "code",
   "execution_count": null,
   "metadata": {
    "scrolled": true
   },
   "outputs": [],
   "source": [
    "for character in \"banana\":\n",
    "    print(character)"
   ]
  },
  {
   "cell_type": "markdown",
   "metadata": {},
   "source": [
    "#### One Liner For Loops\n",
    "\n",
    "```\n",
    "[Variable] AggregateFunction([Value] for [item] in [collection])\n",
    "```"
   ]
  },
  {
   "cell_type": "code",
   "execution_count": null,
   "metadata": {},
   "outputs": [],
   "source": [
    "mylist = [10, 100, 1000]\n",
    "sumx = sum(x for x in mylist)\n",
    "sumx"
   ]
  },
  {
   "cell_type": "markdown",
   "metadata": {},
   "source": [
    "#### How to break a loop"
   ]
  },
  {
   "cell_type": "code",
   "execution_count": null,
   "metadata": {},
   "outputs": [],
   "source": [
    "fruits = [\"apple\", \"banana\", \"cherry\"]\n",
    "for x in fruits:\n",
    "    print(x)\n",
    "    if x == \"banana\":\n",
    "        break"
   ]
  },
  {
   "cell_type": "markdown",
   "metadata": {},
   "source": [
    "#### Skipping selected items"
   ]
  },
  {
   "cell_type": "code",
   "execution_count": null,
   "metadata": {},
   "outputs": [],
   "source": [
    "fruits = [\"apple\", \"banana\", \"cherry\"]\n",
    "for x in fruits:\n",
    "    if x == \"banana\":\n",
    "        continue\n",
    "    print(x)"
   ]
  },
  {
   "cell_type": "code",
   "execution_count": null,
   "metadata": {},
   "outputs": [],
   "source": [
    "fruits = [\"apple\", \"banana\", \"cherry\", \"mango\", \"grape\"]\n",
    "for x in fruits:\n",
    "    if x in [\"banana\", \"mango\"]:\n",
    "        continue\n",
    "    print(x)"
   ]
  },
  {
   "cell_type": "markdown",
   "metadata": {},
   "source": [
    "#### Else in For Loop\n",
    "- The else keyword in a for loop specifies a block of code to be executed when the loop is finished.\n",
    "- Else part will not be executed if loop breaks"
   ]
  },
  {
   "cell_type": "code",
   "execution_count": null,
   "metadata": {},
   "outputs": [],
   "source": [
    "for x in range(6):\n",
    "    print(x)\n",
    "else:\n",
    "    print(\"Finally finished!\")"
   ]
  },
  {
   "cell_type": "code",
   "execution_count": null,
   "metadata": {},
   "outputs": [],
   "source": [
    "for x in range(6):\n",
    "    if x == 3: break\n",
    "    print(x)\n",
    "else:\n",
    "    print(\"Finally finished!\")"
   ]
  },
  {
   "cell_type": "markdown",
   "metadata": {},
   "source": [
    "#### Nested Loops\n",
    "- A nested loop is a loop within a loop.\n",
    "- For each step in the outer loop, the inner loop exectues completely. See the below example\n",
    "\n",
    "---"
   ]
  },
  {
   "cell_type": "code",
   "execution_count": null,
   "metadata": {},
   "outputs": [],
   "source": [
    "type = [\"red\", \"big\", \"tasty\"]\n",
    "fruits = [\"apple\", \"banana\", \"cherry\"]\n",
    "\n",
    "for x in type:\n",
    "    for y in fruits:\n",
    "        print(x, y)"
   ]
  },
  {
   "cell_type": "markdown",
   "metadata": {},
   "source": [
    "#### Pass Statement\n",
    "for loop with no content, put in the pass statement to avoid getting an error."
   ]
  },
  {
   "cell_type": "code",
   "execution_count": null,
   "metadata": {},
   "outputs": [],
   "source": [
    "for x in [0, 1, 2]:  pass"
   ]
  },
  {
   "cell_type": "markdown",
   "metadata": {},
   "source": [
    "## `while` Loop\n",
    "* Another way to execute a block of code over and over again is using a while statement. \n",
    "* With the while loop we can execute a set of statements as long as a condition is true."
   ]
  },
  {
   "cell_type": "code",
   "execution_count": null,
   "metadata": {
    "scrolled": true
   },
   "outputs": [],
   "source": [
    "i = 1\n",
    "while i < 6:\n",
    "    print(i)\n",
    "    i += 1"
   ]
  },
  {
   "cell_type": "code",
   "execution_count": null,
   "metadata": {},
   "outputs": [],
   "source": [
    "counter = 0\n",
    "while counter < 12:\n",
    "    print(counter)\n",
    "    counter = counter + 1\n",
    "print(\"hello\")"
   ]
  },
  {
   "cell_type": "code",
   "execution_count": null,
   "metadata": {},
   "outputs": [],
   "source": [
    "z = 1 + 1j\n",
    "while abs(z) < 100:\n",
    "    if z.imag == 0:\n",
    "        break\n",
    "    z = z ** 2 + 1\n",
    "z"
   ]
  },
  {
   "cell_type": "code",
   "execution_count": null,
   "metadata": {},
   "outputs": [],
   "source": [
    "a = [1, 0, 2, 4]\n",
    "for element in a:\n",
    "    if element == 0:\n",
    "        continue\n",
    "    print(1. / element)"
   ]
  },
  {
   "cell_type": "markdown",
   "metadata": {},
   "source": [
    "---\n",
    "\n",
    "***Problem Statement:***\n",
    "\n",
    "- In the following example, user will enter the password which is set to be `data`.\n",
    "- If the password matches, It will print ***`Welcome to the Python Course!!`*** else print ***`Wrong Password!!` *** and user will re-enter the password.\n",
    "- In the fourth trial, it will print ***`One Trial left!!!`***.\n"
   ]
  },
  {
   "cell_type": "code",
   "execution_count": null,
   "metadata": {},
   "outputs": [],
   "source": [
    "password = \"data\"\n",
    "\n",
    "for trial in range(1,5):\n",
    "    \n",
    "    if trial == 4:\n",
    "        print('One trial left!!!')\n",
    "        \n",
    "    \n",
    "    enter_password = input(\"Enter Password: \")\n",
    "        \n",
    "    if enter_password == password:\n",
    "        print(\"Welcome to Python Course!!\")\n",
    "        break\n",
    "        \n",
    "    else:\n",
    "        print(\"Wrong Password!!\")"
   ]
  },
  {
   "cell_type": "markdown",
   "metadata": {},
   "source": [
    "---\n",
    "\n",
    "***Problem Statement:***\n",
    "\n",
    "- In the following example, user will enter the password which is OTP which is set to be `1232`.\n",
    "- If the OTP matches, It will ask user to provide details like ***`Enter Your Name: `*** and ***`Enter Your City\": ` *** and user will re-enter the OTP.\n",
    "- In the fourth trial, it will print ***`One Trial left!!!`***.\n"
   ]
  },
  {
   "cell_type": "code",
   "execution_count": null,
   "metadata": {},
   "outputs": [],
   "source": [
    "OTP = \"1232\"\n",
    "\n",
    "for trial in range(1, 5):\n",
    "    \n",
    "    if trial == 4:\n",
    "        print('One trial left!!!')\n",
    "    \n",
    "    enter_otp = input(\"Enter OTP: \")\n",
    "        \n",
    "    if enter_otp != OTP:\n",
    "        print(\"Try Again !!\")\n",
    "        continue\n",
    "        \n",
    "    else:\n",
    "        name = input(\"Enter Your Name: \")\n",
    "        city_name = input(\"Enter Your City: \")\n",
    "        break"
   ]
  },
  {
   "cell_type": "markdown",
   "metadata": {},
   "source": [
    "#### The else Statement\n",
    "With the else statement we can run a block of code once when the condition no longer is true:"
   ]
  },
  {
   "cell_type": "code",
   "execution_count": null,
   "metadata": {},
   "outputs": [],
   "source": [
    "i = 1\n",
    "while i < 6:\n",
    "    print(i)\n",
    "    i += 1\n",
    "else:\n",
    "    print(i, \" is no longer less than 6\")"
   ]
  }
 ],
 "metadata": {
  "kernelspec": {
   "display_name": "Python 3 (ipykernel)",
   "language": "python",
   "name": "python3"
  },
  "language_info": {
   "codemirror_mode": {
    "name": "ipython",
    "version": 3
   },
   "file_extension": ".py",
   "mimetype": "text/x-python",
   "name": "python",
   "nbconvert_exporter": "python",
   "pygments_lexer": "ipython3",
   "version": "3.9.0"
  }
 },
 "nbformat": 4,
 "nbformat_minor": 2
}
