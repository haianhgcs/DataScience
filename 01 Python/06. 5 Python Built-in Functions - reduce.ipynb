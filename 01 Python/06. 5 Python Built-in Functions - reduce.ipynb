{
 "cells": [
  {
   "cell_type": "markdown",
   "id": "7cc22509",
   "metadata": {},
   "source": [
    "# Python reduce() Function\n",
    "The reduce(fun,seq) function is used to apply a particular function passed in its argument to all of the list elements mentioned in the sequence passed along.This function is defined in “functools” module.\n",
    "\n",
    "Working :  \n",
    "- At first step, first two elements of sequence are picked and the result is obtained.\n",
    "- Next step is to apply the same function to the previously attained result and the number just succeeding the second element and the result is again stored.\n",
    "- This process continues till no more elements are left in the container.\n",
    "- The final returned result is returned and printed on console."
   ]
  },
  {
   "cell_type": "code",
   "execution_count": 1,
   "id": "a44ffaea",
   "metadata": {},
   "outputs": [
    {
     "name": "stdout",
     "output_type": "stream",
     "text": [
      "The sum of the list elements is : 25\n",
      "The maximum element of the list is : 8\n"
     ]
    }
   ],
   "source": [
    "# python code to demonstrate working of reduce()\n",
    " \n",
    "# importing functools for reduce()\n",
    "import functools\n",
    " \n",
    "# initializing list\n",
    "myList = [1, 3, 5, 6, 2, 8]\n",
    " \n",
    "# using reduce to compute sum of list\n",
    "print(\"The sum of the list elements is : \", end=\"\")\n",
    "print(functools.reduce(lambda a, b: a+b, myList))\n",
    " \n",
    "# using reduce to compute maximum element from list\n",
    "print(\"The maximum element of the list is : \", end=\"\")\n",
    "print(functools.reduce(lambda a, b: a if a > b else b, myList))"
   ]
  },
  {
   "cell_type": "markdown",
   "id": "ef6b3066",
   "metadata": {},
   "source": [
    "#### reduce() can also be combined with operator functions to achieve the similar functionality as with lambda functions and makes the code more readable."
   ]
  },
  {
   "cell_type": "code",
   "execution_count": 2,
   "id": "122fb507",
   "metadata": {},
   "outputs": [
    {
     "name": "stdout",
     "output_type": "stream",
     "text": [
      "The sum of the list elements is : 25\n",
      "The product of list elements is : 1440\n",
      "The concatenated product is : geeksforgeeks\n"
     ]
    }
   ],
   "source": [
    "# python code to demonstrate working of reduce() using operator functions\n",
    " \n",
    "# importing functools for reduce()\n",
    "import functools\n",
    " \n",
    "# importing operator for operator functions\n",
    "import operator\n",
    " \n",
    "# initializing list\n",
    "myList = [1, 3, 5, 6, 2, 8]\n",
    " \n",
    "# using reduce to compute sum of list using operator functions\n",
    "print(\"The sum of the list elements is : \", end=\"\")\n",
    "print(functools.reduce(operator.add, myList))\n",
    " \n",
    "# using reduce to compute product using operator functions\n",
    "print(\"The product of list elements is : \", end=\"\")\n",
    "print(functools.reduce(operator.mul, myList))\n",
    " \n",
    "# using reduce to concatenate string\n",
    "print(\"The concatenated product is : \", end=\"\")\n",
    "print(functools.reduce(operator.add, [\"geeks\", \"for\", \"geeks\"]))"
   ]
  },
  {
   "cell_type": "markdown",
   "id": "be98ce9d",
   "metadata": {},
   "source": [
    "- Both reduce() and accumulate() can be used to calculate the summation of a sequence elements. But there are differences in the implementation aspects in both of these.  \n",
    "\n",
    "    - reduce() is defined in “functools” module, accumulate() in “itertools” module.\n",
    "    - reduce() stores the intermediate result and only returns the final summation value. Whereas, accumulate() returns a iterator containing the intermediate results. The last number of the iterator returned is summation value of the list.\n",
    "    - reduce(fun,seq) takes function as 1st and sequence as 2nd argument. In contrast accumulate(seq,fun) takes sequence as 1st argument and function as 2nd argument."
   ]
  },
  {
   "cell_type": "code",
   "execution_count": 3,
   "id": "98caf762",
   "metadata": {},
   "outputs": [
    {
     "name": "stdout",
     "output_type": "stream",
     "text": [
      "The summation of list using accumulate is :[1, 4, 8, 18, 22]\n",
      "The summation of list using reduce is :22\n"
     ]
    }
   ],
   "source": [
    "# python code to demonstrate summation # using reduce() and accumulate()\n",
    " \n",
    "# importing itertools for accumulate()\n",
    "import itertools\n",
    " \n",
    "# importing functools for reduce()\n",
    "import functools\n",
    " \n",
    "# initializing list\n",
    "myList = [1, 3, 4, 10, 4]\n",
    " \n",
    "# printing summation using accumulate()\n",
    "print(\"The summation of list using accumulate is :\", end=\"\")\n",
    "print(list(itertools.accumulate(myList, lambda x, y: x+y)))\n",
    " \n",
    "# printing summation using reduce()\n",
    "print(\"The summation of list using reduce is :\", end=\"\")\n",
    "print(functools.reduce(lambda x, y: x+y, myList))"
   ]
  },
  {
   "cell_type": "markdown",
   "id": "6c03265a",
   "metadata": {},
   "source": [
    "### reduce() function with three parameters\n",
    "\n",
    "Reduce function i.e. reduce() function works with 3 parameters in python3 as well as for 2 parameters. To put it in a simple way reduce() places the 3rd parameter before the value of the second one, if it’s present. Thus, it means that if the 2nd argument is an empty sequence, then 3rd argument serves as the default one. \n",
    "\n",
    " Here is an example :(This example has been take from the  functools.reduce() documentation includes a Python version of the function:"
   ]
  },
  {
   "cell_type": "code",
   "execution_count": 4,
   "id": "10c5cb8a",
   "metadata": {},
   "outputs": [
    {
     "name": "stdout",
     "output_type": "stream",
     "text": [
      "25\n"
     ]
    }
   ],
   "source": [
    "# Python program to  illustrate sum of two numbers.\n",
    "def myReduceFun(function, iterable, initializer=None):\n",
    "    it = iter(iterable)\n",
    "    if initializer is None:\n",
    "        value = next(it)\n",
    "    else:\n",
    "        value = initializer\n",
    "    for element in it:\n",
    "        value = function(value, element)\n",
    "    return value\n",
    " \n",
    "# Note that the initializer, when not None, is used as the first value instead of the first value from iterable , \n",
    "#and after the whole iterable.\n",
    "tup = (2,1,0,2,2,0,0,2,0,7)\n",
    "print(myReduceFun(lambda x, y: x+y, tup, 9))"
   ]
  }
 ],
 "metadata": {
  "kernelspec": {
   "display_name": "Python 3 (ipykernel)",
   "language": "python",
   "name": "python3"
  },
  "language_info": {
   "codemirror_mode": {
    "name": "ipython",
    "version": 3
   },
   "file_extension": ".py",
   "mimetype": "text/x-python",
   "name": "python",
   "nbconvert_exporter": "python",
   "pygments_lexer": "ipython3",
   "version": "3.9.7"
  }
 },
 "nbformat": 4,
 "nbformat_minor": 5
}
