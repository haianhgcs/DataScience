{
 "cells": [
  {
   "cell_type": "markdown",
   "id": "ddccf8d7",
   "metadata": {},
   "source": [
    "## PEP8 Guidelines Coding convension"
   ]
  },
  {
   "cell_type": "markdown",
   "id": "68eb7375",
   "metadata": {},
   "source": [
    "###  Naming Style\n",
    "#### Variables, functions, methods, packages, modules\n",
    "```\n",
    "lower_case_with_underscores\n",
    "```\n",
    "#### Classes and Exceptions\n",
    "```\n",
    "CapWords\n",
    "```\n",
    "#### Protected methods and internal functions\n",
    "```\n",
    "_single_leading_underscore(self, ...)\n",
    "```\n",
    "#### Private methods\n",
    "```\n",
    "__double_leading_underscore(self, ...)\n",
    "```\n",
    "#### Constants\n",
    "```\n",
    "ALL_CAPS_WITH_UNDERSCORES\n",
    "```\n",
    "#### Prefer reverse Notation\n",
    "```\n",
    "elements = ...\n",
    "active_elements = ...\n",
    "defunct_elements ...\n",
    "```"
   ]
  },
  {
   "cell_type": "markdown",
   "id": "67845381",
   "metadata": {},
   "source": [
    "### Indentation\n",
    "Use 4 spaces — never tabs"
   ]
  },
  {
   "cell_type": "markdown",
   "id": "183b7d08",
   "metadata": {},
   "source": [
    "### Imports\n",
    "Import order is as follows\n",
    "1. python inbuilt packages import\n",
    "2. third party packages import\n",
    "3. local imports"
   ]
  },
  {
   "cell_type": "markdown",
   "id": "bbb927b7",
   "metadata": {},
   "source": [
    "### Line Length\n",
    "Try to break any line that goes above 80 characters.\n",
    "```\n",
    "even_numbers = [var for var in range(100)\n",
    "                if var % 2 == 0]\n",
    "```\n",
    "Sometimes, it is not possible to break the line any further especially in case of method chaining."
   ]
  },
  {
   "cell_type": "markdown",
   "id": "937cf3f2",
   "metadata": {},
   "source": [
    "### Empty Space\n",
    "1. Always leave space in between colon and key value in a dictionary.\n",
    "```\n",
    "names = {'gagan': 123}\n",
    "```\n",
    "2. Leave space between operators in case of assignment and arithmetic operations.\n",
    "```\n",
    "var = 25\n",
    "math_operation_result = 25 * 5\n",
    "```\n",
    "3. Don’t leave space between operators when passing as parameter\n",
    "```\n",
    "def count_even(num=20):\n",
    "    pass\n",
    "```\n",
    "4. Leave space after a comma.\n",
    "```\n",
    "var1, var2 = get_values(num1, num2)\n",
    "```"
   ]
  },
  {
   "cell_type": "markdown",
   "id": "10a45e49",
   "metadata": {},
   "source": [
    "### Documentation\n",
    "1. Use one-line docstrings for obvious functions.\n",
    "```\n",
    "\"\"\"Return the pathname of ``foo``.\"\"\"\n",
    "```\n",
    "2. Multiline docstrings should include\n",
    "```\n",
    "Summary line\n",
    "Use case, if appropriate\n",
    "Args\n",
    "Return type and semantics, unless None is returned\n",
    "```\n",
    "**Example**\n",
    "```\n",
    "class Car:\n",
    "    \"\"\"A simple representation of a car.\n",
    "\n",
    "    :param brand: A string, car's brand.\n",
    "    :param model: A string, car's model.\n",
    "    \"\"\"\n",
    "    def __init__(self, brand, model):\n",
    "        self.brand = brand\n",
    "        self.model = model\n",
    "```"
   ]
  }
 ],
 "metadata": {
  "kernelspec": {
   "display_name": "Python 3 (ipykernel)",
   "language": "python",
   "name": "python3"
  },
  "language_info": {
   "codemirror_mode": {
    "name": "ipython",
    "version": 3
   },
   "file_extension": ".py",
   "mimetype": "text/x-python",
   "name": "python",
   "nbconvert_exporter": "python",
   "pygments_lexer": "ipython3",
   "version": "3.9.0"
  }
 },
 "nbformat": 4,
 "nbformat_minor": 5
}
