{
 "cells": [
  {
   "cell_type": "markdown",
   "id": "74568c8f",
   "metadata": {},
   "source": [
    "# Python map() function\n",
    "map() function returns a map object(which is an iterator) of the results after applying the given function to each item of a given iterable (list, tuple etc.)\n",
    "\n",
    "#### Parameters\n",
    "- map(fun, iter)\n",
    "    - fun : It is a function to which map passes each element of given iterable.\n",
    "    - iter : It is a iterable which is to be mapped.\n",
    "\n",
    "#### Returns\n",
    " - Returns a list of the results after applying the given function to each item of a given iterable (list, tuple etc.) \n",
    " \n",
    "#### NOTE : You can pass one or more iterable to the map() function."
   ]
  },
  {
   "cell_type": "code",
   "execution_count": 1,
   "id": "bf73441a",
   "metadata": {},
   "outputs": [
    {
     "name": "stdout",
     "output_type": "stream",
     "text": [
      "<map object at 0x0000022CA4F01D90>\n",
      "[5, 6, 6]\n"
     ]
    }
   ],
   "source": [
    "def myfunc(n):\n",
    "    return len(n)\n",
    "\n",
    "x = map(myfunc, ('apple', 'banana', 'cherry'))\n",
    "print(x)\n",
    "\n",
    "#convert the map into a list, for readability:\n",
    "print(list(x))"
   ]
  },
  {
   "cell_type": "code",
   "execution_count": 2,
   "id": "3b74ba47",
   "metadata": {},
   "outputs": [
    {
     "name": "stdout",
     "output_type": "stream",
     "text": [
      "['apple and orange', 'banana and lemon', 'cherry and pineapple']\n"
     ]
    }
   ],
   "source": [
    "def myfunc(a, b, c):\n",
    "    return a +' '+ b +' '+ c\n",
    "\n",
    "x = map(myfunc, ('apple', 'banana', 'cherry'), ('and','and','and'), ('orange', 'lemon', 'pineapple'))\n",
    "print(list(x))"
   ]
  },
  {
   "cell_type": "code",
   "execution_count": 3,
   "id": "9c71dfe3",
   "metadata": {},
   "outputs": [
    {
     "name": "stdout",
     "output_type": "stream",
     "text": [
      "[2, 4, 6, 8]\n"
     ]
    }
   ],
   "source": [
    "# Python program to demonstrate working of map.\n",
    "  \n",
    "# Return double of n\n",
    "def addition(n):\n",
    "    return n + n\n",
    "  \n",
    "# We double all numbers using map()\n",
    "numbers = (1, 2, 3, 4)\n",
    "result = map(addition, numbers)\n",
    "print(list(result))"
   ]
  },
  {
   "cell_type": "code",
   "execution_count": 4,
   "id": "b0bead9d",
   "metadata": {},
   "outputs": [
    {
     "name": "stdout",
     "output_type": "stream",
     "text": [
      "[2, 4, 6, 8]\n"
     ]
    }
   ],
   "source": [
    "# Double all numbers using map and lambda\n",
    "# Functional Programing\n",
    "numbers = (1, 2, 3, 4)\n",
    "result = map(lambda x: x + x, numbers)\n",
    "print(list(result))"
   ]
  },
  {
   "cell_type": "markdown",
   "id": "e9591533",
   "metadata": {},
   "source": [
    "### Using lambda() Function with map()\n",
    "- The map() function in Python takes in a function and a list as an argument. \n",
    "- The function is called with a lambda function and a list and a new list is returned which contains all the lambda modified items returned by that function for each item. Example: "
   ]
  },
  {
   "cell_type": "code",
   "execution_count": 5,
   "id": "33c9a441",
   "metadata": {},
   "outputs": [
    {
     "name": "stdout",
     "output_type": "stream",
     "text": [
      "[10, 14, 44, 194, 108, 124, 154, 46, 146, 122]\n"
     ]
    }
   ],
   "source": [
    "# Python code to illustrate map() with lambda() to get double of a list.\n",
    "myList = [5, 7, 22, 97, 54, 62, 77, 23, 73, 61]\n",
    "\n",
    "final_list = list(map(lambda x: x*2, myList))\n",
    "print(final_list)"
   ]
  },
  {
   "cell_type": "code",
   "execution_count": 6,
   "id": "0fed4f8a",
   "metadata": {},
   "outputs": [
    {
     "name": "stdout",
     "output_type": "stream",
     "text": [
      "New List :  ['Analytics', 'Vidhya', 'King', 'South', 'East']\n"
     ]
    }
   ],
   "source": [
    "original_list = ['analytics','vidhya','king','south','east']\n",
    "# capatilize first letter of each  word in the original list\n",
    "mapped_list = list(map(lambda x: x[0].upper()+x[1:] , original_list)) \n",
    "print('New List : ',mapped_list)"
   ]
  }
 ],
 "metadata": {
  "kernelspec": {
   "display_name": "Python 3 (ipykernel)",
   "language": "python",
   "name": "python3"
  },
  "language_info": {
   "codemirror_mode": {
    "name": "ipython",
    "version": 3
   },
   "file_extension": ".py",
   "mimetype": "text/x-python",
   "name": "python",
   "nbconvert_exporter": "python",
   "pygments_lexer": "ipython3",
   "version": "3.9.7"
  }
 },
 "nbformat": 4,
 "nbformat_minor": 5
}
