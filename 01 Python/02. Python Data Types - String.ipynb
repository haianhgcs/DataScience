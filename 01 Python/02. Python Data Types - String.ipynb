{
 "cells": [
  {
   "cell_type": "markdown",
   "id": "3e43fe1e",
   "metadata": {},
   "source": [
    "# Python Strings\n",
    "- Strings in python are surrounded by either single quotation marks, or double quotation marks.\n",
    "\n",
    "- 'hello' is the same as \"hello\".\n",
    "\n",
    "- You can display a string literal with the print() function:"
   ]
  },
  {
   "cell_type": "code",
   "execution_count": 1,
   "id": "5695a5ac",
   "metadata": {},
   "outputs": [
    {
     "name": "stdout",
     "output_type": "stream",
     "text": [
      "Hello\n",
      "Hello\n"
     ]
    }
   ],
   "source": [
    "print(\"Hello\")\n",
    "print('Hello')"
   ]
  },
  {
   "cell_type": "markdown",
   "id": "b1bfa8f2",
   "metadata": {},
   "source": [
    "***Define a string***\n",
    "\n",
    "---"
   ]
  },
  {
   "cell_type": "code",
   "execution_count": 2,
   "id": "7e4686eb",
   "metadata": {},
   "outputs": [],
   "source": [
    "my_string = \"Analytics Vidhya creating next generation data science eco-system\""
   ]
  },
  {
   "cell_type": "markdown",
   "id": "b55f4c09",
   "metadata": {},
   "source": [
    "### Multiline Strings\n",
    "You can assign a multiline string to a variable by using three quotes:"
   ]
  },
  {
   "cell_type": "code",
   "execution_count": 2,
   "id": "d81cd695",
   "metadata": {},
   "outputs": [
    {
     "name": "stdout",
     "output_type": "stream",
     "text": [
      "Lorem ipsum dolor sit amet,\n",
      "consectetur adipiscing elit,\n",
      "sed do eiusmod tempor incididunt\n",
      "ut labore et dolore magna aliqua.\n"
     ]
    }
   ],
   "source": [
    "a = \"\"\"Lorem ipsum dolor sit amet,\n",
    "consectetur adipiscing elit,\n",
    "sed do eiusmod tempor incididunt\n",
    "ut labore et dolore magna aliqua.\"\"\"\n",
    "print(a)"
   ]
  },
  {
   "cell_type": "code",
   "execution_count": 3,
   "id": "7f72b2d8",
   "metadata": {},
   "outputs": [
    {
     "name": "stdout",
     "output_type": "stream",
     "text": [
      "Lorem ipsum dolor sit amet,\n",
      "consectetur adipiscing elit,\n",
      "sed do eiusmod tempor incididunt\n",
      "ut labore et dolore magna aliqua.\n"
     ]
    }
   ],
   "source": [
    "a = '''Lorem ipsum dolor sit amet,\n",
    "consectetur adipiscing elit,\n",
    "sed do eiusmod tempor incididunt\n",
    "ut labore et dolore magna aliqua.'''\n",
    "print(a)"
   ]
  },
  {
   "cell_type": "markdown",
   "id": "c8b7f875",
   "metadata": {},
   "source": [
    "### Strings are Arrays\n",
    "Like many other popular programming languages, strings in Python are arrays of bytes representing unicode characters.\n",
    "\n",
    "However, Python does not have a character data type, a single character is simply a string with a length of 1.\n",
    "\n",
    "Square brackets can be used to access elements of the string."
   ]
  },
  {
   "cell_type": "code",
   "execution_count": 4,
   "id": "f975d3d9",
   "metadata": {},
   "outputs": [
    {
     "name": "stdout",
     "output_type": "stream",
     "text": [
      "e\n"
     ]
    }
   ],
   "source": [
    "a = \"Hello, World!\"\n",
    "print(a[1])"
   ]
  },
  {
   "cell_type": "markdown",
   "id": "667f49e2",
   "metadata": {},
   "source": [
    "### Looping Through a String\n",
    "Since strings are arrays, we can loop through the characters in a string, with a for loop."
   ]
  },
  {
   "cell_type": "code",
   "execution_count": 5,
   "id": "930d5bd1",
   "metadata": {},
   "outputs": [
    {
     "name": "stdout",
     "output_type": "stream",
     "text": [
      "b\n",
      "a\n",
      "n\n",
      "a\n",
      "n\n",
      "a\n"
     ]
    }
   ],
   "source": [
    "for x in \"banana\":\n",
    "    print(x)"
   ]
  },
  {
   "cell_type": "markdown",
   "id": "b535c254",
   "metadata": {},
   "source": [
    "### String Length\n",
    "To get the length of a string, use the len() function."
   ]
  },
  {
   "cell_type": "code",
   "execution_count": 6,
   "id": "da0a42f5",
   "metadata": {},
   "outputs": [
    {
     "name": "stdout",
     "output_type": "stream",
     "text": [
      "13\n"
     ]
    }
   ],
   "source": [
    "a = \"Hello, World!\"\n",
    "print(len(a))"
   ]
  },
  {
   "cell_type": "markdown",
   "id": "77cca495",
   "metadata": {},
   "source": [
    "## Slicing\n",
    "You can return a range of characters by using the slice syntax.\n",
    "\n",
    "Specify the start index and the end index, separated by a colon, to return a part of the string."
   ]
  },
  {
   "cell_type": "code",
   "execution_count": 12,
   "id": "af3730ce",
   "metadata": {},
   "outputs": [
    {
     "name": "stdout",
     "output_type": "stream",
     "text": [
      "llo\n"
     ]
    }
   ],
   "source": [
    "b = \"Hello, World!\"\n",
    "print(b[2:5])"
   ]
  },
  {
   "cell_type": "markdown",
   "id": "f46e44e7",
   "metadata": {},
   "source": [
    "***Access characters with negative indexing***\n",
    "\n",
    "---"
   ]
  },
  {
   "cell_type": "code",
   "execution_count": 1,
   "id": "7b1ca0a7",
   "metadata": {},
   "outputs": [
    {
     "name": "stdout",
     "output_type": "stream",
     "text": [
      "orl\n"
     ]
    }
   ],
   "source": [
    "b = \"Hello, World!\"\n",
    "print(b[-5:-2])"
   ]
  },
  {
   "cell_type": "code",
   "execution_count": 1,
   "id": "d1042b1a",
   "metadata": {},
   "outputs": [
    {
     "ename": "NameError",
     "evalue": "name 'my_string' is not defined",
     "output_type": "error",
     "traceback": [
      "\u001b[1;31m---------------------------------------------------------------------------\u001b[0m",
      "\u001b[1;31mNameError\u001b[0m                                 Traceback (most recent call last)",
      "\u001b[1;32mC:\\Users\\ANHNGU~1\\AppData\\Local\\Temp/ipykernel_9268/1678986220.py\u001b[0m in \u001b[0;36m<module>\u001b[1;34m\u001b[0m\n\u001b[0;32m      1\u001b[0m \u001b[1;31m# reverse a string\u001b[0m\u001b[1;33m\u001b[0m\u001b[1;33m\u001b[0m\u001b[0m\n\u001b[0;32m      2\u001b[0m \u001b[1;33m\u001b[0m\u001b[0m\n\u001b[1;32m----> 3\u001b[1;33m \u001b[0mmy_string\u001b[0m\u001b[1;33m[\u001b[0m\u001b[1;33m:\u001b[0m\u001b[1;33m:\u001b[0m\u001b[1;33m-\u001b[0m\u001b[1;36m1\u001b[0m\u001b[1;33m]\u001b[0m\u001b[1;33m\u001b[0m\u001b[1;33m\u001b[0m\u001b[0m\n\u001b[0m",
      "\u001b[1;31mNameError\u001b[0m: name 'my_string' is not defined"
     ]
    }
   ],
   "source": [
    "# reverse a string\n",
    "\n",
    "my_string[::-1]"
   ]
  },
  {
   "cell_type": "markdown",
   "id": "7c24192a",
   "metadata": {},
   "source": [
    "### Check String\n",
    "To check if a certain phrase or character is present in a string, we can use the keyword in."
   ]
  },
  {
   "cell_type": "code",
   "execution_count": 10,
   "id": "7f9d4b4b",
   "metadata": {},
   "outputs": [
    {
     "name": "stdout",
     "output_type": "stream",
     "text": [
      "True\n",
      "True\n",
      "Yes\n"
     ]
    }
   ],
   "source": [
    "txt = \"The best things in life are free!\"\n",
    "print(\"free\" in txt)\n",
    "\n",
    "if 'free' in txt:\n",
    "    print(bool(1))\n",
    "else:\n",
    "    print(bool(0))\n",
    "    \n",
    "\n",
    "if 'free' in txt:\n",
    "    print(\"Yes\")\n",
    "else:\n",
    "    print(\"No\")"
   ]
  },
  {
   "cell_type": "markdown",
   "id": "15cd6882",
   "metadata": {},
   "source": [
    "### Check if NOT\n",
    "To check if a certain phrase or character is NOT present in a string, we can use the keyword not in."
   ]
  },
  {
   "cell_type": "code",
   "execution_count": 11,
   "id": "c10064d6",
   "metadata": {},
   "outputs": [
    {
     "name": "stdout",
     "output_type": "stream",
     "text": [
      "True\n",
      "True\n",
      "Yes\n"
     ]
    }
   ],
   "source": [
    "txt = \"The best things in life are free!\"\n",
    "print(\"expensive\" not in txt)\n",
    "\n",
    "if 'expensive' not in txt:\n",
    "    print(bool(1))\n",
    "else:\n",
    "    print(bool(0))\n",
    "    \n",
    "\n",
    "if 'expensive' not in txt:\n",
    "    print(\"Yes\")\n",
    "else:\n",
    "    print(\"No\")"
   ]
  },
  {
   "cell_type": "markdown",
   "id": "c5f7d6f2",
   "metadata": {},
   "source": [
    "### Count of a particular `character` or a `sub-string` in a string.\n",
    "\n",
    "---"
   ]
  },
  {
   "cell_type": "code",
   "execution_count": null,
   "id": "4de590de",
   "metadata": {},
   "outputs": [],
   "source": [
    "my_string.count('a')"
   ]
  },
  {
   "cell_type": "code",
   "execution_count": null,
   "id": "f97b69f7",
   "metadata": {},
   "outputs": [],
   "source": [
    "my_string.count('A')"
   ]
  },
  {
   "cell_type": "markdown",
   "id": "88a651bb",
   "metadata": {},
   "source": [
    "### Find a substring in the string using `find` and `index` function.\n",
    "\n",
    "**`find`**\n",
    "\n",
    "* If present it will return the starting index.\n",
    "* If not found, then it will return -1\n",
    "\n",
    "---"
   ]
  },
  {
   "cell_type": "code",
   "execution_count": 3,
   "id": "fc822581",
   "metadata": {},
   "outputs": [
    {
     "data": {
      "text/plain": [
       "26"
      ]
     },
     "execution_count": 3,
     "metadata": {},
     "output_type": "execute_result"
    }
   ],
   "source": [
    "my_string.find('next')"
   ]
  },
  {
   "cell_type": "code",
   "execution_count": null,
   "id": "4241ec46",
   "metadata": {},
   "outputs": [],
   "source": [
    "my_string.find('python')"
   ]
  },
  {
   "cell_type": "markdown",
   "id": "b4be5a6a",
   "metadata": {},
   "source": [
    "**`index`**\n",
    "\n",
    "* If present it will return the starting index.\n",
    "* If not found, then it will give error"
   ]
  },
  {
   "cell_type": "code",
   "execution_count": 5,
   "id": "265c306e",
   "metadata": {},
   "outputs": [
    {
     "data": {
      "text/plain": [
       "26"
      ]
     },
     "execution_count": 5,
     "metadata": {},
     "output_type": "execute_result"
    }
   ],
   "source": [
    "my_string.index('next')"
   ]
  },
  {
   "cell_type": "code",
   "execution_count": 4,
   "id": "8c8546a2",
   "metadata": {},
   "outputs": [
    {
     "ename": "ValueError",
     "evalue": "substring not found",
     "output_type": "error",
     "traceback": [
      "\u001b[1;31m---------------------------------------------------------------------------\u001b[0m",
      "\u001b[1;31mValueError\u001b[0m                                Traceback (most recent call last)",
      "\u001b[1;32mC:\\Users\\ANHNGU~1\\AppData\\Local\\Temp/ipykernel_9268/1520920811.py\u001b[0m in \u001b[0;36m<module>\u001b[1;34m\u001b[0m\n\u001b[1;32m----> 1\u001b[1;33m \u001b[0mmy_string\u001b[0m\u001b[1;33m.\u001b[0m\u001b[0mindex\u001b[0m\u001b[1;33m(\u001b[0m\u001b[1;34m'python'\u001b[0m\u001b[1;33m)\u001b[0m\u001b[1;33m\u001b[0m\u001b[1;33m\u001b[0m\u001b[0m\n\u001b[0m",
      "\u001b[1;31mValueError\u001b[0m: substring not found"
     ]
    }
   ],
   "source": [
    "my_string.index('python')"
   ]
  },
  {
   "cell_type": "markdown",
   "id": "88a07d55",
   "metadata": {},
   "source": [
    "### Check whether if the string `startswith` or `endswith` a particular substring or not.\n",
    "\n",
    "---"
   ]
  },
  {
   "cell_type": "code",
   "execution_count": null,
   "id": "ada4ebd5",
   "metadata": {},
   "outputs": [],
   "source": [
    "my_string.endswith('python')"
   ]
  },
  {
   "cell_type": "code",
   "execution_count": null,
   "id": "bc9acbf9",
   "metadata": {},
   "outputs": [],
   "source": [
    "my_string.endswith('system')"
   ]
  },
  {
   "cell_type": "code",
   "execution_count": null,
   "id": "ef3ee65b",
   "metadata": {},
   "outputs": [],
   "source": [
    "my_string.startswith('python')"
   ]
  },
  {
   "cell_type": "code",
   "execution_count": null,
   "id": "35fec72d",
   "metadata": {},
   "outputs": [],
   "source": [
    "my_string.startswith('analytics')"
   ]
  },
  {
   "cell_type": "markdown",
   "id": "c40c5105",
   "metadata": {},
   "source": [
    "## Modify Python String"
   ]
  },
  {
   "cell_type": "code",
   "execution_count": 2,
   "id": "8217378b",
   "metadata": {},
   "outputs": [
    {
     "name": "stdout",
     "output_type": "stream",
     "text": [
      "HELLO, WORLD!\n",
      "hello, world!\n"
     ]
    }
   ],
   "source": [
    "# The upper() and lower() method returns the string in upper case:\n",
    "a = \"Hello, World!\"\n",
    "print(a.upper())\n",
    "print(a.lower())"
   ]
  },
  {
   "cell_type": "code",
   "execution_count": 7,
   "id": "f2c84821",
   "metadata": {},
   "outputs": [
    {
     "data": {
      "text/plain": [
       "'Analytics vidhya creating next generation data science eco-system'"
      ]
     },
     "execution_count": 7,
     "metadata": {},
     "output_type": "execute_result"
    }
   ],
   "source": [
    "# Capitalize: Update the first character of the string to upper case\n",
    "my_string.capitalize()"
   ]
  },
  {
   "cell_type": "code",
   "execution_count": 3,
   "id": "6863af7f",
   "metadata": {},
   "outputs": [
    {
     "name": "stdout",
     "output_type": "stream",
     "text": [
      "Hello, World!\n"
     ]
    }
   ],
   "source": [
    "# The strip() method removes any whitespace from the beginning or the end:\n",
    "a = \" Hello, World! \"\n",
    "print(a.strip()) # returns \"Hello, World!\""
   ]
  },
  {
   "cell_type": "markdown",
   "id": "7a1e9792",
   "metadata": {},
   "source": [
    "***Replace substrings***\n",
    "\n",
    "---"
   ]
  },
  {
   "cell_type": "code",
   "execution_count": 4,
   "id": "ad56030f",
   "metadata": {},
   "outputs": [
    {
     "name": "stdout",
     "output_type": "stream",
     "text": [
      "Jello, World!\n"
     ]
    }
   ],
   "source": [
    "# The replace() method replaces a string with another string:\n",
    "a = \"Hello, World!\"\n",
    "print(a.replace(\"H\", \"J\"))"
   ]
  },
  {
   "cell_type": "code",
   "execution_count": null,
   "id": "ee8cad39",
   "metadata": {},
   "outputs": [],
   "source": [
    "\"java is easy to learn.\".replace('java', 'python')"
   ]
  },
  {
   "cell_type": "markdown",
   "id": "aa05490e",
   "metadata": {},
   "source": [
    "***Split function***\n",
    "\n",
    "---"
   ]
  },
  {
   "cell_type": "code",
   "execution_count": 5,
   "id": "3cfb0424",
   "metadata": {},
   "outputs": [
    {
     "name": "stdout",
     "output_type": "stream",
     "text": [
      "['Hello', ' World!']\n"
     ]
    }
   ],
   "source": [
    "# The split() method splits the string into substrings if it finds instances of the separator:\n",
    "a = \"Hello, World!\"\n",
    "print(a.split(\",\")) # returns ['Hello', ' World!']"
   ]
  },
  {
   "cell_type": "markdown",
   "id": "a964893a",
   "metadata": {},
   "source": [
    "***Check if the string is in lower case or upper case.***\n",
    "\n",
    "---"
   ]
  },
  {
   "cell_type": "code",
   "execution_count": null,
   "id": "0ad41e7f",
   "metadata": {},
   "outputs": [],
   "source": [
    "my_string.islower()"
   ]
  },
  {
   "cell_type": "code",
   "execution_count": null,
   "id": "8bbf2f36",
   "metadata": {},
   "outputs": [],
   "source": [
    "my_string.isupper()"
   ]
  },
  {
   "cell_type": "markdown",
   "id": "1afce8c4",
   "metadata": {},
   "source": [
    "***Check if the string is digit, alpabetic, alpha-numeric.***\n",
    "\n",
    "---"
   ]
  },
  {
   "cell_type": "code",
   "execution_count": null,
   "id": "2faf435a",
   "metadata": {},
   "outputs": [],
   "source": [
    "\"10\".isnumeric()"
   ]
  },
  {
   "cell_type": "code",
   "execution_count": null,
   "id": "0b473ac8",
   "metadata": {},
   "outputs": [],
   "source": [
    "\"1213as\".isnumeric()"
   ]
  },
  {
   "cell_type": "code",
   "execution_count": null,
   "id": "70f4cfbd",
   "metadata": {},
   "outputs": [],
   "source": [
    "\"python\".isalpha()"
   ]
  },
  {
   "cell_type": "code",
   "execution_count": null,
   "id": "9885336d",
   "metadata": {},
   "outputs": [],
   "source": [
    "\"1212as\".isalpha()"
   ]
  },
  {
   "cell_type": "code",
   "execution_count": null,
   "id": "ead437e0",
   "metadata": {},
   "outputs": [],
   "source": [
    "\"1212as\".isalnum()"
   ]
  },
  {
   "cell_type": "code",
   "execution_count": 8,
   "id": "d1b710a9",
   "metadata": {},
   "outputs": [
    {
     "data": {
      "text/plain": [
       "True"
      ]
     },
     "execution_count": 8,
     "metadata": {},
     "output_type": "execute_result"
    }
   ],
   "source": [
    "string = \"AnalyticsVidhya\"\n",
    "string.isalpha()"
   ]
  },
  {
   "cell_type": "code",
   "execution_count": null,
   "id": "8f5d8b8e",
   "metadata": {},
   "outputs": [],
   "source": [
    "string = \"Analytics Vidhya\"\n",
    "string.isalpha()"
   ]
  },
  {
   "cell_type": "markdown",
   "id": "325af412",
   "metadata": {},
   "source": [
    "## String Concatenation\n",
    "To concatenate, or combine, two strings you can use the + operator."
   ]
  },
  {
   "cell_type": "code",
   "execution_count": 6,
   "id": "92058eff",
   "metadata": {},
   "outputs": [
    {
     "name": "stdout",
     "output_type": "stream",
     "text": [
      "HelloWorld\n",
      "Hello World\n"
     ]
    }
   ],
   "source": [
    "a = \"Hello\"\n",
    "b = \"World\"\n",
    "c = a + b\n",
    "print(c)\n",
    "c = a + \" \" + b\n",
    "print(c)"
   ]
  },
  {
   "cell_type": "markdown",
   "id": "8d2ac57d",
   "metadata": {},
   "source": [
    "## String Format\n",
    "As we learned in the Python Variables chapter, we cannot combine strings and numbers like this:"
   ]
  },
  {
   "cell_type": "code",
   "execution_count": 7,
   "id": "036acc6c",
   "metadata": {},
   "outputs": [
    {
     "ename": "TypeError",
     "evalue": "can only concatenate str (not \"int\") to str",
     "output_type": "error",
     "traceback": [
      "\u001b[1;31m---------------------------------------------------------------------------\u001b[0m",
      "\u001b[1;31mTypeError\u001b[0m                                 Traceback (most recent call last)",
      "\u001b[1;32m<ipython-input-7-4d1b227cff41>\u001b[0m in \u001b[0;36m<module>\u001b[1;34m\u001b[0m\n\u001b[0;32m      1\u001b[0m \u001b[0mage\u001b[0m \u001b[1;33m=\u001b[0m \u001b[1;36m36\u001b[0m\u001b[1;33m\u001b[0m\u001b[1;33m\u001b[0m\u001b[0m\n\u001b[1;32m----> 2\u001b[1;33m \u001b[0mtxt\u001b[0m \u001b[1;33m=\u001b[0m \u001b[1;34m\"My name is John, I am \"\u001b[0m \u001b[1;33m+\u001b[0m \u001b[0mage\u001b[0m\u001b[1;33m\u001b[0m\u001b[1;33m\u001b[0m\u001b[0m\n\u001b[0m\u001b[0;32m      3\u001b[0m \u001b[0mprint\u001b[0m\u001b[1;33m(\u001b[0m\u001b[0mtxt\u001b[0m\u001b[1;33m)\u001b[0m\u001b[1;33m\u001b[0m\u001b[1;33m\u001b[0m\u001b[0m\n",
      "\u001b[1;31mTypeError\u001b[0m: can only concatenate str (not \"int\") to str"
     ]
    }
   ],
   "source": [
    "age = 36\n",
    "txt = \"My name is John, I am \" + age\n",
    "print(txt)"
   ]
  },
  {
   "cell_type": "code",
   "execution_count": 8,
   "id": "31469f6f",
   "metadata": {},
   "outputs": [
    {
     "name": "stdout",
     "output_type": "stream",
     "text": [
      "My name is John, and I am 36\n"
     ]
    }
   ],
   "source": [
    "age = 36\n",
    "txt = \"My name is John, and I am {}\"\n",
    "print(txt.format(age))"
   ]
  },
  {
   "cell_type": "code",
   "execution_count": 9,
   "id": "e12d1864",
   "metadata": {},
   "outputs": [
    {
     "name": "stdout",
     "output_type": "stream",
     "text": [
      "I want to pay 49.95 dollars for 3 pieces of item 567.\n"
     ]
    }
   ],
   "source": [
    "quantity = 3\n",
    "itemno = 567\n",
    "price = 49.95\n",
    "myorder = \"I want to pay {2} dollars for {0} pieces of item {1}.\"\n",
    "print(myorder.format(quantity, itemno, price))"
   ]
  },
  {
   "cell_type": "markdown",
   "id": "9a158daa",
   "metadata": {},
   "source": [
    "## Escape Character\n",
    "- To insert characters that are illegal in a string, use an escape character.\n",
    "- An escape character is a backslash \\ followed by the character you want to insert."
   ]
  },
  {
   "cell_type": "code",
   "execution_count": 10,
   "id": "1ae8e64f",
   "metadata": {},
   "outputs": [
    {
     "ename": "SyntaxError",
     "evalue": "invalid syntax (<ipython-input-10-56cdf4283a8e>, line 1)",
     "output_type": "error",
     "traceback": [
      "\u001b[1;36m  File \u001b[1;32m\"<ipython-input-10-56cdf4283a8e>\"\u001b[1;36m, line \u001b[1;32m1\u001b[0m\n\u001b[1;33m    txt = \"We are the so-called \"Vikings\" from the north.\"\u001b[0m\n\u001b[1;37m                                       ^\u001b[0m\n\u001b[1;31mSyntaxError\u001b[0m\u001b[1;31m:\u001b[0m invalid syntax\n"
     ]
    }
   ],
   "source": [
    "txt = \"We are the so-called \"Vikings\" from the north.\""
   ]
  },
  {
   "cell_type": "code",
   "execution_count": 11,
   "id": "dc1b426a",
   "metadata": {},
   "outputs": [
    {
     "name": "stdout",
     "output_type": "stream",
     "text": [
      "We are the so-called \"Vikings\" from the north.\n"
     ]
    }
   ],
   "source": [
    "# The escape character allows you to use double quotes when you normally would not be allowed:\n",
    "txt = \"We are the so-called \\\"Vikings\\\" from the north.\"\n",
    "print(txt)"
   ]
  },
  {
   "cell_type": "markdown",
   "id": "ca321d31",
   "metadata": {},
   "source": [
    "### Various Escape Characters\n",
    "\\'\t  Single Quote\t\n",
    "\\\\\t  Backslash\t\n",
    "\\n\t  New Line\t\n",
    "\\r\t  Carriage Return\t\n",
    "\\t\t  Tab\t\n",
    "\\b\t  Backspace\t\n",
    "\\f\t  Form Feed\t\n",
    "\\ooo\tOctal value\t\n",
    "\\xhh\tHex value"
   ]
  }
 ],
 "metadata": {
  "kernelspec": {
   "display_name": "Python 3 (ipykernel)",
   "language": "python",
   "name": "python3"
  },
  "language_info": {
   "codemirror_mode": {
    "name": "ipython",
    "version": 3
   },
   "file_extension": ".py",
   "mimetype": "text/x-python",
   "name": "python",
   "nbconvert_exporter": "python",
   "pygments_lexer": "ipython3",
   "version": "3.9.7"
  }
 },
 "nbformat": 4,
 "nbformat_minor": 5
}
