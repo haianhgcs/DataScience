{
 "cells": [
  {
   "cell_type": "markdown",
   "id": "3e43fe1e",
   "metadata": {},
   "source": [
    "# Python Strings\n",
    "Reference: \n",
    "\n",
    "https://docs.python.org/3/library/stdtypes.html#string-methods\n",
    "\n",
    "https://docs.python.org/library/string.html#new-string-formatting\n",
    "\n",
    "* Strings are immutable. Once they are created, they cannot be changed. When string variables are assigned a new value then internally, Python creates a new object to store the value.\n",
    "\n",
    "* Strings in python are surrounded by either single quotation marks, or double quotation marks.\n",
    "\n",
    "* 'hello' is the same as \"hello\".\n",
    "\n",
    "* You can display a string literal with the **print()** function:"
   ]
  },
  {
   "cell_type": "code",
   "execution_count": 1,
   "id": "5695a5ac",
   "metadata": {},
   "outputs": [
    {
     "name": "stdout",
     "output_type": "stream",
     "text": [
      "Hello\n",
      "Hello\n"
     ]
    }
   ],
   "source": [
    "print(\"Hello\")\n",
    "print('Hello')"
   ]
  },
  {
   "cell_type": "markdown",
   "id": "b1bfa8f2",
   "metadata": {},
   "source": [
    "---\n",
    "## Define a string"
   ]
  },
  {
   "cell_type": "code",
   "execution_count": 2,
   "id": "7e4686eb",
   "metadata": {},
   "outputs": [],
   "source": [
    "my_string = \"Analytics Vidhya creating next generation data science eco-system\""
   ]
  },
  {
   "cell_type": "markdown",
   "id": "b55f4c09",
   "metadata": {},
   "source": [
    "**Multiline Strings**\n",
    "\n",
    "You can assign a multiline string to a variable by using three quotes:"
   ]
  },
  {
   "cell_type": "code",
   "execution_count": 2,
   "id": "d81cd695",
   "metadata": {},
   "outputs": [
    {
     "name": "stdout",
     "output_type": "stream",
     "text": [
      "Lorem ipsum dolor sit amet,\n",
      "consectetur adipiscing elit,\n",
      "sed do eiusmod tempor incididunt\n",
      "ut labore et dolore magna aliqua.\n"
     ]
    }
   ],
   "source": [
    "a = \"\"\"Lorem ipsum dolor sit amet,\n",
    "consectetur adipiscing elit,\n",
    "sed do eiusmod tempor incididunt\n",
    "ut labore et dolore magna aliqua.\"\"\"\n",
    "print(a)"
   ]
  },
  {
   "cell_type": "code",
   "execution_count": 3,
   "id": "7f72b2d8",
   "metadata": {},
   "outputs": [
    {
     "name": "stdout",
     "output_type": "stream",
     "text": [
      "Lorem ipsum dolor sit amet,\n",
      "consectetur adipiscing elit,\n",
      "sed do eiusmod tempor incididunt\n",
      "ut labore et dolore magna aliqua.\n"
     ]
    }
   ],
   "source": [
    "a = '''Lorem ipsum dolor sit amet,\n",
    "consectetur adipiscing elit,\n",
    "sed do eiusmod tempor incididunt\n",
    "ut labore et dolore magna aliqua.'''\n",
    "print(a)"
   ]
  },
  {
   "cell_type": "markdown",
   "id": "c9049dd5",
   "metadata": {},
   "source": [
    "**string format**"
   ]
  },
  {
   "cell_type": "code",
   "execution_count": null,
   "id": "36240a1d",
   "metadata": {},
   "outputs": [],
   "source": [
    "'An integer: %i; a float: %f; another string: %s' % (1, 0.1, 'string')"
   ]
  },
  {
   "cell_type": "code",
   "execution_count": null,
   "id": "79b079c6",
   "metadata": {},
   "outputs": [],
   "source": [
    "'An integer: {}; a float: {}; another string: {}'.format(1, 0.1, 'string')"
   ]
  },
  {
   "cell_type": "code",
   "execution_count": null,
   "id": "3c171265",
   "metadata": {},
   "outputs": [],
   "source": [
    "f'An integer: {1}; a float: {0.1}; another string: {\"string\"}'"
   ]
  },
  {
   "cell_type": "markdown",
   "id": "4b76462b",
   "metadata": {},
   "source": [
    "`f`\n",
    "* {0:2f} means to format the first argument as a floating-point number with two decimal places\n",
    "* {1:s} means to format be the second argument as a string\n",
    "* {2:d} means to format the third argument as an exact integer"
   ]
  },
  {
   "cell_type": "markdown",
   "id": "f59b14cc",
   "metadata": {},
   "source": [
    "The `r` stands for raw - Declare the characters should be interpreted as is"
   ]
  },
  {
   "cell_type": "code",
   "execution_count": 5,
   "id": "d4c9e742",
   "metadata": {},
   "outputs": [
    {
     "data": {
      "text/plain": [
       "'this\\\\has\\\\no\\\\special\\\\characters'"
      ]
     },
     "execution_count": 5,
     "metadata": {},
     "output_type": "execute_result"
    }
   ],
   "source": [
    "s = r\"this\\has\\no\\special\\characters\"\n",
    "s"
   ]
  },
  {
   "cell_type": "markdown",
   "id": "04619a5f",
   "metadata": {},
   "source": [
    "**Escape Character**\n",
    "- To insert characters that are illegal in a string, use an escape character.\n",
    "- An escape character is a backslash \\ followed by the character you want to insert."
   ]
  },
  {
   "cell_type": "code",
   "execution_count": 10,
   "id": "5278d0bb",
   "metadata": {},
   "outputs": [
    {
     "ename": "SyntaxError",
     "evalue": "invalid syntax (<ipython-input-10-56cdf4283a8e>, line 1)",
     "output_type": "error",
     "traceback": [
      "\u001b[1;36m  File \u001b[1;32m\"<ipython-input-10-56cdf4283a8e>\"\u001b[1;36m, line \u001b[1;32m1\u001b[0m\n\u001b[1;33m    txt = \"We are the so-called \"Vikings\" from the north.\"\u001b[0m\n\u001b[1;37m                                       ^\u001b[0m\n\u001b[1;31mSyntaxError\u001b[0m\u001b[1;31m:\u001b[0m invalid syntax\n"
     ]
    }
   ],
   "source": [
    "txt = \"We are the so-called \"Vikings\" from the north.\""
   ]
  },
  {
   "cell_type": "code",
   "execution_count": 11,
   "id": "dd6a3cce",
   "metadata": {},
   "outputs": [
    {
     "name": "stdout",
     "output_type": "stream",
     "text": [
      "We are the so-called \"Vikings\" from the north.\n"
     ]
    }
   ],
   "source": [
    "# The escape character allows you to use double quotes when you normally would not be allowed:\n",
    "txt = \"We are the so-called \\\"Vikings\\\" from the north.\"\n",
    "print(txt)"
   ]
  },
  {
   "cell_type": "markdown",
   "id": "deb17254",
   "metadata": {},
   "source": [
    "**Various Escape Characters**\n",
    "\n",
    "\\'\t  Single Quote\t\n",
    "\n",
    "\\\\\t  Backslash\t\n",
    "\n",
    "\\n\t  New Line\t\n",
    "\n",
    "\\r\t  Carriage Return\t\n",
    "\n",
    "\\t\t  Tab\t\n",
    "\n",
    "\\b\t  Backspace\t\n",
    "\n",
    "\\f\t  Form Feed\t\n",
    "\n",
    "\\ooo\tOctal value\t\n",
    "\n",
    "\\xhh\tHex value"
   ]
  },
  {
   "cell_type": "markdown",
   "id": "413370c6",
   "metadata": {},
   "source": [
    "---\n",
    "## Modify a String"
   ]
  },
  {
   "cell_type": "markdown",
   "id": "d0c10db2",
   "metadata": {},
   "source": [
    "A string is an immutable object and it is not possible to modify its contents."
   ]
  },
  {
   "cell_type": "code",
   "execution_count": 5,
   "id": "dbeeafb4",
   "metadata": {},
   "outputs": [
    {
     "ename": "TypeError",
     "evalue": "'str' object does not support item assignment",
     "output_type": "error",
     "traceback": [
      "\u001b[1;31m---------------------------------------------------------------------------\u001b[0m",
      "\u001b[1;31mTypeError\u001b[0m                                 Traceback (most recent call last)",
      "Cell \u001b[1;32mIn[5], line 2\u001b[0m\n\u001b[0;32m      1\u001b[0m a \u001b[38;5;241m=\u001b[39m \u001b[38;5;124m\"\u001b[39m\u001b[38;5;124mhello, world!\u001b[39m\u001b[38;5;124m\"\u001b[39m\n\u001b[1;32m----> 2\u001b[0m \u001b[43ma\u001b[49m\u001b[43m[\u001b[49m\u001b[38;5;241;43m2\u001b[39;49m\u001b[43m]\u001b[49m \u001b[38;5;241m=\u001b[39m \u001b[38;5;124m'\u001b[39m\u001b[38;5;124mz\u001b[39m\u001b[38;5;124m'\u001b[39m \u001b[38;5;66;03m# getting error\u001b[39;00m\n",
      "\u001b[1;31mTypeError\u001b[0m: 'str' object does not support item assignment"
     ]
    }
   ],
   "source": [
    "a = \"hello, world!\"\n",
    "a[2] = 'z' # getting error"
   ]
  },
  {
   "cell_type": "markdown",
   "id": "df97f168",
   "metadata": {},
   "source": [
    "One may however create new strings from the original one."
   ]
  },
  {
   "cell_type": "code",
   "execution_count": 6,
   "id": "57dd39e3",
   "metadata": {},
   "outputs": [
    {
     "data": {
      "text/plain": [
       "'hezlo, world!'"
      ]
     },
     "execution_count": 6,
     "metadata": {},
     "output_type": "execute_result"
    }
   ],
   "source": [
    "a.replace('l', 'z', 1) # this one create new string"
   ]
  },
  {
   "cell_type": "code",
   "execution_count": 7,
   "id": "3c6f5b54",
   "metadata": {},
   "outputs": [
    {
     "data": {
      "text/plain": [
       "'hezzo, worzd!'"
      ]
     },
     "execution_count": 7,
     "metadata": {},
     "output_type": "execute_result"
    }
   ],
   "source": [
    "a.replace('l', 'z') # this one create new string"
   ]
  },
  {
   "cell_type": "code",
   "execution_count": null,
   "id": "d1dcfed3",
   "metadata": {},
   "outputs": [],
   "source": [
    "firstname = 'Christopher'\n",
    "lastname = 'Brooks'\n",
    "\n",
    "print(firstname + ' ' + lastname)\n",
    "print(firstname*3)\n",
    "print('Chris' in firstname)"
   ]
  },
  {
   "cell_type": "code",
   "execution_count": 4,
   "id": "0c793bbf",
   "metadata": {
    "scrolled": true
   },
   "outputs": [
    {
     "ename": "TypeError",
     "evalue": "can only concatenate str (not \"int\") to str",
     "output_type": "error",
     "traceback": [
      "\u001b[1;31m---------------------------------------------------------------------------\u001b[0m",
      "\u001b[1;31mTypeError\u001b[0m                                 Traceback (most recent call last)",
      "Cell \u001b[1;32mIn[4], line 7\u001b[0m\n\u001b[0;32m      4\u001b[0m message\n\u001b[0;32m      6\u001b[0m \u001b[38;5;66;03m# Make sure you convert objects to strings before concatenating.\u001b[39;00m\n\u001b[1;32m----> 7\u001b[0m \u001b[38;5;28mprint\u001b[39m(\u001b[38;5;124;43m'\u001b[39;49m\u001b[38;5;124;43mChris\u001b[39;49m\u001b[38;5;124;43m'\u001b[39;49m\u001b[43m \u001b[49m\u001b[38;5;241;43m+\u001b[39;49m\u001b[43m \u001b[49m\u001b[38;5;241;43m2\u001b[39;49m) \u001b[38;5;66;03m# getting error\u001b[39;00m\n\u001b[0;32m      8\u001b[0m \u001b[38;5;28mprint\u001b[39m(\u001b[38;5;124m'\u001b[39m\u001b[38;5;124mChris\u001b[39m\u001b[38;5;124m'\u001b[39m \u001b[38;5;241m+\u001b[39m \u001b[38;5;28mstr\u001b[39m(\u001b[38;5;241m2\u001b[39m))\n",
      "\u001b[1;31mTypeError\u001b[0m: can only concatenate str (not \"int\") to str"
     ]
    }
   ],
   "source": [
    "greeting = \"hello\"\n",
    "name = \"bob\"\n",
    "message = greeting + \" \" + name\n",
    "message\n",
    "\n",
    "# Make sure you convert objects to strings before concatenating.\n",
    "print('Chris' + 2) # getting error\n",
    "print('Chris' + str(2))"
   ]
  },
  {
   "cell_type": "markdown",
   "id": "52356d8d",
   "metadata": {},
   "source": [
    "### 2. Concatenating Strings"
   ]
  },
  {
   "cell_type": "markdown",
   "id": "325af412",
   "metadata": {},
   "source": [
    "To concatenate, or combine, two strings you can use the `+` operator."
   ]
  },
  {
   "cell_type": "code",
   "execution_count": 6,
   "id": "92058eff",
   "metadata": {},
   "outputs": [
    {
     "name": "stdout",
     "output_type": "stream",
     "text": [
      "HelloWorld\n",
      "Hello World\n"
     ]
    }
   ],
   "source": [
    "a = \"Hello\"\n",
    "b = \"World\"\n",
    "c = a + b\n",
    "print(c)\n",
    "c = a + \" \" + b\n",
    "print(c)"
   ]
  },
  {
   "cell_type": "code",
   "execution_count": null,
   "id": "69a8c55f",
   "metadata": {},
   "outputs": [],
   "source": [
    "# Concat Strings\n",
    "'A' + 'B'"
   ]
  },
  {
   "cell_type": "markdown",
   "id": "afd50fd0",
   "metadata": {},
   "source": [
    "Using - `join`"
   ]
  },
  {
   "cell_type": "code",
   "execution_count": 5,
   "id": "69d18aed",
   "metadata": {},
   "outputs": [
    {
     "name": "stdout",
     "output_type": "stream",
     "text": [
      "python\n"
     ]
    }
   ],
   "source": [
    "characters = ['p', 'y', 't', 'h', 'o', 'n']\n",
    "word = \"\".join(characters)\n",
    "print(word) # python"
   ]
  },
  {
   "cell_type": "markdown",
   "id": "553738d3",
   "metadata": {},
   "source": [
    "**Combining** a list of strings into a single one"
   ]
  },
  {
   "cell_type": "code",
   "execution_count": 4,
   "id": "bac8c571",
   "metadata": {},
   "outputs": [
    {
     "name": "stdout",
     "output_type": "stream",
     "text": [
      "my name is George\n"
     ]
    }
   ],
   "source": [
    "sentence_list = [\"my\", \"name\", \"is\", \"George\"]\n",
    "sentence_string = \" \".join(sentence_list)\n",
    "print(sentence_string)"
   ]
  },
  {
   "cell_type": "markdown",
   "id": "c40c5105",
   "metadata": {},
   "source": [
    "### 3. Capitalize first letters"
   ]
  },
  {
   "cell_type": "markdown",
   "id": "ed3e0067",
   "metadata": {},
   "source": [
    "Using `capitalize`: Update the first character of the string to upper case"
   ]
  },
  {
   "cell_type": "code",
   "execution_count": 6,
   "id": "f2c84821",
   "metadata": {},
   "outputs": [
    {
     "data": {
      "text/plain": [
       "'Programming is awesome'"
      ]
     },
     "execution_count": 6,
     "metadata": {},
     "output_type": "execute_result"
    }
   ],
   "source": [
    "my_string = \"programming is awesome\"\n",
    "my_string.capitalize()"
   ]
  },
  {
   "cell_type": "markdown",
   "id": "68460314",
   "metadata": {},
   "source": [
    "Using  - `title`"
   ]
  },
  {
   "cell_type": "code",
   "execution_count": 7,
   "id": "f1b22ee0",
   "metadata": {},
   "outputs": [
    {
     "name": "stdout",
     "output_type": "stream",
     "text": [
      "Programming Is Awesome\n"
     ]
    }
   ],
   "source": [
    "s = \"programming is awesome\"\n",
    "\n",
    "print(s.title()) # Programming Is Awesome"
   ]
  },
  {
   "cell_type": "markdown",
   "id": "d212818b",
   "metadata": {},
   "source": [
    "### 4. Turn the first letter of the given string into lower case/ upper case."
   ]
  },
  {
   "cell_type": "code",
   "execution_count": 2,
   "id": "8217378b",
   "metadata": {},
   "outputs": [
    {
     "name": "stdout",
     "output_type": "stream",
     "text": [
      "HELLO, WORLD!\n",
      "hello, world!\n"
     ]
    }
   ],
   "source": [
    "# The upper() and lower() method returns the string in upper case:\n",
    "a = \"Hello, World!\"\n",
    "print(a.upper())\n",
    "print(a.lower())"
   ]
  },
  {
   "cell_type": "code",
   "execution_count": null,
   "id": "1073fd13",
   "metadata": {},
   "outputs": [],
   "source": [
    "def decapitalize(str):\n",
    "    return str[:1].lower() + str[1:]\n",
    "  \n",
    "decapitalize('FooBar') # 'fooBar'"
   ]
  },
  {
   "cell_type": "markdown",
   "id": "a69676dc",
   "metadata": {},
   "source": [
    "### 5. Removes any whitespace from the beginning or the end"
   ]
  },
  {
   "cell_type": "code",
   "execution_count": 8,
   "id": "6863af7f",
   "metadata": {},
   "outputs": [
    {
     "name": "stdout",
     "output_type": "stream",
     "text": [
      "Hello, World!\n"
     ]
    }
   ],
   "source": [
    "# The strip() method removes any whitespace from the beginning or the end:\n",
    "a = \" Hello, World! \"\n",
    "print(a.strip()) # returns \"Hello, World!\""
   ]
  },
  {
   "cell_type": "markdown",
   "id": "7a1e9792",
   "metadata": {},
   "source": [
    "### 6. Replace substrings"
   ]
  },
  {
   "cell_type": "code",
   "execution_count": 4,
   "id": "ad56030f",
   "metadata": {},
   "outputs": [
    {
     "name": "stdout",
     "output_type": "stream",
     "text": [
      "Jello, World!\n"
     ]
    }
   ],
   "source": [
    "# The replace() method replaces a string with another string:\n",
    "a = \"Hello, World!\"\n",
    "print(a.replace(\"H\", \"J\"))"
   ]
  },
  {
   "cell_type": "code",
   "execution_count": null,
   "id": "ee8cad39",
   "metadata": {},
   "outputs": [],
   "source": [
    "\"java is easy to learn.\".replace('java', 'python')"
   ]
  },
  {
   "cell_type": "markdown",
   "id": "aa05490e",
   "metadata": {},
   "source": [
    "### 7. Split function\n",
    "`split` returns a list of all the words in a string, or a list split on a specific character."
   ]
  },
  {
   "cell_type": "code",
   "execution_count": 5,
   "id": "3cfb0424",
   "metadata": {},
   "outputs": [
    {
     "name": "stdout",
     "output_type": "stream",
     "text": [
      "['Hello', ' World!']\n"
     ]
    }
   ],
   "source": [
    "# The split() method splits the string into substrings if it finds instances of the separator:\n",
    "a = \"Hello, World!\"\n",
    "print(a.split(\",\")) # returns ['Hello', ' World!']"
   ]
  },
  {
   "cell_type": "code",
   "execution_count": null,
   "id": "849dd515",
   "metadata": {},
   "outputs": [],
   "source": [
    "firstname = 'Christopher Arthur Hansen Brooks'.split(' ')[0] # [0] selects the first element of the list\n",
    "lastname = 'Christopher Arthur Hansen Brooks'.split(' ')[-1] # [-1] selects the last element of the list\n",
    "print(firstname)\n",
    "print(lastname)"
   ]
  },
  {
   "cell_type": "code",
   "execution_count": null,
   "id": "a472fb74",
   "metadata": {},
   "outputs": [],
   "source": [
    "sentence_string = \"my name is George\"\n",
    "sentence_string.split()\n",
    "print(sentence_string)"
   ]
  },
  {
   "cell_type": "markdown",
   "id": "357c366d",
   "metadata": {},
   "source": [
    "### 8. Repeat string\n",
    "\n",
    "'A'*3 will repeat A three times:  AAA"
   ]
  },
  {
   "cell_type": "code",
   "execution_count": 1,
   "id": "c0ff18f0",
   "metadata": {},
   "outputs": [
    {
     "data": {
      "text/plain": [
       "'aaa'"
      ]
     },
     "execution_count": 1,
     "metadata": {},
     "output_type": "execute_result"
    }
   ],
   "source": [
    "'a'*3"
   ]
  },
  {
   "cell_type": "markdown",
   "id": "69d4aa6f",
   "metadata": {},
   "source": [
    "### 9. Reversing"
   ]
  },
  {
   "cell_type": "code",
   "execution_count": 2,
   "id": "d0c6bf76",
   "metadata": {},
   "outputs": [
    {
     "data": {
      "text/plain": [
       "'cba'"
      ]
     },
     "execution_count": 2,
     "metadata": {},
     "output_type": "execute_result"
    }
   ],
   "source": [
    "x = 'abc'\n",
    "x = x[::-1]\n",
    "x"
   ]
  },
  {
   "cell_type": "markdown",
   "id": "7896a12d",
   "metadata": {},
   "source": [
    "### 10. Removing useless characters on the end of your string"
   ]
  },
  {
   "cell_type": "code",
   "execution_count": 3,
   "id": "e8ccc678",
   "metadata": {},
   "outputs": [
    {
     "name": "stdout",
     "output_type": "stream",
     "text": [
      "George\n",
      "George\n"
     ]
    }
   ],
   "source": [
    "name = \"  George \"\n",
    "name_2 = \"George///\"\n",
    "print(name.strip()) # prints \"George\"\n",
    "print(name_2.strip(\"/\")) # prints \"George\""
   ]
  },
  {
   "cell_type": "code",
   "execution_count": null,
   "id": "bf2cc140",
   "metadata": {},
   "outputs": [],
   "source": []
  },
  {
   "cell_type": "code",
   "execution_count": null,
   "id": "c8a5d57c",
   "metadata": {},
   "outputs": [],
   "source": []
  },
  {
   "cell_type": "code",
   "execution_count": null,
   "id": "08570be3",
   "metadata": {},
   "outputs": [],
   "source": []
  },
  {
   "cell_type": "code",
   "execution_count": null,
   "id": "e903007a",
   "metadata": {},
   "outputs": [],
   "source": []
  },
  {
   "cell_type": "markdown",
   "id": "7c24192a",
   "metadata": {},
   "source": [
    "## Checking with String"
   ]
  },
  {
   "cell_type": "markdown",
   "id": "dd774c5e",
   "metadata": {},
   "source": [
    "### String Length\n",
    "To get the length of a string, use the len() function."
   ]
  },
  {
   "cell_type": "code",
   "execution_count": 6,
   "id": "f420684e",
   "metadata": {},
   "outputs": [
    {
     "name": "stdout",
     "output_type": "stream",
     "text": [
      "13\n"
     ]
    }
   ],
   "source": [
    "a = \"Hello, World!\"\n",
    "print(len(a))"
   ]
  },
  {
   "cell_type": "markdown",
   "id": "b1d3dd78",
   "metadata": {},
   "source": [
    " Get length of a string in bytes."
   ]
  },
  {
   "cell_type": "code",
   "execution_count": 5,
   "id": "ca794d83",
   "metadata": {},
   "outputs": [
    {
     "data": {
      "text/plain": [
       "11"
      ]
     },
     "execution_count": 5,
     "metadata": {},
     "output_type": "execute_result"
    }
   ],
   "source": [
    "def byte_size(string):\n",
    "    return(len(string.encode('utf-8')))\n",
    "    \n",
    "    \n",
    "byte_size('😀') # 4\n",
    "byte_size('Hello World') # 11  "
   ]
  },
  {
   "cell_type": "markdown",
   "id": "91ba0cab",
   "metadata": {},
   "source": [
    "### Check if String Contains Substring\n",
    "**1. Using `in` Operator**\n",
    "\n",
    "To check if a certain phrase or character is present in a string, we can use the keyword **in**."
   ]
  },
  {
   "cell_type": "code",
   "execution_count": 10,
   "id": "7f9d4b4b",
   "metadata": {},
   "outputs": [
    {
     "name": "stdout",
     "output_type": "stream",
     "text": [
      "True\n",
      "True\n",
      "Yes\n"
     ]
    }
   ],
   "source": [
    "txt = \"The best things in life are free!\"\n",
    "print(\"free\" in txt)\n",
    "\n",
    "if 'free' in txt:\n",
    "    print(bool(1))\n",
    "else:\n",
    "    print(bool(0))\n",
    "    \n",
    "\n",
    "if 'free' in txt:\n",
    "    print(\"Yes\")\n",
    "else:\n",
    "    print(\"No\")"
   ]
  },
  {
   "cell_type": "code",
   "execution_count": 1,
   "id": "fb63d12b",
   "metadata": {},
   "outputs": [
    {
     "name": "stdout",
     "output_type": "stream",
     "text": [
      "Found!\n"
     ]
    }
   ],
   "source": [
    "fullstring = \"StackAbuse\"\n",
    "substring = \"tack\"\n",
    "\n",
    "if substring in fullstring:\n",
    "    print(\"Found!\")\n",
    "else:\n",
    "    print(\"Not found!\")"
   ]
  },
  {
   "cell_type": "markdown",
   "id": "b4be5a6a",
   "metadata": {},
   "source": [
    "Find a substring in the string using `find` and `index` function.\n",
    "\n",
    "**2. Using `String.index()` Method**\n",
    "\n",
    "The String type in Python has a method called **index** that can be used to find the starting index of the first occurrence of a substring in a string. If the substring is not found, a ValueError exception is thrown, which can to be handled with a try-except-else block:\n",
    "\n",
    "* If present it will return the starting index.\n",
    "* If not found, then it will give error"
   ]
  },
  {
   "cell_type": "code",
   "execution_count": 2,
   "id": "da1995e8",
   "metadata": {},
   "outputs": [
    {
     "name": "stdout",
     "output_type": "stream",
     "text": [
      "Found!\n"
     ]
    }
   ],
   "source": [
    "fullstring = \"StackAbuse\"\n",
    "substring = \"tack\"\n",
    "\n",
    "try:\n",
    "    fullstring.index(substring)\n",
    "except ValueError:\n",
    "    print(\"Not found!\")\n",
    "else:\n",
    "    print(\"Found!\")"
   ]
  },
  {
   "cell_type": "markdown",
   "id": "88a651bb",
   "metadata": {},
   "source": [
    "**3. Using `String.find()` Method**\n",
    "\n",
    "The String type has another method called find which is more convenient to use than index, because we don't need to worry about handling any exceptions. If find doesn't find a match, it returns -1, otherwise it returns the left-most index of the substring in the larger string.\n",
    "\n",
    "* If present it will return the starting index.\n",
    "* If not found, then it will return -1\n",
    "\n",
    "---"
   ]
  },
  {
   "cell_type": "code",
   "execution_count": null,
   "id": "85f1c907",
   "metadata": {},
   "outputs": [],
   "source": [
    "fullstring = \"StackAbuse\"\n",
    "substring = \"tack\"\n",
    "\n",
    "if fullstring.find(substring) != -1:\n",
    "    print(\"Found!\")\n",
    "else:\n",
    "    print(\"Not found!\")  "
   ]
  },
  {
   "cell_type": "code",
   "execution_count": 4,
   "id": "67178431",
   "metadata": {},
   "outputs": [
    {
     "data": {
      "text/plain": [
       "4"
      ]
     },
     "execution_count": 4,
     "metadata": {},
     "output_type": "execute_result"
    }
   ],
   "source": [
    "name = 'farhad'\n",
    "index = name.find('a', 2) # finds index of second a\n",
    "index "
   ]
  },
  {
   "cell_type": "markdown",
   "id": "1b6893af",
   "metadata": {},
   "source": [
    "**3. Using Regular Expressions (REGEX)**\n",
    "\n",
    "Regular expressions provide a more flexible (albeit more complex) way to check strings for pattern matching. Python is shipped with a built-in module for regular expressions, called re. The re module contains a function called search, which we can use to match a substring pattern as follows:"
   ]
  },
  {
   "cell_type": "code",
   "execution_count": 3,
   "id": "5c3a1065",
   "metadata": {},
   "outputs": [
    {
     "name": "stdout",
     "output_type": "stream",
     "text": [
      "Found!\n"
     ]
    }
   ],
   "source": [
    "from re import search\n",
    "\n",
    "fullstring = \"StackAbuse\"\n",
    "substring = \"tack\"\n",
    "\n",
    "if search(substring, fullstring):\n",
    "    print(\"Found!\")\n",
    "else:\n",
    "    print(\"Not found!\")"
   ]
  },
  {
   "cell_type": "markdown",
   "id": "15cd6882",
   "metadata": {},
   "source": [
    "**4. Check if NOT**\n",
    "\n",
    "To check if a certain phrase or character is NOT present in a string, we can use the keyword not in."
   ]
  },
  {
   "cell_type": "code",
   "execution_count": 11,
   "id": "c10064d6",
   "metadata": {},
   "outputs": [
    {
     "name": "stdout",
     "output_type": "stream",
     "text": [
      "True\n",
      "True\n",
      "Yes\n"
     ]
    }
   ],
   "source": [
    "txt = \"The best things in life are free!\"\n",
    "print(\"expensive\" not in txt)\n",
    "\n",
    "if 'expensive' not in txt:\n",
    "    print(bool(1))\n",
    "else:\n",
    "    print(bool(0))\n",
    "    \n",
    "\n",
    "if 'expensive' not in txt:\n",
    "    print(\"Yes\")\n",
    "else:\n",
    "    print(\"No\")"
   ]
  },
  {
   "cell_type": "markdown",
   "id": "a964893a",
   "metadata": {},
   "source": [
    "### Check if the string is in lower case or upper case."
   ]
  },
  {
   "cell_type": "code",
   "execution_count": null,
   "id": "0ad41e7f",
   "metadata": {},
   "outputs": [],
   "source": [
    "my_string.islower()"
   ]
  },
  {
   "cell_type": "code",
   "execution_count": null,
   "id": "8bbf2f36",
   "metadata": {},
   "outputs": [],
   "source": [
    "my_string.isupper()"
   ]
  },
  {
   "cell_type": "markdown",
   "id": "1afce8c4",
   "metadata": {},
   "source": [
    "### Check if the string is digit, alpabetic, alpha-numeric."
   ]
  },
  {
   "cell_type": "code",
   "execution_count": null,
   "id": "2faf435a",
   "metadata": {},
   "outputs": [],
   "source": [
    "\"10\".isnumeric()"
   ]
  },
  {
   "cell_type": "code",
   "execution_count": null,
   "id": "0b473ac8",
   "metadata": {},
   "outputs": [],
   "source": [
    "\"1213as\".isnumeric()"
   ]
  },
  {
   "cell_type": "code",
   "execution_count": null,
   "id": "70f4cfbd",
   "metadata": {},
   "outputs": [],
   "source": [
    "\"python\".isalpha()"
   ]
  },
  {
   "cell_type": "code",
   "execution_count": null,
   "id": "9885336d",
   "metadata": {},
   "outputs": [],
   "source": [
    "\"1212as\".isalpha()"
   ]
  },
  {
   "cell_type": "code",
   "execution_count": null,
   "id": "ead437e0",
   "metadata": {},
   "outputs": [],
   "source": [
    "\"1212as\".isalnum()"
   ]
  },
  {
   "cell_type": "code",
   "execution_count": 8,
   "id": "d1b710a9",
   "metadata": {},
   "outputs": [
    {
     "data": {
      "text/plain": [
       "True"
      ]
     },
     "execution_count": 8,
     "metadata": {},
     "output_type": "execute_result"
    }
   ],
   "source": [
    "string = \"AnalyticsVidhya\"\n",
    "string.isalpha()"
   ]
  },
  {
   "cell_type": "code",
   "execution_count": null,
   "id": "8f5d8b8e",
   "metadata": {},
   "outputs": [],
   "source": [
    "string = \"Analytics Vidhya\"\n",
    "string.isalpha()"
   ]
  },
  {
   "cell_type": "markdown",
   "id": "c5f7d6f2",
   "metadata": {},
   "source": [
    "### Count of a particular `character` or a `sub-string` in a string."
   ]
  },
  {
   "cell_type": "code",
   "execution_count": null,
   "id": "4de590de",
   "metadata": {},
   "outputs": [],
   "source": [
    "my_string.count('a')"
   ]
  },
  {
   "cell_type": "code",
   "execution_count": null,
   "id": "f97b69f7",
   "metadata": {},
   "outputs": [],
   "source": [
    "my_string.count('A')"
   ]
  },
  {
   "cell_type": "markdown",
   "id": "88a07d55",
   "metadata": {},
   "source": [
    "### Check whether if the string `startswith` or `endswith` a particular substring or not."
   ]
  },
  {
   "cell_type": "code",
   "execution_count": null,
   "id": "ada4ebd5",
   "metadata": {},
   "outputs": [],
   "source": [
    "my_string.endswith('python')"
   ]
  },
  {
   "cell_type": "code",
   "execution_count": null,
   "id": "bc9acbf9",
   "metadata": {},
   "outputs": [],
   "source": [
    "my_string.endswith('system')"
   ]
  },
  {
   "cell_type": "code",
   "execution_count": null,
   "id": "ef3ee65b",
   "metadata": {},
   "outputs": [],
   "source": [
    "my_string.startswith('python')"
   ]
  },
  {
   "cell_type": "code",
   "execution_count": null,
   "id": "35fec72d",
   "metadata": {},
   "outputs": [],
   "source": [
    "my_string.startswith('analytics')"
   ]
  },
  {
   "cell_type": "markdown",
   "id": "8170f9e7",
   "metadata": {},
   "source": [
    "### Anagrams\n",
    "\n",
    "This method can be used to check if two strings are anagrams. An anagram is a word or phrase formed by rearranging the letters of a different word or phrase, typically using all the original letters exactly once.**"
   ]
  },
  {
   "cell_type": "code",
   "execution_count": null,
   "id": "eff18e6f",
   "metadata": {},
   "outputs": [],
   "source": [
    "from collections import Counter\n",
    "\n",
    "def anagram(first, second):\n",
    "    return Counter(first) == Counter(second)\n",
    "\n",
    "\n",
    "anagram(\"abcd3\", \"3acdb\") # True"
   ]
  },
  {
   "cell_type": "markdown",
   "id": "c85f6ac3",
   "metadata": {},
   "source": [
    "### Checks whether a given string is a palindrome\n",
    "palindrome means a word, phrase, or sequence that reads the same backward as forward, e.g., madam or nurses run"
   ]
  },
  {
   "cell_type": "code",
   "execution_count": 7,
   "id": "3cacada9",
   "metadata": {},
   "outputs": [
    {
     "data": {
      "text/plain": [
       "True"
      ]
     },
     "execution_count": 7,
     "metadata": {},
     "output_type": "execute_result"
    }
   ],
   "source": [
    "def palindrome(a):\n",
    "    return a == a[::-1]\n",
    "\n",
    "\n",
    "palindrome('mom') # True"
   ]
  },
  {
   "cell_type": "markdown",
   "id": "96837752",
   "metadata": {},
   "source": [
    "---\n",
    "## Discover a String\n",
    "### Strings are Arrays\n",
    "Now let's look at strings. Strings are collections like lists. Hence they can be indexed and sliced, using the same syntax and rules. This will return the last element of the string.\n",
    "\n",
    "Like many other popular programming languages, strings in Python are arrays of bytes representing unicode characters.\n",
    "\n",
    "However, Python does not have a character data type, a single character is simply a string with a length of 1.\n",
    "\n",
    "Square brackets can be used to access elements of the string."
   ]
  },
  {
   "cell_type": "code",
   "execution_count": 4,
   "id": "0bf07979",
   "metadata": {},
   "outputs": [
    {
     "name": "stdout",
     "output_type": "stream",
     "text": [
      "e\n"
     ]
    }
   ],
   "source": [
    "a = \"Hello, World!\"\n",
    "print(a[1])"
   ]
  },
  {
   "cell_type": "markdown",
   "id": "99ff7f2b",
   "metadata": {},
   "source": [
    "Since strings are arrays, we can loop through the characters in a string, with a for loop."
   ]
  },
  {
   "cell_type": "code",
   "execution_count": 5,
   "id": "f337a1c6",
   "metadata": {},
   "outputs": [
    {
     "name": "stdout",
     "output_type": "stream",
     "text": [
      "b\n",
      "a\n",
      "n\n",
      "a\n",
      "n\n",
      "a\n"
     ]
    }
   ],
   "source": [
    "for x in \"banana\":\n",
    "    print(x)"
   ]
  },
  {
   "cell_type": "markdown",
   "id": "528b8b0d",
   "metadata": {},
   "source": [
    "### Slicing to select string characters\n",
    "\n",
    "Use bracket notation to slice a string.\n",
    "\n",
    "You can return a range of characters by using the slice syntax.\n",
    "\n",
    "Specify the start index and the end index, separated by a colon, to return a part of the string."
   ]
  },
  {
   "cell_type": "code",
   "execution_count": 12,
   "id": "821e9617",
   "metadata": {},
   "outputs": [
    {
     "name": "stdout",
     "output_type": "stream",
     "text": [
      "llo\n"
     ]
    }
   ],
   "source": [
    "b = \"Hello, World!\"\n",
    "print(b[2:5])"
   ]
  },
  {
   "cell_type": "code",
   "execution_count": 1,
   "id": "c76fb755",
   "metadata": {},
   "outputs": [
    {
     "name": "stdout",
     "output_type": "stream",
     "text": [
      "T\n",
      "T\n",
      "Th\n"
     ]
    }
   ],
   "source": [
    "x = 'This is a string'\n",
    "print(x[0]) #first character\n",
    "print(x[0:1]) #first character, but we have explicitly set the end character\n",
    "print(x[0:2]) #first two characters"
   ]
  },
  {
   "cell_type": "markdown",
   "id": "a43761d3",
   "metadata": {},
   "source": [
    "Access characters with negative indexing"
   ]
  },
  {
   "cell_type": "code",
   "execution_count": 1,
   "id": "2688551e",
   "metadata": {},
   "outputs": [
    {
     "name": "stdout",
     "output_type": "stream",
     "text": [
      "orl\n"
     ]
    }
   ],
   "source": [
    "b = \"Hello, World!\"\n",
    "print(b[-5:-2])"
   ]
  },
  {
   "cell_type": "code",
   "execution_count": 2,
   "id": "6e948217",
   "metadata": {},
   "outputs": [
    {
     "data": {
      "text/plain": [
       "'s is a string'"
      ]
     },
     "execution_count": 2,
     "metadata": {},
     "output_type": "execute_result"
    }
   ],
   "source": [
    "x[-1]\n",
    "x[-4:-2] # This will return the slice starting from the 4th element from the end and stopping before the 2nd element from the end.\n",
    "x[:3] # This is a slice from the beginning of the string and stopping before the 3rd element\n",
    "x[3:] # And this is a slice starting from the 4th element of the string and going all the way to the end."
   ]
  },
  {
   "cell_type": "markdown",
   "id": "b7b02971",
   "metadata": {},
   "source": [
    "### Gets vowels (‘a’, ‘e’, ‘i’, ‘o’, ‘u’) found in a string."
   ]
  },
  {
   "cell_type": "code",
   "execution_count": 6,
   "id": "5ae44183",
   "metadata": {},
   "outputs": [
    {
     "data": {
      "text/plain": [
       "[]"
      ]
     },
     "execution_count": 6,
     "metadata": {},
     "output_type": "execute_result"
    }
   ],
   "source": [
    "def get_vowels(string):\n",
    "    return [each for each in string if each in 'aeiou'] \n",
    "\n",
    "\n",
    "get_vowels('foobar') # ['o', 'o', 'a']\n",
    "get_vowels('gym') # []"
   ]
  },
  {
   "cell_type": "markdown",
   "id": "6868373f",
   "metadata": {},
   "source": [
    "### Finding Unique Elements in a String"
   ]
  },
  {
   "cell_type": "code",
   "execution_count": 8,
   "id": "da235f0e",
   "metadata": {},
   "outputs": [
    {
     "name": "stdout",
     "output_type": "stream",
     "text": [
      "cadve\n"
     ]
    }
   ],
   "source": [
    "my_string = \"aavvccccddddeee\"\n",
    "\n",
    "# converting the string to a set\n",
    "temp_set = set(my_string)\n",
    "\n",
    "# stitching set into a string using join\n",
    "new_string = ''.join(temp_set)\n",
    "\n",
    "print(new_string)"
   ]
  }
 ],
 "metadata": {
  "kernelspec": {
   "display_name": "Python 3 (ipykernel)",
   "language": "python",
   "name": "python3"
  },
  "language_info": {
   "codemirror_mode": {
    "name": "ipython",
    "version": 3
   },
   "file_extension": ".py",
   "mimetype": "text/x-python",
   "name": "python",
   "nbconvert_exporter": "python",
   "pygments_lexer": "ipython3",
   "version": "3.9.0"
  }
 },
 "nbformat": 4,
 "nbformat_minor": 5
}
