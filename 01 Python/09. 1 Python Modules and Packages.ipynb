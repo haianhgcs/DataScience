{
 "cells": [
  {
   "cell_type": "markdown",
   "metadata": {},
   "source": [
    "# Python Modules and Packages"
   ]
  },
  {
   "cell_type": "markdown",
   "metadata": {},
   "source": [
    "## What Are Python Modules?\n",
    "Modules are simply a ‘program logic’ or a ‘python script’ that can be used for a variety of applications or functions. We can declare functions, classes, etc in a module.\n",
    "\n",
    "The focus is to break down the code into different modules so that there will be no or minimum dependencies on one another. Using modules in a code helps to write a lesser line of codes, a single procedure developed for reuse of the code as well. It also eliminates the need to write the same logic again and again.\n",
    "\n",
    "* Any python code file can be packaged as a module and then it can be imported.\n",
    "* Modules encourage componentised design in your solution.\n",
    "* They provide the concept of namespaces help you share data and services.\n",
    "* Modules encourage code re-usability and reduces variable name clashes."
   ]
  },
  {
   "cell_type": "markdown",
   "metadata": {},
   "source": [
    "## PYTHONPATH\n",
    "This environment variable indicates where the Python interpreter needs to navigate to locate the modules. PYTHONHOME is an alternative module search path."
   ]
  },
  {
   "cell_type": "markdown",
   "metadata": {},
   "source": [
    "A module is a file containing Python definitions and statements. A module can define functions, classes, and variables. A module can also include runnable code. Grouping related code into a module makes the code easier to understand and use. It also makes the code logically organized."
   ]
  },
  {
   "cell_type": "code",
   "execution_count": 1,
   "metadata": {
    "scrolled": true
   },
   "outputs": [
    {
     "name": "stdout",
     "output_type": "stream",
     "text": [
      "12\n",
      "8\n"
     ]
    }
   ],
   "source": [
    "# importing  module calc.py\n",
    "import calc\n",
    " \n",
    "print(calc.add(10, 2))\n",
    "print(calc.subtract(10,2))"
   ]
  },
  {
   "cell_type": "markdown",
   "metadata": {},
   "source": [
    "## Three techniques to import a python module\n",
    "While working on a bigger project, main python module usually gets longer. Then one need to write separate small modules and import them in the main code. This will give access to the variables and functions defined in the imported module.\n",
    "\n",
    "Sometimes, one may not know the python module name to import and would like to pass it as a parameter to the main module.\n",
    "\n",
    "This article will focus different ways one can import a python module.\n",
    "\n",
    "1. create a python module config.py with the following code.\n",
    "\n",
    "```\n",
    "var = 10\n",
    "def getval():\n",
    "return 10+10\n",
    "```\n",
    "\n",
    "2. Create another module program.py, to access the variable var and function getval() from the config file. Three different ways you can do this."
   ]
  },
  {
   "cell_type": "markdown",
   "metadata": {},
   "source": [
    "**Note**: Modules are only imported on the first import.\n"
   ]
  },
  {
   "cell_type": "markdown",
   "metadata": {},
   "source": [
    "### import config"
   ]
  },
  {
   "cell_type": "code",
   "execution_count": null,
   "metadata": {},
   "outputs": [],
   "source": [
    "import config\n",
    "print(\"var : \", config.var)\n",
    "print(\"result : \", config.getval())"
   ]
  },
  {
   "cell_type": "markdown",
   "metadata": {},
   "source": [
    "### from config import var, getval\n",
    "The * symbol used with the from import the statement is used to import all the names from a module to a current namespace.\n",
    "\n",
    "If you only want to access an object or parts of a module from a module then you can implement. This will enable you to access your object without referencing your module:"
   ]
  },
  {
   "cell_type": "code",
   "execution_count": null,
   "metadata": {},
   "outputs": [],
   "source": [
    "from config import var, getval\n",
    "print(\"result : \", getval())\n",
    "print(\"var : \", var)"
   ]
  },
  {
   "cell_type": "markdown",
   "metadata": {},
   "source": [
    "We can also do from * to import all objects"
   ]
  },
  {
   "cell_type": "code",
   "execution_count": null,
   "metadata": {},
   "outputs": [],
   "source": [
    "from my_module import *"
   ]
  },
  {
   "cell_type": "markdown",
   "metadata": {},
   "source": [
    "### passing as a prameter"
   ]
  },
  {
   "cell_type": "code",
   "execution_count": null,
   "metadata": {},
   "outputs": [],
   "source": [
    "import sys\n",
    "filename = sys.argv[1].split(\".\")[0]\n",
    "config1 = __import__(filename)\n",
    "print(\"var1 : \", config1.var)\n",
    "print(\"result1 : \", config1.getval())"
   ]
  },
  {
   "cell_type": "markdown",
   "metadata": {},
   "source": [
    "To run this just type : _python program.py config.py_"
   ]
  },
  {
   "cell_type": "markdown",
   "metadata": {},
   "source": [
    "## How To Create Modules In Python?\n",
    "Creating a module in python is similar to writing a simple python script using the .py extension. For the above example, lets try to make a module for the various operations."
   ]
  },
  {
   "cell_type": "markdown",
   "metadata": {},
   "source": [
    "To setup your own local Python module, first decide on a designated module folder and add it to your PYTHONPATH. By adding the directory to your PYTHONPATH, Python will look in this directory for modules to import everytime you run Python."
   ]
  },
  {
   "cell_type": "code",
   "execution_count": null,
   "metadata": {},
   "outputs": [],
   "source": [
    "# append our module (of pycharm project) path into sys.path\n",
    "module_path = os.path.abspath(os.path.join('./'))\n",
    "if module_path not in sys.path:\n",
    "    sys.path.append(module_path)\n",
    "\n",
    "# make sure the our modules auto reload\n",
    "%load_ext autoreload\n",
    "%autoreload 2"
   ]
  },
  {
   "cell_type": "markdown",
   "metadata": {},
   "source": [
    "Then, create a folder inside, in which the folder’s name will be your module name. In this example, my folder and module was named mymod.\n",
    "\n",
    "Next, create a Python file `testutil.py` to store your data analysis and visualization functions. Note that you can have multiple Python files in this folder, where each file can be imported by `from mymod import filename`. \n",
    "\n",
    "```\n",
    "def say_hello():\n",
    "\tprint(\"Hello!\")\n",
    "\t\n",
    "def add(x,y):\n",
    "     return x + y\n",
    " \n",
    "def sub(x, y):\n",
    "     return x - y\n",
    " \n",
    "def prod(x, y):\n",
    "    return x * y\n",
    " \n",
    "def div(x, y):\n",
    "    return x / y\n",
    "```"
   ]
  },
  {
   "cell_type": "code",
   "execution_count": null,
   "metadata": {},
   "outputs": [],
   "source": [
    "from mymod import testutil"
   ]
  },
  {
   "cell_type": "code",
   "execution_count": null,
   "metadata": {},
   "outputs": [],
   "source": [
    "testutil.say_hello()"
   ]
  },
  {
   "cell_type": "markdown",
   "metadata": {},
   "source": [
    "Note: If you do not want the interpreter to execute the module when it is loaded then you can check whether the ```__name__ == ‘__main__’```"
   ]
  },
  {
   "cell_type": "markdown",
   "metadata": {},
   "source": [
    "## Variables in Module\n",
    "The module can contain functions, as already described, but also variables of all types (arrays, dictionaries, objects etc):"
   ]
  },
  {
   "cell_type": "code",
   "execution_count": 2,
   "metadata": {},
   "outputs": [
    {
     "name": "stdout",
     "output_type": "stream",
     "text": [
      "36\n"
     ]
    }
   ],
   "source": [
    "import myModule\n",
    "\n",
    "age = myModule.person1[\"age\"]\n",
    "print(age)"
   ]
  },
  {
   "cell_type": "code",
   "execution_count": 3,
   "metadata": {},
   "outputs": [
    {
     "name": "stdout",
     "output_type": "stream",
     "text": [
      "{'name': 'John', 'age': 36, 'country': 'Norway'}\n"
     ]
    }
   ],
   "source": [
    "print(myModule.person1)"
   ]
  },
  {
   "cell_type": "code",
   "execution_count": 5,
   "metadata": {},
   "outputs": [],
   "source": [
    "import users\n",
    "def myfavuser():\n",
    "    print(user[10])"
   ]
  },
  {
   "cell_type": "code",
   "execution_count": 27,
   "metadata": {},
   "outputs": [
    {
     "name": "stdout",
     "output_type": "stream",
     "text": [
      "{'id': 11, 'first_name': 'Orsola', 'last_name': 'Phlipon', 'email': 'ophlipona@yandex.ru', 'gender': 'Female', 'ip_address': '212.12.76.35', 'salary': 121529}\n"
     ]
    }
   ],
   "source": [
    "# user = users.get_users()\n",
    "# print(user[10])\n",
    "myfavuser()"
   ]
  },
  {
   "cell_type": "code",
   "execution_count": 2,
   "metadata": {},
   "outputs": [
    {
     "name": "stdout",
     "output_type": "stream",
     "text": [
      "Please select operation -\n",
      "1. Add\n",
      "2. Subtract\n",
      "3. Multiply\n",
      "4. Divide\n",
      "\n",
      "Select operations form 1, 2, 3, 4 :4\n",
      "Enter first number: 20\n",
      "Enter second number: 30\n",
      "20 / 30 = 0.6666666666666666\n"
     ]
    },
    {
     "data": {
      "text/plain": [
       "<module 'Calculator' from 'c:\\\\Sidhartha\\\\MLCourse\\\\Training\\\\Day_3\\\\Calculator.py'>"
      ]
     },
     "execution_count": 2,
     "metadata": {},
     "output_type": "execute_result"
    }
   ],
   "source": [
    "import Calculator as cal\n",
    "cal"
   ]
  },
  {
   "cell_type": "code",
   "execution_count": 1,
   "metadata": {},
   "outputs": [
    {
     "name": "stdout",
     "output_type": "stream",
     "text": [
      "Jack Frost\n",
      "=+=+=+=+=+=+=+=+=+=+=+=+=+=+=+=+=+=+=+=\n",
      "Average marks of Jack Frost is : 72.79 \n",
      "Letter Grade of Jack Frost is : C\n",
      "\n",
      "James Potter\n",
      "=+=+=+=+=+=+=+=+=+=+=+=+=+=+=+=+=+=+=+=\n",
      "Average marks of James Potter is : 75.962 \n",
      "Letter Grade of James Potter is : C\n",
      "\n",
      "Dylan Rhodes\n",
      "=+=+=+=+=+=+=+=+=+=+=+=+=+=+=+=+=+=+=+=\n",
      "Average marks of Dylan Rhodes is : 75.775 \n",
      "Letter Grade of Dylan Rhodes is : C\n",
      "\n",
      "Jessica Stone\n",
      "=+=+=+=+=+=+=+=+=+=+=+=+=+=+=+=+=+=+=+=\n",
      "Average marks of Jessica Stone is : 48.356 \n",
      "Letter Grade of Jessica Stone is : E\n",
      "\n",
      "Tom Hanks\n",
      "=+=+=+=+=+=+=+=+=+=+=+=+=+=+=+=+=+=+=+=\n",
      "Average marks of Tom Hanks is : 57.26 \n",
      "Letter Grade of Tom Hanks is : E\n",
      "\n",
      "Class Average is 72.79\n",
      "Letter Grade of the class is C \n"
     ]
    }
   ],
   "source": [
    "import GradeCalculator as grCal\n",
    "grCal.GradeCalculator()"
   ]
  },
  {
   "cell_type": "markdown",
   "metadata": {},
   "source": [
    "## Naming a Module\n",
    "You can name the module file whatever you like, but it must have the file extension .py\n",
    "\n",
    "### Re-naming a Module\n",
    "You can create an alias when you import a module, by using the as keyword:"
   ]
  },
  {
   "cell_type": "code",
   "execution_count": 16,
   "metadata": {},
   "outputs": [
    {
     "name": "stdout",
     "output_type": "stream",
     "text": [
      "Customer name is:  John\n"
     ]
    }
   ],
   "source": [
    "import myModule as mx\n",
    "\n",
    "name = mx.person1[\"name\"]\n",
    "print(\"Customer name is: \",name)"
   ]
  },
  {
   "cell_type": "markdown",
   "metadata": {},
   "source": [
    "## Built-in Modules\n",
    "There are several built-in modules in Python, which you can import whenever you like.\n",
    " - OS Module\n",
    " - Sys Module\n",
    " - Math Module\n",
    " - Statistic Module\n",
    " - Collection Module\n",
    " - Random Module"
   ]
  },
  {
   "cell_type": "markdown",
   "metadata": {},
   "source": [
    "### Using the dir() Function\n",
    "There is a built-in function to list all the function names (or variable names) in a module. The dir() function:"
   ]
  },
  {
   "cell_type": "code",
   "execution_count": 6,
   "metadata": {
    "scrolled": true
   },
   "outputs": [
    {
     "name": "stdout",
     "output_type": "stream",
     "text": [
      "['_Processor', '_WIN32_CLIENT_RELEASES', '_WIN32_SERVER_RELEASES', '__builtins__', '__cached__', '__copyright__', '__doc__', '__file__', '__loader__', '__name__', '__package__', '__spec__', '__version__', '_comparable_version', '_component_re', '_default_architecture', '_follow_symlinks', '_get_machine_win32', '_ironpython26_sys_version_parser', '_ironpython_sys_version_parser', '_java_getprop', '_libc_search', '_mac_ver_xml', '_node', '_norm_version', '_platform', '_platform_cache', '_pypy_sys_version_parser', '_sys_version', '_sys_version_cache', '_sys_version_parser', '_syscmd_file', '_syscmd_ver', '_uname_cache', '_unknown_as_blank', '_ver_output', '_ver_stages', 'architecture', 'collections', 'functools', 'itertools', 'java_ver', 'libc_ver', 'mac_ver', 'machine', 'node', 'os', 'platform', 'processor', 'python_branch', 'python_build', 'python_compiler', 'python_implementation', 'python_revision', 'python_version', 'python_version_tuple', 're', 'release', 'subprocess', 'sys', 'system', 'system_alias', 'uname', 'uname_result', 'version', 'win32_edition', 'win32_is_iot', 'win32_ver']\n"
     ]
    }
   ],
   "source": [
    "import platform\n",
    "\n",
    "x = dir(platform)\n",
    "print(x)"
   ]
  },
  {
   "cell_type": "markdown",
   "metadata": {},
   "source": [
    "## To list all installed module in python"
   ]
  },
  {
   "cell_type": "code",
   "execution_count": null,
   "metadata": {},
   "outputs": [],
   "source": [
    "sorted([\"%s==%s\" % (i.key, i.version) for i in pip.get_installed_distributions()])"
   ]
  },
  {
   "cell_type": "code",
   "execution_count": null,
   "metadata": {},
   "outputs": [],
   "source": [
    "!pip list"
   ]
  },
  {
   "cell_type": "markdown",
   "metadata": {},
   "source": [
    "## Python - Packages\n",
    "* Package is a directory of modules.\n",
    "* If your Python solution offers a large set of functionalities that are grouped into module files then you can create a package out of your modules to better distribute and manage your modules.\n",
    "* Packages enable us to organise our modules better which help us in resolving issues and finding modules easier.\n",
    "* Third-party packages can be imported into your code such as pandas/sci-kit learn and tensor flow to name a few.\n",
    "* A package can contain a large number of modules.\n",
    "* If our solution offers similar functionality then we can group the modules into a package:\n",
    "\n",
    "```\n",
    "from packageroot.packagefolder.mod import my_object\n",
    "```\n",
    "* In the example above, `packageroot` is the root folder. `packagefolder` is the subfolder under `packageroot`. `my_module` is a module python file in the `packagefolder` folder.\n",
    "* Additionally, the name of the folder can serve as the namespace e.g.\n",
    "\n",
    "**Note**: Ensure each directory within your package import contains a file ```__init__.py```.\n",
    "Feel free to leave the files blank. As ```__init__.py``` files are imported before the modules are imported, you can add custom logic such as start service status checks or to open database connections etc.\n",
    "\n",
    "Consider a sound package, the way organise your Python code creates awesome packages.\n",
    "\n",
    "```\n",
    "sound/                        Top-level package\n",
    "    __init__.py               Initialise the sound package\n",
    "formats/                      Sub-package for file format\n",
    "    __init__.py\n",
    "    wavread.py\n",
    "    wavwrite.py\n",
    "    aiffread.py\n",
    "    ...\n",
    "effects/                      Sub-package for sound effects\n",
    "    __init__.py\n",
    "    echo.py\n",
    "    surround.py\n",
    "    reverse.py\n",
    "    ...\n",
    "filters/                      Sub-package for filters\n",
    "    __init__.py\n",
    "    equalizer.py\n",
    "    vocoder.py\n",
    "    karaoke.py\n",
    "    ...\n",
    "```"
   ]
  },
  {
   "cell_type": "code",
   "execution_count": null,
   "metadata": {},
   "outputs": [],
   "source": []
  },
  {
   "cell_type": "markdown",
   "metadata": {},
   "source": [
    "## Importance Libraries for Data Science\n",
    "* **numpy** - Efficient N-dimentional arrays, linear algebra, random number capabilities\n",
    "* **Scipy** - Scientific computing tools like calculus, signal processing\n",
    "* **Pandas** - Data reading (multiple format), manipulation and clearning in Python\n",
    "* **Matplotlib** - Fundamental library for data visualization in Python\n",
    "* **Seaborn** - Built on top of Matplotlib, it provides a high-level interface or drawing attractive and informative charts\n",
    "* **Statsmodel** - statistial models, statistical tests, statistical data exploration\n",
    "* **Scikit-Learn** - Basic data preprocessing, Machine Learning library"
   ]
  }
 ],
 "metadata": {
  "kernelspec": {
   "display_name": "Python 3 (ipykernel)",
   "language": "python",
   "name": "python3"
  },
  "language_info": {
   "codemirror_mode": {
    "name": "ipython",
    "version": 3
   },
   "file_extension": ".py",
   "mimetype": "text/x-python",
   "name": "python",
   "nbconvert_exporter": "python",
   "pygments_lexer": "ipython3",
   "version": "3.9.0"
  }
 },
 "nbformat": 4,
 "nbformat_minor": 2
}
