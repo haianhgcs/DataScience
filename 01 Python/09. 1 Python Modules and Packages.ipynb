{
 "cells": [
  {
   "cell_type": "markdown",
   "metadata": {},
   "source": [
    "# Python Modules and Packages"
   ]
  },
  {
   "cell_type": "markdown",
   "metadata": {},
   "source": [
    "A module is a file containing Python definitions and statements. A module can define functions, classes, and variables. A module can also include runnable code. Grouping related code into a module makes the code easier to understand and use. It also makes the code logically organized."
   ]
  },
  {
   "cell_type": "code",
   "execution_count": 1,
   "metadata": {},
   "outputs": [
    {
     "name": "stdout",
     "output_type": "stream",
     "text": [
      "12\n",
      "8\n"
     ]
    }
   ],
   "source": [
    "# importing  module calc.py\n",
    "import calc\n",
    " \n",
    "print(calc.add(10, 2))\n",
    "print(calc.subtract(10,2))"
   ]
  },
  {
   "cell_type": "markdown",
   "metadata": {},
   "source": [
    "### The from import *  Statement\n",
    "The * symbol used with the from import the statement is used to import all the names from a module to a current namespace.\n",
    "\n",
    "#### Syntax:\n",
    "- from module_name import *"
   ]
  },
  {
   "cell_type": "markdown",
   "metadata": {},
   "source": [
    "## Variables in Module\n",
    "The module can contain functions, as already described, but also variables of all types (arrays, dictionaries, objects etc):"
   ]
  },
  {
   "cell_type": "code",
   "execution_count": 2,
   "metadata": {},
   "outputs": [
    {
     "name": "stdout",
     "output_type": "stream",
     "text": [
      "36\n"
     ]
    }
   ],
   "source": [
    "import myModule\n",
    "\n",
    "age = myModule.person1[\"age\"]\n",
    "print(age)"
   ]
  },
  {
   "cell_type": "code",
   "execution_count": 3,
   "metadata": {},
   "outputs": [
    {
     "name": "stdout",
     "output_type": "stream",
     "text": [
      "{'name': 'John', 'age': 36, 'country': 'Norway'}\n"
     ]
    }
   ],
   "source": [
    "print(myModule.person1)"
   ]
  },
  {
   "cell_type": "code",
   "execution_count": 5,
   "metadata": {},
   "outputs": [],
   "source": [
    "import users\n",
    "def myfavuser():\n",
    "    print(user[10])"
   ]
  },
  {
   "cell_type": "code",
   "execution_count": 27,
   "metadata": {},
   "outputs": [
    {
     "name": "stdout",
     "output_type": "stream",
     "text": [
      "{'id': 11, 'first_name': 'Orsola', 'last_name': 'Phlipon', 'email': 'ophlipona@yandex.ru', 'gender': 'Female', 'ip_address': '212.12.76.35', 'salary': 121529}\n"
     ]
    }
   ],
   "source": [
    "# user = users.get_users()\n",
    "# print(user[10])\n",
    "myfavuser()"
   ]
  },
  {
   "cell_type": "code",
   "execution_count": 2,
   "metadata": {},
   "outputs": [
    {
     "name": "stdout",
     "output_type": "stream",
     "text": [
      "Please select operation -\n",
      "1. Add\n",
      "2. Subtract\n",
      "3. Multiply\n",
      "4. Divide\n",
      "\n",
      "Select operations form 1, 2, 3, 4 :4\n",
      "Enter first number: 20\n",
      "Enter second number: 30\n",
      "20 / 30 = 0.6666666666666666\n"
     ]
    },
    {
     "data": {
      "text/plain": [
       "<module 'Calculator' from 'c:\\\\Sidhartha\\\\MLCourse\\\\Training\\\\Day_3\\\\Calculator.py'>"
      ]
     },
     "execution_count": 2,
     "metadata": {},
     "output_type": "execute_result"
    }
   ],
   "source": [
    "import Calculator as cal\n",
    "cal"
   ]
  },
  {
   "cell_type": "code",
   "execution_count": 1,
   "metadata": {},
   "outputs": [
    {
     "name": "stdout",
     "output_type": "stream",
     "text": [
      "Jack Frost\n",
      "=+=+=+=+=+=+=+=+=+=+=+=+=+=+=+=+=+=+=+=\n",
      "Average marks of Jack Frost is : 72.79 \n",
      "Letter Grade of Jack Frost is : C\n",
      "\n",
      "James Potter\n",
      "=+=+=+=+=+=+=+=+=+=+=+=+=+=+=+=+=+=+=+=\n",
      "Average marks of James Potter is : 75.962 \n",
      "Letter Grade of James Potter is : C\n",
      "\n",
      "Dylan Rhodes\n",
      "=+=+=+=+=+=+=+=+=+=+=+=+=+=+=+=+=+=+=+=\n",
      "Average marks of Dylan Rhodes is : 75.775 \n",
      "Letter Grade of Dylan Rhodes is : C\n",
      "\n",
      "Jessica Stone\n",
      "=+=+=+=+=+=+=+=+=+=+=+=+=+=+=+=+=+=+=+=\n",
      "Average marks of Jessica Stone is : 48.356 \n",
      "Letter Grade of Jessica Stone is : E\n",
      "\n",
      "Tom Hanks\n",
      "=+=+=+=+=+=+=+=+=+=+=+=+=+=+=+=+=+=+=+=\n",
      "Average marks of Tom Hanks is : 57.26 \n",
      "Letter Grade of Tom Hanks is : E\n",
      "\n",
      "Class Average is 72.79\n",
      "Letter Grade of the class is C \n"
     ]
    }
   ],
   "source": [
    "import GradeCalculator as grCal\n",
    "grCal.GradeCalculator()"
   ]
  },
  {
   "cell_type": "markdown",
   "metadata": {},
   "source": [
    "## Naming a Module\n",
    "You can name the module file whatever you like, but it must have the file extension .py\n",
    "\n",
    "### Re-naming a Module\n",
    "You can create an alias when you import a module, by using the as keyword:"
   ]
  },
  {
   "cell_type": "code",
   "execution_count": 16,
   "metadata": {},
   "outputs": [
    {
     "name": "stdout",
     "output_type": "stream",
     "text": [
      "Customer name is:  John\n"
     ]
    }
   ],
   "source": [
    "import myModule as mx\n",
    "\n",
    "name = mx.person1[\"name\"]\n",
    "print(\"Customer name is: \",name)"
   ]
  },
  {
   "cell_type": "markdown",
   "metadata": {},
   "source": [
    "## Built-in Modules\n",
    "There are several built-in modules in Python, which you can import whenever you like.\n",
    " - OS Module\n",
    " - Sys Module\n",
    " - Math Module\n",
    " - Statistic Module\n",
    " - Collection Module\n",
    " - Random Module"
   ]
  },
  {
   "cell_type": "markdown",
   "metadata": {},
   "source": [
    "### Using the dir() Function\n",
    "There is a built-in function to list all the function names (or variable names) in a module. The dir() function:"
   ]
  },
  {
   "cell_type": "code",
   "execution_count": 6,
   "metadata": {},
   "outputs": [
    {
     "name": "stdout",
     "output_type": "stream",
     "text": [
      "['_Processor', '_WIN32_CLIENT_RELEASES', '_WIN32_SERVER_RELEASES', '__builtins__', '__cached__', '__copyright__', '__doc__', '__file__', '__loader__', '__name__', '__package__', '__spec__', '__version__', '_comparable_version', '_component_re', '_default_architecture', '_follow_symlinks', '_get_machine_win32', '_ironpython26_sys_version_parser', '_ironpython_sys_version_parser', '_java_getprop', '_libc_search', '_mac_ver_xml', '_node', '_norm_version', '_platform', '_platform_cache', '_pypy_sys_version_parser', '_sys_version', '_sys_version_cache', '_sys_version_parser', '_syscmd_file', '_syscmd_ver', '_uname_cache', '_unknown_as_blank', '_ver_output', '_ver_stages', 'architecture', 'collections', 'functools', 'itertools', 'java_ver', 'libc_ver', 'mac_ver', 'machine', 'node', 'os', 'platform', 'processor', 'python_branch', 'python_build', 'python_compiler', 'python_implementation', 'python_revision', 'python_version', 'python_version_tuple', 're', 'release', 'subprocess', 'sys', 'system', 'system_alias', 'uname', 'uname_result', 'version', 'win32_edition', 'win32_is_iot', 'win32_ver']\n"
     ]
    }
   ],
   "source": [
    "import platform\n",
    "\n",
    "x = dir(platform)\n",
    "print(x)"
   ]
  },
  {
   "cell_type": "markdown",
   "metadata": {},
   "source": [
    "## Python - Packages"
   ]
  },
  {
   "cell_type": "code",
   "execution_count": null,
   "metadata": {},
   "outputs": [],
   "source": []
  },
  {
   "cell_type": "markdown",
   "metadata": {},
   "source": [
    "## Importance Libraries for Data Science\n",
    "* **numpy** - Efficient N-dimentional arrays, linear algebra, random number capabilities\n",
    "* **Scipy** - Scientific computing tools like calculus, signal processing\n",
    "* **Pandas** - Data reading (multiple format), manipulation and clearning in Python\n",
    "* **Matplotlib** - Fundamental library for data visualization in Python\n",
    "* **Seaborn** - Built on top of Matplotlib, it provides a high-level interface or drawing attractive and informative charts\n",
    "* **Statsmodel** - statistial models, statistical tests, statistical data exploration\n",
    "* **Scikit-Learn** - Basic data preprocessing, Machine Learning library"
   ]
  }
 ],
 "metadata": {
  "kernelspec": {
   "display_name": "Python 3 (ipykernel)",
   "language": "python",
   "name": "python3"
  },
  "language_info": {
   "codemirror_mode": {
    "name": "ipython",
    "version": 3
   },
   "file_extension": ".py",
   "mimetype": "text/x-python",
   "name": "python",
   "nbconvert_exporter": "python",
   "pygments_lexer": "ipython3",
   "version": "3.9.7"
  }
 },
 "nbformat": 4,
 "nbformat_minor": 2
}
