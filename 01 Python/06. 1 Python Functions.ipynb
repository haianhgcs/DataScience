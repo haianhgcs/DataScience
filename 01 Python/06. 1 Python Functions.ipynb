{
 "cells": [
  {
   "cell_type": "markdown",
   "metadata": {},
   "source": [
    "# Python Functions"
   ]
  },
  {
   "cell_type": "markdown",
   "metadata": {},
   "source": [
    "- A function is a block of code which only runs when it is called.\n",
    "- You can pass data, known as parameters, into a function.\n",
    "- A function can return data as a result."
   ]
  },
  {
   "cell_type": "markdown",
   "metadata": {},
   "source": [
    "## Creating a Function\n",
    "In Python a function is defined using the **def** keyword:"
   ]
  },
  {
   "cell_type": "code",
   "execution_count": 1,
   "metadata": {},
   "outputs": [],
   "source": [
    "def my_function():\n",
    "    print(\"Hello from a function\")"
   ]
  },
  {
   "cell_type": "markdown",
   "metadata": {},
   "source": [
    "## Pure Functions\n",
    "As Discussed above, pure functions have two properties.\n",
    "\n",
    "- It always produces the same output for the same arguments. For example, 3+7 will always be 10 no matter what.\n",
    "- It does not change or modifies the input variable."
   ]
  },
  {
   "cell_type": "code",
   "execution_count": 6,
   "metadata": {},
   "outputs": [
    {
     "name": "stdout",
     "output_type": "stream",
     "text": [
      "Original List: [1, 2, 3, 4]\n",
      "Modified List: [1, 4, 9, 16]\n"
     ]
    }
   ],
   "source": [
    "# Function defined to square the passing values\n",
    "def square_num(List):\n",
    "      \n",
    "    New_List = []\n",
    "      \n",
    "    for i in List:\n",
    "        New_List.append(i**2)\n",
    "          \n",
    "    return New_List\n",
    "      \n",
    "# Input Data\n",
    "Original_List = [1, 2, 3, 4]\n",
    "Modified_List = square_num(Original_List)\n",
    "  \n",
    "# Output Data\n",
    "print(\"Original List:\", Original_List)\n",
    "print(\"Modified List:\", Modified_List)"
   ]
  },
  {
   "cell_type": "markdown",
   "metadata": {},
   "source": [
    "## Calling a Function\n",
    "To call a function, use the function name followed by parenthesis:"
   ]
  },
  {
   "cell_type": "code",
   "execution_count": 2,
   "metadata": {},
   "outputs": [
    {
     "name": "stdout",
     "output_type": "stream",
     "text": [
      "Hello from a function\n"
     ]
    }
   ],
   "source": [
    "# Calling above function\n",
    "my_function()"
   ]
  },
  {
   "cell_type": "markdown",
   "metadata": {},
   "source": [
    "## Arguments\n",
    "- Information can be passed into functions as arguments.\n",
    "- Arguments are specified after the function name, inside the parentheses. You can add as many arguments as you want, just separate them with a comma.\n",
    "- Arguments are often shortened to args in Python documentations."
   ]
  },
  {
   "cell_type": "code",
   "execution_count": 3,
   "metadata": {},
   "outputs": [
    {
     "name": "stdout",
     "output_type": "stream",
     "text": [
      "Emil Refsnes\n",
      "Tobias Refsnes\n",
      "Linus Refsnes\n"
     ]
    }
   ],
   "source": [
    "def my_function(fname):\n",
    "    print(fname + \" Refsnes\")\n",
    "\n",
    "my_function(\"Emil\")\n",
    "my_function(\"Tobias\")\n",
    "my_function(\"Linus\")"
   ]
  },
  {
   "cell_type": "markdown",
   "metadata": {},
   "source": [
    "## Parameters or Arguments?\n",
    "The terms parameter and argument can be used for the same thing: information that are passed into a function.\n",
    "- From a function's perspective:\n",
    "    - A parameter is the variable listed inside the parentheses in the function definition.\n",
    "    - An argument is the value that is sent to the function when it is called."
   ]
  },
  {
   "cell_type": "markdown",
   "metadata": {},
   "source": [
    "### Number of Arguments\n",
    "- By default, a function must be called with the correct number of arguments. \n",
    "- Meaning that if your function expects 2 arguments, you have to call the function with 2 arguments, not more, and not less."
   ]
  },
  {
   "cell_type": "code",
   "execution_count": 6,
   "metadata": {},
   "outputs": [
    {
     "ename": "TypeError",
     "evalue": "my_function() missing 1 required positional argument: 'lname'",
     "output_type": "error",
     "traceback": [
      "\u001b[1;31m---------------------------------------------------------------------------\u001b[0m",
      "\u001b[1;31mTypeError\u001b[0m                                 Traceback (most recent call last)",
      "\u001b[1;32m<ipython-input-6-916085607854>\u001b[0m in \u001b[0;36m<module>\u001b[1;34m\u001b[0m\n\u001b[0;32m      3\u001b[0m     \u001b[0mprint\u001b[0m\u001b[1;33m(\u001b[0m\u001b[0mfname\u001b[0m \u001b[1;33m+\u001b[0m \u001b[1;34m\" \"\u001b[0m \u001b[1;33m+\u001b[0m \u001b[0mlname\u001b[0m\u001b[1;33m)\u001b[0m\u001b[1;33m\u001b[0m\u001b[1;33m\u001b[0m\u001b[0m\n\u001b[0;32m      4\u001b[0m \u001b[1;33m\u001b[0m\u001b[0m\n\u001b[1;32m----> 5\u001b[1;33m \u001b[0mmy_function\u001b[0m\u001b[1;33m(\u001b[0m\u001b[1;34m\"Emil\"\u001b[0m\u001b[1;33m)\u001b[0m\u001b[1;33m\u001b[0m\u001b[1;33m\u001b[0m\u001b[0m\n\u001b[0m",
      "\u001b[1;31mTypeError\u001b[0m: my_function() missing 1 required positional argument: 'lname'"
     ]
    }
   ],
   "source": [
    "# This function expect 2 arguments but passing one. So error occured\n",
    "def my_function(fname, lname):\n",
    "    print(fname + \" \" + lname)\n",
    "\n",
    "my_function(\"Emil\")"
   ]
  },
  {
   "cell_type": "code",
   "execution_count": 5,
   "metadata": {},
   "outputs": [
    {
     "name": "stdout",
     "output_type": "stream",
     "text": [
      "Emil Refsnes\n"
     ]
    }
   ],
   "source": [
    "# This function expects 2 arguments, and gets 2 arguments:\n",
    "def my_function(fname, lname):\n",
    "    print(fname + \" \" + lname)\n",
    "\n",
    "my_function(\"Emil\", \"Refsnes\")"
   ]
  },
  {
   "cell_type": "markdown",
   "metadata": {},
   "source": [
    "---\n",
    "\n",
    "## `POSITIONAL ARGUMENTS`\n",
    "\n",
    "***Most arguments are identified by their position in the function call. `print(a,b)` will give different results from `print(b,a)`***\n",
    "\n",
    "---"
   ]
  },
  {
   "cell_type": "code",
   "execution_count": 9,
   "metadata": {},
   "outputs": [],
   "source": [
    "def math_functions(small_number, large_number):\n",
    "    \n",
    "    difference = large_number - small_number\n",
    "    return difference"
   ]
  },
  {
   "cell_type": "code",
   "execution_count": 10,
   "metadata": {},
   "outputs": [
    {
     "data": {
      "text/plain": [
       "12"
      ]
     },
     "execution_count": 10,
     "metadata": {},
     "output_type": "execute_result"
    }
   ],
   "source": [
    "math_functions(4,16)"
   ]
  },
  {
   "cell_type": "code",
   "execution_count": 11,
   "metadata": {},
   "outputs": [
    {
     "data": {
      "text/plain": [
       "-12"
      ]
     },
     "execution_count": 11,
     "metadata": {},
     "output_type": "execute_result"
    }
   ],
   "source": [
    "math_functions(16,4)"
   ]
  },
  {
   "cell_type": "markdown",
   "metadata": {},
   "source": [
    "## Arbitrary Arguments, *args\n",
    "\n",
    "- If you do not know how many arguments that will be passed into your function, add a * before the parameter name in the function definition.\n",
    "- Arbitrary Arguments are often shortened to ***args** in Python documentations.\n",
    "- This way the function will receive a tuple of arguments, and can access the items accordingly:"
   ]
  },
  {
   "cell_type": "code",
   "execution_count": 7,
   "metadata": {},
   "outputs": [
    {
     "name": "stdout",
     "output_type": "stream",
     "text": [
      "The youngest child is Linus\n"
     ]
    }
   ],
   "source": [
    "# If the number of arguments is unknown, add a * before the parameter name\n",
    "def my_function(*kids):\n",
    "    print(\"The youngest child is \" + kids[2])\n",
    "\n",
    "my_function(\"Emil\", \"Tobias\", \"Linus\")"
   ]
  },
  {
   "cell_type": "markdown",
   "metadata": {},
   "source": [
    "## Keyword Arguments\n",
    "- You can also send arguments with the key = value syntax. This way the order of the arguments does not matter.\n",
    "- The phrase Keyword Arguments are often shortened to kwargs in Python documentations."
   ]
  },
  {
   "cell_type": "code",
   "execution_count": 8,
   "metadata": {},
   "outputs": [
    {
     "name": "stdout",
     "output_type": "stream",
     "text": [
      "The youngest child is Linus\n"
     ]
    }
   ],
   "source": [
    "def my_function(child3, child2, child1):\n",
    "    print(\"The youngest child is \" + child3)\n",
    "\n",
    "my_function(child1 = \"Emil\", child2 = \"Tobias\", child3 = \"Linus\")"
   ]
  },
  {
   "cell_type": "markdown",
   "metadata": {},
   "source": [
    "## Arbitrary Keyword Arguments, **kwargs\n",
    "- If you do not know how many keyword arguments that will be passed into your function, add two asterisk: ** before the parameter name in the function definition.\n",
    "- If the number of keyword arguments is unknown, add a double ** before the parameter name:\n",
    "- This way the function will receive a dictionary of arguments, and can access the items accordingly:"
   ]
  },
  {
   "cell_type": "code",
   "execution_count": 9,
   "metadata": {
    "scrolled": true
   },
   "outputs": [
    {
     "name": "stdout",
     "output_type": "stream",
     "text": [
      "His last name is Refsnes\n"
     ]
    }
   ],
   "source": [
    "def my_function(**kid):\n",
    "    print(\"His last name is \" + kid[\"lname\"])\n",
    "\n",
    "my_function(fname = \"Tobias\", lname = \"Refsnes\")"
   ]
  },
  {
   "cell_type": "markdown",
   "metadata": {},
   "source": [
    "***In Python, we cannot first define keyword argument and then positional arguments***\n",
    "\n",
    "---"
   ]
  },
  {
   "cell_type": "code",
   "execution_count": 12,
   "metadata": {
    "scrolled": true
   },
   "outputs": [
    {
     "ename": "SyntaxError",
     "evalue": "positional argument follows keyword argument (Temp/ipykernel_20468/876686185.py, line 1)",
     "output_type": "error",
     "traceback": [
      "\u001b[1;36m  File \u001b[1;32m\"C:\\Users\\ANHNGU~1\\AppData\\Local\\Temp/ipykernel_20468/876686185.py\"\u001b[1;36m, line \u001b[1;32m1\u001b[0m\n\u001b[1;33m    math_functions(small_number= 4, 16)\u001b[0m\n\u001b[1;37m                                      ^\u001b[0m\n\u001b[1;31mSyntaxError\u001b[0m\u001b[1;31m:\u001b[0m positional argument follows keyword argument\n"
     ]
    }
   ],
   "source": [
    "math_functions(small_number= 4, 16)"
   ]
  },
  {
   "cell_type": "markdown",
   "metadata": {},
   "source": [
    "***In Python, we always define positional arguments before the keyword arguments***\n",
    "\n",
    "---"
   ]
  },
  {
   "cell_type": "code",
   "execution_count": 13,
   "metadata": {},
   "outputs": [
    {
     "data": {
      "text/plain": [
       "12"
      ]
     },
     "execution_count": 13,
     "metadata": {},
     "output_type": "execute_result"
    }
   ],
   "source": [
    "math_functions(4,large_number= 16)"
   ]
  },
  {
   "cell_type": "markdown",
   "metadata": {},
   "source": [
    "## Default Parameter Value\n",
    "If we call the function without argument, it uses the default value."
   ]
  },
  {
   "cell_type": "code",
   "execution_count": 10,
   "metadata": {},
   "outputs": [
    {
     "name": "stdout",
     "output_type": "stream",
     "text": [
      "I am from Sweden\n",
      "I am from India\n",
      "I am from Norway\n",
      "I am from Brazil\n"
     ]
    }
   ],
   "source": [
    "# The following example shows how to use a default parameter value.\n",
    "def my_function(country = \"Norway\"):\n",
    "    print(\"I am from \" + country)\n",
    "\n",
    "my_function(\"Sweden\")\n",
    "my_function(\"India\")\n",
    "my_function()\n",
    "my_function(\"Brazil\")"
   ]
  },
  {
   "cell_type": "markdown",
   "metadata": {},
   "source": [
    "## Passing a List as an Argument\n",
    "You can send any data types of argument to a function (string, number, list, dictionary etc.), and it will be treated as the same data type inside the function."
   ]
  },
  {
   "cell_type": "code",
   "execution_count": 11,
   "metadata": {},
   "outputs": [
    {
     "name": "stdout",
     "output_type": "stream",
     "text": [
      "apple\n",
      "banana\n",
      "cherry\n"
     ]
    }
   ],
   "source": [
    "# if you send a List as an argument, it will still be a List when it reaches the function:\n",
    "def my_function(food):\n",
    "    for x in food:\n",
    "        print(x)\n",
    "\n",
    "fruits = [\"apple\", \"banana\", \"cherry\"]\n",
    "\n",
    "my_function(fruits)"
   ]
  },
  {
   "cell_type": "markdown",
   "metadata": {},
   "source": [
    "## Return Values\n",
    "To let a function return a value, use the return statement."
   ]
  },
  {
   "cell_type": "code",
   "execution_count": 13,
   "metadata": {},
   "outputs": [
    {
     "name": "stdout",
     "output_type": "stream",
     "text": [
      "Total number is:  15\n",
      "Total number is:  25\n",
      "Total number is:  45\n"
     ]
    }
   ],
   "source": [
    "def my_function(x):\n",
    "    return 5 * x\n",
    "\n",
    "print('Total number is: ', my_function(3))\n",
    "print('Total number is: ', my_function(5))\n",
    "print('Total number is: ', my_function(9))"
   ]
  },
  {
   "cell_type": "markdown",
   "metadata": {},
   "source": [
    "The statements after the `return statements` are not executed."
   ]
  },
  {
   "cell_type": "code",
   "execution_count": 7,
   "metadata": {},
   "outputs": [
    {
     "name": "stdout",
     "output_type": "stream",
     "text": [
      "Sum of 3 and 4 is: 7\n"
     ]
    }
   ],
   "source": [
    "def add_two_numbers():\n",
    "    # add two numbers 3 and 4\n",
    "    total = 3 + 4\n",
    "    \n",
    "    # print the total\n",
    "    print(\"Sum of 3 and 4 is:\", total)\n",
    "    \n",
    "add_two_numbers()"
   ]
  },
  {
   "cell_type": "code",
   "execution_count": 8,
   "metadata": {},
   "outputs": [
    {
     "name": "stdout",
     "output_type": "stream",
     "text": [
      "Sum of 3 and 4 is: 7\n"
     ]
    },
    {
     "data": {
      "text/plain": [
       "7"
      ]
     },
     "execution_count": 8,
     "metadata": {},
     "output_type": "execute_result"
    }
   ],
   "source": [
    "def add_two_numbers_with_return():\n",
    "    # add two numbers 3 and 4\n",
    "    total = 3 + 4\n",
    "    \n",
    "    # print the total\n",
    "    print(\"Sum of 3 and 4 is:\", total)\n",
    "    \n",
    "    # return the value of total\n",
    "    return total\n",
    "add_two_numbers_with_return()"
   ]
  },
  {
   "cell_type": "markdown",
   "metadata": {},
   "source": [
    "## The pass Statement\n",
    "**function** definitions cannot be empty, but if you for some reason have a function definition with no content, put in the pass statement to avoid getting an error."
   ]
  },
  {
   "cell_type": "code",
   "execution_count": 14,
   "metadata": {},
   "outputs": [],
   "source": [
    "def myfunction():\n",
    "    pass"
   ]
  },
  {
   "cell_type": "markdown",
   "metadata": {},
   "source": [
    "## Recursion\n",
    "- During functional programming, there is no concept of for loop or while loop, instead recursion is used. \n",
    "- Recursion is a process in which a function calls itself directly or indirectly. This has the benefit of meaning that you can loop through data to reach a result.\n",
    "- In the recursive program, the solution to the base case is provided and the solution to the bigger problem is expressed in terms of smaller problems. \n",
    "- A question may arise what is base case? The base case can be considered as a condition that tells the compiler or interpreter to exits from the function.\n",
    "\n",
    "### `Advantages of Recursion`\n",
    "\n",
    "- Reduces length of code\n",
    "- Iteration can be complex sometimes, when we have several possible random cases.\n",
    "\n",
    "### `Disadvantages of Recursion`\n",
    "\n",
    "- It uses more memory.\n",
    "- Time complexity is increases, can be slow if not implemented correctly. "
   ]
  },
  {
   "cell_type": "code",
   "execution_count": 15,
   "metadata": {},
   "outputs": [
    {
     "name": "stdout",
     "output_type": "stream",
     "text": [
      "\n",
      "\n",
      "Recursion Example Results\n",
      "1\n",
      "3\n",
      "6\n",
      "10\n",
      "15\n",
      "21\n"
     ]
    },
    {
     "data": {
      "text/plain": [
       "21"
      ]
     },
     "execution_count": 15,
     "metadata": {},
     "output_type": "execute_result"
    }
   ],
   "source": [
    "def tri_recursion(k):\n",
    "    if(k > 0):\n",
    "        result = k + tri_recursion(k - 1)\n",
    "        print(result)\n",
    "    else:\n",
    "        result = 0\n",
    "    return result\n",
    "\n",
    "print(\"\\n\\nRecursion Example Results\")\n",
    "tri_recursion(6)"
   ]
  },
  {
   "cell_type": "code",
   "execution_count": null,
   "metadata": {},
   "outputs": [],
   "source": [
    "def Sum(L, i, n, count):\n",
    "      \n",
    "    # Base case\n",
    "    if n <= i:\n",
    "        return count\n",
    "      \n",
    "    count += L[i]\n",
    "    print('Gradual Sum values: ',count)\n",
    "    # Going into the recursion\n",
    "    count = Sum(L, i + 1, n, count)\n",
    "      \n",
    "    return count\n",
    "      \n",
    "# Driver's code\n",
    "L = [1, 2, 3, 4, 5]\n",
    "count = 0\n",
    "n = len(L)\n",
    "print('\\nTotal Cumulative Value: ', Sum(L, 0, n, count))"
   ]
  },
  {
   "cell_type": "code",
   "execution_count": null,
   "metadata": {},
   "outputs": [],
   "source": [
    "def count_hand_shakes_iterative(total_persons_in_room):\n",
    "    count = 0\n",
    "    \n",
    "    for i in range(1, total_persons_in_room):\n",
    "        \n",
    "        for j in range(i+1, total_persons_in_room+1):\n",
    "            print('Hand Shake of ', i, 'and',j)\n",
    "            count = count+1\n",
    "    \n",
    "    # total handshakes\n",
    "    print('Total number of handshakes: ', count)"
   ]
  },
  {
   "cell_type": "code",
   "execution_count": 20,
   "metadata": {},
   "outputs": [
    {
     "name": "stdout",
     "output_type": "stream",
     "text": [
      "The function is called with value:  5\n",
      "The function is called with value:  4\n",
      "The function is called with value:  3\n",
      "The function is called with value:  2\n"
     ]
    },
    {
     "data": {
      "text/plain": [
       "10"
      ]
     },
     "execution_count": 20,
     "metadata": {},
     "output_type": "execute_result"
    }
   ],
   "source": [
    "# define recursive function to count handshakes\n",
    "\n",
    "def count_hand_shakes(total_persons_in_room):\n",
    "    \n",
    "    # Base Condition: When number of persons is 2 (One Handshake)\n",
    "    print(\"The function is called with value: \", total_persons_in_room)\n",
    "    if total_persons_in_room == 2:\n",
    "            return 1\n",
    "    \n",
    "    else:\n",
    "            # F(N) = F(N-1) + (N-1)\n",
    "            return count_hand_shakes(total_persons_in_room - 1) + (total_persons_in_room - 1)\n",
    "\n",
    "count_hand_shakes(5)"
   ]
  },
  {
   "cell_type": "markdown",
   "metadata": {},
   "source": [
    "### `Looping Constructs (Iterative Solution) vs Recursive Solution?`\n",
    "\n",
    "- It depends upon the task.\n",
    "- For most common programming tasks go for Iterative solution.\n",
    "- For particular tasks a recursive solution is both intuitive/simple to understand and also faster in terms of execution.\n",
    "\n",
    "\n",
    "---"
   ]
  },
  {
   "cell_type": "markdown",
   "metadata": {},
   "source": [
    "## Nested Functions (Inner Functions)\n",
    "- **Functions** are treated as first class objects. First class objects in a language are handled uniformly throughout.\n",
    "- A programming language is said to support first-class functions if it treats functions as first-class objects. Python supports the concept of First Class functions."
   ]
  },
  {
   "cell_type": "markdown",
   "metadata": {},
   "source": [
    "### Properties of first class functions:\n",
    "\n",
    "- A function is an instance of the Object type.\n",
    "- You can store the function in a variable.\n",
    "- You can pass the function as a parameter to another function.\n",
    "- You can return the function from a function.\n",
    "- You can store them in data structures such as hash tables, lists, …"
   ]
  },
  {
   "cell_type": "markdown",
   "metadata": {},
   "source": [
    "#### 1. Functions are objects:"
   ]
  },
  {
   "cell_type": "code",
   "execution_count": 22,
   "metadata": {},
   "outputs": [
    {
     "name": "stdout",
     "output_type": "stream",
     "text": [
      "HELLO\n",
      "\n",
      "shout type is :  <class 'function'> \n",
      "\n",
      "yell type is also :  <class 'function'> \n",
      "\n",
      "HELLO\n"
     ]
    }
   ],
   "source": [
    "# Python program to illustrate functions\n",
    "\n",
    "def shout(text):\n",
    "    return text.upper()\n",
    "  \n",
    "print (shout('Hello\\n'))\n",
    "\n",
    "print(\"shout type is : \", type(shout), '\\n')\n",
    "# can be treated as objects\n",
    "yell = shout\n",
    "print(\"yell type is also : \", type(yell), '\\n')\n",
    "  \n",
    "print (yell('Hello'))"
   ]
  },
  {
   "cell_type": "markdown",
   "metadata": {},
   "source": [
    "#### 2. Functions can be passed as arguments to other functions:"
   ]
  },
  {
   "cell_type": "code",
   "execution_count": 28,
   "metadata": {},
   "outputs": [
    {
     "name": "stdout",
     "output_type": "stream",
     "text": [
      "Conversion of Upper Case:\n",
      "HI, I AM CREATED BY A FUNCTION PASSED AS AN ARGUMENT.\n",
      "\n",
      "Conversion of Lower Case:\n",
      "hi, i am created by a function passed as an argument.\n",
      "\n"
     ]
    }
   ],
   "source": [
    "# Python program to illustrate functions\n",
    "def shout(text):\n",
    "    print(\"Conversion of Upper Case:\")\n",
    "    return text.upper()\n",
    "  \n",
    "def whisper(text):\n",
    "    print(\"Conversion of Lower Case:\")\n",
    "    return text.lower()\n",
    "\n",
    "# can be passed as arguments to other functions\n",
    "def greet(func):\n",
    "    # storing the function in a variable\n",
    "    greeting = func(\"\"\"Hi, I am created by a function passed as an argument.\\n\"\"\")\n",
    "    print (greeting) \n",
    "\n",
    "# Calling nested functions\n",
    "greet(shout)\n",
    "greet(whisper)"
   ]
  },
  {
   "cell_type": "markdown",
   "metadata": {},
   "source": [
    "#### 3. Functions can return another function:"
   ]
  },
  {
   "cell_type": "code",
   "execution_count": 30,
   "metadata": {},
   "outputs": [
    {
     "name": "stdout",
     "output_type": "stream",
     "text": [
      "<function create_adder.<locals>.adder at 0x000001A8F8978558>\n",
      "add_15 type is :  <class 'function'> \n",
      "\n",
      "25\n"
     ]
    }
   ],
   "source": [
    "# Python program to illustrate functions\n",
    "def create_adder(x):\n",
    "    def adder(y):\n",
    "        return x+y\n",
    "    # returning total values of X and Y\n",
    "    return adder\n",
    "\n",
    "# Functions can return another function\n",
    "add_15 = create_adder(15)\n",
    "print(\"add_15 type is : \", type(add_15), '\\n')\n",
    "  \n",
    "print (add_15(10))"
   ]
  },
  {
   "cell_type": "markdown",
   "metadata": {},
   "source": [
    "## Inner functions\n",
    "- A function which is defined inside another function is known as inner function or nested function. \n",
    "- **Nested functions** are able to access variables of the enclosing scope. \n",
    "- **Inner functions** are used so that they can be protected from everything happening outside the function. This process is also known as **Encapsulation**."
   ]
  },
  {
   "cell_type": "code",
   "execution_count": 32,
   "metadata": {},
   "outputs": [
    {
     "name": "stdout",
     "output_type": "stream",
     "text": [
      "Hello!\n"
     ]
    }
   ],
   "source": [
    "# Python program to illustrate nested functions \n",
    "def outerFunction(text): \n",
    "    text = text \n",
    "    \n",
    "    def innerFunction(): \n",
    "        print(text) \n",
    "    \n",
    "    innerFunction()\n",
    "    \n",
    "outerFunction(\"Hello!\")"
   ]
  },
  {
   "cell_type": "markdown",
   "metadata": {},
   "source": [
    "#### Observation:\n",
    "In the above example, innerFunction() has been defined inside outerFunction(), making it an inner function. To call innerFunction(), we must first call outerFunction(). The outerFunction() will then go ahead and call innerFunction() as it has been defined inside it."
   ]
  },
  {
   "cell_type": "markdown",
   "metadata": {},
   "source": [
    "## Scope of variable in nested function\n",
    "The location where we can find a variable and also access it if required is called the scope of a variable.\n",
    "- **`\"Local Variable\"`** are those which are defined inside the function and can be only accessed inside that particular function.\n",
    "- **`\"Global Variable\"`** are defined outside the function and can be accessed throughout the program.\n",
    "\n",
    "It is known how to access a global variable inside a function."
   ]
  },
  {
   "cell_type": "code",
   "execution_count": 14,
   "metadata": {},
   "outputs": [
    {
     "name": "stdout",
     "output_type": "stream",
     "text": [
      "Local varibale value but passing global varibale:  I love GeeksforGeeks\n",
      "Global varibale value:  I love GeeksforGeeks\n"
     ]
    }
   ],
   "source": [
    "# Accessing of variables of nested functions\n",
    "  \n",
    "def f1():\n",
    "    s = 'I love GeeksforGeeks' # global variable (consider with f2 function)\n",
    "      \n",
    "    def f2():\n",
    "        print(\"Local varibale value but passing global varibale: \", s)\n",
    "          \n",
    "    f2()\n",
    "    print(\"Global varibale value: \", s)\n",
    "# Calling outer function to call global variable defined as 's'\n",
    "f1()"
   ]
  },
  {
   "cell_type": "markdown",
   "metadata": {},
   "source": [
    "***So, we were able to access the value of a global variable from inside the function. Let's see what will happen if we try to change the value of global variable inside the function***\n",
    "\n",
    "---"
   ]
  },
  {
   "cell_type": "code",
   "execution_count": 15,
   "metadata": {},
   "outputs": [
    {
     "name": "stdout",
     "output_type": "stream",
     "text": [
      "Local varibale value:  Me too\n",
      "Global varibale value:  I love GeeksforGeeks\n"
     ]
    }
   ],
   "source": [
    "# Accessing of variables of nested functions\n",
    "  \n",
    "def f1():\n",
    "    s = 'I love GeeksforGeeks' # global variable (consider with f2 function)\n",
    "      \n",
    "    def f2():\n",
    "        s = 'Me too' # local variable of f2 function\n",
    "        print(\"Local varibale value: \", s)\n",
    "          \n",
    "    f2()\n",
    "    print(\"Global varibale value: \", s)\n",
    "\n",
    "# Calling outer function to call local variable first defined as 's' as inner funtion then global varibale defined outer \n",
    "f1()"
   ]
  },
  {
   "cell_type": "markdown",
   "metadata": {},
   "source": [
    "* ***So, here when we tried to change the value of the variable `\"s\"` inside the function f2 then instead of updating its value, python created another variable `(\"another local variable\")` whose scope was only limited to the function itself (f2 function).***\n",
    "* ***When we called the function, it returned the value of the local variable whereas when we directly accessed the `\"s\"` variable, it returned the value of the global variable.***\n",
    "\n",
    "#### It can be seen the value of the variable of the outer function is not changed. However, the value of the variable of the outer function can be changed (using reference type)."
   ]
  },
  {
   "cell_type": "code",
   "execution_count": 38,
   "metadata": {},
   "outputs": [
    {
     "name": "stdout",
     "output_type": "stream",
     "text": [
      "I love GeeksforGeeks\n",
      "Local varibale value:  ['Me too']\n",
      "Global varibale value:  ['Me too']\n"
     ]
    }
   ],
   "source": [
    "# Accessing of variables of nested functions\n",
    "  \n",
    "def f1():\n",
    "    s = ['I love GeeksforGeeks']\n",
    "    print(s[0])\n",
    "    def f2():\n",
    "        s[0] = 'Me too'\n",
    "        print(\"Local varibale value: \", s)\n",
    "          \n",
    "    f2()\n",
    "    print(\"Global varibale value: \", s)\n",
    "\n",
    "# Changing global variable\n",
    "f1()"
   ]
  },
  {
   "cell_type": "markdown",
   "metadata": {},
   "source": [
    "### Using nonlocal keyword - Converting Local to Global"
   ]
  },
  {
   "cell_type": "code",
   "execution_count": 42,
   "metadata": {},
   "outputs": [
    {
     "name": "stdout",
     "output_type": "stream",
     "text": [
      "Me too\n",
      "Me too\n"
     ]
    }
   ],
   "source": [
    "# Accessing of variables of nested functions\n",
    "def f1():\n",
    "    s = 'I love GeeksforGeeks'\n",
    "      \n",
    "    def f2():\n",
    "        nonlocal s\n",
    "        s = 'Me too'\n",
    "        print(s)\n",
    "          \n",
    "    f2()\n",
    "    print(s)\n",
    "\n",
    "\n",
    "f1()"
   ]
  },
  {
   "cell_type": "markdown",
   "metadata": {},
   "source": [
    "### `LET'S SEE HOW CAN WE UPDATE THE VALUE OF THE GLOBAL VARIABLE INSIDE ANY USER-DEFINED FUNCTION.`\n",
    "\n",
    "\n",
    "---\n",
    "***While defining a function, we can tell the function that these `variables are global` using the `global` keyword.***\n",
    "\n",
    "---"
   ]
  },
  {
   "cell_type": "code",
   "execution_count": 17,
   "metadata": {},
   "outputs": [
    {
     "data": {
      "text/plain": [
       "'variable inside function'"
      ]
     },
     "execution_count": 17,
     "metadata": {},
     "output_type": "execute_result"
    }
   ],
   "source": [
    "# define a global variable\n",
    "name = \"variable outside function\"\n",
    "\n",
    "def my_function():\n",
    "    # tell the function which variables are global\n",
    "    global name\n",
    "    name = \"variable inside function\"  \n",
    "    return name\n",
    "\n",
    "my_function()"
   ]
  },
  {
   "cell_type": "markdown",
   "metadata": {},
   "source": [
    "### Value can also be changed from global variables"
   ]
  },
  {
   "cell_type": "code",
   "execution_count": 43,
   "metadata": {},
   "outputs": [
    {
     "name": "stdout",
     "output_type": "stream",
     "text": [
      "Me too\n",
      "Me too\n"
     ]
    }
   ],
   "source": [
    "# Accessing of variables of nested functions\n",
    "def f1():\n",
    "    f1.s = 'I love GeeksforGeeks'\n",
    "      \n",
    "    def f2():\n",
    "        f1.s = 'Me too'\n",
    "        print(f1.s)\n",
    "          \n",
    "    f2()\n",
    "    print(f1.s)\n",
    "\n",
    "\n",
    "f1()"
   ]
  },
  {
   "cell_type": "markdown",
   "metadata": {},
   "source": [
    "## Final Program"
   ]
  },
  {
   "cell_type": "code",
   "execution_count": 5,
   "metadata": {},
   "outputs": [
    {
     "name": "stdout",
     "output_type": "stream",
     "text": [
      "6\n",
      "9\n",
      "5\n",
      "10\n"
     ]
    }
   ],
   "source": [
    "import logging \n",
    "logging.basicConfig(filename ='./log/example.log', level = logging.INFO) \n",
    "    \n",
    "    \n",
    "def logger(func): \n",
    "    def log_func(*args): \n",
    "        logging.info( \n",
    "            'Running \"{}\" with arguments {}'.format(func.__name__, args)) \n",
    "        print(func(*args)) \n",
    "    # Necessary for closure to work (returning WITHOUT parenthesis) \n",
    "    return log_func               \n",
    "    \n",
    "def add(x, y): \n",
    "    return x + y \n",
    "    \n",
    "def sub(x, y): \n",
    "    return x-y \n",
    "    \n",
    "add_logger = logger(add) \n",
    "sub_logger = logger(sub) \n",
    "    \n",
    "add_logger(3, 3) \n",
    "add_logger(4, 5) \n",
    "    \n",
    "sub_logger(10, 5) \n",
    "sub_logger(20, 10) "
   ]
  },
  {
   "cell_type": "markdown",
   "metadata": {},
   "source": [
    "## Built-in Higher-order functions\n",
    "\n",
    "To make the processing iterable objects like lists and iterator much easier, Python has implemented some commonly used Higher-Order Functions. These functions return an iterator which is space-efficient. \n",
    "\n",
    "Some of the built-in higher-order functions are:\n",
    "- Lambda\n",
    "- Map\n",
    "- Filter\n",
    "- Reduce"
   ]
  },
  {
   "cell_type": "markdown",
   "metadata": {},
   "source": [
    "Read Python Built-in Functions"
   ]
  }
 ],
 "metadata": {
  "kernelspec": {
   "display_name": "Python 3 (ipykernel)",
   "language": "python",
   "name": "python3"
  },
  "language_info": {
   "codemirror_mode": {
    "name": "ipython",
    "version": 3
   },
   "file_extension": ".py",
   "mimetype": "text/x-python",
   "name": "python",
   "nbconvert_exporter": "python",
   "pygments_lexer": "ipython3",
   "version": "3.9.7"
  }
 },
 "nbformat": 4,
 "nbformat_minor": 2
}
