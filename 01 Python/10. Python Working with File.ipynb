{
 "cells": [
  {
   "cell_type": "markdown",
   "metadata": {},
   "source": [
    "## Python File Handling: How to Create, Open, Append, Read, Write\n",
    "\n",
    "- In Python, there is no need for importing external library to read and write files. \n",
    "- Python provides an inbuilt function for creating, writing, and reading files."
   ]
  },
  {
   "cell_type": "markdown",
   "metadata": {},
   "source": [
    "### How to Open a Text File in Python\n",
    "To open a file, you need to use the built-in open function. The Python open file function returns a file object that contains methods and attributes to perform various operations for opening files in Python.\n",
    "\n",
    "Method: open(\"filename\", \"mode\") \n",
    "- filename: gives name of the file that the file object has opened.\n",
    "- mode: attribute of a file object tells you which mode a file was opened in.\n",
    "\n",
    "**FILE ACCESS MODES**\n",
    "\n",
    " * ***`Read Only (‘r’)`*** : It opens the text file for reading. If the file does not exists, raises I/O error.\n",
    " * ***`Read and Write (‘r+’)`*** : It opens the file for reading and writing. Raises I/O error if the file does not exists.\n",
    " * ***`Write Only (‘w’)`*** : It opens the file for writing. For existing file, the data over-written. Creates the file if the file does not exists.\n",
    " * ***`Write and Read (‘w+’)`*** : It opens the file for reading and writing. For existing file, data is truncated and over-written.\n",
    " * ***`Append Only (‘a’)`*** : It opens the file for writing. The file is created if it does not exist. The data being written will be inserted at the end, after the existing data.\n",
    " * ***`Append and Read (‘a+’)`*** : It opens the file for reading and writing. The file is created if it does not exist. The data being written will be inserted at the end, after the existing data.\n",
    "\n",
    "---"
   ]
  },
  {
   "cell_type": "code",
   "execution_count": 3,
   "metadata": {},
   "outputs": [
    {
     "name": "stdout",
     "output_type": "stream",
     "text": [
      "# A simple module, calc.py\n",
      " \n",
      "def add(x, y):\n",
      "    return (x+y)\n",
      " \n",
      "def subtract(x, y):\n",
      "    return (x-y)\n"
     ]
    }
   ],
   "source": [
    "# Reading File from path\n",
    "newFile  = open(\"calc.py\", \"r\") \n",
    "contents = newFile.read()\n",
    "print(contents)\n",
    "#newFile.close()"
   ]
  },
  {
   "cell_type": "code",
   "execution_count": 4,
   "metadata": {},
   "outputs": [
    {
     "data": {
      "text/plain": [
       "''"
      ]
     },
     "execution_count": 4,
     "metadata": {},
     "output_type": "execute_result"
    }
   ],
   "source": [
    "# read the file again\n",
    "contents = newFile.read()\n",
    "\n",
    "contents"
   ]
  },
  {
   "cell_type": "code",
   "execution_count": 5,
   "metadata": {},
   "outputs": [
    {
     "data": {
      "text/plain": [
       "'# A simple module, calc.py\\n \\ndef add(x, y):\\n    return (x+y)\\n \\ndef subtract(x, y):\\n    return (x-y)'"
      ]
     },
     "execution_count": 5,
     "metadata": {},
     "output_type": "execute_result"
    }
   ],
   "source": [
    "'''\n",
    "As you can see we got an empty string.\n",
    "This is because the file is already opened \n",
    "and the file pointer is at the end of the file \n",
    "so one way is to close the file first to read it again.\n",
    "'''\n",
    "\n",
    "newFile.close()\n",
    "\n",
    "newFile  = open(\"calc.py\", \"r\") \n",
    "newFile.read()"
   ]
  },
  {
   "cell_type": "markdown",
   "metadata": {},
   "source": [
    "***Another way to read the file again is by moving the pointer to the starting point again using the `seek` function***\n",
    "\n",
    "---\n"
   ]
  },
  {
   "cell_type": "code",
   "execution_count": 6,
   "metadata": {},
   "outputs": [
    {
     "data": {
      "text/plain": [
       "'# A simple module, calc.py\\n \\ndef add(x, y):\\n    return (x+y)\\n \\ndef subtract(x, y):\\n    return (x-y)'"
      ]
     },
     "execution_count": 6,
     "metadata": {},
     "output_type": "execute_result"
    }
   ],
   "source": [
    "newFile.seek(0)\n",
    "newFile.read()"
   ]
  },
  {
   "cell_type": "markdown",
   "metadata": {},
   "source": [
    "***Using the `seek` function, we can move to any point in the file and read the file.***\n",
    "\n",
    "---"
   ]
  },
  {
   "cell_type": "code",
   "execution_count": 32,
   "metadata": {},
   "outputs": [
    {
     "data": {
      "text/plain": [
       "' module, calc.py\\n \\ndef add(x, y):\\n    return (x+y)\\n \\ndef subtract(x, y):\\n    return (x-y)'"
      ]
     },
     "execution_count": 32,
     "metadata": {},
     "output_type": "execute_result"
    }
   ],
   "source": [
    "# read from 300th character in the file\n",
    "newFile.seek(10)\n",
    "newFile.read()"
   ]
  },
  {
   "cell_type": "code",
   "execution_count": 34,
   "metadata": {},
   "outputs": [],
   "source": [
    "# close the file\n",
    "newFile.close()"
   ]
  },
  {
   "cell_type": "markdown",
   "metadata": {},
   "source": [
    "***Read the file line by line***\n",
    "\n",
    "---"
   ]
  },
  {
   "cell_type": "code",
   "execution_count": 36,
   "metadata": {},
   "outputs": [
    {
     "name": "stdout",
     "output_type": "stream",
     "text": [
      "No of lines in file is  5\n"
     ]
    }
   ],
   "source": [
    "# read the file again store each line in a list\n",
    "text_file = open(\"data/myModule.py\", \"r\")\n",
    "\n",
    "lines = text_file.readlines()\n",
    "\n",
    "# no of lines\n",
    "print('No of lines in file is ',format(len(lines)))"
   ]
  },
  {
   "cell_type": "code",
   "execution_count": 37,
   "metadata": {},
   "outputs": [
    {
     "name": "stdout",
     "output_type": "stream",
     "text": [
      "person1 = {\n",
      "\n",
      "  \"name\": \"John\",\n",
      "\n",
      "  \"age\": 36,\n",
      "\n",
      "  \"country\": \"Norway\"\n",
      "\n",
      "}\n"
     ]
    }
   ],
   "source": [
    "# print each line text\n",
    "for line in lines :\n",
    "    print(line)\n",
    "\n",
    "# close the file\n",
    "text_file.close()"
   ]
  },
  {
   "cell_type": "markdown",
   "metadata": {},
   "source": [
    "### How to Create a Text File in Python"
   ]
  },
  {
   "cell_type": "code",
   "execution_count": 14,
   "metadata": {},
   "outputs": [],
   "source": [
    "# Writing to a new file\n",
    "newFile = open(\"newTextFile.txt\", \"w+\")\n",
    "for i in range(10):\n",
    "    newFile.write(\"This is line %d\\r\\n\" % (i+1))\n",
    "    \n",
    "newFile.close() "
   ]
  },
  {
   "cell_type": "code",
   "execution_count": 15,
   "metadata": {},
   "outputs": [
    {
     "name": "stdout",
     "output_type": "stream",
     "text": [
      "This is line 1\n",
      "\n",
      "This is line 2\n",
      "\n",
      "This is line 3\n",
      "\n",
      "This is line 4\n",
      "\n",
      "This is line 5\n",
      "\n",
      "This is line 6\n",
      "\n",
      "This is line 7\n",
      "\n",
      "This is line 8\n",
      "\n",
      "This is line 9\n",
      "\n",
      "This is line 10\n",
      "\n",
      "\n"
     ]
    }
   ],
   "source": [
    "# Reading File from path\n",
    "newFile  = open(\"newTextFile.txt\", \"r\") \n",
    "contents = newFile.read()\n",
    "print(contents)"
   ]
  },
  {
   "cell_type": "markdown",
   "metadata": {},
   "source": [
    "### How to Append to a File in Python"
   ]
  },
  {
   "cell_type": "code",
   "execution_count": 22,
   "metadata": {},
   "outputs": [],
   "source": [
    "# Adding new lines in existing file\n",
    "newFile  = open(\"New_File.txt\", \"a+\") \n",
    "\n",
    "for i in range(2):\n",
    "     newFile.write(\"Appended line %d\\r\\n\" % (i+1))\n",
    "\n",
    "newFile.close() "
   ]
  },
  {
   "cell_type": "markdown",
   "metadata": {},
   "source": [
    "***`write` function will return the number of characters written in the file.***\n",
    "\n",
    "___"
   ]
  },
  {
   "cell_type": "code",
   "execution_count": 23,
   "metadata": {
    "scrolled": true
   },
   "outputs": [
    {
     "name": "stdout",
     "output_type": "stream",
     "text": [
      "some data to be written to the fileAppended line 1\n",
      "\n",
      "Appended line 2\n",
      "\n",
      "\n"
     ]
    }
   ],
   "source": [
    "# Reading File from path\n",
    "newFile  = open(\"New_File.txt\", \"r\") \n",
    "contents = newFile.read()\n",
    "print(contents)"
   ]
  },
  {
   "cell_type": "markdown",
   "metadata": {},
   "source": [
    "### Python’s “with open(…) as …” Pattern\n",
    "***Using `with` statement, python will automatically closes the file after reading it.***\n",
    "\n",
    "---\n",
    "\n",
    "- Reading and writing data to files using Python is pretty straightforward. \n",
    "- First open files in the appropriate mode using Python’s “with open(…) as …” pattern to open a text file and read its contents:\n"
   ]
  },
  {
   "cell_type": "code",
   "execution_count": 21,
   "metadata": {},
   "outputs": [
    {
     "name": "stdout",
     "output_type": "stream",
     "text": [
      "some data to be written to the file\n"
     ]
    }
   ],
   "source": [
    "with open('New_File.txt', 'r') as f:\n",
    "    data = f.read()\n",
    "\n",
    "print(data)"
   ]
  },
  {
   "cell_type": "code",
   "execution_count": 24,
   "metadata": {},
   "outputs": [
    {
     "name": "stdout",
     "output_type": "stream",
     "text": [
      "some data to be written to the file\n"
     ]
    }
   ],
   "source": [
    "with open('data.txt', 'w') as f:\n",
    "    data = 'some data to be written to the file'\n",
    "    f.write(data)\n",
    "\n",
    "with open('data.txt', 'r') as f:\n",
    "    data = f.read()\n",
    "\n",
    "print(data)"
   ]
  },
  {
   "cell_type": "markdown",
   "metadata": {},
   "source": [
    "## Directory Listing\n",
    "The built-in os module has a number of useful functions that can be used to list directory contents and filter the results.\n",
    "\n",
    "- **os.listdir():** Returns a list of all files and folders in a directory\n",
    "- **os.scandir():** Returns an iterator of all the objects in a directory including file attribute information\n",
    "- **pathlib.Path.iterdir():** Returns an iterator of all the objects in a directory including file attribute information"
   ]
  },
  {
   "cell_type": "code",
   "execution_count": 27,
   "metadata": {},
   "outputs": [
    {
     "name": "stdout",
     "output_type": "stream",
     "text": [
      ".ipynb_checkpoints\n",
      "1_NumPy_Basics.ipynb\n",
      "2_Operations_on_Numpy_Arrays.ipynb\n",
      "Basic Programming - Sorting.ipynb\n",
      "Basic Programming - Square Root and Searching.ipynb\n",
      "Basic Programming.ipynb\n",
      "data.txt\n",
      "Dictionary and Sets.ipynb\n",
      "newTextFile.txt\n",
      "New_File.txt\n",
      "Python Flow Control.ipynb\n",
      "Python Sequence.ipynb\n",
      "Python_b\n",
      "Python_c\n",
      "Python_Program.ipynb\n",
      "Statistics and Probability.ipynb\n",
      "Test_coding.ipynb\n",
      "Working with File.ipynb\n"
     ]
    }
   ],
   "source": [
    "import os as fileOS\n",
    "entries = fileOS.listdir()\n",
    "for entry in entries:\n",
    "    print(entry)"
   ]
  },
  {
   "cell_type": "code",
   "execution_count": 28,
   "metadata": {},
   "outputs": [
    {
     "name": "stdout",
     "output_type": "stream",
     "text": [
      "Python_ab\n",
      "SmartPy.txt\n"
     ]
    }
   ],
   "source": [
    "with fileOS.scandir('Python_b/') as entries:\n",
    "    for entry in entries:\n",
    "        print(entry.name)"
   ]
  },
  {
   "cell_type": "markdown",
   "metadata": {},
   "source": [
    "### pathlib module\n",
    "Another way to get a directory listing is to use the pathlib module.\n",
    "\n",
    "- Below we call pathlib.Path() and pass a path argument to it. \n",
    "- Next is the call to .iterdir() to get a list of all files and directories in my_directory."
   ]
  },
  {
   "cell_type": "code",
   "execution_count": 4,
   "metadata": {},
   "outputs": [
    {
     "name": "stdout",
     "output_type": "stream",
     "text": [
      "File path is:  data\n",
      "\n",
      "\n"
     ]
    },
    {
     "ename": "FileNotFoundError",
     "evalue": "[WinError 3] The system cannot find the path specified: 'data'",
     "output_type": "error",
     "traceback": [
      "\u001b[1;31m---------------------------------------------------------------------------\u001b[0m",
      "\u001b[1;31mFileNotFoundError\u001b[0m                         Traceback (most recent call last)",
      "\u001b[1;32mC:\\Users\\ANHNGU~1\\AppData\\Local\\Temp/ipykernel_3996/1663474470.py\u001b[0m in \u001b[0;36m<module>\u001b[1;34m\u001b[0m\n\u001b[0;32m      5\u001b[0m \u001b[0mprint\u001b[0m\u001b[1;33m(\u001b[0m\u001b[1;34m'\\n'\u001b[0m\u001b[1;33m)\u001b[0m\u001b[1;33m\u001b[0m\u001b[1;33m\u001b[0m\u001b[0m\n\u001b[0;32m      6\u001b[0m \u001b[1;33m\u001b[0m\u001b[0m\n\u001b[1;32m----> 7\u001b[1;33m \u001b[1;32mfor\u001b[0m \u001b[0mentry\u001b[0m \u001b[1;32min\u001b[0m \u001b[0mentries\u001b[0m\u001b[1;33m.\u001b[0m\u001b[0miterdir\u001b[0m\u001b[1;33m(\u001b[0m\u001b[1;33m)\u001b[0m\u001b[1;33m:\u001b[0m\u001b[1;33m\u001b[0m\u001b[1;33m\u001b[0m\u001b[0m\n\u001b[0m\u001b[0;32m      8\u001b[0m     \u001b[0mprint\u001b[0m\u001b[1;33m(\u001b[0m\u001b[1;34m\"File and Foler name: \"\u001b[0m\u001b[1;33m,\u001b[0m \u001b[0mentry\u001b[0m\u001b[1;33m.\u001b[0m\u001b[0mname\u001b[0m\u001b[1;33m)\u001b[0m\u001b[1;33m\u001b[0m\u001b[1;33m\u001b[0m\u001b[0m\n",
      "\u001b[1;32m~\\AppData\\Local\\Programs\\Python\\Python39\\lib\\pathlib.py\u001b[0m in \u001b[0;36miterdir\u001b[1;34m(self)\u001b[0m\n\u001b[0;32m   1158\u001b[0m         \u001b[0mresult\u001b[0m \u001b[1;32mfor\u001b[0m \u001b[0mthe\u001b[0m \u001b[0mspecial\u001b[0m \u001b[0mpaths\u001b[0m \u001b[1;34m'.'\u001b[0m \u001b[1;32mand\u001b[0m \u001b[1;34m'..'\u001b[0m\u001b[1;33m.\u001b[0m\u001b[1;33m\u001b[0m\u001b[1;33m\u001b[0m\u001b[0m\n\u001b[0;32m   1159\u001b[0m         \"\"\"\n\u001b[1;32m-> 1160\u001b[1;33m         \u001b[1;32mfor\u001b[0m \u001b[0mname\u001b[0m \u001b[1;32min\u001b[0m \u001b[0mself\u001b[0m\u001b[1;33m.\u001b[0m\u001b[0m_accessor\u001b[0m\u001b[1;33m.\u001b[0m\u001b[0mlistdir\u001b[0m\u001b[1;33m(\u001b[0m\u001b[0mself\u001b[0m\u001b[1;33m)\u001b[0m\u001b[1;33m:\u001b[0m\u001b[1;33m\u001b[0m\u001b[1;33m\u001b[0m\u001b[0m\n\u001b[0m\u001b[0;32m   1161\u001b[0m             \u001b[1;32mif\u001b[0m \u001b[0mname\u001b[0m \u001b[1;32min\u001b[0m \u001b[1;33m{\u001b[0m\u001b[1;34m'.'\u001b[0m\u001b[1;33m,\u001b[0m \u001b[1;34m'..'\u001b[0m\u001b[1;33m}\u001b[0m\u001b[1;33m:\u001b[0m\u001b[1;33m\u001b[0m\u001b[1;33m\u001b[0m\u001b[0m\n\u001b[0;32m   1162\u001b[0m                 \u001b[1;31m# Yielding a path object for these makes little sense\u001b[0m\u001b[1;33m\u001b[0m\u001b[1;33m\u001b[0m\u001b[0m\n",
      "\u001b[1;31mFileNotFoundError\u001b[0m: [WinError 3] The system cannot find the path specified: 'data'"
     ]
    }
   ],
   "source": [
    "from pathlib import Path\n",
    "\n",
    "entries = Path('./data')\n",
    "print(\"File path is: \", entries)\n",
    "print('\\n')\n",
    "\n",
    "for entry in entries.iterdir():\n",
    "    print(\"File and Foler name: \", entry.name)"
   ]
  },
  {
   "cell_type": "markdown",
   "metadata": {},
   "source": [
    "## Listing All Files in a Directory\n",
    "- This section will show you how to print out the names of files in a directory using os.listdir(), os.scandir(), and pathlib.Path(). \n",
    "- To filter out directories and only list files from a directory listing produced by os.listdir(), use os.path"
   ]
  },
  {
   "cell_type": "code",
   "execution_count": 6,
   "metadata": {},
   "outputs": [
    {
     "name": "stdout",
     "output_type": "stream",
     "text": [
      "01. Variables and Data Types.ipynb\n",
      "02. Python Data Types - Numbers.ipynb\n",
      "02. Python Data Types - String.ipynb\n",
      "03. Python Operators.ipynb\n",
      "04. 1 Python Iterators.ipynb\n",
      "04. 2 Python Data Structures - List.ipynb\n",
      "04. 3 Python Data Structures - Tuple.ipynb\n",
      "04. 4 Python Data Structures - Sets.ipynb\n",
      "04. 5 Python Data Structures - Dictionary.ipynb\n",
      "05. Python Flow Control.ipynb\n",
      "06. 1 Python Functions.ipynb\n",
      "06. 2 Python Built-in Functions - lambda.ipynb\n",
      "06. 3 Python Built-in Functions - filter.ipynb\n",
      "06. 4 Python Built-in Functions - map.ipynb\n",
      "06. 5 Python Built-in Functions - reduce.ipynb\n",
      "07. Python - Logging.ipynb\n",
      "08. Python - Exception Handling.ipynb\n",
      "09. 1 Python Modules and Packages.ipynb\n",
      "09. 2 Python Built-in Modules - os.ipynb\n",
      "09. 3 Python Built-in Modules - sys.ipynb\n",
      "09. 4 Python Built-in Modules - collections.ipynb\n",
      "09. 5 Python Built-in Modules - datetime.ipynb\n",
      "09. 6 Python Built-in Modules - math.ipynb\n",
      "09. 7 Python Built-in Modules - random.ipynb\n",
      "09. 8 Python Built-in Modules - statistics.ipynb\n",
      "10. Python Working with File.ipynb\n",
      "Assignment_List and Tuple.ipynb\n",
      "Assignment_List and Tuple.zip\n",
      "calc.py\n",
      "Handling Text Files in Python.ipynb\n",
      "myModule.py\n",
      "Python Decorator.ipynb\n",
      "Python JSON.ipynb\n",
      "Python OO Programming.ipynb\n",
      "Python Reactive Programming.ipynb\n",
      "Python Regular Expression.ipynb\n",
      "Python Sequence.ipynb\n",
      "Python Sorting Techniques.ipynb\n",
      "Untitled1.ipynb\n",
      "users.py\n"
     ]
    }
   ],
   "source": [
    "import os\n",
    "# List all files in a directory using os.listdir\n",
    "basepath = '../Python/'\n",
    "for entry in os.listdir(basepath):\n",
    "    if os.path.isfile(os.path.join(basepath, entry)):\n",
    "        print(entry)"
   ]
  },
  {
   "cell_type": "code",
   "execution_count": 7,
   "metadata": {},
   "outputs": [
    {
     "name": "stdout",
     "output_type": "stream",
     "text": [
      "01. Variables and Data Types.ipynb\n",
      "02. Python Data Types - Numbers.ipynb\n",
      "02. Python Data Types - String.ipynb\n",
      "03. Python Operators.ipynb\n",
      "04. 1 Python Iterators.ipynb\n",
      "04. 2 Python Data Structures - List.ipynb\n",
      "04. 3 Python Data Structures - Tuple.ipynb\n",
      "04. 4 Python Data Structures - Sets.ipynb\n",
      "04. 5 Python Data Structures - Dictionary.ipynb\n",
      "05. Python Flow Control.ipynb\n",
      "06. 1 Python Functions.ipynb\n",
      "06. 2 Python Built-in Functions - lambda.ipynb\n",
      "06. 3 Python Built-in Functions - filter.ipynb\n",
      "06. 4 Python Built-in Functions - map.ipynb\n",
      "06. 5 Python Built-in Functions - reduce.ipynb\n",
      "07. Python - Logging.ipynb\n",
      "08. Python - Exception Handling.ipynb\n",
      "09. 1 Python Modules and Packages.ipynb\n",
      "09. 2 Python Built-in Modules - os.ipynb\n",
      "09. 3 Python Built-in Modules - sys.ipynb\n",
      "09. 4 Python Built-in Modules - collections.ipynb\n",
      "09. 5 Python Built-in Modules - datetime.ipynb\n",
      "09. 6 Python Built-in Modules - math.ipynb\n",
      "09. 7 Python Built-in Modules - random.ipynb\n",
      "09. 8 Python Built-in Modules - statistics.ipynb\n",
      "10. Python Working with File.ipynb\n",
      "Assignment_List and Tuple.ipynb\n",
      "Assignment_List and Tuple.zip\n",
      "calc.py\n",
      "Handling Text Files in Python.ipynb\n",
      "myModule.py\n",
      "Python Decorator.ipynb\n",
      "Python JSON.ipynb\n",
      "Python OO Programming.ipynb\n",
      "Python Reactive Programming.ipynb\n",
      "Python Regular Expression.ipynb\n",
      "Python Sequence.ipynb\n",
      "Python Sorting Techniques.ipynb\n",
      "Untitled1.ipynb\n",
      "users.py\n"
     ]
    }
   ],
   "source": [
    "# List all files in a directory using scandir()\n",
    "basepath = '../Python/'\n",
    "with os.scandir(basepath) as entries:\n",
    "    for entry in entries:\n",
    "        if entry.is_file():\n",
    "            print(entry.name)"
   ]
  },
  {
   "cell_type": "code",
   "execution_count": 8,
   "metadata": {},
   "outputs": [
    {
     "name": "stdout",
     "output_type": "stream",
     "text": [
      "01. Variables and Data Types.ipynb\n",
      "02. Python Data Types - Numbers.ipynb\n",
      "02. Python Data Types - String.ipynb\n",
      "03. Python Operators.ipynb\n",
      "04. 1 Python Iterators.ipynb\n",
      "04. 2 Python Data Structures - List.ipynb\n",
      "04. 3 Python Data Structures - Tuple.ipynb\n",
      "04. 4 Python Data Structures - Sets.ipynb\n",
      "04. 5 Python Data Structures - Dictionary.ipynb\n",
      "05. Python Flow Control.ipynb\n",
      "06. 1 Python Functions.ipynb\n",
      "06. 2 Python Built-in Functions - lambda.ipynb\n",
      "06. 3 Python Built-in Functions - filter.ipynb\n",
      "06. 4 Python Built-in Functions - map.ipynb\n",
      "06. 5 Python Built-in Functions - reduce.ipynb\n",
      "07. Python - Logging.ipynb\n",
      "08. Python - Exception Handling.ipynb\n",
      "09. 1 Python Modules and Packages.ipynb\n",
      "09. 2 Python Built-in Modules - os.ipynb\n",
      "09. 3 Python Built-in Modules - sys.ipynb\n",
      "09. 4 Python Built-in Modules - collections.ipynb\n",
      "09. 5 Python Built-in Modules - datetime.ipynb\n",
      "09. 6 Python Built-in Modules - math.ipynb\n",
      "09. 7 Python Built-in Modules - random.ipynb\n",
      "09. 8 Python Built-in Modules - statistics.ipynb\n",
      "10. Python Working with File.ipynb\n",
      "Assignment_List and Tuple.ipynb\n",
      "Assignment_List and Tuple.zip\n",
      "calc.py\n",
      "Handling Text Files in Python.ipynb\n",
      "myModule.py\n",
      "Python Decorator.ipynb\n",
      "Python JSON.ipynb\n",
      "Python OO Programming.ipynb\n",
      "Python Reactive Programming.ipynb\n",
      "Python Regular Expression.ipynb\n",
      "Python Sequence.ipynb\n",
      "Python Sorting Techniques.ipynb\n",
      "Untitled1.ipynb\n",
      "users.py\n"
     ]
    }
   ],
   "source": [
    "basepath = Path('../Python/')\n",
    "files_in_basepath = basepath.iterdir()\n",
    "for item in files_in_basepath:\n",
    "    if item.is_file():\n",
    "        print(item.name)"
   ]
  },
  {
   "cell_type": "markdown",
   "metadata": {},
   "source": [
    "The code above can be made more concise if you combine the for loop and the if statement into a single generator expression. \n",
    "- Below code shows generator expressions and list comprehensions."
   ]
  },
  {
   "cell_type": "code",
   "execution_count": 38,
   "metadata": {
    "scrolled": true
   },
   "outputs": [
    {
     "name": "stdout",
     "output_type": "stream",
     "text": [
      "1_NumPy_Basics.ipynb\n",
      "2_Operations_on_Numpy_Arrays.ipynb\n",
      "Basic Programming - Sorting.ipynb\n",
      "Basic Programming - Square Root and Searching.ipynb\n",
      "Basic Programming.ipynb\n",
      "data.txt\n",
      "Dictionary and Sets.ipynb\n",
      "newTextFile.txt\n",
      "New_File.txt\n",
      "Python Flow Control.ipynb\n",
      "Python Sequence.ipynb\n",
      "Python_Program.ipynb\n",
      "Statistics and Probability.ipynb\n",
      "Test_coding.ipynb\n",
      "Working with File.ipynb\n"
     ]
    }
   ],
   "source": [
    "from pathlib import Path\n",
    "\n",
    "# List all files in directory using pathlib\n",
    "basepath = Path('../Python_Programmes/')\n",
    "files_in_basepath = (entry for entry in basepath.iterdir() if entry.is_file())\n",
    "for item in files_in_basepath:\n",
    "    print(item.name)"
   ]
  },
  {
   "cell_type": "code",
   "execution_count": 8,
   "metadata": {},
   "outputs": [
    {
     "name": "stdout",
     "output_type": "stream",
     "text": [
      "file Test_coding.ipynb có tồn tại không? False\n"
     ]
    }
   ],
   "source": [
    "# Check if file exist\n",
    "import os\n",
    "\n",
    "file_path1 = \"Test_coding.ipynb\"\n",
    "check1 = os.path.exists(file_path1)\n",
    "print(f\"file {file_path1} có tồn tại không? {check1}\")"
   ]
  },
  {
   "cell_type": "markdown",
   "metadata": {},
   "source": [
    "### Listing Subdirectories\n",
    "To list subdirectories instead of files, use one of the methods below. Here’s how to use os.listdir() and os.path():"
   ]
  },
  {
   "cell_type": "code",
   "execution_count": 9,
   "metadata": {},
   "outputs": [
    {
     "name": "stdout",
     "output_type": "stream",
     "text": [
      ".ipynb_checkpoints\n",
      "config\n",
      "MyNewOSFolder\n",
      "__pycache__\n"
     ]
    }
   ],
   "source": [
    "# List all subdirectories using os.listdir\n",
    "basepath = '../Python/'\n",
    "for entry in os.listdir(basepath):\n",
    "    if os.path.isdir(os.path.join(basepath, entry)):\n",
    "        print(entry)"
   ]
  },
  {
   "cell_type": "code",
   "execution_count": 10,
   "metadata": {},
   "outputs": [
    {
     "name": "stdout",
     "output_type": "stream",
     "text": [
      ".ipynb_checkpoints\n",
      "config\n",
      "MyNewOSFolder\n",
      "__pycache__\n"
     ]
    }
   ],
   "source": [
    "# List all subdirectories using scandir()\n",
    "basepath = '../Python/'\n",
    "with os.scandir(basepath) as entries:\n",
    "    for entry in entries:\n",
    "        if entry.is_dir():\n",
    "            print(entry.name)"
   ]
  },
  {
   "cell_type": "code",
   "execution_count": 11,
   "metadata": {},
   "outputs": [
    {
     "name": "stdout",
     "output_type": "stream",
     "text": [
      ".ipynb_checkpoints\n",
      "config\n",
      "MyNewOSFolder\n",
      "__pycache__\n"
     ]
    }
   ],
   "source": [
    "# List all subdirectory using pathlib\n",
    "basepath = Path('../Python/')\n",
    "for entry in basepath.iterdir():\n",
    "    if entry.is_dir():\n",
    "        print(entry.name)"
   ]
  },
  {
   "cell_type": "markdown",
   "metadata": {},
   "source": [
    "### Getting File Attributes\n",
    "- Python makes retrieving file attributes such as file size and modified times easy. This is done through os.stat(), os.scandir(), or pathlib.Path().\n",
    "\n",
    "- os.scandir() and pathlib.Path() retrieve a directory listing with file attributes combined. This can be potentially more efficient than using os.listdir() to list files and then getting file attribute information for each file."
   ]
  },
  {
   "cell_type": "code",
   "execution_count": 13,
   "metadata": {},
   "outputs": [
    {
     "name": "stdout",
     "output_type": "stream",
     "text": [
      "1642261438.1209302\n",
      "1641632005.172107\n",
      "1641631984.816402\n",
      "1641664165.1812723\n",
      "1642234661.914485\n",
      "1624946398.0\n",
      "1641649896.8850186\n",
      "1641651520.1440728\n",
      "1641652336.603111\n",
      "1641655330.5053906\n",
      "1641644875.293687\n",
      "1641669270.7823763\n",
      "1641667653.0557709\n",
      "1641667646.9892557\n",
      "1641667703.7969441\n",
      "1641667350.0341456\n",
      "1625032588.0\n",
      "1626191210.0\n",
      "1642240064.1637425\n",
      "1642261557.5911453\n",
      "1642237921.1435983\n",
      "1642239066.7118964\n",
      "1642242004.2987583\n",
      "1642239842.2783198\n",
      "1642240226.4144218\n",
      "1642238186.1413572\n",
      "1642263214.9592297\n",
      "1642232385.9070642\n",
      "1642232398.3660095\n",
      "1625043852.0\n",
      "1641665351.111614\n",
      "1642243352.4884062\n",
      "1624356572.0\n",
      "1642237621.5050757\n",
      "1625116386.0\n",
      "1642243359.0625114\n",
      "1625120776.0\n",
      "1625202630.0\n",
      "1625116392.0\n",
      "1641669826.5133853\n",
      "1624946398.0\n",
      "1641664413.1402264\n",
      "1624249780.0\n",
      "1642237429.9587462\n"
     ]
    }
   ],
   "source": [
    "with os.scandir('../Python/') as dir_contents:\n",
    "    for entry in dir_contents:\n",
    "        info = entry.stat()\n",
    "        print(info.st_mtime)"
   ]
  },
  {
   "cell_type": "code",
   "execution_count": 14,
   "metadata": {},
   "outputs": [
    {
     "name": "stdout",
     "output_type": "stream",
     "text": [
      "1642261438.1209302\n",
      "1641632005.172107\n",
      "1641631984.816402\n",
      "1641664165.1812723\n",
      "1642234661.914485\n",
      "1624946398.0\n",
      "1641649896.8850186\n",
      "1641651520.1440728\n",
      "1641652336.603111\n",
      "1641655330.5053906\n",
      "1641644875.293687\n",
      "1641669270.7823763\n",
      "1641667653.0557709\n",
      "1641667646.9892557\n",
      "1641667703.7969441\n",
      "1641667350.0341456\n",
      "1625032588.0\n",
      "1626191210.0\n",
      "1642240064.1637425\n",
      "1642261557.5911453\n",
      "1642237921.1435983\n",
      "1642239066.7118964\n",
      "1642242004.2987583\n",
      "1642239842.2783198\n",
      "1642240226.4144218\n",
      "1642238186.1413572\n",
      "1642263335.0332398\n",
      "1642232385.9070642\n",
      "1642232398.3660095\n",
      "1625043852.0\n",
      "1641665351.111614\n",
      "1642243352.4884062\n",
      "1624356572.0\n",
      "1642237621.5050757\n",
      "1625116386.0\n",
      "1642243359.0625114\n",
      "1625120776.0\n",
      "1625202630.0\n",
      "1625116392.0\n",
      "1641669826.5133853\n",
      "1624946398.0\n",
      "1641664413.1402264\n",
      "1624249780.0\n",
      "1642237429.9587462\n"
     ]
    }
   ],
   "source": [
    "current_dir = Path('../Python')\n",
    "for path in current_dir.iterdir():\n",
    "    info = path.stat()\n",
    "    print(info.st_mtime)"
   ]
  },
  {
   "cell_type": "code",
   "execution_count": 15,
   "metadata": {},
   "outputs": [],
   "source": [
    "from datetime import datetime\n",
    "from os import scandir\n",
    "\n",
    "def convert_date(timestamp):\n",
    "    d = datetime.utcfromtimestamp(timestamp)\n",
    "    formated_date = d.strftime('%d %b %Y')\n",
    "    return formated_date\n",
    "\n",
    "def get_files():\n",
    "    dir_entries = scandir('../Python/')\n",
    "    for entry in dir_entries:\n",
    "        if entry.is_file():\n",
    "            info = entry.stat()\n",
    "            print(f'{entry.name}\\t\\t\\t\\t\\t\\t Last Modified: {convert_date(info.st_mtime)}')"
   ]
  },
  {
   "cell_type": "code",
   "execution_count": 55,
   "metadata": {},
   "outputs": [
    {
     "name": "stdout",
     "output_type": "stream",
     "text": [
      "1_NumPy_Basics.ipynb\t\t\t\t\t\t Last Modified: 07 Dec 2020\n",
      "2_Operations_on_Numpy_Arrays.ipynb\t\t\t\t\t\t Last Modified: 22 Apr 2020\n",
      "Basic Programming - Sorting.ipynb\t\t\t\t\t\t Last Modified: 10 Dec 2020\n",
      "Basic Programming - Square Root and Searching.ipynb\t\t\t\t\t\t Last Modified: 29 Sep 2020\n",
      "Basic Programming.ipynb\t\t\t\t\t\t Last Modified: 15 Feb 2021\n",
      "data.txt\t\t\t\t\t\t Last Modified: 19 Jun 2021\n",
      "Dictionary and Sets.ipynb\t\t\t\t\t\t Last Modified: 16 Jun 2021\n",
      "newTextFile.txt\t\t\t\t\t\t Last Modified: 18 Jun 2021\n",
      "New_File.txt\t\t\t\t\t\t Last Modified: 19 Jun 2021\n",
      "Python Flow Control.ipynb\t\t\t\t\t\t Last Modified: 17 Jun 2021\n",
      "Python Sequence.ipynb\t\t\t\t\t\t Last Modified: 18 Jun 2021\n",
      "Python_Program.ipynb\t\t\t\t\t\t Last Modified: 13 Mar 2021\n",
      "Statistics and Probability.ipynb\t\t\t\t\t\t Last Modified: 27 Jun 2020\n",
      "Test_coding.ipynb\t\t\t\t\t\t Last Modified: 08 Aug 2020\n",
      "Working with File.ipynb\t\t\t\t\t\t Last Modified: 19 Jun 2021\n"
     ]
    }
   ],
   "source": [
    "get_files()"
   ]
  },
  {
   "cell_type": "markdown",
   "metadata": {},
   "source": [
    "## Making Directories\n",
    "- **os.mkdir():** Creates a single subdirectory\n",
    "- **pathlib.Path.mkdir():** Creates single or multiple directories\n",
    "- **os.makedirs():** Creates multiple directories, including intermediate directories"
   ]
  },
  {
   "cell_type": "markdown",
   "metadata": {},
   "source": [
    "### Creating a Single Directory\n",
    "To create a single directory, pass a path to the directory as a parameter to os.mkdir()"
   ]
  },
  {
   "cell_type": "code",
   "execution_count": 16,
   "metadata": {},
   "outputs": [
    {
     "name": "stdout",
     "output_type": "stream",
     "text": [
      ".ipynb_checkpoints\n",
      "config\n",
      "Example_directory\n",
      "MyNewOSFolder\n",
      "__pycache__\n"
     ]
    }
   ],
   "source": [
    "os.mkdir('Example_directory/')\n",
    "\n",
    "# List all subdirectories using scandir()\n",
    "basepath = '../Python/'\n",
    "with os.scandir(basepath) as entries:\n",
    "    for entry in entries:\n",
    "        if entry.is_dir():\n",
    "            print(entry.name)"
   ]
  },
  {
   "cell_type": "code",
   "execution_count": 17,
   "metadata": {},
   "outputs": [
    {
     "ename": "FileExistsError",
     "evalue": "[WinError 183] Cannot create a file when that file already exists: 'Example_directory'",
     "output_type": "error",
     "traceback": [
      "\u001b[1;31m---------------------------------------------------------------------------\u001b[0m",
      "\u001b[1;31mFileExistsError\u001b[0m                           Traceback (most recent call last)",
      "\u001b[1;32mC:\\Users\\ANHNGU~1\\AppData\\Local\\Temp/ipykernel_3996/1673144569.py\u001b[0m in \u001b[0;36m<module>\u001b[1;34m\u001b[0m\n\u001b[0;32m      1\u001b[0m \u001b[0mp\u001b[0m \u001b[1;33m=\u001b[0m \u001b[0mPath\u001b[0m\u001b[1;33m(\u001b[0m\u001b[1;34m'Example_directory/'\u001b[0m\u001b[1;33m)\u001b[0m\u001b[1;33m\u001b[0m\u001b[1;33m\u001b[0m\u001b[0m\n\u001b[1;32m----> 2\u001b[1;33m \u001b[0mp\u001b[0m\u001b[1;33m.\u001b[0m\u001b[0mmkdir\u001b[0m\u001b[1;33m(\u001b[0m\u001b[1;33m)\u001b[0m\u001b[1;33m\u001b[0m\u001b[1;33m\u001b[0m\u001b[0m\n\u001b[0m\u001b[0;32m      3\u001b[0m \u001b[1;33m\u001b[0m\u001b[0m\n\u001b[0;32m      4\u001b[0m \u001b[1;31m# List all subdirectory using pathlib\u001b[0m\u001b[1;33m\u001b[0m\u001b[1;33m\u001b[0m\u001b[0m\n\u001b[0;32m      5\u001b[0m \u001b[0mbasepath\u001b[0m \u001b[1;33m=\u001b[0m \u001b[0mPath\u001b[0m\u001b[1;33m(\u001b[0m\u001b[1;34m'../Python/'\u001b[0m\u001b[1;33m)\u001b[0m\u001b[1;33m\u001b[0m\u001b[1;33m\u001b[0m\u001b[0m\n",
      "\u001b[1;32m~\\AppData\\Local\\Programs\\Python\\Python39\\lib\\pathlib.py\u001b[0m in \u001b[0;36mmkdir\u001b[1;34m(self, mode, parents, exist_ok)\u001b[0m\n\u001b[0;32m   1321\u001b[0m         \"\"\"\n\u001b[0;32m   1322\u001b[0m         \u001b[1;32mtry\u001b[0m\u001b[1;33m:\u001b[0m\u001b[1;33m\u001b[0m\u001b[1;33m\u001b[0m\u001b[0m\n\u001b[1;32m-> 1323\u001b[1;33m             \u001b[0mself\u001b[0m\u001b[1;33m.\u001b[0m\u001b[0m_accessor\u001b[0m\u001b[1;33m.\u001b[0m\u001b[0mmkdir\u001b[0m\u001b[1;33m(\u001b[0m\u001b[0mself\u001b[0m\u001b[1;33m,\u001b[0m \u001b[0mmode\u001b[0m\u001b[1;33m)\u001b[0m\u001b[1;33m\u001b[0m\u001b[1;33m\u001b[0m\u001b[0m\n\u001b[0m\u001b[0;32m   1324\u001b[0m         \u001b[1;32mexcept\u001b[0m \u001b[0mFileNotFoundError\u001b[0m\u001b[1;33m:\u001b[0m\u001b[1;33m\u001b[0m\u001b[1;33m\u001b[0m\u001b[0m\n\u001b[0;32m   1325\u001b[0m             \u001b[1;32mif\u001b[0m \u001b[1;32mnot\u001b[0m \u001b[0mparents\u001b[0m \u001b[1;32mor\u001b[0m \u001b[0mself\u001b[0m\u001b[1;33m.\u001b[0m\u001b[0mparent\u001b[0m \u001b[1;33m==\u001b[0m \u001b[0mself\u001b[0m\u001b[1;33m:\u001b[0m\u001b[1;33m\u001b[0m\u001b[1;33m\u001b[0m\u001b[0m\n",
      "\u001b[1;31mFileExistsError\u001b[0m: [WinError 183] Cannot create a file when that file already exists: 'Example_directory'"
     ]
    }
   ],
   "source": [
    "p = Path('Example_directory/')\n",
    "p.mkdir()\n",
    "\n",
    "# List all subdirectory using pathlib\n",
    "basepath = Path('../Python/')\n",
    "for entry in basepath.iterdir():\n",
    "    if entry.is_dir():\n",
    "        print(entry.name)"
   ]
  },
  {
   "cell_type": "markdown",
   "metadata": {},
   "source": [
    "#### If the path already exists, mkdir() raises a FileExistsError\n",
    "#### To avoid errors like this, catch the error when it happens and let your user know"
   ]
  },
  {
   "cell_type": "code",
   "execution_count": 18,
   "metadata": {},
   "outputs": [
    {
     "name": "stdout",
     "output_type": "stream",
     "text": [
      "[WinError 183] Cannot create a file when that file already exists: 'Example_directory'\n"
     ]
    }
   ],
   "source": [
    "p = Path('Example_directory')\n",
    "try:\n",
    "    p.mkdir()\n",
    "except FileExistsError as exc:\n",
    "    print(exc)"
   ]
  },
  {
   "cell_type": "markdown",
   "metadata": {},
   "source": [
    "#### Alternatively, you can ignore the FileExistsError by passing the exist_ok=True argument to .mkdir():"
   ]
  },
  {
   "cell_type": "code",
   "execution_count": 20,
   "metadata": {},
   "outputs": [],
   "source": [
    "p = Path('Example_directory')\n",
    "p.mkdir(exist_ok=True)"
   ]
  },
  {
   "cell_type": "markdown",
   "metadata": {},
   "source": [
    "## Creating Multiple Directories\n",
    "- os.makedirs() is similar to os.mkdir(). The difference between the two is that not only can os.makedirs() create individual directories, it can also be used to create directory trees. In other words, it can create any necessary intermediate folders in order to ensure a full path exists."
   ]
  },
  {
   "cell_type": "code",
   "execution_count": 21,
   "metadata": {},
   "outputs": [
    {
     "name": "stdout",
     "output_type": "stream",
     "text": [
      ".ipynb_checkpoints\n",
      "2018\n",
      "config\n",
      "Example_directory\n",
      "MyNewOSFolder\n",
      "__pycache__\n"
     ]
    }
   ],
   "source": [
    "os.makedirs('2018/10/05')\n",
    "# List all subdirectories using scandir()\n",
    "basepath = '../Python/'\n",
    "with os.scandir(basepath) as entries:\n",
    "    for entry in entries:\n",
    "        if entry.is_dir():\n",
    "            print(entry.name)"
   ]
  },
  {
   "cell_type": "code",
   "execution_count": 22,
   "metadata": {},
   "outputs": [
    {
     "name": "stdout",
     "output_type": "stream",
     "text": [
      ".ipynb_checkpoints\n",
      "2018\n",
      "2019\n",
      "config\n",
      "Example_directory\n",
      "MyNewOSFolder\n",
      "__pycache__\n"
     ]
    }
   ],
   "source": [
    "import os\n",
    "os.makedirs('2019/10/05', mode=0o770)\n",
    "\n",
    "# List all subdirectories using scandir()\n",
    "basepath = '../Python/'\n",
    "with os.scandir(basepath) as entries:\n",
    "    for entry in entries:\n",
    "        if entry.is_dir():\n",
    "            print(entry.name)"
   ]
  },
  {
   "cell_type": "markdown",
   "metadata": {},
   "source": [
    "## Filename Pattern Matching\n",
    "These are the methods and functions available to you:\n",
    "\n",
    "- endswith() and startswith() string methods\n",
    "- fnmatch.fnmatch()\n",
    "- glob.glob()\n",
    "- pathlib.Path.glob()"
   ]
  },
  {
   "cell_type": "markdown",
   "metadata": {},
   "source": [
    "### Using String Methods\n",
    "Two methods, .startswith() and .endswith(), are useful when you’re searching for patterns in filenames."
   ]
  },
  {
   "cell_type": "code",
   "execution_count": 23,
   "metadata": {},
   "outputs": [],
   "source": [
    "# Get .txt files\n",
    "for f_name in os.listdir('../Python/'):\n",
    "    if f_name.endswith('.txt'):\n",
    "        print(f_name)"
   ]
  },
  {
   "cell_type": "markdown",
   "metadata": {},
   "source": [
    "### Simple Filename Pattern Matching Using fnmatch\n",
    "- String methods are limited in their matching abilities. \n",
    "- fnmatch has more advanced functions and methods for pattern matching. \n",
    "- We will consider fnmatch.fnmatch(), a function that supports the use of wildcards such as * and ? to match filenames. "
   ]
  },
  {
   "cell_type": "code",
   "execution_count": 24,
   "metadata": {},
   "outputs": [
    {
     "name": "stdout",
     "output_type": "stream",
     "text": [
      "01. Variables and Data Types.ipynb\n",
      "02. Python Data Types - Numbers.ipynb\n",
      "02. Python Data Types - String.ipynb\n",
      "03. Python Operators.ipynb\n",
      "04. 1 Python Iterators.ipynb\n",
      "04. 2 Python Data Structures - List.ipynb\n",
      "04. 3 Python Data Structures - Tuple.ipynb\n",
      "04. 4 Python Data Structures - Sets.ipynb\n",
      "04. 5 Python Data Structures - Dictionary.ipynb\n",
      "05. Python Flow Control.ipynb\n",
      "06. 1 Python Functions.ipynb\n",
      "06. 2 Python Built-in Functions - lambda.ipynb\n",
      "06. 3 Python Built-in Functions - filter.ipynb\n",
      "06. 4 Python Built-in Functions - map.ipynb\n",
      "06. 5 Python Built-in Functions - reduce.ipynb\n",
      "07. Python - Logging.ipynb\n",
      "08. Python - Exception Handling.ipynb\n",
      "09. 1 Python Modules and Packages.ipynb\n",
      "09. 2 Python Built-in Modules - os.ipynb\n",
      "09. 3 Python Built-in Modules - sys.ipynb\n",
      "09. 4 Python Built-in Modules - collections.ipynb\n",
      "09. 5 Python Built-in Modules - datetime.ipynb\n",
      "09. 6 Python Built-in Modules - math.ipynb\n",
      "09. 7 Python Built-in Modules - random.ipynb\n",
      "09. 8 Python Built-in Modules - statistics.ipynb\n",
      "10. Python Working with File.ipynb\n",
      "Assignment_List and Tuple.ipynb\n",
      "Handling Text Files in Python.ipynb\n",
      "Python Decorator.ipynb\n",
      "Python JSON.ipynb\n",
      "Python OO Programming.ipynb\n",
      "Python Reactive Programming.ipynb\n",
      "Python Regular Expression.ipynb\n",
      "Python Sequence.ipynb\n",
      "Python Sorting Techniques.ipynb\n",
      "Untitled1.ipynb\n"
     ]
    }
   ],
   "source": [
    "import os\n",
    "import fnmatch\n",
    "\n",
    "for file_name in os.listdir('../Python/'):\n",
    "    if fnmatch.fnmatch(file_name, '*.ipynb'):\n",
    "        print(file_name)"
   ]
  },
  {
   "cell_type": "markdown",
   "metadata": {},
   "source": [
    "### More Advanced Pattern Matching\n",
    "Using fnmatch.fnmatch(), you could do it this"
   ]
  },
  {
   "cell_type": "code",
   "execution_count": 72,
   "metadata": {},
   "outputs": [
    {
     "name": "stdout",
     "output_type": "stream",
     "text": [
      "Basic Programming - Sorting.ipynb\n",
      "Basic Programming - Square Root and Searching.ipynb\n",
      "Basic Programming.ipynb\n",
      "Python_Program.ipynb\n"
     ]
    }
   ],
   "source": [
    "for filename in os.listdir('.'):\n",
    "    if fnmatch.fnmatch(filename, '*Program*.ipynb'):\n",
    "        print(filename)"
   ]
  },
  {
   "cell_type": "markdown",
   "metadata": {},
   "source": [
    "### Filename Pattern Matching Using glob\n",
    ".glob() in the glob module works just like fnmatch.fnmatch(), but unlike fnmatch.fnmatch(), it treats files beginning with a period (.) as special."
   ]
  },
  {
   "cell_type": "code",
   "execution_count": 73,
   "metadata": {},
   "outputs": [
    {
     "data": {
      "text/plain": [
       "['1_NumPy_Basics.ipynb',\n",
       " '2_Operations_on_Numpy_Arrays.ipynb',\n",
       " 'Basic Programming - Sorting.ipynb',\n",
       " 'Basic Programming - Square Root and Searching.ipynb',\n",
       " 'Basic Programming.ipynb',\n",
       " 'Dictionary and Sets.ipynb',\n",
       " 'Python Flow Control.ipynb',\n",
       " 'Python Sequence.ipynb',\n",
       " 'Python_Program.ipynb',\n",
       " 'Statistics and Probability.ipynb',\n",
       " 'Test_coding.ipynb',\n",
       " 'Working with File.ipynb']"
      ]
     },
     "execution_count": 73,
     "metadata": {},
     "output_type": "execute_result"
    }
   ],
   "source": [
    "import glob\n",
    "glob.glob('*.ipynb')"
   ]
  },
  {
   "cell_type": "code",
   "execution_count": 77,
   "metadata": {},
   "outputs": [
    {
     "name": "stdout",
     "output_type": "stream",
     "text": [
      "1_NumPy_Basics.ipynb\n",
      "2_Operations_on_Numpy_Arrays.ipynb\n"
     ]
    }
   ],
   "source": [
    "for name in glob.glob('*[0-9]*.ipynb'):\n",
    "    print(name)"
   ]
  },
  {
   "cell_type": "markdown",
   "metadata": {},
   "source": [
    "#### glob makes it easy to search for files recursively in subdirectories too"
   ]
  },
  {
   "cell_type": "code",
   "execution_count": 78,
   "metadata": {},
   "outputs": [
    {
     "name": "stdout",
     "output_type": "stream",
     "text": [
      "1_NumPy_Basics.ipynb\n",
      "2_Operations_on_Numpy_Arrays.ipynb\n",
      "Basic Programming - Sorting.ipynb\n",
      "Basic Programming - Square Root and Searching.ipynb\n",
      "Basic Programming.ipynb\n",
      "Dictionary and Sets.ipynb\n",
      "Python Flow Control.ipynb\n",
      "Python Sequence.ipynb\n",
      "Python_Program.ipynb\n",
      "Statistics and Probability.ipynb\n",
      "Test_coding.ipynb\n",
      "Working with File.ipynb\n",
      "Python_b\\1_NumPy_Basics.ipynb\n",
      "Python_b\\Basic Programming - Sorting.ipynb\n",
      "Python_b\\Basic Programming.ipynb\n",
      "Python_b\\Python_ab\\1_NumPy_Basics.ipynb\n",
      "Python_b\\Python_ab\\Basic Programming - Sorting.ipynb\n",
      "Python_b\\Python_ab\\Basic Programming.ipynb\n"
     ]
    }
   ],
   "source": [
    "for file in glob.iglob('**/*.ipy*', recursive=True):\n",
    "    print(file)"
   ]
  },
  {
   "cell_type": "code",
   "execution_count": 85,
   "metadata": {},
   "outputs": [],
   "source": [
    "from pathlib import Path\n",
    "p = Path()\n",
    "for name in p.glob('*.p*'):\n",
    "    print(name)"
   ]
  },
  {
   "cell_type": "markdown",
   "metadata": {},
   "source": [
    "### Traversing Directories and Processing Files\n",
    "os.walk() returns three values on each iteration of the loop:\n",
    "\n",
    "- The name of the current folder\n",
    "- A list of folders in the current folder\n",
    "- A list of files in the current folder"
   ]
  },
  {
   "cell_type": "code",
   "execution_count": 86,
   "metadata": {},
   "outputs": [
    {
     "name": "stdout",
     "output_type": "stream",
     "text": [
      "Found directory: .\n",
      "1_NumPy_Basics.ipynb\n",
      "2_Operations_on_Numpy_Arrays.ipynb\n",
      "Basic Programming - Sorting.ipynb\n",
      "Basic Programming - Square Root and Searching.ipynb\n",
      "Basic Programming.ipynb\n",
      "data.txt\n",
      "Dictionary and Sets.ipynb\n",
      "newTextFile.txt\n",
      "New_File.txt\n",
      "Python Flow Control.ipynb\n",
      "Python Sequence.ipynb\n",
      "Python_Program.ipynb\n",
      "Statistics and Probability.ipynb\n",
      "Test_coding.ipynb\n",
      "Working with File.ipynb\n",
      "Found directory: .\\.ipynb_checkpoints\n",
      "1_NumPy_Basics-checkpoint.ipynb\n",
      "Basic Programming - Sorting-checkpoint.ipynb\n",
      "Basic Programming - Square Root and Searching-checkpoint.ipynb\n",
      "Basic Programming-checkpoint.ipynb\n",
      "Dictionary and Sets-checkpoint.ipynb\n",
      "Python Flow Control-checkpoint.ipynb\n",
      "Python Sequence-checkpoint.ipynb\n",
      "Python_Program-checkpoint.ipynb\n",
      "Statistics and Probability-checkpoint.ipynb\n",
      "Test_coding-checkpoint.ipynb\n",
      "Working with File-checkpoint.ipynb\n",
      "Found directory: .\\2018\n",
      "Found directory: .\\2018\\10\n",
      "Found directory: .\\2018\\10\\05\n",
      "Found directory: .\\2019\n",
      "Found directory: .\\2019\\10\n",
      "Found directory: .\\2019\\10\\05\n",
      "Found directory: .\\Example_directory\n",
      "Found directory: .\\Python_b\n",
      "1_NumPy_Basics.ipynb\n",
      "Basic Programming - Sorting.ipynb\n",
      "Basic Programming.ipynb\n",
      "SmartPy.txt\n",
      "Found directory: .\\Python_b\\Python_ab\n",
      "1_NumPy_Basics.ipynb\n",
      "Basic Programming - Sorting.ipynb\n",
      "Basic Programming.ipynb\n",
      "DoubleSmart.xlsx\n",
      "Found directory: .\\Python_c\n"
     ]
    }
   ],
   "source": [
    "# Walking a directory tree and printing the names of the directories and files\n",
    "for dirpath, dirnames, files in os.walk('.'):\n",
    "    print(f'Found directory: {dirpath}')\n",
    "    for file_name in files:\n",
    "        print(file_name)"
   ]
  },
  {
   "cell_type": "markdown",
   "metadata": {},
   "source": [
    "#### To traverse the directory tree in a bottom-up manner, pass in a topdown=False keyword argument to os.walk():"
   ]
  },
  {
   "cell_type": "code",
   "execution_count": 87,
   "metadata": {},
   "outputs": [
    {
     "name": "stdout",
     "output_type": "stream",
     "text": [
      "Found directory: .\\.ipynb_checkpoints\n",
      "1_NumPy_Basics-checkpoint.ipynb\n",
      "Basic Programming - Sorting-checkpoint.ipynb\n",
      "Basic Programming - Square Root and Searching-checkpoint.ipynb\n",
      "Basic Programming-checkpoint.ipynb\n",
      "Dictionary and Sets-checkpoint.ipynb\n",
      "Python Flow Control-checkpoint.ipynb\n",
      "Python Sequence-checkpoint.ipynb\n",
      "Python_Program-checkpoint.ipynb\n",
      "Statistics and Probability-checkpoint.ipynb\n",
      "Test_coding-checkpoint.ipynb\n",
      "Working with File-checkpoint.ipynb\n",
      "Found directory: .\\2018\\10\\05\n",
      "Found directory: .\\2018\\10\n",
      "Found directory: .\\2018\n",
      "Found directory: .\\2019\\10\\05\n",
      "Found directory: .\\2019\\10\n",
      "Found directory: .\\2019\n",
      "Found directory: .\\Example_directory\n",
      "Found directory: .\\Python_b\\Python_ab\n",
      "1_NumPy_Basics.ipynb\n",
      "Basic Programming - Sorting.ipynb\n",
      "Basic Programming.ipynb\n",
      "DoubleSmart.xlsx\n",
      "Found directory: .\\Python_b\n",
      "1_NumPy_Basics.ipynb\n",
      "Basic Programming - Sorting.ipynb\n",
      "Basic Programming.ipynb\n",
      "SmartPy.txt\n",
      "Found directory: .\\Python_c\n",
      "Found directory: .\n",
      "1_NumPy_Basics.ipynb\n",
      "2_Operations_on_Numpy_Arrays.ipynb\n",
      "Basic Programming - Sorting.ipynb\n",
      "Basic Programming - Square Root and Searching.ipynb\n",
      "Basic Programming.ipynb\n",
      "data.txt\n",
      "Dictionary and Sets.ipynb\n",
      "newTextFile.txt\n",
      "New_File.txt\n",
      "Python Flow Control.ipynb\n",
      "Python Sequence.ipynb\n",
      "Python_Program.ipynb\n",
      "Statistics and Probability.ipynb\n",
      "Test_coding.ipynb\n",
      "Working with File.ipynb\n"
     ]
    }
   ],
   "source": [
    "for dirpath, dirnames, files in os.walk('.', topdown=False):\n",
    "    print(f'Found directory: {dirpath}')\n",
    "    for file_name in files:\n",
    "        print(file_name)"
   ]
  },
  {
   "cell_type": "markdown",
   "metadata": {},
   "source": [
    "### Making Temporary Files and Directories\n",
    "- Python provides a handy module for creating temporary files and directories called tempfile.\n",
    "- tempfile can be used to open and store data temporarily in a file or directory while your program is running. tempfile handles the deletion of the temporary files when your program is done with them."
   ]
  },
  {
   "cell_type": "code",
   "execution_count": 93,
   "metadata": {},
   "outputs": [
    {
     "name": "stdout",
     "output_type": "stream",
     "text": [
      "Hello Universe!\n",
      "Hello World!\n",
      "Hello Continent!\n",
      "Hello Contry!\n",
      "\n"
     ]
    }
   ],
   "source": [
    "from tempfile import TemporaryFile\n",
    "\n",
    "# Create a temporary file and write some data to it\n",
    "fp = TemporaryFile('w+t')\n",
    "fp.writelines('Hello Universe!\\n')\n",
    "fp.writelines('Hello World!\\n')\n",
    "fp.writelines('Hello Continent!\\n')\n",
    "fp.writelines('Hello Contry!\\n')\n",
    "\n",
    "# Go back to the beginning and read data from file\n",
    "fp.seek(0)\n",
    "data = fp.read()\n",
    "print(data)\n",
    "\n",
    "# Close the file, after which it will be removed\n",
    "fp.close()"
   ]
  },
  {
   "cell_type": "code",
   "execution_count": 94,
   "metadata": {},
   "outputs": [
    {
     "name": "stdout",
     "output_type": "stream",
     "text": [
      "Hello Universe!\n",
      "Hello World!\n",
      "Hello Continent!\n",
      "Hello Contry!\n",
      "\n"
     ]
    }
   ],
   "source": [
    "with TemporaryFile('w+t') as fp:\n",
    "    fp.writelines('Hello Universe!\\n')\n",
    "    fp.writelines('Hello World!\\n')\n",
    "    fp.writelines('Hello Continent!\\n')\n",
    "    fp.writelines('Hello Contry!\\n')\n",
    "    fp.seek(0)\n",
    "    data = fp.read()\n",
    "    print(data)\n",
    "# File is now closed and removed"
   ]
  },
  {
   "cell_type": "markdown",
   "metadata": {},
   "source": [
    "### Creating Temp Directories\n",
    "**tempfile** can also be used to create temporary directories. Let’s look at how you can do this using tempfile.TemporaryDirectory()"
   ]
  },
  {
   "cell_type": "code",
   "execution_count": 99,
   "metadata": {},
   "outputs": [
    {
     "name": "stdout",
     "output_type": "stream",
     "text": [
      "Created temporary directory :  C:\\Users\\SMAHAP~1\\AppData\\Local\\Temp\\tmp_6j6c4g2\n",
      "True\n",
      "\n",
      "\n",
      "C:\\Users\\SMAHAP~1\\AppData\\Local\\Temp\\tmp_6j6c4g2\n",
      "False\n"
     ]
    }
   ],
   "source": [
    "import tempfile\n",
    "with tempfile.TemporaryDirectory() as tmpdir:\n",
    "    print('Created temporary directory : ', tmpdir)\n",
    "    print(os.path.exists(tmpdir))\n",
    "\n",
    "# Directory contents have been removed\n",
    "print('\\n')\n",
    "print(tmpdir)\n",
    "\n",
    "print(os.path.exists(tmpdir))"
   ]
  },
  {
   "cell_type": "markdown",
   "metadata": {},
   "source": [
    "## Deleting Files and Directories\n",
    "You can delete single files, directories, and entire directory trees using the methods found in the os, shutil, and pathlib modules."
   ]
  },
  {
   "cell_type": "markdown",
   "metadata": {},
   "source": [
    "### Deleting Files in Python\n",
    "To delete a single file, use pathlib.Path.unlink(), os.remove(). or os.unlink().\n",
    "\n",
    "os.remove() and os.unlink() are semantically identical. To delete a file using os.remove()"
   ]
  },
  {
   "cell_type": "code",
   "execution_count": 100,
   "metadata": {},
   "outputs": [],
   "source": [
    "import os\n",
    "\n",
    "data_file = 'C:\\Sidhartha\\MLCourse\\Python_Programmes\\Python_b\\Python_ab\\Del1.txt'\n",
    "os.remove(data_file)"
   ]
  },
  {
   "cell_type": "code",
   "execution_count": 103,
   "metadata": {},
   "outputs": [],
   "source": [
    "data_file = 'C:\\Sidhartha\\MLCourse\\Python_Programmes\\Python_b\\Python_ab\\Del2.txt'\n",
    "os.unlink(data_file)"
   ]
  },
  {
   "cell_type": "code",
   "execution_count": 104,
   "metadata": {},
   "outputs": [
    {
     "name": "stdout",
     "output_type": "stream",
     "text": [
      "Error: C:\\Sidhartha\\MLCourse\\Python_Programmes\\Python_b\\Python_ab\\Del1.txt not a valid filename\n"
     ]
    }
   ],
   "source": [
    "data_file = 'C:\\Sidhartha\\MLCourse\\Python_Programmes\\Python_b\\Python_ab\\Del1.txt'\n",
    "\n",
    "# If the file exists, delete it\n",
    "if os.path.isfile(data_file):\n",
    "    os.remove(data_file)\n",
    "else:\n",
    "    print(f'Error: {data_file} not a valid filename')"
   ]
  },
  {
   "cell_type": "code",
   "execution_count": 105,
   "metadata": {},
   "outputs": [
    {
     "name": "stdout",
     "output_type": "stream",
     "text": [
      "Error: C:\\Sidhartha\\MLCourse\\Python_Programmes\\Python_b\\Python_ab\\Del1.txt : The system cannot find the file specified\n"
     ]
    }
   ],
   "source": [
    "# Use exception handling\n",
    "try:\n",
    "    os.remove(data_file)\n",
    "except OSError as e:\n",
    "    print(f'Error: {data_file} : {e.strerror}')"
   ]
  },
  {
   "cell_type": "code",
   "execution_count": 108,
   "metadata": {},
   "outputs": [
    {
     "ename": "FileNotFoundError",
     "evalue": "[WinError 2] The system cannot find the file specified: '..\\\\Del1.txt'",
     "output_type": "error",
     "traceback": [
      "\u001b[1;31m---------------------------------------------------------------------------\u001b[0m",
      "\u001b[1;31mFileNotFoundError\u001b[0m                         Traceback (most recent call last)",
      "\u001b[1;32m<ipython-input-108-7b85233e1ee5>\u001b[0m in \u001b[0;36m<module>\u001b[1;34m\u001b[0m\n\u001b[0;32m      4\u001b[0m \u001b[1;33m\u001b[0m\u001b[0m\n\u001b[0;32m      5\u001b[0m \u001b[1;32mtry\u001b[0m\u001b[1;33m:\u001b[0m\u001b[1;33m\u001b[0m\u001b[1;33m\u001b[0m\u001b[0m\n\u001b[1;32m----> 6\u001b[1;33m     \u001b[0mdata_file\u001b[0m\u001b[1;33m.\u001b[0m\u001b[0munlink\u001b[0m\u001b[1;33m(\u001b[0m\u001b[1;33m)\u001b[0m\u001b[1;33m\u001b[0m\u001b[1;33m\u001b[0m\u001b[0m\n\u001b[0m\u001b[0;32m      7\u001b[0m \u001b[1;32mexcept\u001b[0m \u001b[0mIsADirectoryError\u001b[0m \u001b[1;32mas\u001b[0m \u001b[0me\u001b[0m\u001b[1;33m:\u001b[0m\u001b[1;33m\u001b[0m\u001b[1;33m\u001b[0m\u001b[0m\n\u001b[0;32m      8\u001b[0m     \u001b[0mprint\u001b[0m\u001b[1;33m(\u001b[0m\u001b[1;34mf'Error: {data_file} : {e.strerror}'\u001b[0m\u001b[1;33m)\u001b[0m\u001b[1;33m\u001b[0m\u001b[1;33m\u001b[0m\u001b[0m\n",
      "\u001b[1;32mC:\\ProgramData\\Anaconda3\\lib\\pathlib.py\u001b[0m in \u001b[0;36munlink\u001b[1;34m(self)\u001b[0m\n\u001b[0;32m   1307\u001b[0m         \u001b[1;32mif\u001b[0m \u001b[0mself\u001b[0m\u001b[1;33m.\u001b[0m\u001b[0m_closed\u001b[0m\u001b[1;33m:\u001b[0m\u001b[1;33m\u001b[0m\u001b[1;33m\u001b[0m\u001b[0m\n\u001b[0;32m   1308\u001b[0m             \u001b[0mself\u001b[0m\u001b[1;33m.\u001b[0m\u001b[0m_raise_closed\u001b[0m\u001b[1;33m(\u001b[0m\u001b[1;33m)\u001b[0m\u001b[1;33m\u001b[0m\u001b[1;33m\u001b[0m\u001b[0m\n\u001b[1;32m-> 1309\u001b[1;33m         \u001b[0mself\u001b[0m\u001b[1;33m.\u001b[0m\u001b[0m_accessor\u001b[0m\u001b[1;33m.\u001b[0m\u001b[0munlink\u001b[0m\u001b[1;33m(\u001b[0m\u001b[0mself\u001b[0m\u001b[1;33m)\u001b[0m\u001b[1;33m\u001b[0m\u001b[1;33m\u001b[0m\u001b[0m\n\u001b[0m\u001b[0;32m   1310\u001b[0m \u001b[1;33m\u001b[0m\u001b[0m\n\u001b[0;32m   1311\u001b[0m     \u001b[1;32mdef\u001b[0m \u001b[0mrmdir\u001b[0m\u001b[1;33m(\u001b[0m\u001b[0mself\u001b[0m\u001b[1;33m)\u001b[0m\u001b[1;33m:\u001b[0m\u001b[1;33m\u001b[0m\u001b[1;33m\u001b[0m\u001b[0m\n",
      "\u001b[1;31mFileNotFoundError\u001b[0m: [WinError 2] The system cannot find the file specified: '..\\\\Del1.txt'"
     ]
    }
   ],
   "source": [
    "from pathlib import Path\n",
    "\n",
    "data_file = Path('../Del1.txt')\n",
    "\n",
    "try:\n",
    "    data_file.unlink()\n",
    "except IsADirectoryError as e:\n",
    "    print(f'Error: {data_file} : {e.strerror}')"
   ]
  },
  {
   "cell_type": "markdown",
   "metadata": {},
   "source": [
    "### Deleting Directories with Standard Error"
   ]
  },
  {
   "cell_type": "code",
   "execution_count": 111,
   "metadata": {},
   "outputs": [
    {
     "name": "stdout",
     "output_type": "stream",
     "text": [
      "Error: my_documents/bad_dir : The system cannot find the path specified\n"
     ]
    }
   ],
   "source": [
    "trash_dir = '../Python_Programmes/bad_dir'\n",
    "\n",
    "try:\n",
    "    os.rmdir(trash_dir)\n",
    "except OSError as e:\n",
    "    print(f'Error: {trash_dir} : {e.strerror}')"
   ]
  },
  {
   "cell_type": "code",
   "execution_count": 112,
   "metadata": {},
   "outputs": [
    {
     "name": "stdout",
     "output_type": "stream",
     "text": [
      "Error: ..\\Python_Programmes\\bad_dir : The system cannot find the file specified\n"
     ]
    }
   ],
   "source": [
    "from pathlib import Path\n",
    "\n",
    "trash_dir = Path('../Python_Programmes/bad_dir')\n",
    "\n",
    "try:\n",
    "    trash_dir.rmdir()\n",
    "except OSError as e:\n",
    "    print(f'Error: {trash_dir} : {e.strerror}')"
   ]
  },
  {
   "cell_type": "markdown",
   "metadata": {},
   "source": [
    "### Deleting Entire Directory Trees\n",
    "To delete non-empty directories and entire directory trees, Python offers shutil.rmtree()"
   ]
  },
  {
   "cell_type": "code",
   "execution_count": 115,
   "metadata": {},
   "outputs": [
    {
     "name": "stdout",
     "output_type": "stream",
     "text": [
      "Error: ../Python_Programmes/Python_b - Copy : The system cannot find the path specified\n"
     ]
    }
   ],
   "source": [
    "import shutil\n",
    "\n",
    "trash_dir = '../Python_Programmes/Python_b - Copy'\n",
    "\n",
    "try:\n",
    "    shutil.rmtree(trash_dir)\n",
    "except OSError as e:\n",
    "    print(f'Error: {trash_dir} : {e.strerror}')"
   ]
  },
  {
   "cell_type": "markdown",
   "metadata": {},
   "source": [
    "## Copying, Moving, and Renaming Files and Directories"
   ]
  },
  {
   "cell_type": "markdown",
   "metadata": {},
   "source": [
    "### Copying Files in Python\n",
    "shutil offers a couple of functions for copying files. The most commonly used functions are shutil.copy() and shutil.copy2(). \n",
    "- To copy a file from one location to another using shutil.copy()"
   ]
  },
  {
   "cell_type": "code",
   "execution_count": 116,
   "metadata": {},
   "outputs": [
    {
     "data": {
      "text/plain": [
       "'C:\\\\Sidhartha\\\\MLCourse\\\\Python_Programmes\\\\Python_b\\\\Python_ab\\\\SmartPy.txt'"
      ]
     },
     "execution_count": 116,
     "metadata": {},
     "output_type": "execute_result"
    }
   ],
   "source": [
    "import shutil\n",
    "\n",
    "src = 'C:\\Sidhartha\\MLCourse\\Python_Programmes\\Python_b/SmartPy.txt'\n",
    "dst = 'C:\\Sidhartha\\MLCourse\\Python_Programmes\\Python_b\\Python_ab'\n",
    "shutil.copy(src, dst)"
   ]
  },
  {
   "cell_type": "markdown",
   "metadata": {},
   "source": [
    "#### To preserve all file metadata when copying, use shutil.copy2():"
   ]
  },
  {
   "cell_type": "code",
   "execution_count": 117,
   "metadata": {},
   "outputs": [
    {
     "data": {
      "text/plain": [
       "'C:\\\\Sidhartha\\\\MLCourse\\\\Python_Programmes\\\\Python_b\\\\Python_ab\\\\SmartPy.txt'"
      ]
     },
     "execution_count": 117,
     "metadata": {},
     "output_type": "execute_result"
    }
   ],
   "source": [
    "shutil.copy2(src, dst)"
   ]
  },
  {
   "cell_type": "markdown",
   "metadata": {},
   "source": [
    "### Copying Directories\n",
    "While shutil.copy() only copies a single file, shutil.copytree() will copy an entire directory and everything contained in it. shutil.copytree(src, dest) takes two arguments: a source directory and the destination directory where files and folders will be copied to."
   ]
  },
  {
   "cell_type": "code",
   "execution_count": 118,
   "metadata": {},
   "outputs": [
    {
     "data": {
      "text/plain": [
       "'Python_b_backup'"
      ]
     },
     "execution_count": 118,
     "metadata": {},
     "output_type": "execute_result"
    }
   ],
   "source": [
    "shutil.copytree('Python_b', 'Python_b_backup')"
   ]
  },
  {
   "cell_type": "markdown",
   "metadata": {},
   "source": [
    "### Moving Files and Directories\n",
    "To move a file or directory to another location, use shutil.move(src, dst)."
   ]
  },
  {
   "cell_type": "code",
   "execution_count": 119,
   "metadata": {},
   "outputs": [
    {
     "data": {
      "text/plain": [
       "'backup/'"
      ]
     },
     "execution_count": 119,
     "metadata": {},
     "output_type": "execute_result"
    }
   ],
   "source": [
    "shutil.move('Python_b/', 'backup/')"
   ]
  },
  {
   "cell_type": "markdown",
   "metadata": {},
   "source": [
    "#### shutil.move('dir_1/', 'backup/') moves dir_1/ into backup/ if backup/ exists. If backup/ does not exist, dir_1/ will be renamed to backup."
   ]
  },
  {
   "cell_type": "code",
   "execution_count": 120,
   "metadata": {},
   "outputs": [
    {
     "data": {
      "text/plain": [
       "'backup/Python_b'"
      ]
     },
     "execution_count": 120,
     "metadata": {},
     "output_type": "execute_result"
    }
   ],
   "source": [
    "shutil.move('Python_b/', 'backup/')"
   ]
  },
  {
   "cell_type": "markdown",
   "metadata": {},
   "source": [
    "### Renaming Files and Directories\n",
    "Python includes os.rename(src, dst) for renaming files and directories"
   ]
  },
  {
   "cell_type": "code",
   "execution_count": 121,
   "metadata": {},
   "outputs": [],
   "source": [
    "os.rename('Rename.txt', 'Rename_New.txt')"
   ]
  },
  {
   "cell_type": "markdown",
   "metadata": {},
   "source": [
    "## Reading ZIP Files\n",
    "- The zipfile module is a low level module that is part of the Python Standard Library. zipfile has functions that make it easy to open and extract ZIP files. \n",
    "- To read the contents of a ZIP file, the first thing to do is to create a ZipFile object. ZipFile objects are similar to file objects created using open(). ZipFile is also a context manager and therefore supports the with statement"
   ]
  },
  {
   "cell_type": "code",
   "execution_count": 122,
   "metadata": {},
   "outputs": [
    {
     "name": "stdout",
     "output_type": "stream",
     "text": [
      "<zipfile.ZipFile filename='Python_Programmes.zip' mode='r'>\n"
     ]
    }
   ],
   "source": [
    "import zipfile\n",
    "\n",
    "with zipfile.ZipFile('Python_Programmes.zip', 'r') as zipobj:\n",
    "    print(zipobj)"
   ]
  },
  {
   "cell_type": "code",
   "execution_count": 124,
   "metadata": {},
   "outputs": [
    {
     "name": "stdout",
     "output_type": "stream",
     "text": [
      "['1_NumPy_Basics.ipynb', '2_Operations_on_Numpy_Arrays.ipynb', 'backup/', 'backup/1_NumPy_Basics.ipynb', 'backup/Basic Programming - Sorting.ipynb', 'backup/Basic Programming.ipynb', 'backup/Python_ab/', 'backup/Python_ab/1_NumPy_Basics.ipynb', 'backup/Python_ab/Basic Programming - Sorting.ipynb', 'backup/Python_ab/Basic Programming.ipynb', 'backup/Python_ab/DoubleSmart.xlsx', 'backup/Python_ab/SmartPy.txt', 'backup/SmartPy.txt', 'Basic Programming - Sorting.ipynb', 'Basic Programming - Square Root and Searching.ipynb', 'Basic Programming.ipynb', 'Statistics and Probability.ipynb', 'Test_coding.ipynb']\n"
     ]
    }
   ],
   "source": [
    "with zipfile.ZipFile('Python_Programmes.zip', 'r') as zipobj:\n",
    "    print(zipobj.namelist())"
   ]
  },
  {
   "cell_type": "code",
   "execution_count": 127,
   "metadata": {},
   "outputs": [
    {
     "name": "stdout",
     "output_type": "stream",
     "text": [
      "80424\n"
     ]
    }
   ],
   "source": [
    "# it returns total bytes\n",
    "with zipfile.ZipFile('Python_Programmes.zip', 'r') as zipobj:\n",
    "    bar_info = zipobj.getinfo('Basic Programming.ipynb')\n",
    "    print(bar_info.file_size)"
   ]
  },
  {
   "cell_type": "code",
   "execution_count": 128,
   "metadata": {},
   "outputs": [
    {
     "name": "stdout",
     "output_type": "stream",
     "text": [
      "(2021, 2, 15, 10, 39, 18)\n"
     ]
    }
   ],
   "source": [
    "print(bar_info.date_time)"
   ]
  },
  {
   "cell_type": "code",
   "execution_count": 129,
   "metadata": {},
   "outputs": [
    {
     "data": {
      "text/plain": [
       "14227"
      ]
     },
     "execution_count": 129,
     "metadata": {},
     "output_type": "execute_result"
    }
   ],
   "source": [
    "bar_info.compress_size"
   ]
  },
  {
   "cell_type": "code",
   "execution_count": 130,
   "metadata": {},
   "outputs": [
    {
     "data": {
      "text/plain": [
       "'Basic Programming.ipynb'"
      ]
     },
     "execution_count": 130,
     "metadata": {},
     "output_type": "execute_result"
    }
   ],
   "source": [
    "bar_info.filename"
   ]
  },
  {
   "cell_type": "markdown",
   "metadata": {},
   "source": []
  }
 ],
 "metadata": {
  "kernelspec": {
   "display_name": "Python 3 (ipykernel)",
   "language": "python",
   "name": "python3"
  },
  "language_info": {
   "codemirror_mode": {
    "name": "ipython",
    "version": 3
   },
   "file_extension": ".py",
   "mimetype": "text/x-python",
   "name": "python",
   "nbconvert_exporter": "python",
   "pygments_lexer": "ipython3",
   "version": "3.9.0"
  }
 },
 "nbformat": 4,
 "nbformat_minor": 2
}
