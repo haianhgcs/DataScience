{
 "cells": [
  {
   "cell_type": "markdown",
   "id": "6e3df43e",
   "metadata": {},
   "source": [
    "# Python filter() Function\n",
    "The filter() function returns an iterator were the items are filtered through a function to test if the item is accepted or not.\n",
    "- filter(function, iterable)\n",
    "#### Parameter Values\n",
    "    - function\tA Function to be run for each item in the iterable\n",
    "    - iterable\tThe iterable to be filtered"
   ]
  },
  {
   "cell_type": "code",
   "execution_count": 1,
   "id": "ae7d780f",
   "metadata": {},
   "outputs": [
    {
     "name": "stdout",
     "output_type": "stream",
     "text": [
      "18\n",
      "24\n",
      "32\n"
     ]
    }
   ],
   "source": [
    "ages = [5, 12, 17, 18, 24, 32]\n",
    "\n",
    "def myFunc(x):\n",
    "    if x < 18:\n",
    "        return False\n",
    "    else:\n",
    "        return True\n",
    "\n",
    "adults = filter(myFunc, ages)\n",
    "\n",
    "#print(list(adults))\n",
    "\n",
    "for x in adults:\n",
    "    print(x)"
   ]
  },
  {
   "cell_type": "markdown",
   "id": "e8d20c04",
   "metadata": {},
   "source": [
    "### Using lambda() Function with filter()\n",
    "- The filter() function in Python takes in a function and a list as arguments. \n",
    "- This offers an elegant way to filter out all the elements of a sequence “sequence”, for which the function returns True. \n",
    "- Here is a small program that returns the odd numbers from an input list: "
   ]
  },
  {
   "cell_type": "code",
   "execution_count": 2,
   "id": "67b4faee",
   "metadata": {},
   "outputs": [
    {
     "name": "stdout",
     "output_type": "stream",
     "text": [
      "[5, 7, 97, 77, 23, 73, 61]\n"
     ]
    }
   ],
   "source": [
    "# Python code to illustrate filter() with lambda()\n",
    "myList = [5, 7, 22, 97, 54, 62, 77, 23, 73, 61]\n",
    " \n",
    "final_list = list(filter(lambda x: (x%2 != 0) , myList))\n",
    "print(final_list)"
   ]
  },
  {
   "cell_type": "code",
   "execution_count": null,
   "id": "1fc5b926",
   "metadata": {},
   "outputs": [],
   "source": [
    "original_list = [5, 11, 15, 43, 20, 65, 235, 133, 75, 21] \n",
    "# filter the multiples of 5\n",
    "filtered_list = list(filter(lambda x: (x%5 == 0) , original_list)) \n",
    "print('The multiples of 5 are : ',filtered_list) "
   ]
  },
  {
   "cell_type": "code",
   "execution_count": 3,
   "id": "0f6a3774",
   "metadata": {},
   "outputs": [
    {
     "name": "stdout",
     "output_type": "stream",
     "text": [
      "[90, 59, 21, 60]\n"
     ]
    }
   ],
   "source": [
    "# Python 3 code to people above 18 yrs\n",
    "ages = [13, 90, 17, 59, 21, 60, 5]\n",
    " \n",
    "adults = filter(lambda age: age>18, ages)\n",
    " \n",
    "print(list(adults))"
   ]
  },
  {
   "cell_type": "code",
   "execution_count": null,
   "id": "dee7f717",
   "metadata": {},
   "outputs": [],
   "source": [
    "original_list = ['Analytics','Standard','Super','Data','Science','Vidhya'] \n",
    "# filter the words starting with 'S'\n",
    "filtered_list = list(filter(lambda x: (x[0] == 'S') , original_list)) \n",
    "print('The words starting with \"S\" are : ',filtered_list) "
   ]
  }
 ],
 "metadata": {
  "kernelspec": {
   "display_name": "Python 3 (ipykernel)",
   "language": "python",
   "name": "python3"
  },
  "language_info": {
   "codemirror_mode": {
    "name": "ipython",
    "version": 3
   },
   "file_extension": ".py",
   "mimetype": "text/x-python",
   "name": "python",
   "nbconvert_exporter": "python",
   "pygments_lexer": "ipython3",
   "version": "3.9.7"
  }
 },
 "nbformat": 4,
 "nbformat_minor": 5
}
