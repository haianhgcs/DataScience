{
 "cells": [
  {
   "cell_type": "markdown",
   "metadata": {},
   "source": [
    "# Reactive Programming\n",
    "- Reactive Programming is a programming paradigm oriented around data flows and the propagation of change. \n",
    "- This means that, when a data flow is emitted by one component, the Reactive Programming library will automatically propagate those changes to other components until it reaches the final receiver.\n",
    "\n",
    "**The difference between event-driven and reactive programming is that event-driven programming revolves around events and reactive programming revolves around data.**"
   ]
  },
  {
   "cell_type": "markdown",
   "metadata": {},
   "source": [
    "## ReactiveX or RX for reactive programming\n",
    "ReactiveX or Raective Extension is the most famous implementation of reactive programming. \n",
    "- The working of ReactiveX depends upon the following two classes\n",
    "\n",
    "### Observable class\n",
    "- This class is the source of data stream or events and it packs the incoming data so that the data can be passed from one thread to another. \n",
    "- It will not give data until some observer subscribe to it.\n",
    "\n",
    "### Observer class\n",
    "- This class consumes the data stream emitted by observable. \n",
    "- There can be multiple observers with observable and each observer will receive each data item that is emitted. \n",
    "- The observer can receive three type of events by subscribing to observable −\n",
    "\n",
    "    - on_next() event − It implies there is an element in the data stream.\n",
    "\n",
    "    - on_completed() event − It implies end of emission and no more items are coming.\n",
    "\n",
    "    - on_error() event − It also implies end of emission but in case when an error is thrown by observable."
   ]
  },
  {
   "cell_type": "markdown",
   "metadata": {},
   "source": [
    "## RxPY – Python Module for Reactive Programming\n",
    "RxPY is a Python module which can be used for reactive programming. We need to ensure that the module is installed. The following command can be used to install the RxPY module:"
   ]
  },
  {
   "cell_type": "code",
   "execution_count": 6,
   "metadata": {},
   "outputs": [
    {
     "name": "stdout",
     "output_type": "stream",
     "text": [
      "Collecting Rx==1.6.1\n",
      "  Downloading Rx-1.6.1-py2.py3-none-any.whl (179 kB)\n",
      "Installing collected packages: Rx\n",
      "Successfully installed Rx-1.6.1\n"
     ]
    },
    {
     "name": "stderr",
     "output_type": "stream",
     "text": [
      "WARNING: You are using pip version 21.0.1; however, version 21.1.2 is available.\n",
      "You should consider upgrading via the 'c:\\programdata\\anaconda3\\python.exe -m pip install --upgrade pip' command.\n"
     ]
    }
   ],
   "source": [
    "# Installing RxPy\n",
    "!pip install \"Rx==1.6.1\""
   ]
  },
  {
   "cell_type": "markdown",
   "metadata": {},
   "source": [
    "#### Following is a Python script, which uses RxPY module and its classes Observable and Observe for reactive programming. There are basically two classes −\n",
    "\n",
    "- get_strings() − for getting the strings from observer.\n",
    "- PrintObserver() − for printing the strings from observer. \n",
    "    - It uses all three events of observer class. It also uses subscribe() class."
   ]
  },
  {
   "cell_type": "code",
   "execution_count": 7,
   "metadata": {},
   "outputs": [
    {
     "name": "stdout",
     "output_type": "stream",
     "text": [
      "Received Ram\n",
      "Received Mohan\n",
      "Received Shyam\n",
      "Finished\n"
     ]
    },
    {
     "data": {
      "text/plain": [
       "<rx.disposables.anonymousdisposable.AnonymousDisposable at 0x20bf74ca108>"
      ]
     },
     "execution_count": 7,
     "metadata": {},
     "output_type": "execute_result"
    }
   ],
   "source": [
    "from rx import Observable, Observer\n",
    "def get_strings(observer):\n",
    "    observer.on_next(\"Ram\")\n",
    "    observer.on_next(\"Mohan\")\n",
    "    observer.on_next(\"Shyam\")\n",
    "    observer.on_completed()\n",
    "class PrintObserver(Observer):\n",
    "    def on_next(self, value):\n",
    "        print(\"Received {0}\".format(value))\n",
    "    def on_completed(self):\n",
    "        print(\"Finished\")\n",
    "    def on_error(self, error):\n",
    "        print(\"Error: {0}\".format(error))\n",
    "\n",
    "source = Observable.create(get_strings)\n",
    "source.subscribe(PrintObserver())"
   ]
  },
  {
   "cell_type": "markdown",
   "metadata": {},
   "source": [
    "## PyFunctional library for reactive programming\n",
    "- PyFunctionalis another Python library that can be used for reactive programming. \n",
    "- It enables us to create functional programs using the Python programming language. \n",
    "- It is useful because it allows us to create data pipelines by using chained functional operators.\n",
    "\n",
    "### Difference between RxPY and PyFunctional\n",
    "Both the libraries are used for reactive programming and handle the stream in similar fashion but the main difference between both of them depends upon the handling of data. \n",
    "- RxPY handles data and events in the system and\n",
    "- PyFunctional is focused on transformation of data using functional programming paradigms.\n",
    "\n",
    "### Installing PyFunctional Module\n",
    "We need to install this module before using it. It can be installed with the help of pip command as follows −"
   ]
  },
  {
   "cell_type": "code",
   "execution_count": 8,
   "metadata": {},
   "outputs": [
    {
     "name": "stdout",
     "output_type": "stream",
     "text": [
      "Collecting pyfunctional\n",
      "  Downloading PyFunctional-1.4.3-py3-none-any.whl (49 kB)\n",
      "Collecting tabulate<=1.0.0\n",
      "  Downloading tabulate-0.8.9-py3-none-any.whl (25 kB)\n",
      "Collecting dill>=0.2.5\n",
      "  Downloading dill-0.3.4-py2.py3-none-any.whl (86 kB)\n",
      "Installing collected packages: tabulate, dill, pyfunctional\n",
      "Successfully installed dill-0.3.4 pyfunctional-1.4.3 tabulate-0.8.9\n"
     ]
    },
    {
     "name": "stderr",
     "output_type": "stream",
     "text": [
      "WARNING: You are using pip version 21.0.1; however, version 21.1.2 is available.\n",
      "You should consider upgrading via the 'c:\\programdata\\anaconda3\\python.exe -m pip install --upgrade pip' command.\n"
     ]
    }
   ],
   "source": [
    "!pip install pyfunctional"
   ]
  },
  {
   "cell_type": "code",
   "execution_count": 13,
   "metadata": {},
   "outputs": [
    {
     "name": "stdout",
     "output_type": "stream",
     "text": [
      "Result Map: [2, 4, 6, 8, 10]\n",
      "Result Map and Filter: [6, 8, 10]\n",
      "Result: 24\n"
     ]
    }
   ],
   "source": [
    "from functional import seq\n",
    "\n",
    "resultMap = result = seq(1,2,3,4,5).map(lambda x: x*2)\n",
    "resultMapFilter = seq(1,2,3,4,5).map(lambda x: x*2).filter(lambda x: x > 4)\n",
    "result = seq(1,2,3,4,5).map(lambda x: x*2).filter(lambda x: x > 4).reduce(lambda x, y: x + y)\n",
    "\n",
    "print (\"Result Map: {}\".format(resultMap))\n",
    "print (\"Result Map and Filter: {}\".format(resultMapFilter))\n",
    "print (\"Result: {}\".format(result))"
   ]
  },
  {
   "cell_type": "code",
   "execution_count": null,
   "metadata": {},
   "outputs": [],
   "source": []
  }
 ],
 "metadata": {
  "kernelspec": {
   "display_name": "Python 3",
   "language": "python",
   "name": "python3"
  },
  "language_info": {
   "codemirror_mode": {
    "name": "ipython",
    "version": 3
   },
   "file_extension": ".py",
   "mimetype": "text/x-python",
   "name": "python",
   "nbconvert_exporter": "python",
   "pygments_lexer": "ipython3",
   "version": "3.7.8"
  }
 },
 "nbformat": 4,
 "nbformat_minor": 2
}
