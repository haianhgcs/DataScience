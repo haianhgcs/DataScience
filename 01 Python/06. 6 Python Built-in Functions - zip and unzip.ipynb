{
 "cells": [
  {
   "cell_type": "markdown",
   "id": "e03813fe",
   "metadata": {},
   "source": [
    "## Combining Lists Using Zip\n",
    "Suppose you were given a task to combine several lists with the same length and print out the result?\n",
    "* Takes multiple collections and returns a new collection.\n",
    "* The new collection contains items where each item contains one element from each input collection.\n",
    "* It allows us to transverse multiple collections at the same time"
   ]
  },
  {
   "cell_type": "code",
   "execution_count": 1,
   "id": "aa2ce04b",
   "metadata": {},
   "outputs": [
    {
     "name": "stdout",
     "output_type": "stream",
     "text": [
      "France Paris\n",
      "Germany Berlin\n",
      "Canada Ottawa\n"
     ]
    }
   ],
   "source": [
    "countries = ['France', 'Germany', 'Canada']\n",
    "capitals = ['Paris', 'Berlin', 'Ottawa']\n",
    "for country, capital in zip(countries,capitals):\n",
    "    print(country, capital) \n",
    "# France Paris \n",
    "# Germany Berlin\n",
    "# Canada Ottawa"
   ]
  },
  {
   "cell_type": "code",
   "execution_count": 2,
   "id": "5d5d2db9",
   "metadata": {},
   "outputs": [
    {
     "data": {
      "text/plain": [
       "<zip at 0x2540b729800>"
      ]
     },
     "execution_count": 2,
     "metadata": {},
     "output_type": "execute_result"
    }
   ],
   "source": [
    "name = 'farhad'\n",
    "suffix = [1,2,3,4,5,6]\n",
    "result = zip(name, suffix) # returns (f,1),(a,2),(r,3),(h,4),(a,5),(d,6)\n",
    "result"
   ]
  },
  {
   "cell_type": "code",
   "execution_count": 3,
   "id": "c69d57bf",
   "metadata": {},
   "outputs": [
    {
     "data": {
      "text/plain": [
       "<zip at 0x2540b713e80>"
      ]
     },
     "execution_count": 3,
     "metadata": {},
     "output_type": "execute_result"
    }
   ],
   "source": [
    "unzipped = zip(*result)\n",
    "unzipped"
   ]
  },
  {
   "cell_type": "code",
   "execution_count": null,
   "id": "77ae3370",
   "metadata": {},
   "outputs": [],
   "source": []
  }
 ],
 "metadata": {
  "kernelspec": {
   "display_name": "Python 3 (ipykernel)",
   "language": "python",
   "name": "python3"
  },
  "language_info": {
   "codemirror_mode": {
    "name": "ipython",
    "version": 3
   },
   "file_extension": ".py",
   "mimetype": "text/x-python",
   "name": "python",
   "nbconvert_exporter": "python",
   "pygments_lexer": "ipython3",
   "version": "3.9.0"
  }
 },
 "nbformat": 4,
 "nbformat_minor": 5
}
