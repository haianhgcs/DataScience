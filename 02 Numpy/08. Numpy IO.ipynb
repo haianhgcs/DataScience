{
 "cells": [
  {
   "cell_type": "markdown",
   "id": "5d28d6c6",
   "metadata": {},
   "source": [
    "***Saving & Loading On Disk***"
   ]
  },
  {
   "cell_type": "code",
   "execution_count": 2,
   "id": "7f273f3a",
   "metadata": {},
   "outputs": [],
   "source": [
    "# Import the numpy library\n",
    "# np is simply an alias, you may use any other alias, though np is quite standard\n",
    "import numpy as np"
   ]
  },
  {
   "cell_type": "code",
   "execution_count": 3,
   "id": "86a1ddd7",
   "metadata": {},
   "outputs": [],
   "source": [
    "a = np.array([1,2,3])\n",
    "b = np.array([(1.5,2,3), (4,5,6)], dtype = float)\n",
    "c = np.array([[(1.5,2,3), (4,5,6)], [(3,2,1), (4,5,6)]],dtype = float)"
   ]
  },
  {
   "cell_type": "code",
   "execution_count": 4,
   "id": "5764c418",
   "metadata": {},
   "outputs": [],
   "source": [
    "np.save('my_array', a)"
   ]
  },
  {
   "cell_type": "code",
   "execution_count": 5,
   "id": "15eb1950",
   "metadata": {},
   "outputs": [],
   "source": [
    "np.savez('array.npz', a, b)"
   ]
  },
  {
   "cell_type": "code",
   "execution_count": 6,
   "id": "f51d28de",
   "metadata": {},
   "outputs": [
    {
     "data": {
      "text/plain": [
       "array([1, 2, 3])"
      ]
     },
     "execution_count": 6,
     "metadata": {},
     "output_type": "execute_result"
    }
   ],
   "source": [
    "np.load('my_array.npy')"
   ]
  },
  {
   "cell_type": "markdown",
   "id": "389a8957",
   "metadata": {},
   "source": [
    "***Saving & Loading Text Files***"
   ]
  },
  {
   "cell_type": "code",
   "execution_count": 8,
   "id": "46736d21",
   "metadata": {},
   "outputs": [],
   "source": [
    "np.savetxt(\"myarray.txt\", a, delimiter=\" \")"
   ]
  },
  {
   "cell_type": "code",
   "execution_count": 11,
   "id": "a76a8759",
   "metadata": {},
   "outputs": [
    {
     "data": {
      "text/plain": [
       "array([1., 2., 3.])"
      ]
     },
     "execution_count": 11,
     "metadata": {},
     "output_type": "execute_result"
    }
   ],
   "source": [
    "np.loadtxt(\"myarray.txt\")"
   ]
  },
  {
   "cell_type": "code",
   "execution_count": null,
   "id": "f1b971f9",
   "metadata": {},
   "outputs": [],
   "source": [
    "np.genfromtxt(\"my_file.csv\", delimiter=',')"
   ]
  }
 ],
 "metadata": {
  "kernelspec": {
   "display_name": "Python 3 (ipykernel)",
   "language": "python",
   "name": "python3"
  },
  "language_info": {
   "codemirror_mode": {
    "name": "ipython",
    "version": 3
   },
   "file_extension": ".py",
   "mimetype": "text/x-python",
   "name": "python",
   "nbconvert_exporter": "python",
   "pygments_lexer": "ipython3",
   "version": "3.9.7"
  }
 },
 "nbformat": 4,
 "nbformat_minor": 5
}
