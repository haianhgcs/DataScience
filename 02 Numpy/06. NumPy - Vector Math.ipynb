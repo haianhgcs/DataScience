{
 "cells": [
  {
   "cell_type": "markdown",
   "id": "30948fa0",
   "metadata": {},
   "source": [
    "## Array Broadcasting\n",
    "### What is Broadcasting?\n",
    "Goal: bring arrays with different shapes into the same shape during arithmetic operations. NumPy does that for you\n",
    "\n",
    "### Understanding Array Broadcasting\n",
    "We worked with many array element-by-element. This works quite seamlessly when the two arrays being operated upon have the same dimensions. However, there will be occasions when we need to perform operations between two arrays which do not share the same shape. This is where we need to use the concept of `bradcasting` in order to perform operations between mismatched arrays. \n",
    "\n",
    "https://docs.scipy.org/doc/numpy-1.13.0/user/basics.broadcasting.html\n",
    "\n",
    "Describes how NumPy treats arrays with different shapes during arithmetic operations. Subject to certain constraints, the smaller array is **\"broadcast\"** across the larger array so that they have compatible shapes.\n",
    "\n",
    "It is performed on pairs of arrays on an **element-by-element basis**.\n",
    "\n",
    "So `broadcasting` is a technique where we can perform arithmetic or other operations between two arrays, where the shape are different. And this works, in effect, by broadcasting the smaller array \n",
    "until it matches the size of the larger array. \n",
    "\n",
    "Do note that broadcasting will not work with every single array, and that there are certain restrictions on the shapes of the arrays. However, the two arrays which are being operated upon need not be of extractly the same shape. \n",
    "\n",
    "#### Compatibility in Broadcasting\n",
    "* Broadcasting scalars - Operations between scalars and arrays are always possible - the scalar is broadcast over the array\n",
    "* Broadcasting arrays - Operations between two arrays be possible only under certain conditions\n",
    "\n",
    "What types of broadcasting is possible in NumPy? \n",
    "\n",
    "If we are performing an operation between a NumPy array and a scalar quantity, then broadcasting will always work. And this is because the scalar will simply be broadcast across the entire array it is being operated with. \n",
    "\n",
    "When we are performing an operation between two arrays of different shapes, then the smaller array is effectively broadcast across the entire larger array.  However, this only works under specific conditions.\n",
    "\n",
    "#### Broadcasting Scalars\n",
    "\n",
    "**For any dimension where first array has size of one, NumPy conceptually copies its data until the size of the second array \n",
    "is reached. **\n",
    "\n",
    "Consider a multiplication operation which we perform between one dimentionarray of 8 elements, with a scalar quantity of 20\n",
    "\n",
    "![Image of Broaddcasting](../images/broadcastingScalars.PNG)\n",
    "\n",
    "\n",
    "\n",
    "So in this case, we have some_array which has 8 elements. In order to perform an element-by-element multiplication, it needs 8 other elements, and in the case with the scalar, we only have one.  \n",
    "\n",
    "<img src=\"../images/broadcastingScalars1.PNG\">\n",
    "\n",
    "This is where the scalar need to be broadcast across the entire array it is being operated with. you can think of this as NumPy creating an array which has the same shape as the array being operated with, and each element of this array will have the same value as the scalar quantity. \n",
    "\n",
    "<img src=\"../images/broadcastingScalars2.PNG\">\n",
    "\n",
    "So in this case we end up with two arrays of compatible shapes, and we can perform an element-by-element multiplication, in order to give such a result. So when some-array is multiplied with some_scalar, then the results is an array which has the same shape as some_array. Operations with scalars also work with multidimensional arrays, but the scalar is simply broadcast to the shape of the array it is being operated with. So this is how broadcasting works between arrays and scalars. \n",
    "\n",
    "<img src=\"../images/broadcastingScalars3.PNG\">\n",
    "\n",
    "#### Broadcasting Arrays\n",
    "\n",
    "**If dimension is completely missing for array B, it is simply copied along the missing dimension.**\n",
    "\n",
    "So arithmetic operations are performed between pairs of arrays with the same shape on an element-by-element basis. While there are no restrictions when it comes to broadcasting scalars, broadcasting of arrays only takes place under certain constraints.\n",
    "\n",
    "To be precise, two arrays are set to be compatible for broadcasting, after the shapes of these two arrays are compared on an element-by-element basis. Consider below cases:\n",
    "\n",
    "* Case 1:\n",
    "<img src=\"../images/broadcastingScalars4.PNG\">\n",
    "\n",
    "The single column of the array on the right can be broadcast eight times, in order to match the shape of the array on the \n",
    "left. \n",
    "\n",
    "<img src=\"../images/broadcastingScalars5.PNG\">\n",
    "\n",
    "* Case 2:\n",
    "<img src=\"../images/broadcastingScalars6.PNG\">\n",
    "\n",
    "`=====> These two array is not compatible`\n",
    "\n",
    "* Case 3: \n",
    "<img src=\"../images/broadcastingScalars7.PNG\">\n",
    "\n",
    "`=====> These two array is not compatible`\n",
    "\n",
    "So the broadcasting of the smaller array only works when the corresponding dimensions of the two arrays being operated upon are compatible. That is, these arrays have compatible shapes. **Two dimensions are said to be compatible when they are either identical, or when one of those two dimensions is equal to 1**. \n",
    "\n",
    "So broadcasting provides a lot of flexibility when working with NumPy arrays:\n",
    "* Allows arrays of different shapes to be combined \n",
    "* Memory-efficient as needless copies avoided -> by not creating multiple copies of the smaller array, broadcasting is also very memory efficient. \n",
    "* Computationally-efficient, operations performed in C rather than Python. Under the hood, a lot of the broadcasting operations are implemented in C rather than in Python, which make it very compurationally efficient as well. "
   ]
  },
  {
   "cell_type": "markdown",
   "id": "f2403390",
   "metadata": {},
   "source": [
    "We will try to replicating the smaller array to fit the shape of the larger array. \n",
    "In other words, the smaller aray is broadcast until it matches the shape of the larger one. "
   ]
  },
  {
   "cell_type": "code",
   "execution_count": 5,
   "id": "5044f666",
   "metadata": {},
   "outputs": [],
   "source": [
    "x = np.array([2, 4, 6, 8, 10])\n",
    "y = np.array([5, 5, 5, 5, 5])\n",
    "z = 10"
   ]
  },
  {
   "cell_type": "code",
   "execution_count": 4,
   "id": "704c839b",
   "metadata": {},
   "outputs": [
    {
     "data": {
      "text/plain": [
       "array([10, 20, 30, 40, 50])"
      ]
     },
     "execution_count": 4,
     "metadata": {},
     "output_type": "execute_result"
    }
   ],
   "source": [
    "# This is element-by-element multiplication\n",
    "x * y"
   ]
  },
  {
   "cell_type": "code",
   "execution_count": 6,
   "id": "842a6c51",
   "metadata": {},
   "outputs": [
    {
     "data": {
      "text/plain": [
       "array([ 20,  40,  60,  80, 100])"
      ]
     },
     "execution_count": 6,
     "metadata": {},
     "output_type": "execute_result"
    }
   ],
   "source": [
    "x * z"
   ]
  },
  {
   "cell_type": "code",
   "execution_count": 7,
   "id": "2f72afb8",
   "metadata": {},
   "outputs": [
    {
     "data": {
      "text/plain": [
       "array([[1., 1., 1., 1.],\n",
       "       [1., 1., 1., 1.],\n",
       "       [1., 1., 1., 1.]])"
      ]
     },
     "execution_count": 7,
     "metadata": {},
     "output_type": "execute_result"
    }
   ],
   "source": [
    "ones = np.ones((3, 4))\n",
    "ones"
   ]
  },
  {
   "cell_type": "code",
   "execution_count": 8,
   "id": "14fda5fe",
   "metadata": {},
   "outputs": [
    {
     "data": {
      "text/plain": [
       "array([[10., 10., 10., 10.],\n",
       "       [10., 10., 10., 10.],\n",
       "       [10., 10., 10., 10.]])"
      ]
     },
     "execution_count": 8,
     "metadata": {},
     "output_type": "execute_result"
    }
   ],
   "source": [
    "ones * z"
   ]
  },
  {
   "cell_type": "code",
   "execution_count": 9,
   "id": "bcf92788",
   "metadata": {},
   "outputs": [],
   "source": [
    "top_speeds = [184, 243, 192, 309, 257, 218]\n",
    "weights = [1178, 1243, 1403, 1047, 1673, 1375]"
   ]
  },
  {
   "cell_type": "code",
   "execution_count": 10,
   "id": "0101f92d",
   "metadata": {},
   "outputs": [
    {
     "data": {
      "text/plain": [
       "array([[ 184,  243,  192,  309,  257,  218],\n",
       "       [1178, 1243, 1403, 1047, 1673, 1375]])"
      ]
     },
     "execution_count": 10,
     "metadata": {},
     "output_type": "execute_result"
    }
   ],
   "source": [
    "car_info = np.array([top_speeds, weights])\n",
    "car_info"
   ]
  },
  {
   "cell_type": "code",
   "execution_count": 15,
   "id": "cd1436ad",
   "metadata": {},
   "outputs": [
    {
     "data": {
      "text/plain": [
       "array([0.621371, 2.20462 ])"
      ]
     },
     "execution_count": 15,
     "metadata": {},
     "output_type": "execute_result"
    }
   ],
   "source": [
    "conversion_factors = np.array([0.621371, 2.20462])\n",
    "conversion_factors"
   ]
  },
  {
   "cell_type": "code",
   "execution_count": 12,
   "id": "3a6a915d",
   "metadata": {},
   "outputs": [
    {
     "data": {
      "text/plain": [
       "(2,)"
      ]
     },
     "execution_count": 12,
     "metadata": {},
     "output_type": "execute_result"
    }
   ],
   "source": [
    "conversion_factors.shape"
   ]
  },
  {
   "cell_type": "code",
   "execution_count": 13,
   "id": "0063d7ec",
   "metadata": {
    "scrolled": true
   },
   "outputs": [
    {
     "data": {
      "text/plain": [
       "(2, 6)"
      ]
     },
     "execution_count": 13,
     "metadata": {},
     "output_type": "execute_result"
    }
   ],
   "source": [
    "car_info.shape"
   ]
  },
  {
   "cell_type": "code",
   "execution_count": 14,
   "id": "3fcdd707",
   "metadata": {},
   "outputs": [
    {
     "ename": "ValueError",
     "evalue": "operands could not be broadcast together with shapes (2,6) (2,) ",
     "output_type": "error",
     "traceback": [
      "\u001b[1;31m---------------------------------------------------------------------------\u001b[0m",
      "\u001b[1;31mValueError\u001b[0m                                Traceback (most recent call last)",
      "Cell \u001b[1;32mIn[14], line 1\u001b[0m\n\u001b[1;32m----> 1\u001b[0m \u001b[43mcar_info\u001b[49m\u001b[43m \u001b[49m\u001b[38;5;241;43m*\u001b[39;49m\u001b[43m \u001b[49m\u001b[43mconversion_factors\u001b[49m\n",
      "\u001b[1;31mValueError\u001b[0m: operands could not be broadcast together with shapes (2,6) (2,) "
     ]
    }
   ],
   "source": [
    "car_info * conversion_factors"
   ]
  },
  {
   "cell_type": "code",
   "execution_count": 16,
   "id": "5ef738ad",
   "metadata": {},
   "outputs": [
    {
     "data": {
      "text/plain": [
       "array([[0.621371],\n",
       "       [2.20462 ]])"
      ]
     },
     "execution_count": 16,
     "metadata": {},
     "output_type": "execute_result"
    }
   ],
   "source": [
    "new_factors = conversion_factors.reshape(2,1)\n",
    "new_factors"
   ]
  },
  {
   "cell_type": "code",
   "execution_count": 17,
   "id": "16d17a52",
   "metadata": {},
   "outputs": [
    {
     "data": {
      "text/plain": [
       "array([[ 114.332264,  150.993153,  119.303232,  192.003639,  159.692347,\n",
       "         135.458878],\n",
       "       [2597.04236 , 2740.34266 , 3093.08186 , 2308.23714 , 3688.32926 ,\n",
       "        3031.3525  ]])"
      ]
     },
     "execution_count": 17,
     "metadata": {},
     "output_type": "execute_result"
    }
   ],
   "source": [
    "car_info * new_factors"
   ]
  },
  {
   "cell_type": "markdown",
   "id": "113f3cc8",
   "metadata": {},
   "source": [
    "# Vector Math"
   ]
  },
  {
   "cell_type": "code",
   "execution_count": 2,
   "id": "0971e96a",
   "metadata": {},
   "outputs": [],
   "source": [
    "# Import the numpy library\n",
    "# np is simply an alias, you may use any other alias, though np is quite standard\n",
    "import numpy as np"
   ]
  },
  {
   "cell_type": "code",
   "execution_count": 10,
   "id": "65c60221",
   "metadata": {},
   "outputs": [],
   "source": [
    "a = np.array([1,2,3])\n",
    "b = np.array([(1.5,2,3), (4,5,6)], dtype = float)\n",
    "c = np.array([[(1.5,2,3), (4,5,6)], [(3,2,1), (4,5,6)]],dtype = float)\n",
    "d = np.array([1,-2,3,-4,5,-6])\n",
    "e = np.array([10.45, 9.12,7.38,8.56])"
   ]
  },
  {
   "cell_type": "markdown",
   "id": "bc708198",
   "metadata": {},
   "source": [
    "## Addition"
   ]
  },
  {
   "cell_type": "code",
   "execution_count": 4,
   "id": "ff0ebccc",
   "metadata": {},
   "outputs": [
    {
     "data": {
      "text/plain": [
       "array([[2.5, 4. , 6. ],\n",
       "       [5. , 7. , 9. ]])"
      ]
     },
     "execution_count": 4,
     "metadata": {},
     "output_type": "execute_result"
    }
   ],
   "source": [
    "a + b"
   ]
  },
  {
   "cell_type": "code",
   "execution_count": 5,
   "id": "b776ecce",
   "metadata": {},
   "outputs": [
    {
     "data": {
      "text/plain": [
       "array([[2.5, 4. , 6. ],\n",
       "       [5. , 7. , 9. ]])"
      ]
     },
     "execution_count": 5,
     "metadata": {},
     "output_type": "execute_result"
    }
   ],
   "source": [
    "np.add(b,a)"
   ]
  },
  {
   "cell_type": "markdown",
   "id": "f1c428ab",
   "metadata": {},
   "source": [
    "## Subtraction"
   ]
  },
  {
   "cell_type": "code",
   "execution_count": null,
   "id": "0582984e",
   "metadata": {},
   "outputs": [],
   "source": [
    "g = a - b\n",
    "print(g)"
   ]
  },
  {
   "cell_type": "code",
   "execution_count": null,
   "id": "bf2c3d31",
   "metadata": {},
   "outputs": [],
   "source": [
    "np.subtract(a,b)"
   ]
  },
  {
   "cell_type": "markdown",
   "id": "b123e6f0",
   "metadata": {},
   "source": [
    "## Multiplication"
   ]
  },
  {
   "cell_type": "code",
   "execution_count": null,
   "id": "a32918f3",
   "metadata": {},
   "outputs": [],
   "source": [
    "a * b"
   ]
  },
  {
   "cell_type": "code",
   "execution_count": null,
   "id": "88440fa4",
   "metadata": {},
   "outputs": [],
   "source": [
    "np.multiply(a,b)"
   ]
  },
  {
   "cell_type": "markdown",
   "id": "e104525f",
   "metadata": {},
   "source": [
    "## Division"
   ]
  },
  {
   "cell_type": "code",
   "execution_count": null,
   "id": "fc887503",
   "metadata": {},
   "outputs": [],
   "source": [
    "a / b"
   ]
  },
  {
   "cell_type": "code",
   "execution_count": null,
   "id": "8ae961e6",
   "metadata": {},
   "outputs": [],
   "source": [
    "np.divide(a,b)"
   ]
  },
  {
   "cell_type": "markdown",
   "id": "804c1593",
   "metadata": {},
   "source": [
    "## sin, cos, log, exp, sqrt"
   ]
  },
  {
   "cell_type": "code",
   "execution_count": 17,
   "id": "497d784a",
   "metadata": {},
   "outputs": [
    {
     "name": "stdout",
     "output_type": "stream",
     "text": [
      "[ 0.84147098  0.90929743  0.14112001 -0.7568025  -0.95892427 -0.2794155\n",
      "  0.6569866   0.98935825  0.41211849 -0.54402111 -0.99999021 -0.53657292\n",
      "  0.42016704  0.99060736  0.65028784 -0.28790332 -0.96139749 -0.75098725\n",
      "  0.14987721]\n",
      "[ 0.54030231 -0.41614684 -0.9899925  -0.65364362  0.28366219  0.96017029\n",
      "  0.75390225 -0.14550003 -0.91113026 -0.83907153  0.0044257   0.84385396\n",
      "  0.90744678  0.13673722 -0.75968791 -0.95765948 -0.27516334  0.66031671\n",
      "  0.98870462]\n",
      "[2.71828183e+00 7.38905610e+00 2.00855369e+01 5.45981500e+01\n",
      " 1.48413159e+02 4.03428793e+02 1.09663316e+03 2.98095799e+03\n",
      " 8.10308393e+03 2.20264658e+04 5.98741417e+04 1.62754791e+05\n",
      " 4.42413392e+05 1.20260428e+06 3.26901737e+06 8.88611052e+06\n",
      " 2.41549528e+07 6.56599691e+07 1.78482301e+08]\n",
      "[0.         0.69314718 1.09861229 1.38629436 1.60943791 1.79175947\n",
      " 1.94591015 2.07944154 2.19722458 2.30258509 2.39789527 2.48490665\n",
      " 2.56494936 2.63905733 2.7080502  2.77258872 2.83321334 2.89037176\n",
      " 2.94443898]\n"
     ]
    }
   ],
   "source": [
    "a = np.arange(1, 20)\n",
    "print(np.sin(a))\n",
    "print(np.cos(a))\n",
    "print(np.exp(a))\n",
    "print(np.log(a))"
   ]
  },
  {
   "cell_type": "markdown",
   "id": "ed98147e",
   "metadata": {},
   "source": [
    "### Element-wise sines"
   ]
  },
  {
   "cell_type": "code",
   "execution_count": null,
   "id": "ca75c5a6",
   "metadata": {},
   "outputs": [],
   "source": [
    "np.sin(a)"
   ]
  },
  {
   "cell_type": "markdown",
   "id": "fde0d9ae",
   "metadata": {},
   "source": [
    "### Element-wise cosine"
   ]
  },
  {
   "cell_type": "code",
   "execution_count": null,
   "id": "ba42bdf3",
   "metadata": {},
   "outputs": [],
   "source": [
    "np.cos(b)"
   ]
  },
  {
   "cell_type": "markdown",
   "id": "9470046a",
   "metadata": {},
   "source": [
    "### Element-wise natural logarithm"
   ]
  },
  {
   "cell_type": "code",
   "execution_count": null,
   "id": "5c37ccca",
   "metadata": {},
   "outputs": [],
   "source": [
    "np.log(a)"
   ]
  },
  {
   "cell_type": "markdown",
   "id": "d5af4df9",
   "metadata": {},
   "source": [
    "### Exponentiation"
   ]
  },
  {
   "cell_type": "code",
   "execution_count": null,
   "id": "548c7eb4",
   "metadata": {},
   "outputs": [],
   "source": [
    "np.exp(b)"
   ]
  },
  {
   "cell_type": "markdown",
   "id": "f10a8a4a",
   "metadata": {},
   "source": [
    "### Square root"
   ]
  },
  {
   "cell_type": "code",
   "execution_count": 6,
   "id": "7375c22d",
   "metadata": {
    "scrolled": true
   },
   "outputs": [
    {
     "data": {
      "text/plain": [
       "array([[1.22474487, 1.41421356, 1.73205081],\n",
       "       [2.        , 2.23606798, 2.44948974]])"
      ]
     },
     "execution_count": 6,
     "metadata": {},
     "output_type": "execute_result"
    }
   ],
   "source": [
    "np.sqrt(b)"
   ]
  },
  {
   "cell_type": "markdown",
   "id": "fb933f53",
   "metadata": {},
   "source": [
    "## Absolute\n",
    "Absolute value of each element in the array"
   ]
  },
  {
   "cell_type": "code",
   "execution_count": 9,
   "id": "f1488c74",
   "metadata": {},
   "outputs": [
    {
     "data": {
      "text/plain": [
       "array([1, 2, 3, 4, 5, 6])"
      ]
     },
     "execution_count": 9,
     "metadata": {},
     "output_type": "execute_result"
    }
   ],
   "source": [
    "np.abs(d)"
   ]
  },
  {
   "cell_type": "markdown",
   "id": "282cd3b8",
   "metadata": {},
   "source": [
    "### Rounds up\n",
    "Rounds up to the nearest int"
   ]
  },
  {
   "cell_type": "code",
   "execution_count": 13,
   "id": "520ee676",
   "metadata": {},
   "outputs": [
    {
     "data": {
      "text/plain": [
       "array([10.45,  9.12,  7.38,  8.56])"
      ]
     },
     "execution_count": 13,
     "metadata": {},
     "output_type": "execute_result"
    }
   ],
   "source": [
    "e"
   ]
  },
  {
   "cell_type": "code",
   "execution_count": 11,
   "id": "d05fda43",
   "metadata": {},
   "outputs": [
    {
     "data": {
      "text/plain": [
       "array([11., 10.,  8.,  9.])"
      ]
     },
     "execution_count": 11,
     "metadata": {},
     "output_type": "execute_result"
    }
   ],
   "source": [
    "np.ceil(e)"
   ]
  },
  {
   "cell_type": "markdown",
   "id": "ff360617",
   "metadata": {},
   "source": [
    "## Rounds down\n",
    "Rounds down to the nearest int"
   ]
  },
  {
   "cell_type": "code",
   "execution_count": 14,
   "id": "9385132e",
   "metadata": {},
   "outputs": [
    {
     "data": {
      "text/plain": [
       "array([10.45,  9.12,  7.38,  8.56])"
      ]
     },
     "execution_count": 14,
     "metadata": {},
     "output_type": "execute_result"
    }
   ],
   "source": [
    "e"
   ]
  },
  {
   "cell_type": "code",
   "execution_count": 12,
   "id": "189bf466",
   "metadata": {},
   "outputs": [
    {
     "data": {
      "text/plain": [
       "array([10.,  9.,  7.,  8.])"
      ]
     },
     "execution_count": 12,
     "metadata": {},
     "output_type": "execute_result"
    }
   ],
   "source": [
    "np.floor(e)"
   ]
  },
  {
   "cell_type": "markdown",
   "id": "52de97eb",
   "metadata": {},
   "source": [
    "##  Rounds down to the nearest int"
   ]
  },
  {
   "cell_type": "code",
   "execution_count": 15,
   "id": "28f40dee",
   "metadata": {},
   "outputs": [
    {
     "data": {
      "text/plain": [
       "array([10.45,  9.12,  7.38,  8.56])"
      ]
     },
     "execution_count": 15,
     "metadata": {},
     "output_type": "execute_result"
    }
   ],
   "source": [
    "e"
   ]
  },
  {
   "cell_type": "code",
   "execution_count": 16,
   "id": "9bf2b662",
   "metadata": {},
   "outputs": [
    {
     "data": {
      "text/plain": [
       "array([10.,  9.,  7.,  9.])"
      ]
     },
     "execution_count": 16,
     "metadata": {},
     "output_type": "execute_result"
    }
   ],
   "source": [
    "np.round(e)"
   ]
  },
  {
   "cell_type": "markdown",
   "id": "299a0f86",
   "metadata": {},
   "source": [
    "### Comparisons\n",
    "We can compare complete arrays of equal size element wise"
   ]
  },
  {
   "cell_type": "code",
   "execution_count": 18,
   "id": "5d3b773e",
   "metadata": {},
   "outputs": [],
   "source": [
    "a = np.array([1, 2, 3, 4])\n",
    "b = np.array([4, 2, 2, 4])\n",
    "c = np.array([1, 2, 3, 4])"
   ]
  },
  {
   "cell_type": "code",
   "execution_count": 19,
   "id": "4e7b64aa",
   "metadata": {},
   "outputs": [
    {
     "data": {
      "text/plain": [
       "array([False,  True, False,  True])"
      ]
     },
     "execution_count": 19,
     "metadata": {},
     "output_type": "execute_result"
    }
   ],
   "source": [
    "a == b"
   ]
  },
  {
   "cell_type": "code",
   "execution_count": 20,
   "id": "30c0ab8c",
   "metadata": {},
   "outputs": [
    {
     "data": {
      "text/plain": [
       "array([False, False,  True, False])"
      ]
     },
     "execution_count": 20,
     "metadata": {},
     "output_type": "execute_result"
    }
   ],
   "source": [
    "a > b"
   ]
  },
  {
   "cell_type": "markdown",
   "id": "5ce4269f",
   "metadata": {},
   "source": [
    "Array-wise comparisons"
   ]
  },
  {
   "cell_type": "code",
   "execution_count": 21,
   "id": "0e64e537",
   "metadata": {},
   "outputs": [
    {
     "data": {
      "text/plain": [
       "False"
      ]
     },
     "execution_count": 21,
     "metadata": {},
     "output_type": "execute_result"
    }
   ],
   "source": [
    "np.array_equal(a, b)"
   ]
  },
  {
   "cell_type": "code",
   "execution_count": 22,
   "id": "3ed243d0",
   "metadata": {},
   "outputs": [
    {
     "data": {
      "text/plain": [
       "True"
      ]
     },
     "execution_count": 22,
     "metadata": {},
     "output_type": "execute_result"
    }
   ],
   "source": [
    "np.array_equal(a, c)"
   ]
  },
  {
   "cell_type": "markdown",
   "id": "e8966031",
   "metadata": {},
   "source": [
    "`allclose()` will return True if items in two arrays are equal within a tolerance. It will provide you with a great way of checking if two arrays are similar, which can in some cases be a pain in the bottom to implement manually."
   ]
  },
  {
   "cell_type": "code",
   "execution_count": 23,
   "id": "603cf6b7",
   "metadata": {},
   "outputs": [],
   "source": [
    "arr1 = np.array([0.15, 0.20, 0.25, 0.17])\n",
    "arr2 = np.array([0.14, 0.21, 0.27, 0.15])"
   ]
  },
  {
   "cell_type": "code",
   "execution_count": 24,
   "id": "bfe01af3",
   "metadata": {},
   "outputs": [
    {
     "data": {
      "text/plain": [
       "False"
      ]
     },
     "execution_count": 24,
     "metadata": {},
     "output_type": "execute_result"
    }
   ],
   "source": [
    "np.allclose(arr1, arr2, 0.1)"
   ]
  },
  {
   "cell_type": "code",
   "execution_count": 25,
   "id": "3ea9e646",
   "metadata": {},
   "outputs": [
    {
     "data": {
      "text/plain": [
       "True"
      ]
     },
     "execution_count": 25,
     "metadata": {},
     "output_type": "execute_result"
    }
   ],
   "source": [
    "np.allclose(arr1, arr2, 0.2)"
   ]
  },
  {
   "cell_type": "markdown",
   "id": "67e58af2",
   "metadata": {},
   "source": [
    "### Logical operations"
   ]
  },
  {
   "cell_type": "code",
   "execution_count": null,
   "id": "19597a0f",
   "metadata": {},
   "outputs": [],
   "source": [
    "np.logical_or(a, b)"
   ]
  },
  {
   "cell_type": "code",
   "execution_count": null,
   "id": "6fd1532b",
   "metadata": {},
   "outputs": [],
   "source": [
    "np.logical_and(a, b)"
   ]
  },
  {
   "cell_type": "markdown",
   "id": "5ac4c209",
   "metadata": {},
   "source": [
    "### Dot Product:\n",
    "\n",
    "(|x_1 | x_2 | x_3 |).dot(|y_1 | y_2 | y_3 |)\n",
    "= x_1 * y_1 + x_2 * y_2 + x_3 * y_3\n",
    "\n",
    "These below will return result in identical."
   ]
  },
  {
   "cell_type": "code",
   "execution_count": 7,
   "id": "6503ce97",
   "metadata": {},
   "outputs": [
    {
     "name": "stdout",
     "output_type": "stream",
     "text": [
      "[[7 7]\n",
      " [7 7]]\n",
      "[[1. 0.]\n",
      " [0. 1.]]\n",
      "[[7 7]\n",
      " [7 7]]\n"
     ]
    }
   ],
   "source": [
    "e = np.full((2,2),7)\n",
    "print(e)\n",
    "f = np.eye(2)\n",
    "print(f)\n",
    "e.dot(f)\n",
    "print(e)"
   ]
  },
  {
   "cell_type": "code",
   "execution_count": null,
   "id": "3994b65a",
   "metadata": {},
   "outputs": [],
   "source": [
    "x = np.arange(1, 6)\n",
    "\n",
    "x.dot(y) # dot product  1*4 + 2*5 + 3*6\n",
    "np.dot(x, y) # dot product  1*4 + 2*5 + 3*6\n",
    "z = np.array([y, y**2])\n",
    "print(len(z)) # number of rows of array"
   ]
  },
  {
   "cell_type": "markdown",
   "id": "7add15b9",
   "metadata": {},
   "source": [
    "Let's look at transposing arrays. Transposing permutes the dimensions of the array."
   ]
  },
  {
   "cell_type": "code",
   "execution_count": null,
   "id": "e4576dcb",
   "metadata": {},
   "outputs": [],
   "source": [
    "z = np.array([y, y**2])\n",
    "z"
   ]
  },
  {
   "cell_type": "code",
   "execution_count": null,
   "id": "d4e73858",
   "metadata": {},
   "outputs": [],
   "source": [
    "#Create vector-1\n",
    "vector_1 = np.array([ 1,2,3 ])\n",
    "#Create vector-2\n",
    "vector_1 = np.array([ 4,5,6 ])\n",
    "#Calculate Dot Product\n",
    "print(np.dot(vector_1,vector_2))\n",
    "#Alternatively you can use @ to calculate dot products\n",
    "print(vector_1 @ vector_2)"
   ]
  },
  {
   "cell_type": "code",
   "execution_count": null,
   "id": "44be4d17",
   "metadata": {},
   "outputs": [],
   "source": []
  },
  {
   "cell_type": "code",
   "execution_count": null,
   "id": "615e4906",
   "metadata": {},
   "outputs": [],
   "source": []
  }
 ],
 "metadata": {
  "kernelspec": {
   "display_name": "Python 3 (ipykernel)",
   "language": "python",
   "name": "python3"
  },
  "language_info": {
   "codemirror_mode": {
    "name": "ipython",
    "version": 3
   },
   "file_extension": ".py",
   "mimetype": "text/x-python",
   "name": "python",
   "nbconvert_exporter": "python",
   "pygments_lexer": "ipython3",
   "version": "3.9.0"
  }
 },
 "nbformat": 4,
 "nbformat_minor": 5
}
